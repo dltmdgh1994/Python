{
 "cells": [
  {
   "cell_type": "code",
   "execution_count": 1,
   "metadata": {},
   "outputs": [],
   "source": [
    "import numpy as np\n",
    "import pandas as pd"
   ]
  },
  {
   "cell_type": "code",
   "execution_count": 2,
   "metadata": {},
   "outputs": [],
   "source": [
    "docs = [\n",
    "    'new home sales top forecasts',\n",
    "    'home sales rise in july',\n",
    "    'increase in home sales in july',\n",
    "    'new home sales rise in November'\n",
    "]"
   ]
  },
  {
   "cell_type": "markdown",
   "metadata": {},
   "source": [
    "# 1. 각 문서를 tf-idf에 기반한 벡터로 표현"
   ]
  },
  {
   "cell_type": "code",
   "execution_count": 5,
   "metadata": {
    "scrolled": true
   },
   "outputs": [
    {
     "name": "stdout",
     "output_type": "stream",
     "text": [
      "['forecasts', 'home', 'in', 'increase', 'july', 'new', 'november', 'rise', 'sales', 'top']\n",
      "[[0.56199026 0.29326983 0.         0.         0.         0.44307958\n",
      "  0.         0.         0.29326983 0.56199026]\n",
      " [0.         0.35220727 0.43080005 0.         0.53212376 0.\n",
      "  0.         0.53212376 0.35220727 0.        ]\n",
      " [0.         0.26784458 0.65522475 0.51326809 0.40466646 0.\n",
      "  0.         0.         0.26784458 0.        ]\n",
      " [0.         0.2919358  0.35707939 0.         0.         0.44106408\n",
      "  0.55943386 0.44106408 0.2919358  0.        ]]\n",
      "{'new': 5, 'home': 1, 'sales': 8, 'top': 9, 'forecasts': 0, 'rise': 7, 'in': 2, 'july': 4, 'increase': 3, 'november': 6}\n",
      "[1.91629073 1.         1.22314355 1.91629073 1.51082562 1.51082562\n",
      " 1.91629073 1.51082562 1.         1.91629073]\n"
     ]
    }
   ],
   "source": [
    "from sklearn.feature_extraction.text import TfidfVectorizer\n",
    "\n",
    "tfidfv = TfidfVectorizer().fit(docs)\n",
    "vec = tfidfv.transform(docs).toarray()\n",
    "print(tfidfv.get_feature_names())\n",
    "print(vec)\n",
    "print(tfidfv.vocabulary_)\n",
    "print(tfidfv.idf_)"
   ]
  },
  {
   "cell_type": "markdown",
   "metadata": {},
   "source": [
    "# 2. Similarity가 가장 높은 쌍부터 낮은 쌍 순으로 나열"
   ]
  },
  {
   "cell_type": "code",
   "execution_count": 25,
   "metadata": {},
   "outputs": [],
   "source": [
    "from sklearn.metrics.pairwise import cosine_similarity\n",
    "\n",
    "sim = []\n",
    "\n",
    "for i in range(0,4):\n",
    "    for j in range(i+1,4):\n",
    "        sim.append([i+1,j+1,cosine_similarity([vec[i]],[vec[j]])[0][0]])"
   ]
  },
  {
   "cell_type": "code",
   "execution_count": 26,
   "metadata": {},
   "outputs": [
    {
     "data": {
      "text/html": [
       "<div>\n",
       "<style scoped>\n",
       "    .dataframe tbody tr th:only-of-type {\n",
       "        vertical-align: middle;\n",
       "    }\n",
       "\n",
       "    .dataframe tbody tr th {\n",
       "        vertical-align: top;\n",
       "    }\n",
       "\n",
       "    .dataframe thead th {\n",
       "        text-align: right;\n",
       "    }\n",
       "</style>\n",
       "<table border=\"1\" class=\"dataframe\">\n",
       "  <thead>\n",
       "    <tr style=\"text-align: right;\">\n",
       "      <th></th>\n",
       "      <th>doc1</th>\n",
       "      <th>doc2</th>\n",
       "      <th>similarity</th>\n",
       "    </tr>\n",
       "  </thead>\n",
       "  <tbody>\n",
       "    <tr>\n",
       "      <th>3</th>\n",
       "      <td>2</td>\n",
       "      <td>3</td>\n",
       "      <td>0.686277</td>\n",
       "    </tr>\n",
       "    <tr>\n",
       "      <th>4</th>\n",
       "      <td>2</td>\n",
       "      <td>4</td>\n",
       "      <td>0.594174</td>\n",
       "    </tr>\n",
       "    <tr>\n",
       "      <th>5</th>\n",
       "      <td>3</td>\n",
       "      <td>4</td>\n",
       "      <td>0.390354</td>\n",
       "    </tr>\n",
       "    <tr>\n",
       "      <th>2</th>\n",
       "      <td>1</td>\n",
       "      <td>4</td>\n",
       "      <td>0.366658</td>\n",
       "    </tr>\n",
       "    <tr>\n",
       "      <th>0</th>\n",
       "      <td>1</td>\n",
       "      <td>2</td>\n",
       "      <td>0.206584</td>\n",
       "    </tr>\n",
       "    <tr>\n",
       "      <th>1</th>\n",
       "      <td>1</td>\n",
       "      <td>3</td>\n",
       "      <td>0.157101</td>\n",
       "    </tr>\n",
       "  </tbody>\n",
       "</table>\n",
       "</div>"
      ],
      "text/plain": [
       "   doc1  doc2  similarity\n",
       "3     2     3    0.686277\n",
       "4     2     4    0.594174\n",
       "5     3     4    0.390354\n",
       "2     1     4    0.366658\n",
       "0     1     2    0.206584\n",
       "1     1     3    0.157101"
      ]
     },
     "execution_count": 26,
     "metadata": {},
     "output_type": "execute_result"
    }
   ],
   "source": [
    "df = pd.DataFrame(sim, columns=['doc1', 'doc2', 'similarity'])\n",
    "df = df.sort_values(by=['similarity'], axis=0, ascending=False)\n",
    "df"
   ]
  }
 ],
 "metadata": {
  "kernelspec": {
   "display_name": "Python 3",
   "language": "python",
   "name": "python3"
  },
  "language_info": {
   "codemirror_mode": {
    "name": "ipython",
    "version": 3
   },
   "file_extension": ".py",
   "mimetype": "text/x-python",
   "name": "python",
   "nbconvert_exporter": "python",
   "pygments_lexer": "ipython3",
   "version": "3.7.6"
  }
 },
 "nbformat": 4,
 "nbformat_minor": 4
}
