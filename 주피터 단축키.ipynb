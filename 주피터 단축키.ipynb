{
 "cells": [
  {
   "cell_type": "markdown",
   "metadata": {},
   "source": [
    "주피터 노트북 단축키\n",
    "\n",
    "셀 선택된 상태에서 테두리가 초록색이면 에디트 모드 파란색이면 커맨드 모드 \n",
    "\n",
    "-커맨드 모드시 단축키\n",
    "\n",
    "B: 아래에 새로운 셀 생성\n",
    "\n",
    "shift+Enter : 현재 셀 실행하고 아래 내려가기, 맨 위에 두고 이거 연타하면 모든 코드 순차적으로 실행\n",
    "\n",
    "Ctrl+Enter : 현재 셀만 실행\n",
    "\n",
    "M : 마크다운. 지금 글쓰는 현재 셀처럼 문서작성용 셀로 바꿔줌\n",
    "\n",
    "Y : 마크다운된거 코드작성하는 셀로 바꾸기\n",
    "\n",
    "X : 셀 잘라내기\n",
    "\n",
    "복사 붙여넣기는 Ctrl+C/V 그대로 이건 원하는 셀 찍고 하면 해당 셀 복사하고 해당 위치에 붙여넣기됨\n",
    "\n",
    "C,V : C누르면 선택된 셀 복사, 그다음 V 누르면 선택된 셀 바로 아래에 붙여넣기\n",
    "\n",
    "D 두번 빠르게 연타 :  선택된 셀 지우기\n",
    "\n",
    "Z : 되돌리기\n",
    "\n",
    "\n",
    "-에디트 모드시 단축키\n",
    "\n",
    "shift+Tab : 툴팁, 아마도 가장 많이 쓰게될 단축키\n",
    "\n",
    "다른 단축키는 주피터 매뉴중에 키보드 모양 누르면 나옴"
   ]
  },
  {
   "cell_type": "markdown",
   "metadata": {},
   "source": [
    "# 안녕"
   ]
  },
  {
   "cell_type": "code",
   "execution_count": null,
   "metadata": {},
   "outputs": [],
   "source": [
    "import pandas as pd"
   ]
  },
  {
   "cell_type": "code",
   "execution_count": null,
   "metadata": {},
   "outputs": [],
   "source": [
    "pd.DataFrame"
   ]
  }
 ],
 "metadata": {
  "kernelspec": {
   "display_name": "Python 3",
   "language": "python",
   "name": "python3"
  },
  "language_info": {
   "codemirror_mode": {
    "name": "ipython",
    "version": 3
   },
   "file_extension": ".py",
   "mimetype": "text/x-python",
   "name": "python",
   "nbconvert_exporter": "python",
   "pygments_lexer": "ipython3",
   "version": "3.7.6"
  }
 },
 "nbformat": 4,
 "nbformat_minor": 2
}
