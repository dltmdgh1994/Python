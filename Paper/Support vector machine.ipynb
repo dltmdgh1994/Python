{
 "cells": [
  {
   "cell_type": "code",
   "execution_count": 1,
   "metadata": {},
   "outputs": [],
   "source": [
    "import numpy as np\n",
    "import pandas as pd\n",
    "import matplotlib.pyplot as plt\n",
    "from sklearn.model_selection import train_test_split\n",
    "from sklearn.datasets import load_breast_cancer\n",
    "from sklearn.model_selection import GridSearchCV\n",
    "from sklearn.model_selection import StratifiedKFold\n",
    "from sklearn.neighbors import KNeighborsClassifier\n",
    "from sklearn.metrics import mean_squared_error\n",
    "import matplotlib.pyplot as plt\n",
    "import seaborn as sns"
   ]
  },
  {
   "cell_type": "code",
   "execution_count": 59,
   "metadata": {},
   "outputs": [],
   "source": [
    "mydata = pd.read_csv(\"최종별점전체3.csv\",sep=\",\",encoding = \"utf-8\")\n",
    "y=mydata['관객수범주'].values\n",
    "x_data = mydata.drop('1주차누적관객수', axis=1)\n",
    "#x_data = x_data.drop('1주차최대스크린수', axis=1)\n",
    "x_data = x_data.drop('관객수범주', axis=1)\n",
    "x= x_data.values"
   ]
  },
  {
   "cell_type": "code",
   "execution_count": 60,
   "metadata": {},
   "outputs": [],
   "source": [
    "X_train, X_test, y_train, y_test = train_test_split(x,y,test_size=0.3,random_state=42,shuffle=True)"
   ]
  },
  {
   "cell_type": "code",
   "execution_count": 61,
   "metadata": {},
   "outputs": [],
   "source": [
    "# Model 4. SVM - standard scaling\n",
    "from sklearn.preprocessing import StandardScaler\n",
    "StandardScaler = StandardScaler()\n",
    "StandardScaler.fit(X_train)\n",
    "train_data_StandardScale = StandardScaler.transform(X_train)\n",
    "StandardScaler.fit(X_test)\n",
    "test_data_StandardScale = StandardScaler.transform(X_test)"
   ]
  },
  {
   "cell_type": "code",
   "execution_count": 62,
   "metadata": {},
   "outputs": [
    {
     "name": "stderr",
     "output_type": "stream",
     "text": [
      "C:\\Users\\dltmd\\anaconda3\\lib\\site-packages\\sklearn\\model_selection\\_split.py:297: FutureWarning: Setting a random_state has no effect since shuffle is False. This will raise an error in 0.24. You should leave random_state to its default (None), or set shuffle=True.\n",
      "  FutureWarning\n",
      "[Parallel(n_jobs=-1)]: Using backend LokyBackend with 8 concurrent workers.\n",
      "[Parallel(n_jobs=-1)]: Done  66 tasks      | elapsed:    0.1s\n"
     ]
    },
    {
     "name": "stdout",
     "output_type": "stream",
     "text": [
      "Fitting 5 folds for each of 36 candidates, totalling 180 fits\n"
     ]
    },
    {
     "name": "stderr",
     "output_type": "stream",
     "text": [
      "[Parallel(n_jobs=-1)]: Done 180 out of 180 | elapsed:    1.5s finished\n"
     ]
    },
    {
     "data": {
      "text/plain": [
       "GridSearchCV(cv=StratifiedKFold(n_splits=5, random_state=42, shuffle=False),\n",
       "             estimator=SVC(random_state=42), n_jobs=-1,\n",
       "             param_grid=[{'C': [0.1, 1, 10, 100, 1000, 10000],\n",
       "                          'kernel': ['linear']},\n",
       "                         {'C': [0.1, 1, 10, 100, 1000, 10000],\n",
       "                          'gamma': [0.001, 0.01, 0.1, 1, 10],\n",
       "                          'kernel': ['rbf']}],\n",
       "             verbose=1)"
      ]
     },
     "execution_count": 62,
     "metadata": {},
     "output_type": "execute_result"
    }
   ],
   "source": [
    "from sklearn.svm import SVC\n",
    "model = SVC(random_state = 42)\n",
    "gb_param_grid = [\n",
    "    {'kernel':['linear'],'C':[0.1,1,10,100,1000,10000]},\n",
    "    {'kernel':['rbf'],'C':[0.1,1,10,100,1000,10000],\n",
    "    'gamma' : [0.001,0.01,0.1,1,10]}\n",
    "]\n",
    "\n",
    "cv=StratifiedKFold(n_splits=5, random_state=42)\n",
    "gb_grid = GridSearchCV(model, param_grid = gb_param_grid,\n",
    "                      n_jobs=-1,verbose=1,cv=cv)\n",
    "gb_grid.fit(train_data_StandardScale,y_train)"
   ]
  },
  {
   "cell_type": "code",
   "execution_count": 63,
   "metadata": {},
   "outputs": [
    {
     "data": {
      "text/plain": [
       "{'C': 100, 'kernel': 'linear'}"
      ]
     },
     "execution_count": 63,
     "metadata": {},
     "output_type": "execute_result"
    }
   ],
   "source": [
    "gb_grid.best_params_"
   ]
  },
  {
   "cell_type": "code",
   "execution_count": 64,
   "metadata": {},
   "outputs": [
    {
     "name": "stdout",
     "output_type": "stream",
     "text": [
      "훈련 세트 정확도 : 0.9266666666666666\n",
      "테스트 세트 정확도 : 0.6923076923076923\n",
      "\n",
      "\n",
      "              precision    recall  f1-score   support\n",
      "\n",
      "         범주1     0.7083    0.8500    0.7727        20\n",
      "         범주2     0.6400    0.5926    0.6154        27\n",
      "         범주3     0.7500    0.6667    0.7059        18\n",
      "\n",
      "    accuracy                         0.6923        65\n",
      "   macro avg     0.6994    0.7031    0.6980        65\n",
      "weighted avg     0.6915    0.6923    0.6889        65\n",
      "\n"
     ]
    }
   ],
   "source": [
    "from sklearn.metrics import classification_report\n",
    "model = gb_grid.best_estimator_\n",
    "pred = model.predict(test_data_StandardScale)\n",
    "train_score = model.score(train_data_StandardScale, y_train)\n",
    "test_score = model.score(test_data_StandardScale, y_test)\n",
    "\n",
    "print(\"훈련 세트 정확도 : \" +str(train_score))\n",
    "print(\"테스트 세트 정확도 : \" +str(test_score))\n",
    "print(\"\\n\")\n",
    "\n",
    "print(classification_report(y_test,pred,digits=4))"
   ]
  },
  {
   "cell_type": "code",
   "execution_count": 65,
   "metadata": {},
   "outputs": [],
   "source": [
    "# Model 4. SVM - robust scaling\n",
    "from sklearn.preprocessing import RobustScaler\n",
    "RobustScaler = RobustScaler()\n",
    "RobustScaler.fit(X_train)\n",
    "train_data_StandardScale = RobustScaler.transform(X_train)\n",
    "RobustScaler.fit(X_test)\n",
    "test_data_StandardScale = RobustScaler.transform(X_test)"
   ]
  },
  {
   "cell_type": "code",
   "execution_count": 66,
   "metadata": {},
   "outputs": [
    {
     "name": "stderr",
     "output_type": "stream",
     "text": [
      "C:\\Users\\dltmd\\anaconda3\\lib\\site-packages\\sklearn\\model_selection\\_split.py:297: FutureWarning: Setting a random_state has no effect since shuffle is False. This will raise an error in 0.24. You should leave random_state to its default (None), or set shuffle=True.\n",
      "  FutureWarning\n",
      "[Parallel(n_jobs=-1)]: Using backend LokyBackend with 8 concurrent workers.\n"
     ]
    },
    {
     "name": "stdout",
     "output_type": "stream",
     "text": [
      "Fitting 5 folds for each of 36 candidates, totalling 180 fits\n"
     ]
    },
    {
     "name": "stderr",
     "output_type": "stream",
     "text": [
      "[Parallel(n_jobs=-1)]: Done  64 tasks      | elapsed:    0.1s\n",
      "[Parallel(n_jobs=-1)]: Done 180 out of 180 | elapsed:    1.3s finished\n"
     ]
    },
    {
     "data": {
      "text/plain": [
       "GridSearchCV(cv=StratifiedKFold(n_splits=5, random_state=42, shuffle=False),\n",
       "             estimator=SVC(random_state=42), n_jobs=-1,\n",
       "             param_grid=[{'C': [0.1, 1, 10, 100, 1000, 10000],\n",
       "                          'kernel': ['linear']},\n",
       "                         {'C': [0.1, 1, 10, 100, 1000, 10000],\n",
       "                          'gamma': [0.001, 0.01, 0.1, 1, 10],\n",
       "                          'kernel': ['rbf']}],\n",
       "             verbose=1)"
      ]
     },
     "execution_count": 66,
     "metadata": {},
     "output_type": "execute_result"
    }
   ],
   "source": [
    "model = SVC(random_state = 42)\n",
    "gb_param_grid = [\n",
    "    {'kernel':['linear'],'C':[0.1,1,10,100,1000,10000]},\n",
    "    {'kernel':['rbf'],'C':[0.1,1,10,100,1000,10000],\n",
    "    'gamma' : [0.001,0.01,0.1,1,10]}\n",
    "]\n",
    "\n",
    "cv=StratifiedKFold(n_splits=5, random_state=42)\n",
    "gb_grid = GridSearchCV(model, param_grid = gb_param_grid,\n",
    "                      n_jobs=-1,verbose=1,cv=cv)\n",
    "gb_grid.fit(train_data_StandardScale,y_train)"
   ]
  },
  {
   "cell_type": "code",
   "execution_count": 67,
   "metadata": {},
   "outputs": [
    {
     "data": {
      "text/plain": [
       "{'C': 1000, 'kernel': 'linear'}"
      ]
     },
     "execution_count": 67,
     "metadata": {},
     "output_type": "execute_result"
    }
   ],
   "source": [
    "gb_grid.best_params_"
   ]
  },
  {
   "cell_type": "code",
   "execution_count": 68,
   "metadata": {},
   "outputs": [
    {
     "name": "stdout",
     "output_type": "stream",
     "text": [
      "훈련 세트 정확도 : 0.9266666666666666\n",
      "테스트 세트 정확도 : 0.7230769230769231\n",
      "\n",
      "\n",
      "              precision    recall  f1-score   support\n",
      "\n",
      "         범주1       0.74      0.85      0.79        20\n",
      "         범주2       0.68      0.63      0.65        27\n",
      "         범주3       0.76      0.72      0.74        18\n",
      "\n",
      "    accuracy                           0.72        65\n",
      "   macro avg       0.73      0.73      0.73        65\n",
      "weighted avg       0.72      0.72      0.72        65\n",
      "\n"
     ]
    }
   ],
   "source": [
    "from sklearn.metrics import classification_report\n",
    "model = gb_grid.best_estimator_\n",
    "pred = model.predict(test_data_StandardScale)\n",
    "train_score = model.score(train_data_StandardScale, y_train)\n",
    "test_score = model.score(test_data_StandardScale, y_test)\n",
    "\n",
    "print(\"훈련 세트 정확도 : \" +str(train_score))\n",
    "print(\"테스트 세트 정확도 : \" +str(test_score))\n",
    "print(\"\\n\")\n",
    "\n",
    "print(classification_report(y_test,pred))"
   ]
  }
 ],
 "metadata": {
  "kernelspec": {
   "display_name": "Python 3",
   "language": "python",
   "name": "python3"
  },
  "language_info": {
   "codemirror_mode": {
    "name": "ipython",
    "version": 3
   },
   "file_extension": ".py",
   "mimetype": "text/x-python",
   "name": "python",
   "nbconvert_exporter": "python",
   "pygments_lexer": "ipython3",
   "version": "3.7.6"
  }
 },
 "nbformat": 4,
 "nbformat_minor": 4
}
