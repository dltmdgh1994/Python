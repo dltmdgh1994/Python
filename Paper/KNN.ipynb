{
 "cells": [
  {
   "cell_type": "code",
   "execution_count": 17,
   "metadata": {},
   "outputs": [],
   "source": [
    "import numpy as np\n",
    "import pandas as pd\n",
    "import matplotlib.pyplot as plt\n",
    "from sklearn.model_selection import train_test_split\n",
    "from sklearn.datasets import load_breast_cancer\n",
    "from sklearn.model_selection import GridSearchCV\n",
    "from sklearn.model_selection import StratifiedKFold\n",
    "from sklearn.neighbors import KNeighborsClassifier\n",
    "from sklearn.metrics import mean_squared_error\n",
    "import matplotlib.pyplot as plt\n",
    "import seaborn as sns"
   ]
  },
  {
   "cell_type": "code",
   "execution_count": 34,
   "metadata": {},
   "outputs": [],
   "source": [
    "mydata = pd.read_csv(\"최종별점전체3.csv\",sep=\",\",encoding = \"utf-8\")\n",
    "y=mydata['관객수범주'].values\n",
    "x_data = mydata.drop('1주차누적관객수', axis=1)\n",
    "x_data = x_data.drop('1주차최대스크린수', axis=1)\n",
    "x_data = x_data.drop('관객수범주', axis=1)\n",
    "x= x_data.values"
   ]
  },
  {
   "cell_type": "code",
   "execution_count": 35,
   "metadata": {},
   "outputs": [],
   "source": [
    "X_train, X_test, y_train, y_test = train_test_split(x,y,test_size=0.3,random_state=42,shuffle=True)"
   ]
  },
  {
   "cell_type": "code",
   "execution_count": 36,
   "metadata": {},
   "outputs": [],
   "source": [
    "# Model 4. SVM - standard scaling\n",
    "from sklearn.preprocessing import StandardScaler\n",
    "StandardScaler = StandardScaler()\n",
    "StandardScaler.fit(X_train)\n",
    "train_data_StandardScale = StandardScaler.transform(X_train)\n",
    "StandardScaler.fit(X_test)\n",
    "test_data_StandardScale = StandardScaler.transform(X_test)"
   ]
  },
  {
   "cell_type": "code",
   "execution_count": 37,
   "metadata": {},
   "outputs": [
    {
     "data": {
      "text/plain": [
       "<matplotlib.legend.Legend at 0x1dfe1403dc8>"
      ]
     },
     "execution_count": 37,
     "metadata": {},
     "output_type": "execute_result"
    },
    {
     "data": {
      "image/png": "[encoded data removed]",
      "text/plain": [
       "<Figure size 432x288 with 1 Axes>"
      ]
     },
     "metadata": {},
     "output_type": "display_data"
    }
   ],
   "source": [
    "training_accuracy = []\n",
    "test_accuracy = []\n",
    "# 1에서 10까지 n_neighbors를 적용\n",
    "neighbors_settings = range(1, 20)\n",
    "\n",
    "for n_neighbors in neighbors_settings:\n",
    "    # 모델 생성\n",
    "    clf = KNeighborsClassifier(n_neighbors=n_neighbors)\n",
    "    clf.fit(train_data_StandardScale, y_train)\n",
    "    # 훈련 세트 정확도 저장\n",
    "    training_accuracy.append(clf.score(train_data_StandardScale, y_train))\n",
    "    # 일반화 정확도 저장\n",
    "    test_accuracy.append(clf.score(test_data_StandardScale, y_test))\n",
    "\n",
    "plt.plot(neighbors_settings, training_accuracy, label=\"train_accuracy\")\n",
    "plt.plot(neighbors_settings, test_accuracy, label=\"test_accuracy\")\n",
    "plt.ylabel(\"accuracy\")\n",
    "plt.xlabel(\"n_neighbors\")\n",
    "plt.legend()"
   ]
  },
  {
   "cell_type": "code",
   "execution_count": 39,
   "metadata": {},
   "outputs": [
    {
     "name": "stdout",
     "output_type": "stream",
     "text": [
      "Fitting 5 folds for each of 1 candidates, totalling 5 fits\n"
     ]
    },
    {
     "name": "stderr",
     "output_type": "stream",
     "text": [
      "C:\\Users\\dltmd\\anaconda3\\lib\\site-packages\\sklearn\\model_selection\\_split.py:297: FutureWarning: Setting a random_state has no effect since shuffle is False. This will raise an error in 0.24. You should leave random_state to its default (None), or set shuffle=True.\n",
      "  FutureWarning\n",
      "[Parallel(n_jobs=-1)]: Using backend LokyBackend with 8 concurrent workers.\n",
      "[Parallel(n_jobs=-1)]: Done   2 out of   5 | elapsed:    0.0s remaining:    0.0s\n",
      "[Parallel(n_jobs=-1)]: Done   5 out of   5 | elapsed:    0.0s finished\n"
     ]
    },
    {
     "data": {
      "text/plain": [
       "GridSearchCV(cv=StratifiedKFold(n_splits=5, random_state=42, shuffle=False),\n",
       "             estimator=KNeighborsClassifier(), n_jobs=-1,\n",
       "             param_grid={'n_neighbors': [3]}, verbose=1)"
      ]
     },
     "execution_count": 39,
     "metadata": {},
     "output_type": "execute_result"
    }
   ],
   "source": [
    "# Model 3. KNN\n",
    "from sklearn.neighbors import KNeighborsClassifier\n",
    "model = KNeighborsClassifier()\n",
    "gb_param_grid = {\n",
    "    'n_neighbors' : [3],\n",
    "}\n",
    "\n",
    "cv=StratifiedKFold(n_splits=5, random_state=42)\n",
    "gb_grid = GridSearchCV(model, param_grid = gb_param_grid,\n",
    "                      n_jobs=-1,verbose=1,cv=cv)\n",
    "gb_grid.fit(train_data_StandardScale,y_train)"
   ]
  },
  {
   "cell_type": "code",
   "execution_count": 40,
   "metadata": {},
   "outputs": [
    {
     "name": "stdout",
     "output_type": "stream",
     "text": [
      "훈련 세트 정확도 : 0.7733333333333333\n",
      "테스트 세트 정확도 : 0.5538461538461539\n",
      "\n",
      "\n",
      "              precision    recall  f1-score   support\n",
      "\n",
      "         범주1     0.6364    0.7000    0.6667        20\n",
      "         범주2     0.5385    0.2593    0.3500        27\n",
      "         범주3     0.5000    0.8333    0.6250        18\n",
      "\n",
      "    accuracy                         0.5538        65\n",
      "   macro avg     0.5583    0.5975    0.5472        65\n",
      "weighted avg     0.5579    0.5538    0.5236        65\n",
      "\n"
     ]
    }
   ],
   "source": [
    "from sklearn.metrics import classification_report\n",
    "model = gb_grid.best_estimator_\n",
    "pred = model.predict(test_data_StandardScale)\n",
    "train_score = model.score(train_data_StandardScale, y_train)\n",
    "test_score = model.score(test_data_StandardScale, y_test)\n",
    "\n",
    "print(\"훈련 세트 정확도 : \" +str(train_score))\n",
    "print(\"테스트 세트 정확도 : \" +str(test_score))\n",
    "print(\"\\n\")\n",
    "\n",
    "print(classification_report(y_test,pred,digits=4))"
   ]
  }
 ],
 "metadata": {
  "kernelspec": {
   "display_name": "Python 3",
   "language": "python",
   "name": "python3"
  },
  "language_info": {
   "codemirror_mode": {
    "name": "ipython",
    "version": 3
   },
   "file_extension": ".py",
   "mimetype": "text/x-python",
   "name": "python",
   "nbconvert_exporter": "python",
   "pygments_lexer": "ipython3",
   "version": "3.7.9"
  }
 },
 "nbformat": 4,
 "nbformat_minor": 4
}
