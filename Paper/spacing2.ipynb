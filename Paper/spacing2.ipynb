{
 "cells": [
  {
   "cell_type": "markdown",
   "metadata": {},
   "source": [
    "# 맞춤법 검사"
   ]
  },
  {
   "cell_type": "code",
   "execution_count": 11,
   "metadata": {},
   "outputs": [],
   "source": [
    "from hanspell import spell_checker\n",
    "import pandas as pd \n",
    "\n",
    "\n",
    "def dftoCsv(movie_df, num): \n",
    "    try: \n",
    "        movie_df.to_csv(('Train'+ str(num) +'.csv'), sep=',', na_rep='NaN', encoding='euc-kr',index = False) \n",
    "    except: \n",
    "        print(\"Error\")"
   ]
  },
  {
   "cell_type": "code",
   "execution_count": 3,
   "metadata": {},
   "outputs": [
    {
     "name": "stdout",
     "output_type": "stream",
     "text": [
      "5655\n",
      "10353\n",
      "64609\n",
      "85340\n",
      "116570\n",
      "235993\n",
      "256112\n"
     ]
    }
   ],
   "source": [
    "movie = pd.read_csv(\"NaverReview.csv\",sep=\",\",encoding = \"utf-8\")\n",
    "reviews = movie['Review'].tolist()\n",
    "scores = movie['Score'].tolist()\n",
    "\n",
    "review = []\n",
    "score = []\n",
    "num = -1\n",
    "for n in reviews:\n",
    "    num += 1\n",
    "    try:\n",
    "        result = spell_checker.check(n)\n",
    "        r = result.checked\n",
    "        if r == ' ':\n",
    "            review.append(result.checked)\n",
    "            score.append(scores[num])\n",
    "        else:\n",
    "            review.append(result.checked)\n",
    "            score.append(scores[num])\n",
    "    except:\n",
    "        review.append('')\n",
    "        score.append(scores[num])\n",
    "        print(num)\n",
    "\n"
   ]
  },
  {
   "cell_type": "code",
   "execution_count": null,
   "metadata": {},
   "outputs": [],
   "source": [
    "movie_dic = {\"Review\":review,\"Score\":score}\n",
    "movie_df = pd.DataFrame(movie_dic) \n",
    "\n",
    "dftoCsv(movie_df,1)  "
   ]
  }
 ],
 "metadata": {
  "kernelspec": {
   "display_name": "Python 3",
   "language": "python",
   "name": "python3"
  },
  "language_info": {
   "codemirror_mode": {
    "name": "ipython",
    "version": 3
   },
   "file_extension": ".py",
   "mimetype": "text/x-python",
   "name": "python",
   "nbconvert_exporter": "python",
   "pygments_lexer": "ipython3",
   "version": "3.7.6"
  }
 },
 "nbformat": 4,
 "nbformat_minor": 4
}
