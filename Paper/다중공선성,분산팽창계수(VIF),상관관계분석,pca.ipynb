{
 "cells": [
  {
   "cell_type": "code",
   "execution_count": 2,
   "metadata": {},
   "outputs": [],
   "source": [
    "import pandas as pd\n",
    "mydata = pd.read_csv(\"/Users/igwonseong/Downloads/상관분석.csv\")"
   ]
  },
  {
   "cell_type": "code",
   "execution_count": 3,
   "metadata": {},
   "outputs": [
    {
     "data": {
      "text/html": [
       "<div>\n",
       "<style scoped>\n",
       "    .dataframe tbody tr th:only-of-type {\n",
       "        vertical-align: middle;\n",
       "    }\n",
       "\n",
       "    .dataframe tbody tr th {\n",
       "        vertical-align: top;\n",
       "    }\n",
       "\n",
       "    .dataframe thead th {\n",
       "        text-align: right;\n",
       "    }\n",
       "</style>\n",
       "<table border=\"1\" class=\"dataframe\">\n",
       "  <thead>\n",
       "    <tr style=\"text-align: right;\">\n",
       "      <th></th>\n",
       "      <th>감독파워</th>\n",
       "      <th>배우파워</th>\n",
       "      <th>제작사파워</th>\n",
       "      <th>1주차최대스크린수</th>\n",
       "      <th>개봉전리뷰수</th>\n",
       "    </tr>\n",
       "  </thead>\n",
       "  <tbody>\n",
       "    <tr>\n",
       "      <th>0</th>\n",
       "      <td>1671548.000</td>\n",
       "      <td>5531991.944</td>\n",
       "      <td>2771210.000</td>\n",
       "      <td>1081</td>\n",
       "      <td>54</td>\n",
       "    </tr>\n",
       "    <tr>\n",
       "      <th>1</th>\n",
       "      <td>4070891.000</td>\n",
       "      <td>1568615.667</td>\n",
       "      <td>6308705.917</td>\n",
       "      <td>990</td>\n",
       "      <td>265</td>\n",
       "    </tr>\n",
       "    <tr>\n",
       "      <th>2</th>\n",
       "      <td>7759473.000</td>\n",
       "      <td>5244403.929</td>\n",
       "      <td>4362083.400</td>\n",
       "      <td>1009</td>\n",
       "      <td>76</td>\n",
       "    </tr>\n",
       "    <tr>\n",
       "      <th>3</th>\n",
       "      <td>1441763.333</td>\n",
       "      <td>1459294.633</td>\n",
       "      <td>2616067.000</td>\n",
       "      <td>781</td>\n",
       "      <td>22</td>\n",
       "    </tr>\n",
       "    <tr>\n",
       "      <th>4</th>\n",
       "      <td>416303.000</td>\n",
       "      <td>2820275.200</td>\n",
       "      <td>577580.250</td>\n",
       "      <td>627</td>\n",
       "      <td>59</td>\n",
       "    </tr>\n",
       "  </tbody>\n",
       "</table>\n",
       "</div>"
      ],
      "text/plain": [
       "          감독파워         배우파워        제작사파워  1주차최대스크린수  개봉전리뷰수\n",
       "0  1671548.000  5531991.944  2771210.000       1081      54\n",
       "1  4070891.000  1568615.667  6308705.917        990     265\n",
       "2  7759473.000  5244403.929  4362083.400       1009      76\n",
       "3  1441763.333  1459294.633  2616067.000        781      22\n",
       "4   416303.000  2820275.200   577580.250        627      59"
      ]
     },
     "execution_count": 3,
     "metadata": {},
     "output_type": "execute_result"
    }
   ],
   "source": [
    "del mydata['1주차누적관객수']\n",
    "del mydata['영화명']\n",
    "mydata.head()"
   ]
  },
  {
   "cell_type": "code",
   "execution_count": 4,
   "metadata": {},
   "outputs": [
    {
     "data": {
      "text/html": [
       "<div>\n",
       "<style scoped>\n",
       "    .dataframe tbody tr th:only-of-type {\n",
       "        vertical-align: middle;\n",
       "    }\n",
       "\n",
       "    .dataframe tbody tr th {\n",
       "        vertical-align: top;\n",
       "    }\n",
       "\n",
       "    .dataframe thead th {\n",
       "        text-align: right;\n",
       "    }\n",
       "</style>\n",
       "<table border=\"1\" class=\"dataframe\">\n",
       "  <thead>\n",
       "    <tr style=\"text-align: right;\">\n",
       "      <th></th>\n",
       "      <th>감독파워</th>\n",
       "      <th>배우파워</th>\n",
       "      <th>제작사파워</th>\n",
       "      <th>1주차최대스크린수</th>\n",
       "      <th>개봉전리뷰수</th>\n",
       "    </tr>\n",
       "  </thead>\n",
       "  <tbody>\n",
       "    <tr>\n",
       "      <th>감독파워</th>\n",
       "      <td>1.000000</td>\n",
       "      <td>0.754912</td>\n",
       "      <td>0.754283</td>\n",
       "      <td>0.774894</td>\n",
       "      <td>0.282271</td>\n",
       "    </tr>\n",
       "    <tr>\n",
       "      <th>배우파워</th>\n",
       "      <td>0.754912</td>\n",
       "      <td>1.000000</td>\n",
       "      <td>0.717066</td>\n",
       "      <td>0.730314</td>\n",
       "      <td>0.289660</td>\n",
       "    </tr>\n",
       "    <tr>\n",
       "      <th>제작사파워</th>\n",
       "      <td>0.754283</td>\n",
       "      <td>0.717066</td>\n",
       "      <td>1.000000</td>\n",
       "      <td>0.681813</td>\n",
       "      <td>0.192975</td>\n",
       "    </tr>\n",
       "    <tr>\n",
       "      <th>1주차최대스크린수</th>\n",
       "      <td>0.774894</td>\n",
       "      <td>0.730314</td>\n",
       "      <td>0.681813</td>\n",
       "      <td>1.000000</td>\n",
       "      <td>0.286775</td>\n",
       "    </tr>\n",
       "    <tr>\n",
       "      <th>개봉전리뷰수</th>\n",
       "      <td>0.282271</td>\n",
       "      <td>0.289660</td>\n",
       "      <td>0.192975</td>\n",
       "      <td>0.286775</td>\n",
       "      <td>1.000000</td>\n",
       "    </tr>\n",
       "  </tbody>\n",
       "</table>\n",
       "</div>"
      ],
      "text/plain": [
       "               감독파워      배우파워     제작사파워  1주차최대스크린수    개봉전리뷰수\n",
       "감독파워       1.000000  0.754912  0.754283   0.774894  0.282271\n",
       "배우파워       0.754912  1.000000  0.717066   0.730314  0.289660\n",
       "제작사파워      0.754283  0.717066  1.000000   0.681813  0.192975\n",
       "1주차최대스크린수  0.774894  0.730314  0.681813   1.000000  0.286775\n",
       "개봉전리뷰수     0.282271  0.289660  0.192975   0.286775  1.000000"
      ]
     },
     "execution_count": 4,
     "metadata": {},
     "output_type": "execute_result"
    }
   ],
   "source": [
    "#상관계수행렬\n",
    "mydata.corr()"
   ]
  },
  {
   "cell_type": "code",
   "execution_count": 5,
   "metadata": {},
   "outputs": [],
   "source": [
    "import seaborn as sns\n",
    "import matplotlib.pyplot as plt"
   ]
  },
  {
   "cell_type": "code",
   "execution_count": 6,
   "metadata": {},
   "outputs": [],
   "source": [
    "import matplotlib\n",
    "from matplotlib import font_manager, rc\n",
    "import platform\n",
    "\n",
    "if platform.system() == 'Windows':\n",
    "# 윈도우인 경우\n",
    "    font_name = font_manager.FontProperties(fname=\"c:/Windows/Fonts/malgun.ttf\").get_name()\n",
    "    rc('font', family=font_name)\n",
    "else:    \n",
    "# Mac 인 경우\n",
    "    rc('font', family='AppleGothic')\n",
    "    \n",
    "matplotlib.rcParams['axes.unicode_minus'] = False   \n",
    "#그래프에서 마이너스 기호가 표시되도록 하는 설정입니다. "
   ]
  },
  {
   "cell_type": "code",
   "execution_count": 7,
   "metadata": {},
   "outputs": [
    {
     "data": {
      "image/png": "[encoded data removed]",
      "text/plain": [
       "<Figure size 432x288 with 2 Axes>"
      ]
     },
     "metadata": {
      "needs_background": "light"
     },
     "output_type": "display_data"
    }
   ],
   "source": [
    "#상관계수행렬 heatmap\n",
    "cmap=sns.light_palette('green',as_cmap=True)\n",
    "sns.heatmap(mydata.corr(),annot=True,cmap=cmap)\n",
    "plt.show()"
   ]
  },
  {
   "cell_type": "code",
   "execution_count": 8,
   "metadata": {},
   "outputs": [],
   "source": [
    "#pca를 위한 정규화\n",
    "from sklearn.preprocessing import StandardScaler\n",
    "MyDatascaled = StandardScaler().fit_transform(mydata.values)"
   ]
  },
  {
   "cell_type": "code",
   "execution_count": 9,
   "metadata": {},
   "outputs": [
    {
     "name": "stdout",
     "output_type": "stream",
     "text": [
      "(215, 3)\n"
     ]
    }
   ],
   "source": [
    "#3개로 차원 축소\n",
    "from sklearn.decomposition import PCA\n",
    "pca = PCA(n_components=3)\n",
    "#fit( )과 transform( ) 을 호출하여 PCA 변환 데이터 반환\n",
    "pca.fit(MyDatascaled)\n",
    "MyDatascaled_pca = pca.transform(MyDatascaled)\n",
    "print(MyDatascaled_pca.shape)"
   ]
  },
  {
   "cell_type": "code",
   "execution_count": 10,
   "metadata": {},
   "outputs": [
    {
     "data": {
      "text/html": [
       "<div>\n",
       "<style scoped>\n",
       "    .dataframe tbody tr th:only-of-type {\n",
       "        vertical-align: middle;\n",
       "    }\n",
       "\n",
       "    .dataframe tbody tr th {\n",
       "        vertical-align: top;\n",
       "    }\n",
       "\n",
       "    .dataframe thead th {\n",
       "        text-align: right;\n",
       "    }\n",
       "</style>\n",
       "<table border=\"1\" class=\"dataframe\">\n",
       "  <thead>\n",
       "    <tr style=\"text-align: right;\">\n",
       "      <th></th>\n",
       "      <th>pca_component_1</th>\n",
       "      <th>pca_component_2</th>\n",
       "      <th>pca_component_3</th>\n",
       "    </tr>\n",
       "  </thead>\n",
       "  <tbody>\n",
       "    <tr>\n",
       "      <th>0</th>\n",
       "      <td>0.806501</td>\n",
       "      <td>-0.485400</td>\n",
       "      <td>-0.224006</td>\n",
       "    </tr>\n",
       "    <tr>\n",
       "      <th>1</th>\n",
       "      <td>1.147869</td>\n",
       "      <td>0.112637</td>\n",
       "      <td>1.359474</td>\n",
       "    </tr>\n",
       "    <tr>\n",
       "      <th>2</th>\n",
       "      <td>2.251311</td>\n",
       "      <td>-0.773932</td>\n",
       "      <td>0.352440</td>\n",
       "    </tr>\n",
       "  </tbody>\n",
       "</table>\n",
       "</div>"
      ],
      "text/plain": [
       "   pca_component_1  pca_component_2  pca_component_3\n",
       "0         0.806501        -0.485400        -0.224006\n",
       "1         1.147869         0.112637         1.359474\n",
       "2         2.251311        -0.773932         0.352440"
      ]
     },
     "execution_count": 10,
     "metadata": {},
     "output_type": "execute_result"
    }
   ],
   "source": [
    "pca_columns=['pca_component_1','pca_component_2','pca_component_3']\n",
    "irisDF_pca = pd.DataFrame(MyDatascaled_pca,columns=pca_columns)\n",
    "irisDF_pca.head(3)"
   ]
  },
  {
   "cell_type": "code",
   "execution_count": 11,
   "metadata": {},
   "outputs": [
    {
     "name": "stdout",
     "output_type": "stream",
     "text": [
      "[0.6653368  0.17805645 0.06238876]\n"
     ]
    }
   ],
   "source": [
    "#pca1,pca2가 80% 차원 2개로 압축!\n",
    "print(pca.explained_variance_ratio_)"
   ]
  },
  {
   "cell_type": "code",
   "execution_count": 12,
   "metadata": {},
   "outputs": [
    {
     "data": {
      "text/html": [
       "<div>\n",
       "<style scoped>\n",
       "    .dataframe tbody tr th:only-of-type {\n",
       "        vertical-align: middle;\n",
       "    }\n",
       "\n",
       "    .dataframe tbody tr th {\n",
       "        vertical-align: top;\n",
       "    }\n",
       "\n",
       "    .dataframe thead th {\n",
       "        text-align: right;\n",
       "    }\n",
       "</style>\n",
       "<table border=\"1\" class=\"dataframe\">\n",
       "  <thead>\n",
       "    <tr style=\"text-align: right;\">\n",
       "      <th></th>\n",
       "      <th>VIF Factor</th>\n",
       "      <th>features</th>\n",
       "    </tr>\n",
       "  </thead>\n",
       "  <tbody>\n",
       "    <tr>\n",
       "      <th>0</th>\n",
       "      <td>5.699164</td>\n",
       "      <td>감독파워</td>\n",
       "    </tr>\n",
       "    <tr>\n",
       "      <th>1</th>\n",
       "      <td>9.100701</td>\n",
       "      <td>배우파워</td>\n",
       "    </tr>\n",
       "    <tr>\n",
       "      <th>2</th>\n",
       "      <td>7.290777</td>\n",
       "      <td>제작사파워</td>\n",
       "    </tr>\n",
       "    <tr>\n",
       "      <th>3</th>\n",
       "      <td>7.468875</td>\n",
       "      <td>1주차최대스크린수</td>\n",
       "    </tr>\n",
       "    <tr>\n",
       "      <th>4</th>\n",
       "      <td>1.533903</td>\n",
       "      <td>개봉전리뷰수</td>\n",
       "    </tr>\n",
       "  </tbody>\n",
       "</table>\n",
       "</div>"
      ],
      "text/plain": [
       "   VIF Factor   features\n",
       "0    5.699164       감독파워\n",
       "1    9.100701       배우파워\n",
       "2    7.290777      제작사파워\n",
       "3    7.468875  1주차최대스크린수\n",
       "4    1.533903     개봉전리뷰수"
      ]
     },
     "execution_count": 12,
     "metadata": {},
     "output_type": "execute_result"
    }
   ],
   "source": [
    "#다중공선성은 VIF로 확인해야 상광행렬로 파악하면 안됨! VIF 10 이상만 아니면됨!\n",
    "from statsmodels.stats.outliers_influence import variance_inflation_factor\n",
    "\n",
    "vif = pd.DataFrame()\n",
    "vif[\"VIF Factor\"] = [variance_inflation_factor(\n",
    "    mydata.values, i) for i in range(mydata.shape[1])]\n",
    "vif[\"features\"] = mydata.columns\n",
    "vif"
   ]
  },
  {
   "cell_type": "code",
   "execution_count": null,
   "metadata": {},
   "outputs": [],
   "source": []
  }
 ],
 "metadata": {
  "kernelspec": {
   "display_name": "Python 3",
   "language": "python",
   "name": "python3"
  },
  "language_info": {
   "codemirror_mode": {
    "name": "ipython",
    "version": 3
   },
   "file_extension": ".py",
   "mimetype": "text/x-python",
   "name": "python",
   "nbconvert_exporter": "python",
   "pygments_lexer": "ipython3",
   "version": "3.7.1"
  }
 },
 "nbformat": 4,
 "nbformat_minor": 2
}
