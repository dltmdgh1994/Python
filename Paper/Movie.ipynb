{
 "cells": [
  {
   "cell_type": "code",
   "execution_count": 17,
   "metadata": {},
   "outputs": [],
   "source": [
    "from urllib.request import urlopen\n",
    "import re\n",
    "import json\n",
    "import datetime\n",
    "\n",
    "date = datetime.datetime(2015,1,1)\n",
    "hangul = re.compile('[^가-힣|^ |^0-9]+')\n",
    "movieNameList = []\n",
    "movieOpenList = []\n",
    "movieAudiAccList = []"
   ]
  },
  {
   "cell_type": "code",
   "execution_count": 18,
   "metadata": {},
   "outputs": [],
   "source": [
    "def datetostr(s):\n",
    "    ss = s[0:4]+s[5:7]+s[8:10]\n",
    "    return ss"
   ]
  },
  {
   "cell_type": "code",
   "execution_count": 19,
   "metadata": {},
   "outputs": [],
   "source": [
    "while date != datetime.datetime(2020,1,1):\n",
    "    try:\n",
    "        d = date.strftime('%Y%m%d')\n",
    "        html = urlopen('http://www.kobis.or.kr/kobisopenapi/webservice/rest/boxoffice/searchDailyBoxOfficeList.json?key=c428fe0b858cac8b5a1b7e5f61ce9d30&targetDt='+d+'&repNationCd=K')\n",
    "        data = json.loads(html.read())\n",
    "        movieList = data['boxOfficeResult']['dailyBoxOfficeList']\n",
    "        for movie in movieList:\n",
    "            movieOpenDate = datetostr(movie['openDt'])\n",
    "            if(movieOpenDate == d):\n",
    "                movieNameList.append(movie['movieNm'])\n",
    "                movieOpenList.append(movie['openDt'])\n",
    "                movieAudiAccList.append(movie['audiAcc'])\n",
    "    except:\n",
    "        print()\n",
    "    \n",
    "    date = date + datetime.timedelta(days=1)\n",
    "    "
   ]
  },
  {
   "cell_type": "code",
   "execution_count": 20,
   "metadata": {},
   "outputs": [],
   "source": [
    "import pandas as pd\n",
    "\n",
    "def dftoCsv(movie_df, num):\n",
    "    try: \n",
    "        movie_df.to_csv(('개봉당일관객수'+ str(num) +'.csv'), sep=',', na_rep='NaN', encoding='euc-kr',index = False) \n",
    "    except: \n",
    "        print(\"Error\")\n",
    "\n",
    "movie_dic = {\"Name\": movieNameList,\"OpenDt\": movieOpenList,\"AudiAcc\" : movieAudiAccList}\n",
    "movie_df = pd.DataFrame(movie_dic) \n",
    "\n",
    "dftoCsv(movie_df,1)"
   ]
  }
 ],
 "metadata": {
  "kernelspec": {
   "display_name": "Python 3",
   "language": "python",
   "name": "python3"
  },
  "language_info": {
   "codemirror_mode": {
    "name": "ipython",
    "version": 3
   },
   "file_extension": ".py",
   "mimetype": "text/x-python",
   "name": "python",
   "nbconvert_exporter": "python",
   "pygments_lexer": "ipython3",
   "version": "3.7.6"
  }
 },
 "nbformat": 4,
 "nbformat_minor": 4
}
