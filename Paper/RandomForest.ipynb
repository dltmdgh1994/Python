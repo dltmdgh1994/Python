{
 "cells": [
  {
   "cell_type": "code",
   "execution_count": 1,
   "metadata": {},
   "outputs": [],
   "source": [
    "import numpy as np\n",
    "import pandas as pd\n",
    "import matplotlib.pyplot as plt\n",
    "from sklearn.model_selection import train_test_split\n",
    "from sklearn.datasets import load_breast_cancer\n",
    "from sklearn.model_selection import GridSearchCV\n",
    "from sklearn.model_selection import StratifiedKFold\n",
    "from sklearn.ensemble import RandomForestClassifier\n",
    "from sklearn.metrics import mean_squared_error\n",
    "import matplotlib.pyplot as plt\n",
    "import seaborn as sns"
   ]
  },
  {
   "cell_type": "code",
   "execution_count": 2,
   "metadata": {
    "scrolled": true
   },
   "outputs": [
    {
     "ename": "NameError",
     "evalue": "name 'y_train' is not defined",
     "output_type": "error",
     "traceback": [
      "\u001b[1;31m---------------------------------------------------------------------------\u001b[0m",
      "\u001b[1;31mNameError\u001b[0m                                 Traceback (most recent call last)",
      "\u001b[1;32m<ipython-input-2-0890ddb0b945>\u001b[0m in \u001b[0;36m<module>\u001b[1;34m\u001b[0m\n\u001b[0;32m      2\u001b[0m \u001b[1;32mfrom\u001b[0m \u001b[0msklearn\u001b[0m\u001b[1;33m.\u001b[0m\u001b[0mpreprocessing\u001b[0m \u001b[1;32mimport\u001b[0m \u001b[0mLabelEncoder\u001b[0m\u001b[1;33m\u001b[0m\u001b[1;33m\u001b[0m\u001b[0m\n\u001b[0;32m      3\u001b[0m \u001b[0mle\u001b[0m \u001b[1;33m=\u001b[0m \u001b[0mLabelEncoder\u001b[0m\u001b[1;33m(\u001b[0m\u001b[1;33m)\u001b[0m\u001b[1;33m\u001b[0m\u001b[1;33m\u001b[0m\u001b[0m\n\u001b[1;32m----> 4\u001b[1;33m \u001b[0mle\u001b[0m\u001b[1;33m.\u001b[0m\u001b[0mfit\u001b[0m\u001b[1;33m(\u001b[0m\u001b[0my_train\u001b[0m\u001b[1;33m)\u001b[0m\u001b[1;33m\u001b[0m\u001b[1;33m\u001b[0m\u001b[0m\n\u001b[0m\u001b[0;32m      5\u001b[0m \u001b[0my_train\u001b[0m \u001b[1;33m=\u001b[0m \u001b[0mle\u001b[0m\u001b[1;33m.\u001b[0m\u001b[0mtransform\u001b[0m\u001b[1;33m(\u001b[0m\u001b[0my_train\u001b[0m\u001b[1;33m)\u001b[0m\u001b[1;33m\u001b[0m\u001b[1;33m\u001b[0m\u001b[0m\n\u001b[0;32m      6\u001b[0m \u001b[0my_test\u001b[0m \u001b[1;33m=\u001b[0m \u001b[0mle\u001b[0m\u001b[1;33m.\u001b[0m\u001b[0mtransform\u001b[0m\u001b[1;33m(\u001b[0m\u001b[0my_test\u001b[0m\u001b[1;33m)\u001b[0m\u001b[1;33m\u001b[0m\u001b[1;33m\u001b[0m\u001b[0m\n",
      "\u001b[1;31mNameError\u001b[0m: name 'y_train' is not defined"
     ]
    }
   ],
   "source": [
    "##string labeling\n",
    "from sklearn.preprocessing import LabelEncoder\n",
    "le = LabelEncoder()\n",
    "le.fit(y_train)\n",
    "y_train = le.transform(y_train)\n",
    "y_test = le.transform(y_test)\n",
    "##le.inverse_transform(y_train)"
   ]
  },
  {
   "cell_type": "code",
   "execution_count": 3,
   "metadata": {},
   "outputs": [],
   "source": [
    "mydata = pd.read_csv(\"최종전체3.csv\",sep=\",\",encoding = \"utf-8\")\n",
    "y=mydata['관객수범주'].values\n",
    "x_data = mydata.drop('1주차누적관객수', axis=1)\n",
    "x_data = x_data.drop('1주차최대스크린수', axis=1)\n",
    "x_data = x_data.drop('관객수범주', axis=1)\n",
    "x= x_data.values"
   ]
  },
  {
   "cell_type": "code",
   "execution_count": 4,
   "metadata": {},
   "outputs": [],
   "source": [
    "X_train, X_test, y_train, y_test = train_test_split(x,y,test_size=0.3,random_state=42,shuffle=True)"
   ]
  },
  {
   "cell_type": "code",
   "execution_count": 5,
   "metadata": {},
   "outputs": [],
   "source": [
    "params = list(range(10,101,10))"
   ]
  },
  {
   "cell_type": "code",
   "execution_count": 6,
   "metadata": {},
   "outputs": [
    {
     "name": "stderr",
     "output_type": "stream",
     "text": [
      "C:\\Users\\dltmd\\anaconda3\\lib\\site-packages\\sklearn\\model_selection\\_split.py:297: FutureWarning: Setting a random_state has no effect since shuffle is False. This will raise an error in 0.24. You should leave random_state to its default (None), or set shuffle=True.\n",
      "  FutureWarning\n",
      "[Parallel(n_jobs=-1)]: Using backend LokyBackend with 8 concurrent workers.\n"
     ]
    },
    {
     "name": "stdout",
     "output_type": "stream",
     "text": [
      "Fitting 5 folds for each of 3000 candidates, totalling 15000 fits\n"
     ]
    },
    {
     "name": "stderr",
     "output_type": "stream",
     "text": [
      "[Parallel(n_jobs=-1)]: Done  34 tasks      | elapsed:    2.5s\n",
      "[Parallel(n_jobs=-1)]: Done 240 tasks      | elapsed:    6.6s\n",
      "[Parallel(n_jobs=-1)]: Done 740 tasks      | elapsed:   17.4s\n",
      "[Parallel(n_jobs=-1)]: Done 1440 tasks      | elapsed:   30.2s\n",
      "[Parallel(n_jobs=-1)]: Done 2340 tasks      | elapsed:   46.0s\n",
      "[Parallel(n_jobs=-1)]: Done 3440 tasks      | elapsed:  1.1min\n",
      "[Parallel(n_jobs=-1)]: Done 4740 tasks      | elapsed:  1.5min\n",
      "[Parallel(n_jobs=-1)]: Done 6240 tasks      | elapsed:  2.0min\n",
      "[Parallel(n_jobs=-1)]: Done 7940 tasks      | elapsed:  2.5min\n",
      "[Parallel(n_jobs=-1)]: Done 9840 tasks      | elapsed:  3.1min\n",
      "[Parallel(n_jobs=-1)]: Done 11940 tasks      | elapsed:  3.7min\n",
      "[Parallel(n_jobs=-1)]: Done 14240 tasks      | elapsed:  4.5min\n",
      "[Parallel(n_jobs=-1)]: Done 15000 out of 15000 | elapsed:  4.7min finished\n"
     ]
    },
    {
     "data": {
      "text/plain": [
       "GridSearchCV(cv=StratifiedKFold(n_splits=5, random_state=42, shuffle=False),\n",
       "             estimator=RandomForestClassifier(random_state=42), n_jobs=-1,\n",
       "             param_grid={'max_depth': [10, 20, 30, 40, 50, 60, 70, 80, 90, 100],\n",
       "                         'min_samples_leaf': [1, 2, 3],\n",
       "                         'min_samples_split': [10, 20, 30, 40, 50, 60, 70, 80,\n",
       "                                               90, 100],\n",
       "                         'n_estimators': [10, 20, 30, 40, 50, 60, 70, 80, 90,\n",
       "                                          100]},\n",
       "             verbose=1)"
      ]
     },
     "execution_count": 6,
     "metadata": {},
     "output_type": "execute_result"
    }
   ],
   "source": [
    "model = RandomForestClassifier(random_state = 42)\n",
    "gb_param_grid = {\n",
    "    'n_estimators' : params,\n",
    "    'max_depth' : params,\n",
    "    'min_samples_split':params,\n",
    "    'min_samples_leaf': [1,2,3]\n",
    "}\n",
    "\n",
    "cv=StratifiedKFold(n_splits=5, random_state=42)\n",
    "gb_grid = GridSearchCV(model, param_grid = gb_param_grid,\n",
    "                      n_jobs=-1,verbose=1,cv=cv)\n",
    "gb_grid.fit(X_train,y_train)"
   ]
  },
  {
   "cell_type": "code",
   "execution_count": 7,
   "metadata": {
    "scrolled": false
   },
   "outputs": [
    {
     "data": {
      "text/plain": [
       "{'max_depth': 10,\n",
       " 'min_samples_leaf': 3,\n",
       " 'min_samples_split': 10,\n",
       " 'n_estimators': 50}"
      ]
     },
     "execution_count": 7,
     "metadata": {},
     "output_type": "execute_result"
    }
   ],
   "source": [
    "gb_grid.best_params_"
   ]
  },
  {
   "cell_type": "code",
   "execution_count": 8,
   "metadata": {},
   "outputs": [
    {
     "name": "stdout",
     "output_type": "stream",
     "text": [
      "훈련 세트 정확도 : 0.8866666666666667\n",
      "테스트 세트 정확도 : 0.8307692307692308\n",
      "\n",
      "\n",
      "              precision    recall  f1-score   support\n",
      "\n",
      "         범주1     0.8889    0.8000    0.8421        20\n",
      "         범주2     0.7857    0.8148    0.8000        27\n",
      "         범주3     0.8421    0.8889    0.8649        18\n",
      "\n",
      "    accuracy                         0.8308        65\n",
      "   macro avg     0.8389    0.8346    0.8357        65\n",
      "weighted avg     0.8331    0.8308    0.8309        65\n",
      "\n"
     ]
    }
   ],
   "source": [
    "from sklearn.metrics import classification_report\n",
    "model = gb_grid.best_estimator_\n",
    "pred = model.predict(X_test)\n",
    "train_score = model.score(X_train, y_train)\n",
    "test_score = model.score(X_test, y_test)\n",
    "\n",
    "print(\"훈련 세트 정확도 : \" +str(train_score))\n",
    "print(\"테스트 세트 정확도 : \" +str(test_score))\n",
    "print(\"\\n\")\n",
    "print(classification_report(y_test,pred,digits=4))"
   ]
  },
  {
   "cell_type": "code",
   "execution_count": 9,
   "metadata": {
    "scrolled": false
   },
   "outputs": [
    {
     "data": {
      "text/plain": [
       "감독파워             0.408716\n",
       "배우파워             0.184138\n",
       "제작사파워            0.145455\n",
       "개봉전리뷰수           0.114879\n",
       "감정점수평균           0.050337\n",
       "등급_전체관람가         0.021247\n",
       "장르_범죄            0.016360\n",
       "등급_청소년관람불가       0.009010\n",
       "등급_15세이상관람가      0.008631\n",
       "장르_애니메이션         0.007492\n",
       "등급_12세이상관람가      0.006083\n",
       "장르_사극            0.005903\n",
       "장르_액션            0.004739\n",
       "장르_멜로/로맨스        0.004246\n",
       "장르_스릴러/공포(호러)    0.004192\n",
       "장르_드라마           0.003466\n",
       "장르_코미디           0.003456\n",
       "장르_미스터리          0.001179\n",
       "장르_판타지           0.000471\n",
       "장르_전쟁            0.000000\n",
       "장르_다큐멘터리         0.000000\n",
       "dtype: float64"
      ]
     },
     "execution_count": 9,
     "metadata": {},
     "output_type": "execute_result"
    }
   ],
   "source": [
    "feature_importances = model.feature_importances_\n",
    "ft_importances = pd.Series(feature_importances,index = x_data.columns)\n",
    "ft_importances = ft_importances.sort_values(ascending=False)\n",
    "ft_importances"
   ]
  },
  {
   "cell_type": "code",
   "execution_count": null,
   "metadata": {},
   "outputs": [],
   "source": [
    "##회귀\n",
    "model = gb_grid.best_estimator_\n",
    "pred = model.predict(X_test)\n",
    "rmse = mean_squared_error(y_test, pred)**0.5\n",
    "print(\"RMSE: %.4f\" % rmse)\n",
    "\n",
    "def MAPE(y_true, y_pred): \n",
    "    return np.mean(np.abs((y_true - y_pred) / y_true)) * 100\n",
    "\n",
    "MAPE(y_test,pred)\n",
    "\n",
    "x1 = range(1,len(y_test)+1)\n",
    "plt.plot(x1,y_test,'r',label='y_test')\n",
    "plt.plot(x1,pred,'b',label='y_pred')\n",
    "plt.legend(loc='upper right')\n",
    "plt.show()\n",
    "\n",
    "from sklearn.metrics import confusion_matrix\n",
    "import seaborn as sns\n",
    "cm = pd.DataFrame(confusion_matrix(y_test, pred))\n",
    "sns.heatmap(cm, annot=True)\n",
    "\n",
    "def dftoCsv(movie_df, num):\n",
    "    try: \n",
    "        movie_df.to_csv(('y'+ str(num) +'.csv'), sep=',', na_rep='NaN', encoding='euc-kr',index = False) \n",
    "    except: \n",
    "        print(\"Error\")\n",
    "        \n",
    "movie_dic = {\"y_test\": y_test,\"y_pred\":pred} \n",
    "movie_df = pd.DataFrame(movie_dic) \n",
    "\n",
    "dftoCsv(movie_df,1)"
   ]
  }
 ],
 "metadata": {
  "kernelspec": {
   "display_name": "Python 3",
   "language": "python",
   "name": "python3"
  },
  "language_info": {
   "codemirror_mode": {
    "name": "ipython",
    "version": 3
   },
   "file_extension": ".py",
   "mimetype": "text/x-python",
   "name": "python",
   "nbconvert_exporter": "python",
   "pygments_lexer": "ipython3",
   "version": "3.7.6"
  }
 },
 "nbformat": 4,
 "nbformat_minor": 4
}
