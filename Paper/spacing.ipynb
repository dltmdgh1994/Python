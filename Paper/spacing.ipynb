{
 "cells": [
  {
   "cell_type": "code",
   "execution_count": 2,
   "metadata": {},
   "outputs": [],
   "source": [
    "from konlpy.tag import Okt\n",
    "okt = Okt()\n",
    "\n",
    "import pandas as pd\n",
    "\n",
    "def spacing_okt(wrongSentence):\n",
    "    tagged = okt.pos(wrongSentence)\n",
    "    corrected = \"\"\n",
    "    for i in tagged:\n",
    "        if i[1] in ('Josa', 'PreEomi', 'Eomi', 'Suffix', 'Punctuation'):\n",
    "            corrected += i[0]\n",
    "        else:\n",
    "            corrected += \" \"+i[0]\n",
    "    if corrected[0] == \" \":\n",
    "        corrected = corrected[1:]\n",
    "    return corrected\n",
    "\n",
    "print(spacing_okt(\"대한민국은민주공화국이다.대한민국의모든권력은국민으로부터나온다.\"))"
   ]
  },
  {
   "cell_type": "code",
   "execution_count": 3,
   "metadata": {},
   "outputs": [],
   "source": [
    "movie = pd.read_csv(\"d.csv\",sep=\",\",encoding = \"utf-8\")\n",
    "name = movie['Review'].tolist()"
   ]
  },
  {
   "cell_type": "code",
   "execution_count": 8,
   "metadata": {},
   "outputs": [],
   "source": [
    "c = []\n",
    "for n in name:\n",
    "    c.append(spacing_okt(n))\n"
   ]
  },
  {
   "cell_type": "code",
   "execution_count": 9,
   "metadata": {},
   "outputs": [],
   "source": [
    "def dftoCsv(movie_df, num): \n",
    "    try: \n",
    "        movie_df.to_csv(('수정'+ str(num) +'.csv'), sep=',', na_rep='NaN', encoding='euc-kr',index = False) \n",
    "    except: \n",
    "        print(\"Error\")\n",
    "\n",
    "movie_dic = {\"Review\": c,}\n",
    "movie_df = pd.DataFrame(movie_dic) \n",
    "\n",
    "dftoCsv(movie_df,1)"
   ]
  }
 ],
 "metadata": {
  "kernelspec": {
   "display_name": "Python 3",
   "language": "python",
   "name": "python3"
  },
  "language_info": {
   "codemirror_mode": {
    "name": "ipython",
    "version": 3
   },
   "file_extension": ".py",
   "mimetype": "text/x-python",
   "name": "python",
   "nbconvert_exporter": "python",
   "pygments_lexer": "ipython3",
   "version": "3.7.6"
  }
 },
 "nbformat": 4,
 "nbformat_minor": 4
}
