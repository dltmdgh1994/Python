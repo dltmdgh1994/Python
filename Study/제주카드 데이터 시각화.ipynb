{
 "cells": [
  {
   "cell_type": "markdown",
   "metadata": {},
   "source": [
    "#  &nbsp;&nbsp;&nbsp;&nbsp;&nbsp;&nbsp; &nbsp;&nbsp;&nbsp;&nbsp;&nbsp;&nbsp; &nbsp;&nbsp;&nbsp;&nbsp;Home.py 'Post COVID-19 시대' 신용카드 데이터 시각화\n",
    "  &nbsp;&nbsp;&nbsp;&nbsp;&nbsp;&nbsp;\n",
    "  \n",
    "  \n",
    "  \n",
    "  \n",
    "  \n",
    "  \n",
    "  \n",
    "  \n",
    "  \n",
    "  \n",
    "  \n",
    "   &nbsp;&nbsp;&nbsp;&nbsp;&nbsp;&nbsp;\n",
    "#### 1. 주제 \n",
    " &nbsp;&nbsp;&nbsp;&nbsp;&nbsp;&nbsp; -Python 활용 'Post COVID-19 시대' 신용카드 데이터 시각화\n",
    "\n",
    "#### 2. 목표 \n",
    " &nbsp;&nbsp;&nbsp;&nbsp;&nbsp;&nbsp;-신용카드 사용 내역 데이터를 활용한 지역별, 업종별 Post COVID-19 이후 카드 사용 총액 시각화\n",
    "    \n",
    "#### 3. 배경 \n",
    " &nbsp;&nbsp;&nbsp;&nbsp;&nbsp;&nbsp;-신용카드 사용량을 분석을 통한 'Post COVID-19 시대' 신용카드 사용량 시각화 모델\n",
    " \n",
    " \n",
    " &nbsp;&nbsp;&nbsp;&nbsp;&nbsp;&nbsp;-지역 경제 위축 및 중소상공인 경영난 해소를 위한 시각화 자료 제시\n",
    "\n",
    "#### 4. 데이터 \n",
    " &nbsp;&nbsp;&nbsp;&nbsp;&nbsp;&nbsp;-Dacon 제주 신용 카드 빅데이터 경진대회 https://dacon.io/competitions/official/235615/overview/\n",
    " \n",
    "  &nbsp;&nbsp;&nbsp;&nbsp;&nbsp;&nbsp;\n",
    "  \n",
    "  \n",
    "  \n",
    "  \n",
    "  \n",
    "  \n",
    "  \n",
    "  \n",
    "  \n",
    "  \n",
    "  \n",
    "   &nbsp;&nbsp;&nbsp;&nbsp;&nbsp;&nbsp;\n",
    " \n",
    " \n",
    " "
   ]
  },
  {
   "cell_type": "markdown",
   "metadata": {},
   "source": [
    "#  &nbsp;&nbsp;&nbsp;&nbsp;&nbsp;&nbsp; &nbsp;&nbsp;&nbsp;&nbsp;&nbsp;&nbsp; &nbsp;&nbsp;&nbsp;&nbsp; &nbsp;&nbsp;&nbsp;&nbsp;&nbsp;&nbsp;1. 인사이트 도출 - 전국 카드 이용 금액 추세 확인\n",
    "  &nbsp;&nbsp;&nbsp;&nbsp;&nbsp;&nbsp;\n",
    "  \n",
    "  \n",
    "  \n",
    "  \n",
    "  \n",
    "  \n",
    "  \n",
    "  \n",
    "  \n",
    "  \n",
    "  \n",
    "   &nbsp;&nbsp;&nbsp;&nbsp;&nbsp;&nbsp;\n",
    "### 전체적인 포스트 코로나 이전 이후 카드량 비교 "
   ]
  },
  {
   "cell_type": "code",
   "execution_count": 1,
   "metadata": {},
   "outputs": [],
   "source": [
    "import pandas as pd\n",
    "import matplotlib.pyplot as plt\n",
    "import plotly.graph_objects as go\n",
    "import plotly.express as px\n",
    "import datetime"
   ]
  },
  {
   "cell_type": "markdown",
   "metadata": {},
   "source": [
    "### 전처리1  2019.04~2020.03 BC 카드 데이터와 2020.04 BC 카드 데이터 병합"
   ]
  },
  {
   "cell_type": "code",
   "execution_count": 2,
   "metadata": {},
   "outputs": [
    {
     "data": {
      "text/html": [
       "<div>\n",
       "<style scoped>\n",
       "    .dataframe tbody tr th:only-of-type {\n",
       "        vertical-align: middle;\n",
       "    }\n",
       "\n",
       "    .dataframe tbody tr th {\n",
       "        vertical-align: top;\n",
       "    }\n",
       "\n",
       "    .dataframe thead th {\n",
       "        text-align: right;\n",
       "    }\n",
       "</style>\n",
       "<table border=\"1\" class=\"dataframe\">\n",
       "  <thead>\n",
       "    <tr style=\"text-align: right;\">\n",
       "      <th></th>\n",
       "      <th>REG_YYMM</th>\n",
       "      <th>CARD_SIDO_NM</th>\n",
       "      <th>CARD_CCG_NM</th>\n",
       "      <th>STD_CLSS_NM</th>\n",
       "      <th>HOM_SIDO_NM</th>\n",
       "      <th>HOM_CCG_NM</th>\n",
       "      <th>AGE</th>\n",
       "      <th>SEX_CTGO_CD</th>\n",
       "      <th>FLC</th>\n",
       "      <th>CSTMR_CNT</th>\n",
       "      <th>AMT</th>\n",
       "      <th>CNT</th>\n",
       "    </tr>\n",
       "  </thead>\n",
       "  <tbody>\n",
       "    <tr>\n",
       "      <th>1350317</th>\n",
       "      <td>202004</td>\n",
       "      <td>충북</td>\n",
       "      <td>충주시</td>\n",
       "      <td>휴양콘도 운영업</td>\n",
       "      <td>충북</td>\n",
       "      <td>충주시</td>\n",
       "      <td>20s</td>\n",
       "      <td>1</td>\n",
       "      <td>1</td>\n",
       "      <td>5</td>\n",
       "      <td>77000</td>\n",
       "      <td>5</td>\n",
       "    </tr>\n",
       "    <tr>\n",
       "      <th>1350318</th>\n",
       "      <td>202004</td>\n",
       "      <td>충북</td>\n",
       "      <td>충주시</td>\n",
       "      <td>휴양콘도 운영업</td>\n",
       "      <td>충북</td>\n",
       "      <td>충주시</td>\n",
       "      <td>30s</td>\n",
       "      <td>1</td>\n",
       "      <td>2</td>\n",
       "      <td>6</td>\n",
       "      <td>92000</td>\n",
       "      <td>6</td>\n",
       "    </tr>\n",
       "    <tr>\n",
       "      <th>1350319</th>\n",
       "      <td>202004</td>\n",
       "      <td>충북</td>\n",
       "      <td>충주시</td>\n",
       "      <td>휴양콘도 운영업</td>\n",
       "      <td>충북</td>\n",
       "      <td>충주시</td>\n",
       "      <td>40s</td>\n",
       "      <td>2</td>\n",
       "      <td>3</td>\n",
       "      <td>5</td>\n",
       "      <td>193000</td>\n",
       "      <td>5</td>\n",
       "    </tr>\n",
       "    <tr>\n",
       "      <th>1350320</th>\n",
       "      <td>202004</td>\n",
       "      <td>충북</td>\n",
       "      <td>충주시</td>\n",
       "      <td>휴양콘도 운영업</td>\n",
       "      <td>충북</td>\n",
       "      <td>충주시</td>\n",
       "      <td>50s</td>\n",
       "      <td>1</td>\n",
       "      <td>4</td>\n",
       "      <td>5</td>\n",
       "      <td>86000</td>\n",
       "      <td>7</td>\n",
       "    </tr>\n",
       "    <tr>\n",
       "      <th>1350321</th>\n",
       "      <td>202004</td>\n",
       "      <td>충북</td>\n",
       "      <td>충주시</td>\n",
       "      <td>휴양콘도 운영업</td>\n",
       "      <td>충북</td>\n",
       "      <td>충주시</td>\n",
       "      <td>60s</td>\n",
       "      <td>2</td>\n",
       "      <td>5</td>\n",
       "      <td>3</td>\n",
       "      <td>227000</td>\n",
       "      <td>4</td>\n",
       "    </tr>\n",
       "  </tbody>\n",
       "</table>\n",
       "</div>"
      ],
      "text/plain": [
       "         REG_YYMM CARD_SIDO_NM CARD_CCG_NM STD_CLSS_NM HOM_SIDO_NM HOM_CCG_NM  \\\n",
       "1350317    202004           충북         충주시    휴양콘도 운영업          충북        충주시   \n",
       "1350318    202004           충북         충주시    휴양콘도 운영업          충북        충주시   \n",
       "1350319    202004           충북         충주시    휴양콘도 운영업          충북        충주시   \n",
       "1350320    202004           충북         충주시    휴양콘도 운영업          충북        충주시   \n",
       "1350321    202004           충북         충주시    휴양콘도 운영업          충북        충주시   \n",
       "\n",
       "         AGE  SEX_CTGO_CD  FLC  CSTMR_CNT     AMT  CNT  \n",
       "1350317  20s            1    1          5   77000    5  \n",
       "1350318  30s            1    2          6   92000    6  \n",
       "1350319  40s            2    3          5  193000    5  \n",
       "1350320  50s            1    4          5   86000    7  \n",
       "1350321  60s            2    5          3  227000    4  "
      ]
     },
     "execution_count": 2,
     "metadata": {},
     "output_type": "execute_result"
    }
   ],
   "source": [
    "df1 = pd.read_csv(\"201901-202003.csv\")\n",
    "df2 = pd.read_csv(\"202004.csv\")\n",
    "df3 = df1.append(df2)\n",
    "df3.tail()"
   ]
  },
  {
   "cell_type": "markdown",
   "metadata": {},
   "source": [
    "### 전처리2  2019.04~2020.04 전국 월별 카드 총액 계산"
   ]
  },
  {
   "cell_type": "code",
   "execution_count": 3,
   "metadata": {},
   "outputs": [],
   "source": [
    "df4=df3.groupby('REG_YYMM').sum()\n",
    "df4= df4.reset_index()\n",
    "df4['REG_YYMM'] = df4['REG_YYMM'].astype(str)\n",
    "df4['REG_YYMM'] = pd.date_range(start='2019-01-01',periods=16,freq='M')\n",
    "\n",
    "df5 = df3[df3['CARD_SIDO_NM']==df3['HOM_SIDO_NM']]\n",
    "df5=df5.groupby('REG_YYMM').sum()\n",
    "df5= df5.reset_index()\n",
    "df5['REG_YYMM'] =df5['REG_YYMM'].astype(str) #지역 같은 아이들\n",
    "df5['REG_YYMM'] = pd.date_range(start='2019-01-01',periods=16,freq='M')\n",
    "\n",
    "df6 = df3[df3['CARD_SIDO_NM']!=df3['HOM_SIDO_NM']]\n",
    "df6=df6.groupby('REG_YYMM').sum()\n",
    "df6= df6.reset_index()\n",
    "df6['REG_YYMM'] =df6['REG_YYMM'].astype(str)\n",
    "df6['REG_YYMM'] = pd.date_range(start='2019-01-01',periods=16,freq='M')\n",
    "\n"
   ]
  },
  {
   "cell_type": "markdown",
   "metadata": {},
   "source": [
    "### 시각화 1 전국 카드 이용 금액 추세 파악\n",
    "\n",
    "내부 지역에서 사용 외부지역에서 사용 비교"
   ]
  },
  {
   "cell_type": "code",
   "execution_count": 5,
   "metadata": {},
   "outputs": [
    {
     "data": {
      "application/vnd.plotly.v1+json": {
       "config": {
        "plotlyServerURL": "https://plot.ly"
       },
       "data": [
        {
         "hovertemplate": "REG_YYMM=%{x}<br>AMT=%{y}<extra></extra>",
         "legendgroup": "",
         "line": {
          "color": "#636efa",
          "dash": "solid"
         },
         "mode": "lines",
         "name": "",
         "orientation": "v",
         "showlegend": false,
         "type": "scatter",
         "x": [
          "2019-01-31T00:00:00",
          "2019-02-28T00:00:00",
          "2019-03-31T00:00:00",
          "2019-04-30T00:00:00",
          "2019-05-31T00:00:00",
          "2019-06-30T00:00:00",
          "2019-07-31T00:00:00",
          "2019-08-31T00:00:00",
          "2019-09-30T00:00:00",
          "2019-10-31T00:00:00",
          "2019-11-30T00:00:00",
          "2019-12-31T00:00:00",
          "2020-01-31T00:00:00",
          "2020-02-29T00:00:00",
          "2020-03-31T00:00:00",
          "2020-04-30T00:00:00"
         ],
         "xaxis": "x",
         "y": [
          4052317259025,
          3634345832156,
          4105409759731,
          4006698507386,
          4345471235813,
          4122105394194,
          4187299694709,
          4268655968810,
          4123348058794,
          4176583723584,
          4047721898575,
          4292549731776,
          4124940612820,
          3370694945536,
          3437884426097,
          3542539370072
         ],
         "yaxis": "y"
        },
        {
         "line": {
          "color": "#A56CC1",
          "width": 3
         },
         "mode": "lines+markers",
         "name": "총 사용 금액",
         "opacity": 0.5,
         "type": "scatter",
         "x": [
          "2019-01-31T00:00:00",
          "2019-02-28T00:00:00",
          "2019-03-31T00:00:00",
          "2019-04-30T00:00:00",
          "2019-05-31T00:00:00",
          "2019-06-30T00:00:00",
          "2019-07-31T00:00:00",
          "2019-08-31T00:00:00",
          "2019-09-30T00:00:00",
          "2019-10-31T00:00:00",
          "2019-11-30T00:00:00",
          "2019-12-31T00:00:00",
          "2020-01-31T00:00:00",
          "2020-02-29T00:00:00",
          "2020-03-31T00:00:00",
          "2020-04-30T00:00:00"
         ],
         "y": [
          4052317259025,
          3634345832156,
          4105409759731,
          4006698507386,
          4345471235813,
          4122105394194,
          4187299694709,
          4268655968810,
          4123348058794,
          4176583723584,
          4047721898575,
          4292549731776,
          4124940612820,
          3370694945536,
          3437884426097,
          3542539370072
         ]
        },
        {
         "line": {
          "color": "royalblue",
          "width": 3
         },
         "mode": "lines+markers",
         "name": "지역 외부 사용 금액",
         "opacity": 0.5,
         "type": "scatter",
         "x": [
          "2019-01-31T00:00:00",
          "2019-02-28T00:00:00",
          "2019-03-31T00:00:00",
          "2019-04-30T00:00:00",
          "2019-05-31T00:00:00",
          "2019-06-30T00:00:00",
          "2019-07-31T00:00:00",
          "2019-08-31T00:00:00",
          "2019-09-30T00:00:00",
          "2019-10-31T00:00:00",
          "2019-11-30T00:00:00",
          "2019-12-31T00:00:00",
          "2020-01-31T00:00:00",
          "2020-02-29T00:00:00",
          "2020-03-31T00:00:00",
          "2020-04-30T00:00:00"
         ],
         "y": [
          743632125567,
          669440676426,
          773106619202,
          761180103829,
          837492670221,
          790594666994,
          808337705992,
          868723718743,
          776406621694,
          819529934996,
          767938922460,
          803918643043,
          757130411989,
          544156734450,
          524570137233,
          563151069177
         ]
        },
        {
         "line": {
          "color": "firebrick",
          "width": 3
         },
         "mode": "lines+markers",
         "name": "지역 내부 사용 금액",
         "opacity": 0.5,
         "type": "scatter",
         "x": [
          "2019-01-31T00:00:00",
          "2019-02-28T00:00:00",
          "2019-03-31T00:00:00",
          "2019-04-30T00:00:00",
          "2019-05-31T00:00:00",
          "2019-06-30T00:00:00",
          "2019-07-31T00:00:00",
          "2019-08-31T00:00:00",
          "2019-09-30T00:00:00",
          "2019-10-31T00:00:00",
          "2019-11-30T00:00:00",
          "2019-12-31T00:00:00",
          "2020-01-31T00:00:00",
          "2020-02-29T00:00:00",
          "2020-03-31T00:00:00",
          "2020-04-30T00:00:00"
         ],
         "y": [
          3308685133458,
          2964905155730,
          3332303140529,
          3245518403557,
          3507978565592,
          3331510727200,
          3378961988717,
          3399932250067,
          3346941437100,
          3357053788588,
          3279782976115,
          3488631088733,
          3367810200831,
          2826538211086,
          2913314288864,
          2979388300895
         ]
        }
       ],
       "layout": {
        "legend": {
         "tracegroupgap": 0
        },
        "paper_bgcolor": "rgb(243, 243, 243)",
        "plot_bgcolor": "rgb(243, 243, 243)",
        "template": {
         "data": {
          "bar": [
           {
            "error_x": {
             "color": "#2a3f5f"
            },
            "error_y": {
             "color": "#2a3f5f"
            },
            "marker": {
             "line": {
              "color": "#E5ECF6",
              "width": 0.5
             }
            },
            "type": "bar"
           }
          ],
          "barpolar": [
           {
            "marker": {
             "line": {
              "color": "#E5ECF6",
              "width": 0.5
             }
            },
            "type": "barpolar"
           }
          ],
          "carpet": [
           {
            "aaxis": {
             "endlinecolor": "#2a3f5f",
             "gridcolor": "white",
             "linecolor": "white",
             "minorgridcolor": "white",
             "startlinecolor": "#2a3f5f"
            },
            "baxis": {
             "endlinecolor": "#2a3f5f",
             "gridcolor": "white",
             "linecolor": "white",
             "minorgridcolor": "white",
             "startlinecolor": "#2a3f5f"
            },
            "type": "carpet"
           }
          ],
          "choropleth": [
           {
            "colorbar": {
             "outlinewidth": 0,
             "ticks": ""
            },
            "type": "choropleth"
           }
          ],
          "contour": [
           {
            "colorbar": {
             "outlinewidth": 0,
             "ticks": ""
            },
            "colorscale": [
             [
              0,
              "#0d0887"
             ],
             [
              0.1111111111111111,
              "#46039f"
             ],
             [
              0.2222222222222222,
              "#7201a8"
             ],
             [
              0.3333333333333333,
              "#9c179e"
             ],
             [
              0.4444444444444444,
              "#bd3786"
             ],
             [
              0.5555555555555556,
              "#d8576b"
             ],
             [
              0.6666666666666666,
              "#ed7953"
             ],
             [
              0.7777777777777778,
              "#fb9f3a"
             ],
             [
              0.8888888888888888,
              "#fdca26"
             ],
             [
              1,
              "#f0f921"
             ]
            ],
            "type": "contour"
           }
          ],
          "contourcarpet": [
           {
            "colorbar": {
             "outlinewidth": 0,
             "ticks": ""
            },
            "type": "contourcarpet"
           }
          ],
          "heatmap": [
           {
            "colorbar": {
             "outlinewidth": 0,
             "ticks": ""
            },
            "colorscale": [
             [
              0,
              "#0d0887"
             ],
             [
              0.1111111111111111,
              "#46039f"
             ],
             [
              0.2222222222222222,
              "#7201a8"
             ],
             [
              0.3333333333333333,
              "#9c179e"
             ],
             [
              0.4444444444444444,
              "#bd3786"
             ],
             [
              0.5555555555555556,
              "#d8576b"
             ],
             [
              0.6666666666666666,
              "#ed7953"
             ],
             [
              0.7777777777777778,
              "#fb9f3a"
             ],
             [
              0.8888888888888888,
              "#fdca26"
             ],
             [
              1,
              "#f0f921"
             ]
            ],
            "type": "heatmap"
           }
          ],
          "heatmapgl": [
           {
            "colorbar": {
             "outlinewidth": 0,
             "ticks": ""
            },
            "colorscale": [
             [
              0,
              "#0d0887"
             ],
             [
              0.1111111111111111,
              "#46039f"
             ],
             [
              0.2222222222222222,
              "#7201a8"
             ],
             [
              0.3333333333333333,
              "#9c179e"
             ],
             [
              0.4444444444444444,
              "#bd3786"
             ],
             [
              0.5555555555555556,
              "#d8576b"
             ],
             [
              0.6666666666666666,
              "#ed7953"
             ],
             [
              0.7777777777777778,
              "#fb9f3a"
             ],
             [
              0.8888888888888888,
              "#fdca26"
             ],
             [
              1,
              "#f0f921"
             ]
            ],
            "type": "heatmapgl"
           }
          ],
          "histogram": [
           {
            "marker": {
             "colorbar": {
              "outlinewidth": 0,
              "ticks": ""
             }
            },
            "type": "histogram"
           }
          ],
          "histogram2d": [
           {
            "colorbar": {
             "outlinewidth": 0,
             "ticks": ""
            },
            "colorscale": [
             [
              0,
              "#0d0887"
             ],
             [
              0.1111111111111111,
              "#46039f"
             ],
             [
              0.2222222222222222,
              "#7201a8"
             ],
             [
              0.3333333333333333,
              "#9c179e"
             ],
             [
              0.4444444444444444,
              "#bd3786"
             ],
             [
              0.5555555555555556,
              "#d8576b"
             ],
             [
              0.6666666666666666,
              "#ed7953"
             ],
             [
              0.7777777777777778,
              "#fb9f3a"
             ],
             [
              0.8888888888888888,
              "#fdca26"
             ],
             [
              1,
              "#f0f921"
             ]
            ],
            "type": "histogram2d"
           }
          ],
          "histogram2dcontour": [
           {
            "colorbar": {
             "outlinewidth": 0,
             "ticks": ""
            },
            "colorscale": [
             [
              0,
              "#0d0887"
             ],
             [
              0.1111111111111111,
              "#46039f"
             ],
             [
              0.2222222222222222,
              "#7201a8"
             ],
             [
              0.3333333333333333,
              "#9c179e"
             ],
             [
              0.4444444444444444,
              "#bd3786"
             ],
             [
              0.5555555555555556,
              "#d8576b"
             ],
             [
              0.6666666666666666,
              "#ed7953"
             ],
             [
              0.7777777777777778,
              "#fb9f3a"
             ],
             [
              0.8888888888888888,
              "#fdca26"
             ],
             [
              1,
              "#f0f921"
             ]
            ],
            "type": "histogram2dcontour"
           }
          ],
          "mesh3d": [
           {
            "colorbar": {
             "outlinewidth": 0,
             "ticks": ""
            },
            "type": "mesh3d"
           }
          ],
          "parcoords": [
           {
            "line": {
             "colorbar": {
              "outlinewidth": 0,
              "ticks": ""
             }
            },
            "type": "parcoords"
           }
          ],
          "pie": [
           {
            "automargin": true,
            "type": "pie"
           }
          ],
          "scatter": [
           {
            "marker": {
             "colorbar": {
              "outlinewidth": 0,
              "ticks": ""
             }
            },
            "type": "scatter"
           }
          ],
          "scatter3d": [
           {
            "line": {
             "colorbar": {
              "outlinewidth": 0,
              "ticks": ""
             }
            },
            "marker": {
             "colorbar": {
              "outlinewidth": 0,
              "ticks": ""
             }
            },
            "type": "scatter3d"
           }
          ],
          "scattercarpet": [
           {
            "marker": {
             "colorbar": {
              "outlinewidth": 0,
              "ticks": ""
             }
            },
            "type": "scattercarpet"
           }
          ],
          "scattergeo": [
           {
            "marker": {
             "colorbar": {
              "outlinewidth": 0,
              "ticks": ""
             }
            },
            "type": "scattergeo"
           }
          ],
          "scattergl": [
           {
            "marker": {
             "colorbar": {
              "outlinewidth": 0,
              "ticks": ""
             }
            },
            "type": "scattergl"
           }
          ],
          "scattermapbox": [
           {
            "marker": {
             "colorbar": {
              "outlinewidth": 0,
              "ticks": ""
             }
            },
            "type": "scattermapbox"
           }
          ],
          "scatterpolar": [
           {
            "marker": {
             "colorbar": {
              "outlinewidth": 0,
              "ticks": ""
             }
            },
            "type": "scatterpolar"
           }
          ],
          "scatterpolargl": [
           {
            "marker": {
             "colorbar": {
              "outlinewidth": 0,
              "ticks": ""
             }
            },
            "type": "scatterpolargl"
           }
          ],
          "scatterternary": [
           {
            "marker": {
             "colorbar": {
              "outlinewidth": 0,
              "ticks": ""
             }
            },
            "type": "scatterternary"
           }
          ],
          "surface": [
           {
            "colorbar": {
             "outlinewidth": 0,
             "ticks": ""
            },
            "colorscale": [
             [
              0,
              "#0d0887"
             ],
             [
              0.1111111111111111,
              "#46039f"
             ],
             [
              0.2222222222222222,
              "#7201a8"
             ],
             [
              0.3333333333333333,
              "#9c179e"
             ],
             [
              0.4444444444444444,
              "#bd3786"
             ],
             [
              0.5555555555555556,
              "#d8576b"
             ],
             [
              0.6666666666666666,
              "#ed7953"
             ],
             [
              0.7777777777777778,
              "#fb9f3a"
             ],
             [
              0.8888888888888888,
              "#fdca26"
             ],
             [
              1,
              "#f0f921"
             ]
            ],
            "type": "surface"
           }
          ],
          "table": [
           {
            "cells": {
             "fill": {
              "color": "#EBF0F8"
             },
             "line": {
              "color": "white"
             }
            },
            "header": {
             "fill": {
              "color": "#C8D4E3"
             },
             "line": {
              "color": "white"
             }
            },
            "type": "table"
           }
          ]
         },
         "layout": {
          "annotationdefaults": {
           "arrowcolor": "#2a3f5f",
           "arrowhead": 0,
           "arrowwidth": 1
          },
          "coloraxis": {
           "colorbar": {
            "outlinewidth": 0,
            "ticks": ""
           }
          },
          "colorscale": {
           "diverging": [
            [
             0,
             "#8e0152"
            ],
            [
             0.1,
             "#c51b7d"
            ],
            [
             0.2,
             "#de77ae"
            ],
            [
             0.3,
             "#f1b6da"
            ],
            [
             0.4,
             "#fde0ef"
            ],
            [
             0.5,
             "#f7f7f7"
            ],
            [
             0.6,
             "#e6f5d0"
            ],
            [
             0.7,
             "#b8e186"
            ],
            [
             0.8,
             "#7fbc41"
            ],
            [
             0.9,
             "#4d9221"
            ],
            [
             1,
             "#276419"
            ]
           ],
           "sequential": [
            [
             0,
             "#0d0887"
            ],
            [
             0.1111111111111111,
             "#46039f"
            ],
            [
             0.2222222222222222,
             "#7201a8"
            ],
            [
             0.3333333333333333,
             "#9c179e"
            ],
            [
             0.4444444444444444,
             "#bd3786"
            ],
            [
             0.5555555555555556,
             "#d8576b"
            ],
            [
             0.6666666666666666,
             "#ed7953"
            ],
            [
             0.7777777777777778,
             "#fb9f3a"
            ],
            [
             0.8888888888888888,
             "#fdca26"
            ],
            [
             1,
             "#f0f921"
            ]
           ],
           "sequentialminus": [
            [
             0,
             "#0d0887"
            ],
            [
             0.1111111111111111,
             "#46039f"
            ],
            [
             0.2222222222222222,
             "#7201a8"
            ],
            [
             0.3333333333333333,
             "#9c179e"
            ],
            [
             0.4444444444444444,
             "#bd3786"
            ],
            [
             0.5555555555555556,
             "#d8576b"
            ],
            [
             0.6666666666666666,
             "#ed7953"
            ],
            [
             0.7777777777777778,
             "#fb9f3a"
            ],
            [
             0.8888888888888888,
             "#fdca26"
            ],
            [
             1,
             "#f0f921"
            ]
           ]
          },
          "colorway": [
           "#636efa",
           "#EF553B",
           "#00cc96",
           "#ab63fa",
           "#FFA15A",
           "#19d3f3",
           "#FF6692",
           "#B6E880",
           "#FF97FF",
           "#FECB52"
          ],
          "font": {
           "color": "#2a3f5f"
          },
          "geo": {
           "bgcolor": "white",
           "lakecolor": "white",
           "landcolor": "#E5ECF6",
           "showlakes": true,
           "showland": true,
           "subunitcolor": "white"
          },
          "hoverlabel": {
           "align": "left"
          },
          "hovermode": "closest",
          "mapbox": {
           "style": "light"
          },
          "paper_bgcolor": "white",
          "plot_bgcolor": "#E5ECF6",
          "polar": {
           "angularaxis": {
            "gridcolor": "white",
            "linecolor": "white",
            "ticks": ""
           },
           "bgcolor": "#E5ECF6",
           "radialaxis": {
            "gridcolor": "white",
            "linecolor": "white",
            "ticks": ""
           }
          },
          "scene": {
           "xaxis": {
            "backgroundcolor": "#E5ECF6",
            "gridcolor": "white",
            "gridwidth": 2,
            "linecolor": "white",
            "showbackground": true,
            "ticks": "",
            "zerolinecolor": "white"
           },
           "yaxis": {
            "backgroundcolor": "#E5ECF6",
            "gridcolor": "white",
            "gridwidth": 2,
            "linecolor": "white",
            "showbackground": true,
            "ticks": "",
            "zerolinecolor": "white"
           },
           "zaxis": {
            "backgroundcolor": "#E5ECF6",
            "gridcolor": "white",
            "gridwidth": 2,
            "linecolor": "white",
            "showbackground": true,
            "ticks": "",
            "zerolinecolor": "white"
           }
          },
          "shapedefaults": {
           "line": {
            "color": "#2a3f5f"
           }
          },
          "ternary": {
           "aaxis": {
            "gridcolor": "white",
            "linecolor": "white",
            "ticks": ""
           },
           "baxis": {
            "gridcolor": "white",
            "linecolor": "white",
            "ticks": ""
           },
           "bgcolor": "#E5ECF6",
           "caxis": {
            "gridcolor": "white",
            "linecolor": "white",
            "ticks": ""
           }
          },
          "title": {
           "x": 0.05
          },
          "xaxis": {
           "automargin": true,
           "gridcolor": "white",
           "linecolor": "white",
           "ticks": "",
           "title": {
            "standoff": 15
           },
           "zerolinecolor": "white",
           "zerolinewidth": 2
          },
          "yaxis": {
           "automargin": true,
           "gridcolor": "white",
           "linecolor": "white",
           "ticks": "",
           "title": {
            "standoff": 15
           },
           "zerolinecolor": "white",
           "zerolinewidth": 2
          }
         }
        },
        "title": {
         "text": "Total"
        },
        "xaxis": {
         "anchor": "y",
         "domain": [
          0,
          1
         ],
         "showgrid": false,
         "showticklabels": true,
         "title": {
          "text": "REG_YYMM"
         },
         "zeroline": false
        },
        "yaxis": {
         "anchor": "x",
         "domain": [
          0,
          1
         ],
         "gridcolor": "white",
         "title": {
          "text": "AMT"
         },
         "zeroline": false
        }
       }
      },
      "text/html": [
       "<div>\n",
       "        \n",
       "        \n",
       "            <div id=\"35b9a9d8-a3c5-41ac-abd1-1845b0d5fa61\" class=\"plotly-graph-div\" style=\"height:525px; width:100%;\"></div>\n",
       "            <script type=\"text/javascript\">\n",
       "                require([\"plotly\"], function(Plotly) {\n",
       "                    window.PLOTLYENV=window.PLOTLYENV || {};\n",
       "                    \n",
       "                if (document.getElementById(\"35b9a9d8-a3c5-41ac-abd1-1845b0d5fa61\")) {\n",
       "                    Plotly.newPlot(\n",
       "                        '35b9a9d8-a3c5-41ac-abd1-1845b0d5fa61',\n",
       "                        [{\"hovertemplate\": \"REG_YYMM=%{x}<br>AMT=%{y}<extra></extra>\", \"legendgroup\": \"\", \"line\": {\"color\": \"#636efa\", \"dash\": \"solid\"}, \"mode\": \"lines\", \"name\": \"\", \"orientation\": \"v\", \"showlegend\": false, \"type\": \"scatter\", \"x\": [\"2019-01-31T00:00:00\", \"2019-02-28T00:00:00\", \"2019-03-31T00:00:00\", \"2019-04-30T00:00:00\", \"2019-05-31T00:00:00\", \"2019-06-30T00:00:00\", \"2019-07-31T00:00:00\", \"2019-08-31T00:00:00\", \"2019-09-30T00:00:00\", \"2019-10-31T00:00:00\", \"2019-11-30T00:00:00\", \"2019-12-31T00:00:00\", \"2020-01-31T00:00:00\", \"2020-02-29T00:00:00\", \"2020-03-31T00:00:00\", \"2020-04-30T00:00:00\"], \"xaxis\": \"x\", \"y\": [4052317259025, 3634345832156, 4105409759731, 4006698507386, 4345471235813, 4122105394194, 4187299694709, 4268655968810, 4123348058794, 4176583723584, 4047721898575, 4292549731776, 4124940612820, 3370694945536, 3437884426097, 3542539370072], \"yaxis\": \"y\"}, {\"line\": {\"color\": \"#A56CC1\", \"width\": 3}, \"mode\": \"lines+markers\", \"name\": \"\\ucd1d \\uc0ac\\uc6a9 \\uae08\\uc561\", \"opacity\": 0.5, \"type\": \"scatter\", \"x\": [\"2019-01-31T00:00:00\", \"2019-02-28T00:00:00\", \"2019-03-31T00:00:00\", \"2019-04-30T00:00:00\", \"2019-05-31T00:00:00\", \"2019-06-30T00:00:00\", \"2019-07-31T00:00:00\", \"2019-08-31T00:00:00\", \"2019-09-30T00:00:00\", \"2019-10-31T00:00:00\", \"2019-11-30T00:00:00\", \"2019-12-31T00:00:00\", \"2020-01-31T00:00:00\", \"2020-02-29T00:00:00\", \"2020-03-31T00:00:00\", \"2020-04-30T00:00:00\"], \"y\": [4052317259025, 3634345832156, 4105409759731, 4006698507386, 4345471235813, 4122105394194, 4187299694709, 4268655968810, 4123348058794, 4176583723584, 4047721898575, 4292549731776, 4124940612820, 3370694945536, 3437884426097, 3542539370072]}, {\"line\": {\"color\": \"royalblue\", \"width\": 3}, \"mode\": \"lines+markers\", \"name\": \"\\uc9c0\\uc5ed \\uc678\\ubd80 \\uc0ac\\uc6a9 \\uae08\\uc561\", \"opacity\": 0.5, \"type\": \"scatter\", \"x\": [\"2019-01-31T00:00:00\", \"2019-02-28T00:00:00\", \"2019-03-31T00:00:00\", \"2019-04-30T00:00:00\", \"2019-05-31T00:00:00\", \"2019-06-30T00:00:00\", \"2019-07-31T00:00:00\", \"2019-08-31T00:00:00\", \"2019-09-30T00:00:00\", \"2019-10-31T00:00:00\", \"2019-11-30T00:00:00\", \"2019-12-31T00:00:00\", \"2020-01-31T00:00:00\", \"2020-02-29T00:00:00\", \"2020-03-31T00:00:00\", \"2020-04-30T00:00:00\"], \"y\": [743632125567, 669440676426, 773106619202, 761180103829, 837492670221, 790594666994, 808337705992, 868723718743, 776406621694, 819529934996, 767938922460, 803918643043, 757130411989, 544156734450, 524570137233, 563151069177]}, {\"line\": {\"color\": \"firebrick\", \"width\": 3}, \"mode\": \"lines+markers\", \"name\": \"\\uc9c0\\uc5ed \\ub0b4\\ubd80 \\uc0ac\\uc6a9 \\uae08\\uc561\", \"opacity\": 0.5, \"type\": \"scatter\", \"x\": [\"2019-01-31T00:00:00\", \"2019-02-28T00:00:00\", \"2019-03-31T00:00:00\", \"2019-04-30T00:00:00\", \"2019-05-31T00:00:00\", \"2019-06-30T00:00:00\", \"2019-07-31T00:00:00\", \"2019-08-31T00:00:00\", \"2019-09-30T00:00:00\", \"2019-10-31T00:00:00\", \"2019-11-30T00:00:00\", \"2019-12-31T00:00:00\", \"2020-01-31T00:00:00\", \"2020-02-29T00:00:00\", \"2020-03-31T00:00:00\", \"2020-04-30T00:00:00\"], \"y\": [3308685133458, 2964905155730, 3332303140529, 3245518403557, 3507978565592, 3331510727200, 3378961988717, 3399932250067, 3346941437100, 3357053788588, 3279782976115, 3488631088733, 3367810200831, 2826538211086, 2913314288864, 2979388300895]}],\n",
       "                        {\"legend\": {\"tracegroupgap\": 0}, \"paper_bgcolor\": \"rgb(243, 243, 243)\", \"plot_bgcolor\": \"rgb(243, 243, 243)\", \"template\": {\"data\": {\"bar\": [{\"error_x\": {\"color\": \"#2a3f5f\"}, \"error_y\": {\"color\": \"#2a3f5f\"}, \"marker\": {\"line\": {\"color\": \"#E5ECF6\", \"width\": 0.5}}, \"type\": \"bar\"}], \"barpolar\": [{\"marker\": {\"line\": {\"color\": \"#E5ECF6\", \"width\": 0.5}}, \"type\": \"barpolar\"}], \"carpet\": [{\"aaxis\": {\"endlinecolor\": \"#2a3f5f\", \"gridcolor\": \"white\", \"linecolor\": \"white\", \"minorgridcolor\": \"white\", \"startlinecolor\": \"#2a3f5f\"}, \"baxis\": {\"endlinecolor\": \"#2a3f5f\", \"gridcolor\": \"white\", \"linecolor\": \"white\", \"minorgridcolor\": \"white\", \"startlinecolor\": \"#2a3f5f\"}, \"type\": \"carpet\"}], \"choropleth\": [{\"colorbar\": {\"outlinewidth\": 0, \"ticks\": \"\"}, \"type\": \"choropleth\"}], \"contour\": [{\"colorbar\": {\"outlinewidth\": 0, \"ticks\": \"\"}, \"colorscale\": [[0.0, \"#0d0887\"], [0.1111111111111111, \"#46039f\"], [0.2222222222222222, \"#7201a8\"], [0.3333333333333333, \"#9c179e\"], [0.4444444444444444, \"#bd3786\"], [0.5555555555555556, \"#d8576b\"], [0.6666666666666666, \"#ed7953\"], [0.7777777777777778, \"#fb9f3a\"], [0.8888888888888888, \"#fdca26\"], [1.0, \"#f0f921\"]], \"type\": \"contour\"}], \"contourcarpet\": [{\"colorbar\": {\"outlinewidth\": 0, \"ticks\": \"\"}, \"type\": \"contourcarpet\"}], \"heatmap\": [{\"colorbar\": {\"outlinewidth\": 0, \"ticks\": \"\"}, \"colorscale\": [[0.0, \"#0d0887\"], [0.1111111111111111, \"#46039f\"], [0.2222222222222222, \"#7201a8\"], [0.3333333333333333, \"#9c179e\"], [0.4444444444444444, \"#bd3786\"], [0.5555555555555556, \"#d8576b\"], [0.6666666666666666, \"#ed7953\"], [0.7777777777777778, \"#fb9f3a\"], [0.8888888888888888, \"#fdca26\"], [1.0, \"#f0f921\"]], \"type\": \"heatmap\"}], \"heatmapgl\": [{\"colorbar\": {\"outlinewidth\": 0, \"ticks\": \"\"}, \"colorscale\": [[0.0, \"#0d0887\"], [0.1111111111111111, \"#46039f\"], [0.2222222222222222, \"#7201a8\"], [0.3333333333333333, \"#9c179e\"], [0.4444444444444444, \"#bd3786\"], [0.5555555555555556, \"#d8576b\"], [0.6666666666666666, \"#ed7953\"], [0.7777777777777778, \"#fb9f3a\"], [0.8888888888888888, \"#fdca26\"], [1.0, \"#f0f921\"]], \"type\": \"heatmapgl\"}], \"histogram\": [{\"marker\": {\"colorbar\": {\"outlinewidth\": 0, \"ticks\": \"\"}}, \"type\": \"histogram\"}], \"histogram2d\": [{\"colorbar\": {\"outlinewidth\": 0, \"ticks\": \"\"}, \"colorscale\": [[0.0, \"#0d0887\"], [0.1111111111111111, \"#46039f\"], [0.2222222222222222, \"#7201a8\"], [0.3333333333333333, \"#9c179e\"], [0.4444444444444444, \"#bd3786\"], [0.5555555555555556, \"#d8576b\"], [0.6666666666666666, \"#ed7953\"], [0.7777777777777778, \"#fb9f3a\"], [0.8888888888888888, \"#fdca26\"], [1.0, \"#f0f921\"]], \"type\": \"histogram2d\"}], \"histogram2dcontour\": [{\"colorbar\": {\"outlinewidth\": 0, \"ticks\": \"\"}, \"colorscale\": [[0.0, \"#0d0887\"], [0.1111111111111111, \"#46039f\"], [0.2222222222222222, \"#7201a8\"], [0.3333333333333333, \"#9c179e\"], [0.4444444444444444, \"#bd3786\"], [0.5555555555555556, \"#d8576b\"], [0.6666666666666666, \"#ed7953\"], [0.7777777777777778, \"#fb9f3a\"], [0.8888888888888888, \"#fdca26\"], [1.0, \"#f0f921\"]], \"type\": \"histogram2dcontour\"}], \"mesh3d\": [{\"colorbar\": {\"outlinewidth\": 0, \"ticks\": \"\"}, \"type\": \"mesh3d\"}], \"parcoords\": [{\"line\": {\"colorbar\": {\"outlinewidth\": 0, \"ticks\": \"\"}}, \"type\": \"parcoords\"}], \"pie\": [{\"automargin\": true, \"type\": \"pie\"}], \"scatter\": [{\"marker\": {\"colorbar\": {\"outlinewidth\": 0, \"ticks\": \"\"}}, \"type\": \"scatter\"}], \"scatter3d\": [{\"line\": {\"colorbar\": {\"outlinewidth\": 0, \"ticks\": \"\"}}, \"marker\": {\"colorbar\": {\"outlinewidth\": 0, \"ticks\": \"\"}}, \"type\": \"scatter3d\"}], \"scattercarpet\": [{\"marker\": {\"colorbar\": {\"outlinewidth\": 0, \"ticks\": \"\"}}, \"type\": \"scattercarpet\"}], \"scattergeo\": [{\"marker\": {\"colorbar\": {\"outlinewidth\": 0, \"ticks\": \"\"}}, \"type\": \"scattergeo\"}], \"scattergl\": [{\"marker\": {\"colorbar\": {\"outlinewidth\": 0, \"ticks\": \"\"}}, \"type\": \"scattergl\"}], \"scattermapbox\": [{\"marker\": {\"colorbar\": {\"outlinewidth\": 0, \"ticks\": \"\"}}, \"type\": \"scattermapbox\"}], \"scatterpolar\": [{\"marker\": {\"colorbar\": {\"outlinewidth\": 0, \"ticks\": \"\"}}, \"type\": \"scatterpolar\"}], \"scatterpolargl\": [{\"marker\": {\"colorbar\": {\"outlinewidth\": 0, \"ticks\": \"\"}}, \"type\": \"scatterpolargl\"}], \"scatterternary\": [{\"marker\": {\"colorbar\": {\"outlinewidth\": 0, \"ticks\": \"\"}}, \"type\": \"scatterternary\"}], \"surface\": [{\"colorbar\": {\"outlinewidth\": 0, \"ticks\": \"\"}, \"colorscale\": [[0.0, \"#0d0887\"], [0.1111111111111111, \"#46039f\"], [0.2222222222222222, \"#7201a8\"], [0.3333333333333333, \"#9c179e\"], [0.4444444444444444, \"#bd3786\"], [0.5555555555555556, \"#d8576b\"], [0.6666666666666666, \"#ed7953\"], [0.7777777777777778, \"#fb9f3a\"], [0.8888888888888888, \"#fdca26\"], [1.0, \"#f0f921\"]], \"type\": \"surface\"}], \"table\": [{\"cells\": {\"fill\": {\"color\": \"#EBF0F8\"}, \"line\": {\"color\": \"white\"}}, \"header\": {\"fill\": {\"color\": \"#C8D4E3\"}, \"line\": {\"color\": \"white\"}}, \"type\": \"table\"}]}, \"layout\": {\"annotationdefaults\": {\"arrowcolor\": \"#2a3f5f\", \"arrowhead\": 0, \"arrowwidth\": 1}, \"coloraxis\": {\"colorbar\": {\"outlinewidth\": 0, \"ticks\": \"\"}}, \"colorscale\": {\"diverging\": [[0, \"#8e0152\"], [0.1, \"#c51b7d\"], [0.2, \"#de77ae\"], [0.3, \"#f1b6da\"], [0.4, \"#fde0ef\"], [0.5, \"#f7f7f7\"], [0.6, \"#e6f5d0\"], [0.7, \"#b8e186\"], [0.8, \"#7fbc41\"], [0.9, \"#4d9221\"], [1, \"#276419\"]], \"sequential\": [[0.0, \"#0d0887\"], [0.1111111111111111, \"#46039f\"], [0.2222222222222222, \"#7201a8\"], [0.3333333333333333, \"#9c179e\"], [0.4444444444444444, \"#bd3786\"], [0.5555555555555556, \"#d8576b\"], [0.6666666666666666, \"#ed7953\"], [0.7777777777777778, \"#fb9f3a\"], [0.8888888888888888, \"#fdca26\"], [1.0, \"#f0f921\"]], \"sequentialminus\": [[0.0, \"#0d0887\"], [0.1111111111111111, \"#46039f\"], [0.2222222222222222, \"#7201a8\"], [0.3333333333333333, \"#9c179e\"], [0.4444444444444444, \"#bd3786\"], [0.5555555555555556, \"#d8576b\"], [0.6666666666666666, \"#ed7953\"], [0.7777777777777778, \"#fb9f3a\"], [0.8888888888888888, \"#fdca26\"], [1.0, \"#f0f921\"]]}, \"colorway\": [\"#636efa\", \"#EF553B\", \"#00cc96\", \"#ab63fa\", \"#FFA15A\", \"#19d3f3\", \"#FF6692\", \"#B6E880\", \"#FF97FF\", \"#FECB52\"], \"font\": {\"color\": \"#2a3f5f\"}, \"geo\": {\"bgcolor\": \"white\", \"lakecolor\": \"white\", \"landcolor\": \"#E5ECF6\", \"showlakes\": true, \"showland\": true, \"subunitcolor\": \"white\"}, \"hoverlabel\": {\"align\": \"left\"}, \"hovermode\": \"closest\", \"mapbox\": {\"style\": \"light\"}, \"paper_bgcolor\": \"white\", \"plot_bgcolor\": \"#E5ECF6\", \"polar\": {\"angularaxis\": {\"gridcolor\": \"white\", \"linecolor\": \"white\", \"ticks\": \"\"}, \"bgcolor\": \"#E5ECF6\", \"radialaxis\": {\"gridcolor\": \"white\", \"linecolor\": \"white\", \"ticks\": \"\"}}, \"scene\": {\"xaxis\": {\"backgroundcolor\": \"#E5ECF6\", \"gridcolor\": \"white\", \"gridwidth\": 2, \"linecolor\": \"white\", \"showbackground\": true, \"ticks\": \"\", \"zerolinecolor\": \"white\"}, \"yaxis\": {\"backgroundcolor\": \"#E5ECF6\", \"gridcolor\": \"white\", \"gridwidth\": 2, \"linecolor\": \"white\", \"showbackground\": true, \"ticks\": \"\", \"zerolinecolor\": \"white\"}, \"zaxis\": {\"backgroundcolor\": \"#E5ECF6\", \"gridcolor\": \"white\", \"gridwidth\": 2, \"linecolor\": \"white\", \"showbackground\": true, \"ticks\": \"\", \"zerolinecolor\": \"white\"}}, \"shapedefaults\": {\"line\": {\"color\": \"#2a3f5f\"}}, \"ternary\": {\"aaxis\": {\"gridcolor\": \"white\", \"linecolor\": \"white\", \"ticks\": \"\"}, \"baxis\": {\"gridcolor\": \"white\", \"linecolor\": \"white\", \"ticks\": \"\"}, \"bgcolor\": \"#E5ECF6\", \"caxis\": {\"gridcolor\": \"white\", \"linecolor\": \"white\", \"ticks\": \"\"}}, \"title\": {\"x\": 0.05}, \"xaxis\": {\"automargin\": true, \"gridcolor\": \"white\", \"linecolor\": \"white\", \"ticks\": \"\", \"title\": {\"standoff\": 15}, \"zerolinecolor\": \"white\", \"zerolinewidth\": 2}, \"yaxis\": {\"automargin\": true, \"gridcolor\": \"white\", \"linecolor\": \"white\", \"ticks\": \"\", \"title\": {\"standoff\": 15}, \"zerolinecolor\": \"white\", \"zerolinewidth\": 2}}}, \"title\": {\"text\": \"Total\"}, \"xaxis\": {\"anchor\": \"y\", \"domain\": [0.0, 1.0], \"showgrid\": false, \"showticklabels\": true, \"title\": {\"text\": \"REG_YYMM\"}, \"zeroline\": false}, \"yaxis\": {\"anchor\": \"x\", \"domain\": [0.0, 1.0], \"gridcolor\": \"white\", \"title\": {\"text\": \"AMT\"}, \"zeroline\": false}},\n",
       "                        {\"responsive\": true}\n",
       "                    ).then(function(){\n",
       "                            \n",
       "var gd = document.getElementById('35b9a9d8-a3c5-41ac-abd1-1845b0d5fa61');\n",
       "var x = new MutationObserver(function (mutations, observer) {{\n",
       "        var display = window.getComputedStyle(gd).display;\n",
       "        if (!display || display === 'none') {{\n",
       "            console.log([gd, 'removed!']);\n",
       "            Plotly.purge(gd);\n",
       "            observer.disconnect();\n",
       "        }}\n",
       "}});\n",
       "\n",
       "// Listen for the removal of the full notebook cells\n",
       "var notebookContainer = gd.closest('#notebook-container');\n",
       "if (notebookContainer) {{\n",
       "    x.observe(notebookContainer, {childList: true});\n",
       "}}\n",
       "\n",
       "// Listen for the clearing of the current output cell\n",
       "var outputEl = gd.closest('.output');\n",
       "if (outputEl) {{\n",
       "    x.observe(outputEl, {childList: true});\n",
       "}}\n",
       "\n",
       "                        })\n",
       "                };\n",
       "                });\n",
       "            </script>\n",
       "        </div>"
      ]
     },
     "metadata": {},
     "output_type": "display_data"
    }
   ],
   "source": [
    "#df4['REG_YYMM'] = df4['REG_YYMM'].apply(lambda x : datetime.datetime(int(x[:4]),int(x[4:]),1))\n",
    "df = df4\n",
    "colors = ['#A56CC1', '#A6ACEC', '#63F5EF']\n",
    "fig = px.line(df, x=\"REG_YYMM\", y=\"AMT\", title='Post Corona Card Data')\n",
    "\n",
    "colors = colors[0]*len(df)\n",
    "\n",
    "fig.add_trace(go.Scatter(x=df[\"REG_YYMM\"], y=df[\"AMT\"],\n",
    "                    mode='lines+markers',opacity=0.5,\n",
    "                    name='총 사용 금액',line=dict(color='#A56CC1', width=3)))\n",
    "fig.add_trace(go.Scatter(x=df6[\"REG_YYMM\"], y=df6[\"AMT\"],\n",
    "                    mode='lines+markers',opacity=0.5,\n",
    "                   name='지역 외부 사용 금액',line=dict(color='royalblue', width=3))) #\n",
    "fig.add_trace(go.Scatter(x=df5[\"REG_YYMM\"], y=df5[\"AMT\"],opacity=0.5,\n",
    "                    mode='lines+markers', name='지역 내부 사용 금액',line=dict(color='firebrick', width=3)))\n",
    "\n",
    "\n",
    "fig.update_layout(title_text='Post corona Card Data',yaxis=dict(zeroline=False, gridcolor='rgb(200, 200, 200)'))\n",
    "fig.update_layout(title_text=\"Total\", paper_bgcolor='rgb(243, 243, 243)',\n",
    "    plot_bgcolor='rgb(243, 243, 243)', xaxis=dict(showgrid=False, zeroline=False, showticklabels=True),\n",
    "    yaxis=dict(zeroline=False, gridcolor='white'))\n",
    "\n",
    "fig.show()"
   ]
  },
  {
   "cell_type": "markdown",
   "metadata": {},
   "source": [
    "### 시각화 2 전국 카드 이용 금액과 월의 상관 관계"
   ]
  },
  {
   "cell_type": "markdown",
   "metadata": {},
   "source": [
    "### 시각화 3 전국 카드 이용 금액과 일수의 상관 관계"
   ]
  },
  {
   "cell_type": "markdown",
   "metadata": {},
   "source": [
    "##  &nbsp;&nbsp;&nbsp;&nbsp;&nbsp;&nbsp; &nbsp;&nbsp;&nbsp;&nbsp;&nbsp;&nbsp; &nbsp;&nbsp;&nbsp;&nbsp;2. 코로나 이전(2019.02-04) 이후(2020.02-04) 업종별 카드 이용금액 비교\n",
    "  &nbsp;&nbsp;&nbsp;&nbsp;&nbsp;&nbsp;\n",
    "  \n",
    "  \n",
    "  \n",
    "  \n",
    "  \n",
    "  \n",
    "  \n",
    "  \n",
    "  \n",
    "  \n",
    "  \n",
    "   &nbsp;&nbsp;&nbsp;&nbsp;&nbsp;&nbsp;\n",
    "###  업종별 카드 사용량 비교  \n",
    "\n",
    "\n"
   ]
  },
  {
   "cell_type": "code",
   "execution_count": 6,
   "metadata": {},
   "outputs": [],
   "source": [
    "import matplotlib\n",
    "matplotlib.rcParams['font.family']='Malgun Gothic'"
   ]
  },
  {
   "cell_type": "markdown",
   "metadata": {},
   "source": [
    "### 전처리 1 업종별 카드 사용량 계산"
   ]
  },
  {
   "cell_type": "code",
   "execution_count": 7,
   "metadata": {},
   "outputs": [],
   "source": [
    "df201903=df3[df3['REG_YYMM'].isin([201902,201903,201904])]\n",
    "df202003=df3[df3['REG_YYMM'].isin([202002,202003,202004])]\n",
    "df1903=df201903.groupby('STD_CLSS_NM').sum()\n",
    "df202003 = df202003.groupby('STD_CLSS_NM').sum()"
   ]
  },
  {
   "cell_type": "markdown",
   "metadata": {},
   "source": [
    "### 시각화1 포스트 코로나 이전 이후  업종별 카드량 비교 Bar Chart"
   ]
  },
  {
   "cell_type": "code",
   "execution_count": 8,
   "metadata": {},
   "outputs": [
    {
     "data": {
      "application/vnd.plotly.v1+json": {
       "config": {
        "plotlyServerURL": "https://plot.ly"
       },
       "data": [
        {
         "marker": {
          "color": [
           "lightsteelblue",
           "lightsteelblue",
           "lightsteelblue",
           "lightsteelblue",
           "lightsteelblue",
           "lightsteelblue",
           "lightsteelblue",
           "lightsteelblue",
           "lightsteelblue",
           "lightsteelblue",
           "lightsteelblue",
           "lightsteelblue",
           "lightsteelblue",
           "lightsteelblue",
           "lightsteelblue",
           "lightsteelblue",
           "lightsteelblue",
           "lightsteelblue",
           "lightsteelblue",
           "lightsteelblue",
           "lightsteelblue",
           "lightsteelblue",
           "lightsteelblue",
           "lightsteelblue",
           "lightsteelblue",
           "lightsteelblue",
           "lightsteelblue",
           "lightsteelblue",
           "lightsteelblue",
           "lightsteelblue",
           "lightsteelblue",
           "lightsteelblue",
           "lightsteelblue",
           "lightsteelblue",
           "lightsteelblue",
           "lightsteelblue",
           "lightsteelblue",
           "lightsteelblue",
           "lightsteelblue",
           "lightsteelblue",
           "lightsteelblue"
          ]
         },
         "name": "평균",
         "opacity": 0.5,
         "type": "bar",
         "x": [
          "건강보조식품 소매업",
          "골프장 운영업",
          "과실 및 채소 소매업",
          "관광 민예품 및 선물용품 소매업",
          "그외 기타 분류안된 오락관련 서비스업",
          "그외 기타 스포츠시설 운영업",
          "그외 기타 종합 소매업",
          "기타 대형 종합 소매업",
          "기타 수상오락 서비스업",
          "기타 외국식 음식점업",
          "기타 주점업",
          "기타음식료품위주종합소매업",
          "내항 여객 운송업",
          "마사지업",
          "면세점",
          "버스 운송업",
          "비알콜 음료점업",
          "빵 및 과자류 소매업",
          "서양식 음식점업",
          "수산물 소매업",
          "슈퍼마켓",
          "스포츠 및 레크레이션 용품 임대업",
          "여관업",
          "여행사업",
          "욕탕업",
          "육류 소매업",
          "일반유흥 주점업",
          "일식 음식점업",
          "자동차 임대업",
          "전시 및 행사 대행업",
          "정기 항공 운송업",
          "중식 음식점업",
          "차량용 가스 충전업",
          "차량용 주유소 운영업",
          "체인화 편의점",
          "택시 운송업",
          "피자 햄버거 샌드위치 및 유사 음식점업",
          "한식 음식점업",
          "호텔업",
          "화장품 및 방향제 소매업",
          "휴양콘도 운영업"
         ],
         "y": [
          0.7477249606803709,
          0.7477249606803709,
          0.7477249606803709,
          0.532726575282979,
          0.6157194896842381,
          0.3124013913156864,
          0.7477249606803709,
          0.7477249606803709,
          0.6917080798431477,
          0.7477249606803709,
          0.7477249606803709,
          0.7477249606803709,
          0.47500952987578793,
          0.6887288216380311,
          0.22308309051130248,
          0.4359526065562932,
          0.7477249606803709,
          0.7477249606803709,
          0.7477249606803709,
          0.7477249606803709,
          0.7477249606803709,
          0.7008160190218619,
          0.6806327856188554,
          0.07094864686963459,
          0.5375155159612766,
          0.7477249606803709,
          0.6893753137870056,
          0.7477249606803709,
          0.7477249606803709,
          0.32457835145214986,
          0.13236139243811554,
          0.7477249606803709,
          0.7477249606803709,
          0.7477249606803709,
          0.7477249606803709,
          0.7477249606803709,
          0.7477249606803709,
          0.7477249606803709,
          0.48872542367475436,
          0.713912650055343,
          0.44781162938181923
         ]
        },
        {
         "marker": {
          "color": [
           "mediumseagreen",
           "mediumseagreen",
           "mediumseagreen",
           "mediumseagreen",
           "mediumseagreen",
           "mediumseagreen",
           "mediumseagreen",
           "mediumseagreen",
           "mediumseagreen",
           "mediumseagreen",
           "mediumseagreen",
           "mediumseagreen",
           "mediumseagreen",
           "mediumseagreen",
           "mediumseagreen",
           "mediumseagreen",
           "mediumseagreen",
           "mediumseagreen",
           "mediumseagreen",
           "mediumseagreen",
           "mediumseagreen",
           "mediumseagreen",
           "mediumseagreen",
           "mediumseagreen",
           "mediumseagreen",
           "mediumseagreen",
           "mediumseagreen",
           "mediumseagreen",
           "mediumseagreen",
           "mediumseagreen",
           "mediumseagreen",
           "mediumseagreen",
           "mediumseagreen",
           "mediumseagreen",
           "mediumseagreen",
           "mediumseagreen",
           "mediumseagreen",
           "mediumseagreen",
           "mediumseagreen",
           "mediumseagreen",
           "mediumseagreen"
          ]
         },
         "name": "평균 이상",
         "opacity": 0.4,
         "type": "bar",
         "x": [
          "건강보조식품 소매업",
          "골프장 운영업",
          "과실 및 채소 소매업",
          "관광 민예품 및 선물용품 소매업",
          "그외 기타 분류안된 오락관련 서비스업",
          "그외 기타 스포츠시설 운영업",
          "그외 기타 종합 소매업",
          "기타 대형 종합 소매업",
          "기타 수상오락 서비스업",
          "기타 외국식 음식점업",
          "기타 주점업",
          "기타음식료품위주종합소매업",
          "내항 여객 운송업",
          "마사지업",
          "면세점",
          "버스 운송업",
          "비알콜 음료점업",
          "빵 및 과자류 소매업",
          "서양식 음식점업",
          "수산물 소매업",
          "슈퍼마켓",
          "스포츠 및 레크레이션 용품 임대업",
          "여관업",
          "여행사업",
          "욕탕업",
          "육류 소매업",
          "일반유흥 주점업",
          "일식 음식점업",
          "자동차 임대업",
          "전시 및 행사 대행업",
          "정기 항공 운송업",
          "중식 음식점업",
          "차량용 가스 충전업",
          "차량용 주유소 운영업",
          "체인화 편의점",
          "택시 운송업",
          "피자 햄버거 샌드위치 및 유사 음식점업",
          "한식 음식점업",
          "호텔업",
          "화장품 및 방향제 소매업",
          "휴양콘도 운영업"
         ],
         "y": [
          0.09055759323774892,
          0.2802187488026917,
          0.3064231005887106,
          0,
          0,
          0,
          0.3382962538226555,
          0.06345116809984452,
          0,
          0.00574336449947499,
          0.008302233012329574,
          0.38035964231687514,
          0,
          0,
          0,
          0,
          0.13701977848815128,
          0.18122760752896883,
          0.09434226965917625,
          0.28047702057514123,
          0.41296963320017355,
          0,
          0,
          0,
          0,
          0.38625824074448034,
          0,
          0.008109889807259574,
          0.7150965969293261,
          0,
          0,
          0.09845179788165648,
          0.1916754995665072,
          0.18308479653387777,
          0.2850438784202365,
          0.06185800814544529,
          0.1479121122134276,
          0.040162745204239125,
          0,
          0,
          0
         ]
        }
       ],
       "layout": {
        "barmode": "stack",
        "paper_bgcolor": "rgb(243, 243, 243)",
        "plot_bgcolor": "rgb(243, 243, 243)",
        "template": {
         "data": {
          "bar": [
           {
            "error_x": {
             "color": "#2a3f5f"
            },
            "error_y": {
             "color": "#2a3f5f"
            },
            "marker": {
             "line": {
              "color": "#E5ECF6",
              "width": 0.5
             }
            },
            "type": "bar"
           }
          ],
          "barpolar": [
           {
            "marker": {
             "line": {
              "color": "#E5ECF6",
              "width": 0.5
             }
            },
            "type": "barpolar"
           }
          ],
          "carpet": [
           {
            "aaxis": {
             "endlinecolor": "#2a3f5f",
             "gridcolor": "white",
             "linecolor": "white",
             "minorgridcolor": "white",
             "startlinecolor": "#2a3f5f"
            },
            "baxis": {
             "endlinecolor": "#2a3f5f",
             "gridcolor": "white",
             "linecolor": "white",
             "minorgridcolor": "white",
             "startlinecolor": "#2a3f5f"
            },
            "type": "carpet"
           }
          ],
          "choropleth": [
           {
            "colorbar": {
             "outlinewidth": 0,
             "ticks": ""
            },
            "type": "choropleth"
           }
          ],
          "contour": [
           {
            "colorbar": {
             "outlinewidth": 0,
             "ticks": ""
            },
            "colorscale": [
             [
              0,
              "#0d0887"
             ],
             [
              0.1111111111111111,
              "#46039f"
             ],
             [
              0.2222222222222222,
              "#7201a8"
             ],
             [
              0.3333333333333333,
              "#9c179e"
             ],
             [
              0.4444444444444444,
              "#bd3786"
             ],
             [
              0.5555555555555556,
              "#d8576b"
             ],
             [
              0.6666666666666666,
              "#ed7953"
             ],
             [
              0.7777777777777778,
              "#fb9f3a"
             ],
             [
              0.8888888888888888,
              "#fdca26"
             ],
             [
              1,
              "#f0f921"
             ]
            ],
            "type": "contour"
           }
          ],
          "contourcarpet": [
           {
            "colorbar": {
             "outlinewidth": 0,
             "ticks": ""
            },
            "type": "contourcarpet"
           }
          ],
          "heatmap": [
           {
            "colorbar": {
             "outlinewidth": 0,
             "ticks": ""
            },
            "colorscale": [
             [
              0,
              "#0d0887"
             ],
             [
              0.1111111111111111,
              "#46039f"
             ],
             [
              0.2222222222222222,
              "#7201a8"
             ],
             [
              0.3333333333333333,
              "#9c179e"
             ],
             [
              0.4444444444444444,
              "#bd3786"
             ],
             [
              0.5555555555555556,
              "#d8576b"
             ],
             [
              0.6666666666666666,
              "#ed7953"
             ],
             [
              0.7777777777777778,
              "#fb9f3a"
             ],
             [
              0.8888888888888888,
              "#fdca26"
             ],
             [
              1,
              "#f0f921"
             ]
            ],
            "type": "heatmap"
           }
          ],
          "heatmapgl": [
           {
            "colorbar": {
             "outlinewidth": 0,
             "ticks": ""
            },
            "colorscale": [
             [
              0,
              "#0d0887"
             ],
             [
              0.1111111111111111,
              "#46039f"
             ],
             [
              0.2222222222222222,
              "#7201a8"
             ],
             [
              0.3333333333333333,
              "#9c179e"
             ],
             [
              0.4444444444444444,
              "#bd3786"
             ],
             [
              0.5555555555555556,
              "#d8576b"
             ],
             [
              0.6666666666666666,
              "#ed7953"
             ],
             [
              0.7777777777777778,
              "#fb9f3a"
             ],
             [
              0.8888888888888888,
              "#fdca26"
             ],
             [
              1,
              "#f0f921"
             ]
            ],
            "type": "heatmapgl"
           }
          ],
          "histogram": [
           {
            "marker": {
             "colorbar": {
              "outlinewidth": 0,
              "ticks": ""
             }
            },
            "type": "histogram"
           }
          ],
          "histogram2d": [
           {
            "colorbar": {
             "outlinewidth": 0,
             "ticks": ""
            },
            "colorscale": [
             [
              0,
              "#0d0887"
             ],
             [
              0.1111111111111111,
              "#46039f"
             ],
             [
              0.2222222222222222,
              "#7201a8"
             ],
             [
              0.3333333333333333,
              "#9c179e"
             ],
             [
              0.4444444444444444,
              "#bd3786"
             ],
             [
              0.5555555555555556,
              "#d8576b"
             ],
             [
              0.6666666666666666,
              "#ed7953"
             ],
             [
              0.7777777777777778,
              "#fb9f3a"
             ],
             [
              0.8888888888888888,
              "#fdca26"
             ],
             [
              1,
              "#f0f921"
             ]
            ],
            "type": "histogram2d"
           }
          ],
          "histogram2dcontour": [
           {
            "colorbar": {
             "outlinewidth": 0,
             "ticks": ""
            },
            "colorscale": [
             [
              0,
              "#0d0887"
             ],
             [
              0.1111111111111111,
              "#46039f"
             ],
             [
              0.2222222222222222,
              "#7201a8"
             ],
             [
              0.3333333333333333,
              "#9c179e"
             ],
             [
              0.4444444444444444,
              "#bd3786"
             ],
             [
              0.5555555555555556,
              "#d8576b"
             ],
             [
              0.6666666666666666,
              "#ed7953"
             ],
             [
              0.7777777777777778,
              "#fb9f3a"
             ],
             [
              0.8888888888888888,
              "#fdca26"
             ],
             [
              1,
              "#f0f921"
             ]
            ],
            "type": "histogram2dcontour"
           }
          ],
          "mesh3d": [
           {
            "colorbar": {
             "outlinewidth": 0,
             "ticks": ""
            },
            "type": "mesh3d"
           }
          ],
          "parcoords": [
           {
            "line": {
             "colorbar": {
              "outlinewidth": 0,
              "ticks": ""
             }
            },
            "type": "parcoords"
           }
          ],
          "pie": [
           {
            "automargin": true,
            "type": "pie"
           }
          ],
          "scatter": [
           {
            "marker": {
             "colorbar": {
              "outlinewidth": 0,
              "ticks": ""
             }
            },
            "type": "scatter"
           }
          ],
          "scatter3d": [
           {
            "line": {
             "colorbar": {
              "outlinewidth": 0,
              "ticks": ""
             }
            },
            "marker": {
             "colorbar": {
              "outlinewidth": 0,
              "ticks": ""
             }
            },
            "type": "scatter3d"
           }
          ],
          "scattercarpet": [
           {
            "marker": {
             "colorbar": {
              "outlinewidth": 0,
              "ticks": ""
             }
            },
            "type": "scattercarpet"
           }
          ],
          "scattergeo": [
           {
            "marker": {
             "colorbar": {
              "outlinewidth": 0,
              "ticks": ""
             }
            },
            "type": "scattergeo"
           }
          ],
          "scattergl": [
           {
            "marker": {
             "colorbar": {
              "outlinewidth": 0,
              "ticks": ""
             }
            },
            "type": "scattergl"
           }
          ],
          "scattermapbox": [
           {
            "marker": {
             "colorbar": {
              "outlinewidth": 0,
              "ticks": ""
             }
            },
            "type": "scattermapbox"
           }
          ],
          "scatterpolar": [
           {
            "marker": {
             "colorbar": {
              "outlinewidth": 0,
              "ticks": ""
             }
            },
            "type": "scatterpolar"
           }
          ],
          "scatterpolargl": [
           {
            "marker": {
             "colorbar": {
              "outlinewidth": 0,
              "ticks": ""
             }
            },
            "type": "scatterpolargl"
           }
          ],
          "scatterternary": [
           {
            "marker": {
             "colorbar": {
              "outlinewidth": 0,
              "ticks": ""
             }
            },
            "type": "scatterternary"
           }
          ],
          "surface": [
           {
            "colorbar": {
             "outlinewidth": 0,
             "ticks": ""
            },
            "colorscale": [
             [
              0,
              "#0d0887"
             ],
             [
              0.1111111111111111,
              "#46039f"
             ],
             [
              0.2222222222222222,
              "#7201a8"
             ],
             [
              0.3333333333333333,
              "#9c179e"
             ],
             [
              0.4444444444444444,
              "#bd3786"
             ],
             [
              0.5555555555555556,
              "#d8576b"
             ],
             [
              0.6666666666666666,
              "#ed7953"
             ],
             [
              0.7777777777777778,
              "#fb9f3a"
             ],
             [
              0.8888888888888888,
              "#fdca26"
             ],
             [
              1,
              "#f0f921"
             ]
            ],
            "type": "surface"
           }
          ],
          "table": [
           {
            "cells": {
             "fill": {
              "color": "#EBF0F8"
             },
             "line": {
              "color": "white"
             }
            },
            "header": {
             "fill": {
              "color": "#C8D4E3"
             },
             "line": {
              "color": "white"
             }
            },
            "type": "table"
           }
          ]
         },
         "layout": {
          "annotationdefaults": {
           "arrowcolor": "#2a3f5f",
           "arrowhead": 0,
           "arrowwidth": 1
          },
          "coloraxis": {
           "colorbar": {
            "outlinewidth": 0,
            "ticks": ""
           }
          },
          "colorscale": {
           "diverging": [
            [
             0,
             "#8e0152"
            ],
            [
             0.1,
             "#c51b7d"
            ],
            [
             0.2,
             "#de77ae"
            ],
            [
             0.3,
             "#f1b6da"
            ],
            [
             0.4,
             "#fde0ef"
            ],
            [
             0.5,
             "#f7f7f7"
            ],
            [
             0.6,
             "#e6f5d0"
            ],
            [
             0.7,
             "#b8e186"
            ],
            [
             0.8,
             "#7fbc41"
            ],
            [
             0.9,
             "#4d9221"
            ],
            [
             1,
             "#276419"
            ]
           ],
           "sequential": [
            [
             0,
             "#0d0887"
            ],
            [
             0.1111111111111111,
             "#46039f"
            ],
            [
             0.2222222222222222,
             "#7201a8"
            ],
            [
             0.3333333333333333,
             "#9c179e"
            ],
            [
             0.4444444444444444,
             "#bd3786"
            ],
            [
             0.5555555555555556,
             "#d8576b"
            ],
            [
             0.6666666666666666,
             "#ed7953"
            ],
            [
             0.7777777777777778,
             "#fb9f3a"
            ],
            [
             0.8888888888888888,
             "#fdca26"
            ],
            [
             1,
             "#f0f921"
            ]
           ],
           "sequentialminus": [
            [
             0,
             "#0d0887"
            ],
            [
             0.1111111111111111,
             "#46039f"
            ],
            [
             0.2222222222222222,
             "#7201a8"
            ],
            [
             0.3333333333333333,
             "#9c179e"
            ],
            [
             0.4444444444444444,
             "#bd3786"
            ],
            [
             0.5555555555555556,
             "#d8576b"
            ],
            [
             0.6666666666666666,
             "#ed7953"
            ],
            [
             0.7777777777777778,
             "#fb9f3a"
            ],
            [
             0.8888888888888888,
             "#fdca26"
            ],
            [
             1,
             "#f0f921"
            ]
           ]
          },
          "colorway": [
           "#636efa",
           "#EF553B",
           "#00cc96",
           "#ab63fa",
           "#FFA15A",
           "#19d3f3",
           "#FF6692",
           "#B6E880",
           "#FF97FF",
           "#FECB52"
          ],
          "font": {
           "color": "#2a3f5f"
          },
          "geo": {
           "bgcolor": "white",
           "lakecolor": "white",
           "landcolor": "#E5ECF6",
           "showlakes": true,
           "showland": true,
           "subunitcolor": "white"
          },
          "hoverlabel": {
           "align": "left"
          },
          "hovermode": "closest",
          "mapbox": {
           "style": "light"
          },
          "paper_bgcolor": "white",
          "plot_bgcolor": "#E5ECF6",
          "polar": {
           "angularaxis": {
            "gridcolor": "white",
            "linecolor": "white",
            "ticks": ""
           },
           "bgcolor": "#E5ECF6",
           "radialaxis": {
            "gridcolor": "white",
            "linecolor": "white",
            "ticks": ""
           }
          },
          "scene": {
           "xaxis": {
            "backgroundcolor": "#E5ECF6",
            "gridcolor": "white",
            "gridwidth": 2,
            "linecolor": "white",
            "showbackground": true,
            "ticks": "",
            "zerolinecolor": "white"
           },
           "yaxis": {
            "backgroundcolor": "#E5ECF6",
            "gridcolor": "white",
            "gridwidth": 2,
            "linecolor": "white",
            "showbackground": true,
            "ticks": "",
            "zerolinecolor": "white"
           },
           "zaxis": {
            "backgroundcolor": "#E5ECF6",
            "gridcolor": "white",
            "gridwidth": 2,
            "linecolor": "white",
            "showbackground": true,
            "ticks": "",
            "zerolinecolor": "white"
           }
          },
          "shapedefaults": {
           "line": {
            "color": "#2a3f5f"
           }
          },
          "ternary": {
           "aaxis": {
            "gridcolor": "white",
            "linecolor": "white",
            "ticks": ""
           },
           "baxis": {
            "gridcolor": "white",
            "linecolor": "white",
            "ticks": ""
           },
           "bgcolor": "#E5ECF6",
           "caxis": {
            "gridcolor": "white",
            "linecolor": "white",
            "ticks": ""
           }
          },
          "title": {
           "x": 0.05
          },
          "xaxis": {
           "automargin": true,
           "gridcolor": "white",
           "linecolor": "white",
           "ticks": "",
           "title": {
            "standoff": 15
           },
           "zerolinecolor": "white",
           "zerolinewidth": 2
          },
          "yaxis": {
           "automargin": true,
           "gridcolor": "white",
           "linecolor": "white",
           "ticks": "",
           "title": {
            "standoff": 15
           },
           "zerolinecolor": "white",
           "zerolinewidth": 2
          }
         }
        },
        "title": {
         "text": "포스트 코로나 이전 이후 업종별 카드량 비교 Bar Chart"
        },
        "xaxis": {
         "showgrid": false,
         "showticklabels": true,
         "zeroline": false
        },
        "yaxis": {
         "gridcolor": "white",
         "zeroline": false
        }
       }
      },
      "text/html": [
       "<div>\n",
       "        \n",
       "        \n",
       "            <div id=\"b1abaa64-c454-438c-84f3-423cbabd0c40\" class=\"plotly-graph-div\" style=\"height:525px; width:100%;\"></div>\n",
       "            <script type=\"text/javascript\">\n",
       "                require([\"plotly\"], function(Plotly) {\n",
       "                    window.PLOTLYENV=window.PLOTLYENV || {};\n",
       "                    \n",
       "                if (document.getElementById(\"b1abaa64-c454-438c-84f3-423cbabd0c40\")) {\n",
       "                    Plotly.newPlot(\n",
       "                        'b1abaa64-c454-438c-84f3-423cbabd0c40',\n",
       "                        [{\"marker\": {\"color\": [\"lightsteelblue\", \"lightsteelblue\", \"lightsteelblue\", \"lightsteelblue\", \"lightsteelblue\", \"lightsteelblue\", \"lightsteelblue\", \"lightsteelblue\", \"lightsteelblue\", \"lightsteelblue\", \"lightsteelblue\", \"lightsteelblue\", \"lightsteelblue\", \"lightsteelblue\", \"lightsteelblue\", \"lightsteelblue\", \"lightsteelblue\", \"lightsteelblue\", \"lightsteelblue\", \"lightsteelblue\", \"lightsteelblue\", \"lightsteelblue\", \"lightsteelblue\", \"lightsteelblue\", \"lightsteelblue\", \"lightsteelblue\", \"lightsteelblue\", \"lightsteelblue\", \"lightsteelblue\", \"lightsteelblue\", \"lightsteelblue\", \"lightsteelblue\", \"lightsteelblue\", \"lightsteelblue\", \"lightsteelblue\", \"lightsteelblue\", \"lightsteelblue\", \"lightsteelblue\", \"lightsteelblue\", \"lightsteelblue\", \"lightsteelblue\"]}, \"name\": \"\\ud3c9\\uade0\", \"opacity\": 0.5, \"type\": \"bar\", \"x\": [\"\\uac74\\uac15\\ubcf4\\uc870\\uc2dd\\ud488 \\uc18c\\ub9e4\\uc5c5\", \"\\uace8\\ud504\\uc7a5 \\uc6b4\\uc601\\uc5c5\", \"\\uacfc\\uc2e4 \\ubc0f \\ucc44\\uc18c \\uc18c\\ub9e4\\uc5c5\", \"\\uad00\\uad11 \\ubbfc\\uc608\\ud488 \\ubc0f \\uc120\\ubb3c\\uc6a9\\ud488 \\uc18c\\ub9e4\\uc5c5\", \"\\uadf8\\uc678 \\uae30\\ud0c0 \\ubd84\\ub958\\uc548\\ub41c \\uc624\\ub77d\\uad00\\ub828 \\uc11c\\ube44\\uc2a4\\uc5c5\", \"\\uadf8\\uc678 \\uae30\\ud0c0 \\uc2a4\\ud3ec\\uce20\\uc2dc\\uc124 \\uc6b4\\uc601\\uc5c5\", \"\\uadf8\\uc678 \\uae30\\ud0c0 \\uc885\\ud569 \\uc18c\\ub9e4\\uc5c5\", \"\\uae30\\ud0c0 \\ub300\\ud615 \\uc885\\ud569 \\uc18c\\ub9e4\\uc5c5\", \"\\uae30\\ud0c0 \\uc218\\uc0c1\\uc624\\ub77d \\uc11c\\ube44\\uc2a4\\uc5c5\", \"\\uae30\\ud0c0 \\uc678\\uad6d\\uc2dd \\uc74c\\uc2dd\\uc810\\uc5c5\", \"\\uae30\\ud0c0 \\uc8fc\\uc810\\uc5c5\", \"\\uae30\\ud0c0\\uc74c\\uc2dd\\ub8cc\\ud488\\uc704\\uc8fc\\uc885\\ud569\\uc18c\\ub9e4\\uc5c5\", \"\\ub0b4\\ud56d \\uc5ec\\uac1d \\uc6b4\\uc1a1\\uc5c5\", \"\\ub9c8\\uc0ac\\uc9c0\\uc5c5\", \"\\uba74\\uc138\\uc810\", \"\\ubc84\\uc2a4 \\uc6b4\\uc1a1\\uc5c5\", \"\\ube44\\uc54c\\ucf5c \\uc74c\\ub8cc\\uc810\\uc5c5\", \"\\ube75 \\ubc0f \\uacfc\\uc790\\ub958 \\uc18c\\ub9e4\\uc5c5\", \"\\uc11c\\uc591\\uc2dd \\uc74c\\uc2dd\\uc810\\uc5c5\", \"\\uc218\\uc0b0\\ubb3c \\uc18c\\ub9e4\\uc5c5\", \"\\uc288\\ud37c\\ub9c8\\ucf13\", \"\\uc2a4\\ud3ec\\uce20 \\ubc0f \\ub808\\ud06c\\ub808\\uc774\\uc158 \\uc6a9\\ud488 \\uc784\\ub300\\uc5c5\", \"\\uc5ec\\uad00\\uc5c5\", \"\\uc5ec\\ud589\\uc0ac\\uc5c5\", \"\\uc695\\ud0d5\\uc5c5\", \"\\uc721\\ub958 \\uc18c\\ub9e4\\uc5c5\", \"\\uc77c\\ubc18\\uc720\\ud765 \\uc8fc\\uc810\\uc5c5\", \"\\uc77c\\uc2dd \\uc74c\\uc2dd\\uc810\\uc5c5\", \"\\uc790\\ub3d9\\ucc28 \\uc784\\ub300\\uc5c5\", \"\\uc804\\uc2dc \\ubc0f \\ud589\\uc0ac \\ub300\\ud589\\uc5c5\", \"\\uc815\\uae30 \\ud56d\\uacf5 \\uc6b4\\uc1a1\\uc5c5\", \"\\uc911\\uc2dd \\uc74c\\uc2dd\\uc810\\uc5c5\", \"\\ucc28\\ub7c9\\uc6a9 \\uac00\\uc2a4 \\ucda9\\uc804\\uc5c5\", \"\\ucc28\\ub7c9\\uc6a9 \\uc8fc\\uc720\\uc18c \\uc6b4\\uc601\\uc5c5\", \"\\uccb4\\uc778\\ud654 \\ud3b8\\uc758\\uc810\", \"\\ud0dd\\uc2dc \\uc6b4\\uc1a1\\uc5c5\", \"\\ud53c\\uc790 \\ud584\\ubc84\\uac70 \\uc0cc\\ub4dc\\uc704\\uce58 \\ubc0f \\uc720\\uc0ac \\uc74c\\uc2dd\\uc810\\uc5c5\", \"\\ud55c\\uc2dd \\uc74c\\uc2dd\\uc810\\uc5c5\", \"\\ud638\\ud154\\uc5c5\", \"\\ud654\\uc7a5\\ud488 \\ubc0f \\ubc29\\ud5a5\\uc81c \\uc18c\\ub9e4\\uc5c5\", \"\\ud734\\uc591\\ucf58\\ub3c4 \\uc6b4\\uc601\\uc5c5\"], \"y\": [0.7477249606803709, 0.7477249606803709, 0.7477249606803709, 0.532726575282979, 0.6157194896842381, 0.3124013913156864, 0.7477249606803709, 0.7477249606803709, 0.6917080798431477, 0.7477249606803709, 0.7477249606803709, 0.7477249606803709, 0.47500952987578793, 0.6887288216380311, 0.22308309051130248, 0.4359526065562932, 0.7477249606803709, 0.7477249606803709, 0.7477249606803709, 0.7477249606803709, 0.7477249606803709, 0.7008160190218619, 0.6806327856188554, 0.07094864686963459, 0.5375155159612766, 0.7477249606803709, 0.6893753137870056, 0.7477249606803709, 0.7477249606803709, 0.32457835145214986, 0.13236139243811554, 0.7477249606803709, 0.7477249606803709, 0.7477249606803709, 0.7477249606803709, 0.7477249606803709, 0.7477249606803709, 0.7477249606803709, 0.48872542367475436, 0.713912650055343, 0.44781162938181923]}, {\"marker\": {\"color\": [\"mediumseagreen\", \"mediumseagreen\", \"mediumseagreen\", \"mediumseagreen\", \"mediumseagreen\", \"mediumseagreen\", \"mediumseagreen\", \"mediumseagreen\", \"mediumseagreen\", \"mediumseagreen\", \"mediumseagreen\", \"mediumseagreen\", \"mediumseagreen\", \"mediumseagreen\", \"mediumseagreen\", \"mediumseagreen\", \"mediumseagreen\", \"mediumseagreen\", \"mediumseagreen\", \"mediumseagreen\", \"mediumseagreen\", \"mediumseagreen\", \"mediumseagreen\", \"mediumseagreen\", \"mediumseagreen\", \"mediumseagreen\", \"mediumseagreen\", \"mediumseagreen\", \"mediumseagreen\", \"mediumseagreen\", \"mediumseagreen\", \"mediumseagreen\", \"mediumseagreen\", \"mediumseagreen\", \"mediumseagreen\", \"mediumseagreen\", \"mediumseagreen\", \"mediumseagreen\", \"mediumseagreen\", \"mediumseagreen\", \"mediumseagreen\"]}, \"name\": \"\\ud3c9\\uade0 \\uc774\\uc0c1\", \"opacity\": 0.4, \"type\": \"bar\", \"x\": [\"\\uac74\\uac15\\ubcf4\\uc870\\uc2dd\\ud488 \\uc18c\\ub9e4\\uc5c5\", \"\\uace8\\ud504\\uc7a5 \\uc6b4\\uc601\\uc5c5\", \"\\uacfc\\uc2e4 \\ubc0f \\ucc44\\uc18c \\uc18c\\ub9e4\\uc5c5\", \"\\uad00\\uad11 \\ubbfc\\uc608\\ud488 \\ubc0f \\uc120\\ubb3c\\uc6a9\\ud488 \\uc18c\\ub9e4\\uc5c5\", \"\\uadf8\\uc678 \\uae30\\ud0c0 \\ubd84\\ub958\\uc548\\ub41c \\uc624\\ub77d\\uad00\\ub828 \\uc11c\\ube44\\uc2a4\\uc5c5\", \"\\uadf8\\uc678 \\uae30\\ud0c0 \\uc2a4\\ud3ec\\uce20\\uc2dc\\uc124 \\uc6b4\\uc601\\uc5c5\", \"\\uadf8\\uc678 \\uae30\\ud0c0 \\uc885\\ud569 \\uc18c\\ub9e4\\uc5c5\", \"\\uae30\\ud0c0 \\ub300\\ud615 \\uc885\\ud569 \\uc18c\\ub9e4\\uc5c5\", \"\\uae30\\ud0c0 \\uc218\\uc0c1\\uc624\\ub77d \\uc11c\\ube44\\uc2a4\\uc5c5\", \"\\uae30\\ud0c0 \\uc678\\uad6d\\uc2dd \\uc74c\\uc2dd\\uc810\\uc5c5\", \"\\uae30\\ud0c0 \\uc8fc\\uc810\\uc5c5\", \"\\uae30\\ud0c0\\uc74c\\uc2dd\\ub8cc\\ud488\\uc704\\uc8fc\\uc885\\ud569\\uc18c\\ub9e4\\uc5c5\", \"\\ub0b4\\ud56d \\uc5ec\\uac1d \\uc6b4\\uc1a1\\uc5c5\", \"\\ub9c8\\uc0ac\\uc9c0\\uc5c5\", \"\\uba74\\uc138\\uc810\", \"\\ubc84\\uc2a4 \\uc6b4\\uc1a1\\uc5c5\", \"\\ube44\\uc54c\\ucf5c \\uc74c\\ub8cc\\uc810\\uc5c5\", \"\\ube75 \\ubc0f \\uacfc\\uc790\\ub958 \\uc18c\\ub9e4\\uc5c5\", \"\\uc11c\\uc591\\uc2dd \\uc74c\\uc2dd\\uc810\\uc5c5\", \"\\uc218\\uc0b0\\ubb3c \\uc18c\\ub9e4\\uc5c5\", \"\\uc288\\ud37c\\ub9c8\\ucf13\", \"\\uc2a4\\ud3ec\\uce20 \\ubc0f \\ub808\\ud06c\\ub808\\uc774\\uc158 \\uc6a9\\ud488 \\uc784\\ub300\\uc5c5\", \"\\uc5ec\\uad00\\uc5c5\", \"\\uc5ec\\ud589\\uc0ac\\uc5c5\", \"\\uc695\\ud0d5\\uc5c5\", \"\\uc721\\ub958 \\uc18c\\ub9e4\\uc5c5\", \"\\uc77c\\ubc18\\uc720\\ud765 \\uc8fc\\uc810\\uc5c5\", \"\\uc77c\\uc2dd \\uc74c\\uc2dd\\uc810\\uc5c5\", \"\\uc790\\ub3d9\\ucc28 \\uc784\\ub300\\uc5c5\", \"\\uc804\\uc2dc \\ubc0f \\ud589\\uc0ac \\ub300\\ud589\\uc5c5\", \"\\uc815\\uae30 \\ud56d\\uacf5 \\uc6b4\\uc1a1\\uc5c5\", \"\\uc911\\uc2dd \\uc74c\\uc2dd\\uc810\\uc5c5\", \"\\ucc28\\ub7c9\\uc6a9 \\uac00\\uc2a4 \\ucda9\\uc804\\uc5c5\", \"\\ucc28\\ub7c9\\uc6a9 \\uc8fc\\uc720\\uc18c \\uc6b4\\uc601\\uc5c5\", \"\\uccb4\\uc778\\ud654 \\ud3b8\\uc758\\uc810\", \"\\ud0dd\\uc2dc \\uc6b4\\uc1a1\\uc5c5\", \"\\ud53c\\uc790 \\ud584\\ubc84\\uac70 \\uc0cc\\ub4dc\\uc704\\uce58 \\ubc0f \\uc720\\uc0ac \\uc74c\\uc2dd\\uc810\\uc5c5\", \"\\ud55c\\uc2dd \\uc74c\\uc2dd\\uc810\\uc5c5\", \"\\ud638\\ud154\\uc5c5\", \"\\ud654\\uc7a5\\ud488 \\ubc0f \\ubc29\\ud5a5\\uc81c \\uc18c\\ub9e4\\uc5c5\", \"\\ud734\\uc591\\ucf58\\ub3c4 \\uc6b4\\uc601\\uc5c5\"], \"y\": [0.09055759323774892, 0.2802187488026917, 0.3064231005887106, 0, 0, 0, 0.3382962538226555, 0.06345116809984452, 0, 0.00574336449947499, 0.008302233012329574, 0.38035964231687514, 0, 0, 0, 0, 0.13701977848815128, 0.18122760752896883, 0.09434226965917625, 0.28047702057514123, 0.41296963320017355, 0, 0, 0, 0, 0.38625824074448034, 0, 0.008109889807259574, 0.7150965969293261, 0, 0, 0.09845179788165648, 0.1916754995665072, 0.18308479653387777, 0.2850438784202365, 0.06185800814544529, 0.1479121122134276, 0.040162745204239125, 0, 0, 0]}],\n",
       "                        {\"barmode\": \"stack\", \"paper_bgcolor\": \"rgb(243, 243, 243)\", \"plot_bgcolor\": \"rgb(243, 243, 243)\", \"template\": {\"data\": {\"bar\": [{\"error_x\": {\"color\": \"#2a3f5f\"}, \"error_y\": {\"color\": \"#2a3f5f\"}, \"marker\": {\"line\": {\"color\": \"#E5ECF6\", \"width\": 0.5}}, \"type\": \"bar\"}], \"barpolar\": [{\"marker\": {\"line\": {\"color\": \"#E5ECF6\", \"width\": 0.5}}, \"type\": \"barpolar\"}], \"carpet\": [{\"aaxis\": {\"endlinecolor\": \"#2a3f5f\", \"gridcolor\": \"white\", \"linecolor\": \"white\", \"minorgridcolor\": \"white\", \"startlinecolor\": \"#2a3f5f\"}, \"baxis\": {\"endlinecolor\": \"#2a3f5f\", \"gridcolor\": \"white\", \"linecolor\": \"white\", \"minorgridcolor\": \"white\", \"startlinecolor\": \"#2a3f5f\"}, \"type\": \"carpet\"}], \"choropleth\": [{\"colorbar\": {\"outlinewidth\": 0, \"ticks\": \"\"}, \"type\": \"choropleth\"}], \"contour\": [{\"colorbar\": {\"outlinewidth\": 0, \"ticks\": \"\"}, \"colorscale\": [[0.0, \"#0d0887\"], [0.1111111111111111, \"#46039f\"], [0.2222222222222222, \"#7201a8\"], [0.3333333333333333, \"#9c179e\"], [0.4444444444444444, \"#bd3786\"], [0.5555555555555556, \"#d8576b\"], [0.6666666666666666, \"#ed7953\"], [0.7777777777777778, \"#fb9f3a\"], [0.8888888888888888, \"#fdca26\"], [1.0, \"#f0f921\"]], \"type\": \"contour\"}], \"contourcarpet\": [{\"colorbar\": {\"outlinewidth\": 0, \"ticks\": \"\"}, \"type\": \"contourcarpet\"}], \"heatmap\": [{\"colorbar\": {\"outlinewidth\": 0, \"ticks\": \"\"}, \"colorscale\": [[0.0, \"#0d0887\"], [0.1111111111111111, \"#46039f\"], [0.2222222222222222, \"#7201a8\"], [0.3333333333333333, \"#9c179e\"], [0.4444444444444444, \"#bd3786\"], [0.5555555555555556, \"#d8576b\"], [0.6666666666666666, \"#ed7953\"], [0.7777777777777778, \"#fb9f3a\"], [0.8888888888888888, \"#fdca26\"], [1.0, \"#f0f921\"]], \"type\": \"heatmap\"}], \"heatmapgl\": [{\"colorbar\": {\"outlinewidth\": 0, \"ticks\": \"\"}, \"colorscale\": [[0.0, \"#0d0887\"], [0.1111111111111111, \"#46039f\"], [0.2222222222222222, \"#7201a8\"], [0.3333333333333333, \"#9c179e\"], [0.4444444444444444, \"#bd3786\"], [0.5555555555555556, \"#d8576b\"], [0.6666666666666666, \"#ed7953\"], [0.7777777777777778, \"#fb9f3a\"], [0.8888888888888888, \"#fdca26\"], [1.0, \"#f0f921\"]], \"type\": \"heatmapgl\"}], \"histogram\": [{\"marker\": {\"colorbar\": {\"outlinewidth\": 0, \"ticks\": \"\"}}, \"type\": \"histogram\"}], \"histogram2d\": [{\"colorbar\": {\"outlinewidth\": 0, \"ticks\": \"\"}, \"colorscale\": [[0.0, \"#0d0887\"], [0.1111111111111111, \"#46039f\"], [0.2222222222222222, \"#7201a8\"], [0.3333333333333333, \"#9c179e\"], [0.4444444444444444, \"#bd3786\"], [0.5555555555555556, \"#d8576b\"], [0.6666666666666666, \"#ed7953\"], [0.7777777777777778, \"#fb9f3a\"], [0.8888888888888888, \"#fdca26\"], [1.0, \"#f0f921\"]], \"type\": \"histogram2d\"}], \"histogram2dcontour\": [{\"colorbar\": {\"outlinewidth\": 0, \"ticks\": \"\"}, \"colorscale\": [[0.0, \"#0d0887\"], [0.1111111111111111, \"#46039f\"], [0.2222222222222222, \"#7201a8\"], [0.3333333333333333, \"#9c179e\"], [0.4444444444444444, \"#bd3786\"], [0.5555555555555556, \"#d8576b\"], [0.6666666666666666, \"#ed7953\"], [0.7777777777777778, \"#fb9f3a\"], [0.8888888888888888, \"#fdca26\"], [1.0, \"#f0f921\"]], \"type\": \"histogram2dcontour\"}], \"mesh3d\": [{\"colorbar\": {\"outlinewidth\": 0, \"ticks\": \"\"}, \"type\": \"mesh3d\"}], \"parcoords\": [{\"line\": {\"colorbar\": {\"outlinewidth\": 0, \"ticks\": \"\"}}, \"type\": \"parcoords\"}], \"pie\": [{\"automargin\": true, \"type\": \"pie\"}], \"scatter\": [{\"marker\": {\"colorbar\": {\"outlinewidth\": 0, \"ticks\": \"\"}}, \"type\": \"scatter\"}], \"scatter3d\": [{\"line\": {\"colorbar\": {\"outlinewidth\": 0, \"ticks\": \"\"}}, \"marker\": {\"colorbar\": {\"outlinewidth\": 0, \"ticks\": \"\"}}, \"type\": \"scatter3d\"}], \"scattercarpet\": [{\"marker\": {\"colorbar\": {\"outlinewidth\": 0, \"ticks\": \"\"}}, \"type\": \"scattercarpet\"}], \"scattergeo\": [{\"marker\": {\"colorbar\": {\"outlinewidth\": 0, \"ticks\": \"\"}}, \"type\": \"scattergeo\"}], \"scattergl\": [{\"marker\": {\"colorbar\": {\"outlinewidth\": 0, \"ticks\": \"\"}}, \"type\": \"scattergl\"}], \"scattermapbox\": [{\"marker\": {\"colorbar\": {\"outlinewidth\": 0, \"ticks\": \"\"}}, \"type\": \"scattermapbox\"}], \"scatterpolar\": [{\"marker\": {\"colorbar\": {\"outlinewidth\": 0, \"ticks\": \"\"}}, \"type\": \"scatterpolar\"}], \"scatterpolargl\": [{\"marker\": {\"colorbar\": {\"outlinewidth\": 0, \"ticks\": \"\"}}, \"type\": \"scatterpolargl\"}], \"scatterternary\": [{\"marker\": {\"colorbar\": {\"outlinewidth\": 0, \"ticks\": \"\"}}, \"type\": \"scatterternary\"}], \"surface\": [{\"colorbar\": {\"outlinewidth\": 0, \"ticks\": \"\"}, \"colorscale\": [[0.0, \"#0d0887\"], [0.1111111111111111, \"#46039f\"], [0.2222222222222222, \"#7201a8\"], [0.3333333333333333, \"#9c179e\"], [0.4444444444444444, \"#bd3786\"], [0.5555555555555556, \"#d8576b\"], [0.6666666666666666, \"#ed7953\"], [0.7777777777777778, \"#fb9f3a\"], [0.8888888888888888, \"#fdca26\"], [1.0, \"#f0f921\"]], \"type\": \"surface\"}], \"table\": [{\"cells\": {\"fill\": {\"color\": \"#EBF0F8\"}, \"line\": {\"color\": \"white\"}}, \"header\": {\"fill\": {\"color\": \"#C8D4E3\"}, \"line\": {\"color\": \"white\"}}, \"type\": \"table\"}]}, \"layout\": {\"annotationdefaults\": {\"arrowcolor\": \"#2a3f5f\", \"arrowhead\": 0, \"arrowwidth\": 1}, \"coloraxis\": {\"colorbar\": {\"outlinewidth\": 0, \"ticks\": \"\"}}, \"colorscale\": {\"diverging\": [[0, \"#8e0152\"], [0.1, \"#c51b7d\"], [0.2, \"#de77ae\"], [0.3, \"#f1b6da\"], [0.4, \"#fde0ef\"], [0.5, \"#f7f7f7\"], [0.6, \"#e6f5d0\"], [0.7, \"#b8e186\"], [0.8, \"#7fbc41\"], [0.9, \"#4d9221\"], [1, \"#276419\"]], \"sequential\": [[0.0, \"#0d0887\"], [0.1111111111111111, \"#46039f\"], [0.2222222222222222, \"#7201a8\"], [0.3333333333333333, \"#9c179e\"], [0.4444444444444444, \"#bd3786\"], [0.5555555555555556, \"#d8576b\"], [0.6666666666666666, \"#ed7953\"], [0.7777777777777778, \"#fb9f3a\"], [0.8888888888888888, \"#fdca26\"], [1.0, \"#f0f921\"]], \"sequentialminus\": [[0.0, \"#0d0887\"], [0.1111111111111111, \"#46039f\"], [0.2222222222222222, \"#7201a8\"], [0.3333333333333333, \"#9c179e\"], [0.4444444444444444, \"#bd3786\"], [0.5555555555555556, \"#d8576b\"], [0.6666666666666666, \"#ed7953\"], [0.7777777777777778, \"#fb9f3a\"], [0.8888888888888888, \"#fdca26\"], [1.0, \"#f0f921\"]]}, \"colorway\": [\"#636efa\", \"#EF553B\", \"#00cc96\", \"#ab63fa\", \"#FFA15A\", \"#19d3f3\", \"#FF6692\", \"#B6E880\", \"#FF97FF\", \"#FECB52\"], \"font\": {\"color\": \"#2a3f5f\"}, \"geo\": {\"bgcolor\": \"white\", \"lakecolor\": \"white\", \"landcolor\": \"#E5ECF6\", \"showlakes\": true, \"showland\": true, \"subunitcolor\": \"white\"}, \"hoverlabel\": {\"align\": \"left\"}, \"hovermode\": \"closest\", \"mapbox\": {\"style\": \"light\"}, \"paper_bgcolor\": \"white\", \"plot_bgcolor\": \"#E5ECF6\", \"polar\": {\"angularaxis\": {\"gridcolor\": \"white\", \"linecolor\": \"white\", \"ticks\": \"\"}, \"bgcolor\": \"#E5ECF6\", \"radialaxis\": {\"gridcolor\": \"white\", \"linecolor\": \"white\", \"ticks\": \"\"}}, \"scene\": {\"xaxis\": {\"backgroundcolor\": \"#E5ECF6\", \"gridcolor\": \"white\", \"gridwidth\": 2, \"linecolor\": \"white\", \"showbackground\": true, \"ticks\": \"\", \"zerolinecolor\": \"white\"}, \"yaxis\": {\"backgroundcolor\": \"#E5ECF6\", \"gridcolor\": \"white\", \"gridwidth\": 2, \"linecolor\": \"white\", \"showbackground\": true, \"ticks\": \"\", \"zerolinecolor\": \"white\"}, \"zaxis\": {\"backgroundcolor\": \"#E5ECF6\", \"gridcolor\": \"white\", \"gridwidth\": 2, \"linecolor\": \"white\", \"showbackground\": true, \"ticks\": \"\", \"zerolinecolor\": \"white\"}}, \"shapedefaults\": {\"line\": {\"color\": \"#2a3f5f\"}}, \"ternary\": {\"aaxis\": {\"gridcolor\": \"white\", \"linecolor\": \"white\", \"ticks\": \"\"}, \"baxis\": {\"gridcolor\": \"white\", \"linecolor\": \"white\", \"ticks\": \"\"}, \"bgcolor\": \"#E5ECF6\", \"caxis\": {\"gridcolor\": \"white\", \"linecolor\": \"white\", \"ticks\": \"\"}}, \"title\": {\"x\": 0.05}, \"xaxis\": {\"automargin\": true, \"gridcolor\": \"white\", \"linecolor\": \"white\", \"ticks\": \"\", \"title\": {\"standoff\": 15}, \"zerolinecolor\": \"white\", \"zerolinewidth\": 2}, \"yaxis\": {\"automargin\": true, \"gridcolor\": \"white\", \"linecolor\": \"white\", \"ticks\": \"\", \"title\": {\"standoff\": 15}, \"zerolinecolor\": \"white\", \"zerolinewidth\": 2}}}, \"title\": {\"text\": \"\\ud3ec\\uc2a4\\ud2b8 \\ucf54\\ub85c\\ub098 \\uc774\\uc804 \\uc774\\ud6c4 \\uc5c5\\uc885\\ubcc4 \\uce74\\ub4dc\\ub7c9 \\ube44\\uad50 Bar Chart\"}, \"xaxis\": {\"showgrid\": false, \"showticklabels\": true, \"zeroline\": false}, \"yaxis\": {\"gridcolor\": \"white\", \"zeroline\": false}},\n",
       "                        {\"responsive\": true}\n",
       "                    ).then(function(){\n",
       "                            \n",
       "var gd = document.getElementById('b1abaa64-c454-438c-84f3-423cbabd0c40');\n",
       "var x = new MutationObserver(function (mutations, observer) {{\n",
       "        var display = window.getComputedStyle(gd).display;\n",
       "        if (!display || display === 'none') {{\n",
       "            console.log([gd, 'removed!']);\n",
       "            Plotly.purge(gd);\n",
       "            observer.disconnect();\n",
       "        }}\n",
       "}});\n",
       "\n",
       "// Listen for the removal of the full notebook cells\n",
       "var notebookContainer = gd.closest('#notebook-container');\n",
       "if (notebookContainer) {{\n",
       "    x.observe(notebookContainer, {childList: true});\n",
       "}}\n",
       "\n",
       "// Listen for the clearing of the current output cell\n",
       "var outputEl = gd.closest('.output');\n",
       "if (outputEl) {{\n",
       "    x.observe(outputEl, {childList: true});\n",
       "}}\n",
       "\n",
       "                        })\n",
       "                };\n",
       "                });\n",
       "            </script>\n",
       "        </div>"
      ]
     },
     "metadata": {},
     "output_type": "display_data"
    }
   ],
   "source": [
    "dfminus = df202003['AMT']/df1903['AMT']\n",
    "#plt.figure(figsize=(20,10))\n",
    "#plt.plot(dfminus.index,[1]*len(dfminus.index))\n",
    "#plt.plot(dfminus.index,[dfminus.mean()]*len(dfminus.index))\n",
    "#plt.bar(dfminus.index,dfminus)\n",
    "#plt.xticks(rotation=90)\n",
    "#plt.show()\n",
    "fig = go.Figure()\n",
    "li1=[] #아래\n",
    "li2=[] #위\n",
    "\n",
    "for i in dfminus :\n",
    "    if i > dfminus.mean() :\n",
    "        li1.append(dfminus.mean())\n",
    "        li2.append(i-dfminus.mean())\n",
    "    else :\n",
    "        li1.append(i)\n",
    "        li2.append(0)\n",
    "        \n",
    "colors1 = ['lightsteelblue']*len(dfminus.index)\n",
    "colors2 = ['mediumseagreen']*len(dfminus.index)\n",
    "fig = go.Figure(data=[\n",
    "    go.Bar(name='평균', x=dfminus.index, y=li1,marker_color=colors1,opacity=0.5),\n",
    "    go.Bar(name='평균 이상', x=dfminus.index, y=li2, marker_color=colors2,opacity=0.4)\n",
    "])\n",
    "# Change the bar mode\n",
    "fig.update_layout(barmode='stack')\n",
    "fig.update_layout(title_text=\"포스트 코로나 이전 이후 업종별 카드량 비교 Bar Chart\", paper_bgcolor='rgb(243, 243, 243)',\n",
    "    plot_bgcolor='rgb(243, 243, 243)', xaxis=dict(showgrid=False, zeroline=False, showticklabels=True),\n",
    "    yaxis=dict(zeroline=False, gridcolor='white'))\n",
    "fig.show()"
   ]
  },
  {
   "cell_type": "markdown",
   "metadata": {},
   "source": [
    "##  &nbsp;&nbsp;&nbsp;&nbsp;&nbsp;&nbsp; &nbsp;&nbsp;&nbsp;&nbsp;&nbsp;&nbsp; &nbsp;&nbsp;&nbsp;&nbsp;3. 코로나 이전 이후 지역별 카드 이용금액 비교\n",
    "  &nbsp;&nbsp;&nbsp;&nbsp;&nbsp;&nbsp;\n",
    "  \n",
    "  \n",
    "  \n",
    "  \n",
    "  \n",
    "  \n",
    "  \n",
    "  \n",
    "  \n",
    "  \n",
    "  \n",
    "   &nbsp;&nbsp;&nbsp;&nbsp;&nbsp;&nbsp;\n",
    "###  지역별 카드량 비교  "
   ]
  },
  {
   "cell_type": "code",
   "execution_count": 9,
   "metadata": {},
   "outputs": [
    {
     "data": {
      "application/vnd.plotly.v1+json": {
       "config": {
        "plotlyServerURL": "https://plot.ly"
       },
       "data": [
        {
         "marker": {
          "color": [
           "lightsteelblue",
           "lightsteelblue",
           "lightsteelblue",
           "lightsteelblue",
           "lightsteelblue",
           "lightsteelblue",
           "lightsteelblue",
           "lightsteelblue",
           "lightsteelblue",
           "lightsteelblue",
           "lightsteelblue",
           "lightsteelblue",
           "lightsteelblue",
           "lightsteelblue",
           "lightsteelblue",
           "lightsteelblue",
           "lightsteelblue"
          ]
         },
         "name": "평균",
         "opacity": 0.5,
         "type": "bar",
         "x": [
          "강원",
          "경기",
          "경남",
          "경북",
          "광주",
          "대구",
          "대전",
          "부산",
          "서울",
          "세종",
          "울산",
          "인천",
          "전남",
          "전북",
          "제주",
          "충남",
          "충북"
         ],
         "y": [
          0.8956994064721322,
          0.8956994064721322,
          0.8956994064721322,
          0.8705537487127739,
          0.8956994064721322,
          0.81637479795433,
          0.8956994064721322,
          0.8095107927951771,
          0.8318453988994472,
          0.8956994064721322,
          0.8951363987358143,
          0.7890038313243248,
          0.8956994064721322,
          0.8956994064721322,
          0.8183797636724542,
          0.8956994064721322,
          0.8956994064721322
         ]
        },
        {
         "marker": {
          "color": [
           "#A56CC1",
           "#A56CC1",
           "#A56CC1",
           "#A56CC1",
           "#A56CC1",
           "#A56CC1",
           "#A56CC1",
           "#A56CC1",
           "#A56CC1",
           "#A56CC1",
           "#A56CC1",
           "#A56CC1",
           "#A56CC1",
           "#A56CC1",
           "#A56CC1",
           "#A56CC1",
           "#A56CC1"
          ]
         },
         "name": "평균 이상",
         "opacity": 0.4,
         "type": "bar",
         "x": [
          "강원",
          "경기",
          "경남",
          "경북",
          "광주",
          "대구",
          "대전",
          "부산",
          "서울",
          "세종",
          "울산",
          "인천",
          "전남",
          "전북",
          "제주",
          "충남",
          "충북"
         ],
         "y": [
          0.02094344449823482,
          0.04424402144664796,
          0.03890953912344397,
          0,
          0.07411340130937127,
          0,
          0.0070596199176451435,
          0,
          0,
          0.08162260922020759,
          0,
          0,
          0.07847821252434695,
          0.020208359325076808,
          0,
          0.02135738002411558,
          0.052154525821514475
         ]
        }
       ],
       "layout": {
        "barmode": "stack",
        "paper_bgcolor": "rgb(243, 243, 243)",
        "plot_bgcolor": "rgb(243, 243, 243)",
        "template": {
         "data": {
          "bar": [
           {
            "error_x": {
             "color": "#2a3f5f"
            },
            "error_y": {
             "color": "#2a3f5f"
            },
            "marker": {
             "line": {
              "color": "#E5ECF6",
              "width": 0.5
             }
            },
            "type": "bar"
           }
          ],
          "barpolar": [
           {
            "marker": {
             "line": {
              "color": "#E5ECF6",
              "width": 0.5
             }
            },
            "type": "barpolar"
           }
          ],
          "carpet": [
           {
            "aaxis": {
             "endlinecolor": "#2a3f5f",
             "gridcolor": "white",
             "linecolor": "white",
             "minorgridcolor": "white",
             "startlinecolor": "#2a3f5f"
            },
            "baxis": {
             "endlinecolor": "#2a3f5f",
             "gridcolor": "white",
             "linecolor": "white",
             "minorgridcolor": "white",
             "startlinecolor": "#2a3f5f"
            },
            "type": "carpet"
           }
          ],
          "choropleth": [
           {
            "colorbar": {
             "outlinewidth": 0,
             "ticks": ""
            },
            "type": "choropleth"
           }
          ],
          "contour": [
           {
            "colorbar": {
             "outlinewidth": 0,
             "ticks": ""
            },
            "colorscale": [
             [
              0,
              "#0d0887"
             ],
             [
              0.1111111111111111,
              "#46039f"
             ],
             [
              0.2222222222222222,
              "#7201a8"
             ],
             [
              0.3333333333333333,
              "#9c179e"
             ],
             [
              0.4444444444444444,
              "#bd3786"
             ],
             [
              0.5555555555555556,
              "#d8576b"
             ],
             [
              0.6666666666666666,
              "#ed7953"
             ],
             [
              0.7777777777777778,
              "#fb9f3a"
             ],
             [
              0.8888888888888888,
              "#fdca26"
             ],
             [
              1,
              "#f0f921"
             ]
            ],
            "type": "contour"
           }
          ],
          "contourcarpet": [
           {
            "colorbar": {
             "outlinewidth": 0,
             "ticks": ""
            },
            "type": "contourcarpet"
           }
          ],
          "heatmap": [
           {
            "colorbar": {
             "outlinewidth": 0,
             "ticks": ""
            },
            "colorscale": [
             [
              0,
              "#0d0887"
             ],
             [
              0.1111111111111111,
              "#46039f"
             ],
             [
              0.2222222222222222,
              "#7201a8"
             ],
             [
              0.3333333333333333,
              "#9c179e"
             ],
             [
              0.4444444444444444,
              "#bd3786"
             ],
             [
              0.5555555555555556,
              "#d8576b"
             ],
             [
              0.6666666666666666,
              "#ed7953"
             ],
             [
              0.7777777777777778,
              "#fb9f3a"
             ],
             [
              0.8888888888888888,
              "#fdca26"
             ],
             [
              1,
              "#f0f921"
             ]
            ],
            "type": "heatmap"
           }
          ],
          "heatmapgl": [
           {
            "colorbar": {
             "outlinewidth": 0,
             "ticks": ""
            },
            "colorscale": [
             [
              0,
              "#0d0887"
             ],
             [
              0.1111111111111111,
              "#46039f"
             ],
             [
              0.2222222222222222,
              "#7201a8"
             ],
             [
              0.3333333333333333,
              "#9c179e"
             ],
             [
              0.4444444444444444,
              "#bd3786"
             ],
             [
              0.5555555555555556,
              "#d8576b"
             ],
             [
              0.6666666666666666,
              "#ed7953"
             ],
             [
              0.7777777777777778,
              "#fb9f3a"
             ],
             [
              0.8888888888888888,
              "#fdca26"
             ],
             [
              1,
              "#f0f921"
             ]
            ],
            "type": "heatmapgl"
           }
          ],
          "histogram": [
           {
            "marker": {
             "colorbar": {
              "outlinewidth": 0,
              "ticks": ""
             }
            },
            "type": "histogram"
           }
          ],
          "histogram2d": [
           {
            "colorbar": {
             "outlinewidth": 0,
             "ticks": ""
            },
            "colorscale": [
             [
              0,
              "#0d0887"
             ],
             [
              0.1111111111111111,
              "#46039f"
             ],
             [
              0.2222222222222222,
              "#7201a8"
             ],
             [
              0.3333333333333333,
              "#9c179e"
             ],
             [
              0.4444444444444444,
              "#bd3786"
             ],
             [
              0.5555555555555556,
              "#d8576b"
             ],
             [
              0.6666666666666666,
              "#ed7953"
             ],
             [
              0.7777777777777778,
              "#fb9f3a"
             ],
             [
              0.8888888888888888,
              "#fdca26"
             ],
             [
              1,
              "#f0f921"
             ]
            ],
            "type": "histogram2d"
           }
          ],
          "histogram2dcontour": [
           {
            "colorbar": {
             "outlinewidth": 0,
             "ticks": ""
            },
            "colorscale": [
             [
              0,
              "#0d0887"
             ],
             [
              0.1111111111111111,
              "#46039f"
             ],
             [
              0.2222222222222222,
              "#7201a8"
             ],
             [
              0.3333333333333333,
              "#9c179e"
             ],
             [
              0.4444444444444444,
              "#bd3786"
             ],
             [
              0.5555555555555556,
              "#d8576b"
             ],
             [
              0.6666666666666666,
              "#ed7953"
             ],
             [
              0.7777777777777778,
              "#fb9f3a"
             ],
             [
              0.8888888888888888,
              "#fdca26"
             ],
             [
              1,
              "#f0f921"
             ]
            ],
            "type": "histogram2dcontour"
           }
          ],
          "mesh3d": [
           {
            "colorbar": {
             "outlinewidth": 0,
             "ticks": ""
            },
            "type": "mesh3d"
           }
          ],
          "parcoords": [
           {
            "line": {
             "colorbar": {
              "outlinewidth": 0,
              "ticks": ""
             }
            },
            "type": "parcoords"
           }
          ],
          "pie": [
           {
            "automargin": true,
            "type": "pie"
           }
          ],
          "scatter": [
           {
            "marker": {
             "colorbar": {
              "outlinewidth": 0,
              "ticks": ""
             }
            },
            "type": "scatter"
           }
          ],
          "scatter3d": [
           {
            "line": {
             "colorbar": {
              "outlinewidth": 0,
              "ticks": ""
             }
            },
            "marker": {
             "colorbar": {
              "outlinewidth": 0,
              "ticks": ""
             }
            },
            "type": "scatter3d"
           }
          ],
          "scattercarpet": [
           {
            "marker": {
             "colorbar": {
              "outlinewidth": 0,
              "ticks": ""
             }
            },
            "type": "scattercarpet"
           }
          ],
          "scattergeo": [
           {
            "marker": {
             "colorbar": {
              "outlinewidth": 0,
              "ticks": ""
             }
            },
            "type": "scattergeo"
           }
          ],
          "scattergl": [
           {
            "marker": {
             "colorbar": {
              "outlinewidth": 0,
              "ticks": ""
             }
            },
            "type": "scattergl"
           }
          ],
          "scattermapbox": [
           {
            "marker": {
             "colorbar": {
              "outlinewidth": 0,
              "ticks": ""
             }
            },
            "type": "scattermapbox"
           }
          ],
          "scatterpolar": [
           {
            "marker": {
             "colorbar": {
              "outlinewidth": 0,
              "ticks": ""
             }
            },
            "type": "scatterpolar"
           }
          ],
          "scatterpolargl": [
           {
            "marker": {
             "colorbar": {
              "outlinewidth": 0,
              "ticks": ""
             }
            },
            "type": "scatterpolargl"
           }
          ],
          "scatterternary": [
           {
            "marker": {
             "colorbar": {
              "outlinewidth": 0,
              "ticks": ""
             }
            },
            "type": "scatterternary"
           }
          ],
          "surface": [
           {
            "colorbar": {
             "outlinewidth": 0,
             "ticks": ""
            },
            "colorscale": [
             [
              0,
              "#0d0887"
             ],
             [
              0.1111111111111111,
              "#46039f"
             ],
             [
              0.2222222222222222,
              "#7201a8"
             ],
             [
              0.3333333333333333,
              "#9c179e"
             ],
             [
              0.4444444444444444,
              "#bd3786"
             ],
             [
              0.5555555555555556,
              "#d8576b"
             ],
             [
              0.6666666666666666,
              "#ed7953"
             ],
             [
              0.7777777777777778,
              "#fb9f3a"
             ],
             [
              0.8888888888888888,
              "#fdca26"
             ],
             [
              1,
              "#f0f921"
             ]
            ],
            "type": "surface"
           }
          ],
          "table": [
           {
            "cells": {
             "fill": {
              "color": "#EBF0F8"
             },
             "line": {
              "color": "white"
             }
            },
            "header": {
             "fill": {
              "color": "#C8D4E3"
             },
             "line": {
              "color": "white"
             }
            },
            "type": "table"
           }
          ]
         },
         "layout": {
          "annotationdefaults": {
           "arrowcolor": "#2a3f5f",
           "arrowhead": 0,
           "arrowwidth": 1
          },
          "coloraxis": {
           "colorbar": {
            "outlinewidth": 0,
            "ticks": ""
           }
          },
          "colorscale": {
           "diverging": [
            [
             0,
             "#8e0152"
            ],
            [
             0.1,
             "#c51b7d"
            ],
            [
             0.2,
             "#de77ae"
            ],
            [
             0.3,
             "#f1b6da"
            ],
            [
             0.4,
             "#fde0ef"
            ],
            [
             0.5,
             "#f7f7f7"
            ],
            [
             0.6,
             "#e6f5d0"
            ],
            [
             0.7,
             "#b8e186"
            ],
            [
             0.8,
             "#7fbc41"
            ],
            [
             0.9,
             "#4d9221"
            ],
            [
             1,
             "#276419"
            ]
           ],
           "sequential": [
            [
             0,
             "#0d0887"
            ],
            [
             0.1111111111111111,
             "#46039f"
            ],
            [
             0.2222222222222222,
             "#7201a8"
            ],
            [
             0.3333333333333333,
             "#9c179e"
            ],
            [
             0.4444444444444444,
             "#bd3786"
            ],
            [
             0.5555555555555556,
             "#d8576b"
            ],
            [
             0.6666666666666666,
             "#ed7953"
            ],
            [
             0.7777777777777778,
             "#fb9f3a"
            ],
            [
             0.8888888888888888,
             "#fdca26"
            ],
            [
             1,
             "#f0f921"
            ]
           ],
           "sequentialminus": [
            [
             0,
             "#0d0887"
            ],
            [
             0.1111111111111111,
             "#46039f"
            ],
            [
             0.2222222222222222,
             "#7201a8"
            ],
            [
             0.3333333333333333,
             "#9c179e"
            ],
            [
             0.4444444444444444,
             "#bd3786"
            ],
            [
             0.5555555555555556,
             "#d8576b"
            ],
            [
             0.6666666666666666,
             "#ed7953"
            ],
            [
             0.7777777777777778,
             "#fb9f3a"
            ],
            [
             0.8888888888888888,
             "#fdca26"
            ],
            [
             1,
             "#f0f921"
            ]
           ]
          },
          "colorway": [
           "#636efa",
           "#EF553B",
           "#00cc96",
           "#ab63fa",
           "#FFA15A",
           "#19d3f3",
           "#FF6692",
           "#B6E880",
           "#FF97FF",
           "#FECB52"
          ],
          "font": {
           "color": "#2a3f5f"
          },
          "geo": {
           "bgcolor": "white",
           "lakecolor": "white",
           "landcolor": "#E5ECF6",
           "showlakes": true,
           "showland": true,
           "subunitcolor": "white"
          },
          "hoverlabel": {
           "align": "left"
          },
          "hovermode": "closest",
          "mapbox": {
           "style": "light"
          },
          "paper_bgcolor": "white",
          "plot_bgcolor": "#E5ECF6",
          "polar": {
           "angularaxis": {
            "gridcolor": "white",
            "linecolor": "white",
            "ticks": ""
           },
           "bgcolor": "#E5ECF6",
           "radialaxis": {
            "gridcolor": "white",
            "linecolor": "white",
            "ticks": ""
           }
          },
          "scene": {
           "xaxis": {
            "backgroundcolor": "#E5ECF6",
            "gridcolor": "white",
            "gridwidth": 2,
            "linecolor": "white",
            "showbackground": true,
            "ticks": "",
            "zerolinecolor": "white"
           },
           "yaxis": {
            "backgroundcolor": "#E5ECF6",
            "gridcolor": "white",
            "gridwidth": 2,
            "linecolor": "white",
            "showbackground": true,
            "ticks": "",
            "zerolinecolor": "white"
           },
           "zaxis": {
            "backgroundcolor": "#E5ECF6",
            "gridcolor": "white",
            "gridwidth": 2,
            "linecolor": "white",
            "showbackground": true,
            "ticks": "",
            "zerolinecolor": "white"
           }
          },
          "shapedefaults": {
           "line": {
            "color": "#2a3f5f"
           }
          },
          "ternary": {
           "aaxis": {
            "gridcolor": "white",
            "linecolor": "white",
            "ticks": ""
           },
           "baxis": {
            "gridcolor": "white",
            "linecolor": "white",
            "ticks": ""
           },
           "bgcolor": "#E5ECF6",
           "caxis": {
            "gridcolor": "white",
            "linecolor": "white",
            "ticks": ""
           }
          },
          "title": {
           "x": 0.05
          },
          "xaxis": {
           "automargin": true,
           "gridcolor": "white",
           "linecolor": "white",
           "ticks": "",
           "title": {
            "standoff": 15
           },
           "zerolinecolor": "white",
           "zerolinewidth": 2
          },
          "yaxis": {
           "automargin": true,
           "gridcolor": "white",
           "linecolor": "white",
           "ticks": "",
           "title": {
            "standoff": 15
           },
           "zerolinecolor": "white",
           "zerolinewidth": 2
          }
         }
        },
        "title": {
         "text": "포스트 코로나 이전 이후 지역별 카드량 비교 Bar Chart"
        },
        "xaxis": {
         "showgrid": false,
         "showticklabels": true,
         "zeroline": false
        },
        "yaxis": {
         "gridcolor": "white",
         "zeroline": false
        }
       }
      },
      "text/html": [
       "<div>\n",
       "        \n",
       "        \n",
       "            <div id=\"32c7fbc7-4b00-421f-9f89-42c2308dc694\" class=\"plotly-graph-div\" style=\"height:525px; width:100%;\"></div>\n",
       "            <script type=\"text/javascript\">\n",
       "                require([\"plotly\"], function(Plotly) {\n",
       "                    window.PLOTLYENV=window.PLOTLYENV || {};\n",
       "                    \n",
       "                if (document.getElementById(\"32c7fbc7-4b00-421f-9f89-42c2308dc694\")) {\n",
       "                    Plotly.newPlot(\n",
       "                        '32c7fbc7-4b00-421f-9f89-42c2308dc694',\n",
       "                        [{\"marker\": {\"color\": [\"lightsteelblue\", \"lightsteelblue\", \"lightsteelblue\", \"lightsteelblue\", \"lightsteelblue\", \"lightsteelblue\", \"lightsteelblue\", \"lightsteelblue\", \"lightsteelblue\", \"lightsteelblue\", \"lightsteelblue\", \"lightsteelblue\", \"lightsteelblue\", \"lightsteelblue\", \"lightsteelblue\", \"lightsteelblue\", \"lightsteelblue\"]}, \"name\": \"\\ud3c9\\uade0\", \"opacity\": 0.5, \"type\": \"bar\", \"x\": [\"\\uac15\\uc6d0\", \"\\uacbd\\uae30\", \"\\uacbd\\ub0a8\", \"\\uacbd\\ubd81\", \"\\uad11\\uc8fc\", \"\\ub300\\uad6c\", \"\\ub300\\uc804\", \"\\ubd80\\uc0b0\", \"\\uc11c\\uc6b8\", \"\\uc138\\uc885\", \"\\uc6b8\\uc0b0\", \"\\uc778\\ucc9c\", \"\\uc804\\ub0a8\", \"\\uc804\\ubd81\", \"\\uc81c\\uc8fc\", \"\\ucda9\\ub0a8\", \"\\ucda9\\ubd81\"], \"y\": [0.8956994064721322, 0.8956994064721322, 0.8956994064721322, 0.8705537487127739, 0.8956994064721322, 0.81637479795433, 0.8956994064721322, 0.8095107927951771, 0.8318453988994472, 0.8956994064721322, 0.8951363987358143, 0.7890038313243248, 0.8956994064721322, 0.8956994064721322, 0.8183797636724542, 0.8956994064721322, 0.8956994064721322]}, {\"marker\": {\"color\": [\"#A56CC1\", \"#A56CC1\", \"#A56CC1\", \"#A56CC1\", \"#A56CC1\", \"#A56CC1\", \"#A56CC1\", \"#A56CC1\", \"#A56CC1\", \"#A56CC1\", \"#A56CC1\", \"#A56CC1\", \"#A56CC1\", \"#A56CC1\", \"#A56CC1\", \"#A56CC1\", \"#A56CC1\"]}, \"name\": \"\\ud3c9\\uade0 \\uc774\\uc0c1\", \"opacity\": 0.4, \"type\": \"bar\", \"x\": [\"\\uac15\\uc6d0\", \"\\uacbd\\uae30\", \"\\uacbd\\ub0a8\", \"\\uacbd\\ubd81\", \"\\uad11\\uc8fc\", \"\\ub300\\uad6c\", \"\\ub300\\uc804\", \"\\ubd80\\uc0b0\", \"\\uc11c\\uc6b8\", \"\\uc138\\uc885\", \"\\uc6b8\\uc0b0\", \"\\uc778\\ucc9c\", \"\\uc804\\ub0a8\", \"\\uc804\\ubd81\", \"\\uc81c\\uc8fc\", \"\\ucda9\\ub0a8\", \"\\ucda9\\ubd81\"], \"y\": [0.02094344449823482, 0.04424402144664796, 0.03890953912344397, 0, 0.07411340130937127, 0, 0.0070596199176451435, 0, 0, 0.08162260922020759, 0, 0, 0.07847821252434695, 0.020208359325076808, 0, 0.02135738002411558, 0.052154525821514475]}],\n",
       "                        {\"barmode\": \"stack\", \"paper_bgcolor\": \"rgb(243, 243, 243)\", \"plot_bgcolor\": \"rgb(243, 243, 243)\", \"template\": {\"data\": {\"bar\": [{\"error_x\": {\"color\": \"#2a3f5f\"}, \"error_y\": {\"color\": \"#2a3f5f\"}, \"marker\": {\"line\": {\"color\": \"#E5ECF6\", \"width\": 0.5}}, \"type\": \"bar\"}], \"barpolar\": [{\"marker\": {\"line\": {\"color\": \"#E5ECF6\", \"width\": 0.5}}, \"type\": \"barpolar\"}], \"carpet\": [{\"aaxis\": {\"endlinecolor\": \"#2a3f5f\", \"gridcolor\": \"white\", \"linecolor\": \"white\", \"minorgridcolor\": \"white\", \"startlinecolor\": \"#2a3f5f\"}, \"baxis\": {\"endlinecolor\": \"#2a3f5f\", \"gridcolor\": \"white\", \"linecolor\": \"white\", \"minorgridcolor\": \"white\", \"startlinecolor\": \"#2a3f5f\"}, \"type\": \"carpet\"}], \"choropleth\": [{\"colorbar\": {\"outlinewidth\": 0, \"ticks\": \"\"}, \"type\": \"choropleth\"}], \"contour\": [{\"colorbar\": {\"outlinewidth\": 0, \"ticks\": \"\"}, \"colorscale\": [[0.0, \"#0d0887\"], [0.1111111111111111, \"#46039f\"], [0.2222222222222222, \"#7201a8\"], [0.3333333333333333, \"#9c179e\"], [0.4444444444444444, \"#bd3786\"], [0.5555555555555556, \"#d8576b\"], [0.6666666666666666, \"#ed7953\"], [0.7777777777777778, \"#fb9f3a\"], [0.8888888888888888, \"#fdca26\"], [1.0, \"#f0f921\"]], \"type\": \"contour\"}], \"contourcarpet\": [{\"colorbar\": {\"outlinewidth\": 0, \"ticks\": \"\"}, \"type\": \"contourcarpet\"}], \"heatmap\": [{\"colorbar\": {\"outlinewidth\": 0, \"ticks\": \"\"}, \"colorscale\": [[0.0, \"#0d0887\"], [0.1111111111111111, \"#46039f\"], [0.2222222222222222, \"#7201a8\"], [0.3333333333333333, \"#9c179e\"], [0.4444444444444444, \"#bd3786\"], [0.5555555555555556, \"#d8576b\"], [0.6666666666666666, \"#ed7953\"], [0.7777777777777778, \"#fb9f3a\"], [0.8888888888888888, \"#fdca26\"], [1.0, \"#f0f921\"]], \"type\": \"heatmap\"}], \"heatmapgl\": [{\"colorbar\": {\"outlinewidth\": 0, \"ticks\": \"\"}, \"colorscale\": [[0.0, \"#0d0887\"], [0.1111111111111111, \"#46039f\"], [0.2222222222222222, \"#7201a8\"], [0.3333333333333333, \"#9c179e\"], [0.4444444444444444, \"#bd3786\"], [0.5555555555555556, \"#d8576b\"], [0.6666666666666666, \"#ed7953\"], [0.7777777777777778, \"#fb9f3a\"], [0.8888888888888888, \"#fdca26\"], [1.0, \"#f0f921\"]], \"type\": \"heatmapgl\"}], \"histogram\": [{\"marker\": {\"colorbar\": {\"outlinewidth\": 0, \"ticks\": \"\"}}, \"type\": \"histogram\"}], \"histogram2d\": [{\"colorbar\": {\"outlinewidth\": 0, \"ticks\": \"\"}, \"colorscale\": [[0.0, \"#0d0887\"], [0.1111111111111111, \"#46039f\"], [0.2222222222222222, \"#7201a8\"], [0.3333333333333333, \"#9c179e\"], [0.4444444444444444, \"#bd3786\"], [0.5555555555555556, \"#d8576b\"], [0.6666666666666666, \"#ed7953\"], [0.7777777777777778, \"#fb9f3a\"], [0.8888888888888888, \"#fdca26\"], [1.0, \"#f0f921\"]], \"type\": \"histogram2d\"}], \"histogram2dcontour\": [{\"colorbar\": {\"outlinewidth\": 0, \"ticks\": \"\"}, \"colorscale\": [[0.0, \"#0d0887\"], [0.1111111111111111, \"#46039f\"], [0.2222222222222222, \"#7201a8\"], [0.3333333333333333, \"#9c179e\"], [0.4444444444444444, \"#bd3786\"], [0.5555555555555556, \"#d8576b\"], [0.6666666666666666, \"#ed7953\"], [0.7777777777777778, \"#fb9f3a\"], [0.8888888888888888, \"#fdca26\"], [1.0, \"#f0f921\"]], \"type\": \"histogram2dcontour\"}], \"mesh3d\": [{\"colorbar\": {\"outlinewidth\": 0, \"ticks\": \"\"}, \"type\": \"mesh3d\"}], \"parcoords\": [{\"line\": {\"colorbar\": {\"outlinewidth\": 0, \"ticks\": \"\"}}, \"type\": \"parcoords\"}], \"pie\": [{\"automargin\": true, \"type\": \"pie\"}], \"scatter\": [{\"marker\": {\"colorbar\": {\"outlinewidth\": 0, \"ticks\": \"\"}}, \"type\": \"scatter\"}], \"scatter3d\": [{\"line\": {\"colorbar\": {\"outlinewidth\": 0, \"ticks\": \"\"}}, \"marker\": {\"colorbar\": {\"outlinewidth\": 0, \"ticks\": \"\"}}, \"type\": \"scatter3d\"}], \"scattercarpet\": [{\"marker\": {\"colorbar\": {\"outlinewidth\": 0, \"ticks\": \"\"}}, \"type\": \"scattercarpet\"}], \"scattergeo\": [{\"marker\": {\"colorbar\": {\"outlinewidth\": 0, \"ticks\": \"\"}}, \"type\": \"scattergeo\"}], \"scattergl\": [{\"marker\": {\"colorbar\": {\"outlinewidth\": 0, \"ticks\": \"\"}}, \"type\": \"scattergl\"}], \"scattermapbox\": [{\"marker\": {\"colorbar\": {\"outlinewidth\": 0, \"ticks\": \"\"}}, \"type\": \"scattermapbox\"}], \"scatterpolar\": [{\"marker\": {\"colorbar\": {\"outlinewidth\": 0, \"ticks\": \"\"}}, \"type\": \"scatterpolar\"}], \"scatterpolargl\": [{\"marker\": {\"colorbar\": {\"outlinewidth\": 0, \"ticks\": \"\"}}, \"type\": \"scatterpolargl\"}], \"scatterternary\": [{\"marker\": {\"colorbar\": {\"outlinewidth\": 0, \"ticks\": \"\"}}, \"type\": \"scatterternary\"}], \"surface\": [{\"colorbar\": {\"outlinewidth\": 0, \"ticks\": \"\"}, \"colorscale\": [[0.0, \"#0d0887\"], [0.1111111111111111, \"#46039f\"], [0.2222222222222222, \"#7201a8\"], [0.3333333333333333, \"#9c179e\"], [0.4444444444444444, \"#bd3786\"], [0.5555555555555556, \"#d8576b\"], [0.6666666666666666, \"#ed7953\"], [0.7777777777777778, \"#fb9f3a\"], [0.8888888888888888, \"#fdca26\"], [1.0, \"#f0f921\"]], \"type\": \"surface\"}], \"table\": [{\"cells\": {\"fill\": {\"color\": \"#EBF0F8\"}, \"line\": {\"color\": \"white\"}}, \"header\": {\"fill\": {\"color\": \"#C8D4E3\"}, \"line\": {\"color\": \"white\"}}, \"type\": \"table\"}]}, \"layout\": {\"annotationdefaults\": {\"arrowcolor\": \"#2a3f5f\", \"arrowhead\": 0, \"arrowwidth\": 1}, \"coloraxis\": {\"colorbar\": {\"outlinewidth\": 0, \"ticks\": \"\"}}, \"colorscale\": {\"diverging\": [[0, \"#8e0152\"], [0.1, \"#c51b7d\"], [0.2, \"#de77ae\"], [0.3, \"#f1b6da\"], [0.4, \"#fde0ef\"], [0.5, \"#f7f7f7\"], [0.6, \"#e6f5d0\"], [0.7, \"#b8e186\"], [0.8, \"#7fbc41\"], [0.9, \"#4d9221\"], [1, \"#276419\"]], \"sequential\": [[0.0, \"#0d0887\"], [0.1111111111111111, \"#46039f\"], [0.2222222222222222, \"#7201a8\"], [0.3333333333333333, \"#9c179e\"], [0.4444444444444444, \"#bd3786\"], [0.5555555555555556, \"#d8576b\"], [0.6666666666666666, \"#ed7953\"], [0.7777777777777778, \"#fb9f3a\"], [0.8888888888888888, \"#fdca26\"], [1.0, \"#f0f921\"]], \"sequentialminus\": [[0.0, \"#0d0887\"], [0.1111111111111111, \"#46039f\"], [0.2222222222222222, \"#7201a8\"], [0.3333333333333333, \"#9c179e\"], [0.4444444444444444, \"#bd3786\"], [0.5555555555555556, \"#d8576b\"], [0.6666666666666666, \"#ed7953\"], [0.7777777777777778, \"#fb9f3a\"], [0.8888888888888888, \"#fdca26\"], [1.0, \"#f0f921\"]]}, \"colorway\": [\"#636efa\", \"#EF553B\", \"#00cc96\", \"#ab63fa\", \"#FFA15A\", \"#19d3f3\", \"#FF6692\", \"#B6E880\", \"#FF97FF\", \"#FECB52\"], \"font\": {\"color\": \"#2a3f5f\"}, \"geo\": {\"bgcolor\": \"white\", \"lakecolor\": \"white\", \"landcolor\": \"#E5ECF6\", \"showlakes\": true, \"showland\": true, \"subunitcolor\": \"white\"}, \"hoverlabel\": {\"align\": \"left\"}, \"hovermode\": \"closest\", \"mapbox\": {\"style\": \"light\"}, \"paper_bgcolor\": \"white\", \"plot_bgcolor\": \"#E5ECF6\", \"polar\": {\"angularaxis\": {\"gridcolor\": \"white\", \"linecolor\": \"white\", \"ticks\": \"\"}, \"bgcolor\": \"#E5ECF6\", \"radialaxis\": {\"gridcolor\": \"white\", \"linecolor\": \"white\", \"ticks\": \"\"}}, \"scene\": {\"xaxis\": {\"backgroundcolor\": \"#E5ECF6\", \"gridcolor\": \"white\", \"gridwidth\": 2, \"linecolor\": \"white\", \"showbackground\": true, \"ticks\": \"\", \"zerolinecolor\": \"white\"}, \"yaxis\": {\"backgroundcolor\": \"#E5ECF6\", \"gridcolor\": \"white\", \"gridwidth\": 2, \"linecolor\": \"white\", \"showbackground\": true, \"ticks\": \"\", \"zerolinecolor\": \"white\"}, \"zaxis\": {\"backgroundcolor\": \"#E5ECF6\", \"gridcolor\": \"white\", \"gridwidth\": 2, \"linecolor\": \"white\", \"showbackground\": true, \"ticks\": \"\", \"zerolinecolor\": \"white\"}}, \"shapedefaults\": {\"line\": {\"color\": \"#2a3f5f\"}}, \"ternary\": {\"aaxis\": {\"gridcolor\": \"white\", \"linecolor\": \"white\", \"ticks\": \"\"}, \"baxis\": {\"gridcolor\": \"white\", \"linecolor\": \"white\", \"ticks\": \"\"}, \"bgcolor\": \"#E5ECF6\", \"caxis\": {\"gridcolor\": \"white\", \"linecolor\": \"white\", \"ticks\": \"\"}}, \"title\": {\"x\": 0.05}, \"xaxis\": {\"automargin\": true, \"gridcolor\": \"white\", \"linecolor\": \"white\", \"ticks\": \"\", \"title\": {\"standoff\": 15}, \"zerolinecolor\": \"white\", \"zerolinewidth\": 2}, \"yaxis\": {\"automargin\": true, \"gridcolor\": \"white\", \"linecolor\": \"white\", \"ticks\": \"\", \"title\": {\"standoff\": 15}, \"zerolinecolor\": \"white\", \"zerolinewidth\": 2}}}, \"title\": {\"text\": \"\\ud3ec\\uc2a4\\ud2b8 \\ucf54\\ub85c\\ub098 \\uc774\\uc804 \\uc774\\ud6c4 \\uc9c0\\uc5ed\\ubcc4 \\uce74\\ub4dc\\ub7c9 \\ube44\\uad50 Bar Chart\"}, \"xaxis\": {\"showgrid\": false, \"showticklabels\": true, \"zeroline\": false}, \"yaxis\": {\"gridcolor\": \"white\", \"zeroline\": false}},\n",
       "                        {\"responsive\": true}\n",
       "                    ).then(function(){\n",
       "                            \n",
       "var gd = document.getElementById('32c7fbc7-4b00-421f-9f89-42c2308dc694');\n",
       "var x = new MutationObserver(function (mutations, observer) {{\n",
       "        var display = window.getComputedStyle(gd).display;\n",
       "        if (!display || display === 'none') {{\n",
       "            console.log([gd, 'removed!']);\n",
       "            Plotly.purge(gd);\n",
       "            observer.disconnect();\n",
       "        }}\n",
       "}});\n",
       "\n",
       "// Listen for the removal of the full notebook cells\n",
       "var notebookContainer = gd.closest('#notebook-container');\n",
       "if (notebookContainer) {{\n",
       "    x.observe(notebookContainer, {childList: true});\n",
       "}}\n",
       "\n",
       "// Listen for the clearing of the current output cell\n",
       "var outputEl = gd.closest('.output');\n",
       "if (outputEl) {{\n",
       "    x.observe(outputEl, {childList: true});\n",
       "}}\n",
       "\n",
       "                        })\n",
       "                };\n",
       "                });\n",
       "            </script>\n",
       "        </div>"
      ]
     },
     "metadata": {},
     "output_type": "display_data"
    }
   ],
   "source": [
    "df201903=df3[df3['REG_YYMM'].isin([201902,201903,201904])]\n",
    "df202003=df3[df3['REG_YYMM'].isin([202002,202003,202004])]\n",
    "df1903=df201903.groupby('CARD_SIDO_NM').sum()\n",
    "df202003 = df202003.groupby('CARD_SIDO_NM').sum()\n",
    "dfminus = df202003['AMT']/df1903['AMT']\n",
    "\n",
    "fig = go.Figure()\n",
    "li1=[] #아래\n",
    "li2=[] #위\n",
    "for i in dfminus :\n",
    "    if i > dfminus.mean() :\n",
    "        li1.append(dfminus.mean())\n",
    "        li2.append(i-dfminus.mean())\n",
    "    else :\n",
    "        li1.append(i)\n",
    "        li2.append(0)\n",
    "        \n",
    "colors1 = ['lightsteelblue']*len(dfminus.index)\n",
    "colors2 = ['#A56CC1']*len(dfminus.index)\n",
    "fig = go.Figure(data=[\n",
    "    go.Bar(name='평균', x=dfminus.index, y=li1,marker_color=colors1,opacity=0.5),\n",
    "    go.Bar(name='평균 이상', x=dfminus.index, y=li2, marker_color=colors2,opacity=0.4)\n",
    "])\n",
    "# Change the bar mode\n",
    "fig.update_layout(barmode='stack')\n",
    "fig.update_layout(title_text=\"포스트 코로나 이전 이후 지역별 카드량 비교 Bar Chart\", paper_bgcolor='rgb(243, 243, 243)',\n",
    "    plot_bgcolor='rgb(243, 243, 243)', xaxis=dict(showgrid=False, zeroline=False, showticklabels=True),\n",
    "    yaxis=dict(zeroline=False, gridcolor='white'))\n",
    "fig.show()"
   ]
  },
  {
   "cell_type": "markdown",
   "metadata": {},
   "source": [
    "##  &nbsp;&nbsp;&nbsp;&nbsp;&nbsp;&nbsp; &nbsp;&nbsp;&nbsp;&nbsp;&nbsp;&nbsp; &nbsp;&nbsp;&nbsp;&nbsp;4.포스트 코로나 이전 이후  특정 지역의 업종별 카드 사용량 비교\n",
    "  &nbsp;&nbsp;&nbsp;&nbsp;&nbsp;&nbsp;\n",
    "  \n",
    "  \n",
    "  \n",
    "  \n",
    "  \n",
    "  \n",
    "  \n",
    "  \n",
    "  \n",
    "  \n",
    "  \n",
    "   &nbsp;&nbsp;&nbsp;&nbsp;&nbsp;&nbsp;\n",
    "### 포스트 코로나 이전 이후  특정 지역의 업종별 카드 사용량 시각화\n",
    "\n",
    "#### 타 업종보다 코로나 타격을 덜받은 업종을 시각화  \n",
    "    - 특정 사업 진출 의사 결정 지원"
   ]
  },
  {
   "cell_type": "code",
   "execution_count": 10,
   "metadata": {},
   "outputs": [],
   "source": [
    "import plotly.graph_objects as go\n",
    "import pandas as pd\n",
    "import copy"
   ]
  },
  {
   "cell_type": "code",
   "execution_count": 11,
   "metadata": {
    "scrolled": false
   },
   "outputs": [
    {
     "data": {
      "application/vnd.plotly.v1+json": {
       "config": {
        "plotlyServerURL": "https://plot.ly"
       },
       "data": [
        {
         "marker": {
          "color": [
           "lightslategray",
           "lightslategray",
           "crimson",
           "lightslategray",
           "lightslategray",
           "crimson",
           "lightslategray",
           "lightslategray",
           "lightslategray",
           "lightslategray",
           "crimson",
           "lightslategray",
           "lightslategray",
           "lightslategray",
           "lightslategray",
           "lightslategray",
           "lightslategray",
           "lightslategray",
           "crimson",
           "lightslategray",
           "lightslategray",
           "lightslategray",
           "lightslategray",
           "crimson",
           "lightslategray",
           "lightslategray",
           "lightslategray",
           "lightslategray",
           "lightslategray",
           "lightslategray",
           "lightslategray",
           "crimson",
           "lightslategray",
           "lightslategray",
           "lightslategray",
           "lightslategray",
           "lightslategray",
           "lightslategray",
           "lightslategray",
           "lightslategray",
           "lightslategray"
          ]
         },
         "name": "울산",
         "opacity": 0.5,
         "type": "bar",
         "visible": false,
         "x": [
          "건강보조식품 소매업",
          "골프장 운영업",
          "과실 및 채소 소매업",
          "관광 민예품 및 선물용품 소매업",
          "그외 기타 스포츠시설 운영업",
          "그외 기타 종합 소매업",
          "기타 대형 종합 소매업",
          "기타 수상오락 서비스업",
          "기타 외국식 음식점업",
          "기타 주점업",
          "기타음식료품위주종합소매업",
          "마사지업",
          "면세점",
          "버스 운송업",
          "비알콜 음료점업",
          "빵 및 과자류 소매업",
          "서양식 음식점업",
          "수산물 소매업",
          "슈퍼마켓",
          "스포츠 및 레크레이션 용품 임대업",
          "여관업",
          "여행사업",
          "욕탕업",
          "육류 소매업",
          "일반유흥 주점업",
          "일식 음식점업",
          "자동차 임대업",
          "전시 및 행사 대행업",
          "중식 음식점업",
          "차량용 가스 충전업",
          "차량용 주유소 운영업",
          "체인화 편의점",
          "피자 햄버거 샌드위치 및 유사 음식점업",
          "한식 음식점업",
          "호텔업",
          "화장품 및 방향제 소매업"
         ],
         "y": [
          0.8738404526764726,
          0.9725486257035829,
          1.082700092773491,
          0.35174107423965745,
          0.04632373584552516,
          1.190423211646761,
          0.7166436887060512,
          0.16962052843318473,
          0.5658779698716464,
          0.5818813409577918,
          1.1573540013068693,
          0.6029163172207294,
          null,
          0.03043878665239255,
          0.8068846531029832,
          0.9460938030300841,
          0.7391171448405582,
          0.8242089822341458,
          1.2161901623705342,
          0.7083990125908657,
          0.6479655409818355,
          0.040533860603064756,
          0.5636113185980793,
          1.2976130103759707,
          0.6649962925576038,
          0.6131193481802745,
          0.29119575833682154,
          0.044243256825675495,
          0.8311234460938556,
          0.8937983431570097,
          0.8739811941267083,
          1.026356028412105,
          0.903666199985836,
          0.7009451126182626,
          0.6173036379794304,
          0.6035448556081909
         ]
        },
        {
         "marker": {
          "color": [
           "lightslategray",
           "crimson",
           "crimson",
           "lightslategray",
           "lightslategray",
           "crimson",
           "lightslategray",
           "lightslategray",
           "lightslategray",
           "lightslategray",
           "lightslategray",
           "lightslategray",
           "lightslategray",
           "lightslategray",
           "lightslategray",
           "lightslategray",
           "lightslategray",
           "lightslategray",
           "crimson",
           "crimson",
           "lightslategray",
           "lightslategray",
           "lightslategray",
           "lightslategray",
           "crimson",
           "lightslategray",
           "lightslategray",
           "lightslategray",
           "lightslategray",
           "lightslategray",
           "lightslategray",
           "lightslategray",
           "lightslategray",
           "lightslategray",
           "lightslategray",
           "lightslategray",
           "lightslategray",
           "lightslategray",
           "lightslategray",
           "lightslategray",
           "lightslategray"
          ]
         },
         "name": "서울",
         "opacity": 0.5,
         "type": "bar",
         "visible": false,
         "x": [
          "건강보조식품 소매업",
          "골프장 운영업",
          "과실 및 채소 소매업",
          "관광 민예품 및 선물용품 소매업",
          "그외 기타 스포츠시설 운영업",
          "그외 기타 종합 소매업",
          "기타 대형 종합 소매업",
          "기타 수상오락 서비스업",
          "기타 외국식 음식점업",
          "기타 주점업",
          "기타음식료품위주종합소매업",
          "내항 여객 운송업",
          "마사지업",
          "면세점",
          "버스 운송업",
          "비알콜 음료점업",
          "빵 및 과자류 소매업",
          "서양식 음식점업",
          "수산물 소매업",
          "슈퍼마켓",
          "스포츠 및 레크레이션 용품 임대업",
          "여관업",
          "여행사업",
          "욕탕업",
          "육류 소매업",
          "일반유흥 주점업",
          "일식 음식점업",
          "자동차 임대업",
          "전시 및 행사 대행업",
          "정기 항공 운송업",
          "중식 음식점업",
          "차량용 가스 충전업",
          "차량용 주유소 운영업",
          "체인화 편의점",
          "택시 운송업",
          "피자 햄버거 샌드위치 및 유사 음식점업",
          "한식 음식점업",
          "호텔업",
          "화장품 및 방향제 소매업"
         ],
         "y": [
          0.8780182606774274,
          1.1432969635903123,
          1.2245668722130862,
          0.3796764086407362,
          0.5160982746212084,
          1.1741871879945096,
          0.8146583204523014,
          0.5566114434316296,
          0.693136937929736,
          0.5542708331320519,
          0.9898727488097492,
          0.5452284825457717,
          0.5553043863801982,
          0.006542716107944689,
          0.17955640840762302,
          0.8275691047802722,
          0.8752609566007536,
          0.7747294622667438,
          1.2928976117709847,
          1.1264848998237897,
          0.7168517206826093,
          0.6052295811829623,
          0.03190018782545094,
          0.470155134576211,
          1.3226567682870969,
          0.3913880020816684,
          0.7521656113083317,
          0.48910386401712697,
          0.14695100197017638,
          0.073369508630204,
          0.7169905939342104,
          0.834798069618861,
          0.8675764934294633,
          0.9422769260061009,
          0.7559443011921069,
          0.9150716892070537,
          0.7355592686706812,
          0.38865205970633315,
          0.7129487348275629
         ]
        },
        {
         "marker": {
          "color": [
           "crimson",
           "lightslategray",
           "crimson",
           "lightslategray",
           "lightslategray",
           "lightslategray",
           "lightslategray",
           "lightslategray",
           "lightslategray",
           "lightslategray",
           "lightslategray",
           "crimson",
           "lightslategray",
           "lightslategray",
           "lightslategray",
           "lightslategray",
           "lightslategray",
           "lightslategray",
           "lightslategray",
           "crimson",
           "lightslategray",
           "lightslategray",
           "lightslategray",
           "lightslategray",
           "crimson",
           "lightslategray",
           "lightslategray",
           "lightslategray",
           "lightslategray",
           "lightslategray",
           "lightslategray",
           "lightslategray",
           "lightslategray",
           "lightslategray",
           "lightslategray",
           "lightslategray",
           "lightslategray",
           "lightslategray",
           "lightslategray",
           "lightslategray",
           "lightslategray"
          ]
         },
         "name": "경북",
         "opacity": 0.5,
         "type": "bar",
         "visible": false,
         "x": [
          "건강보조식품 소매업",
          "골프장 운영업",
          "과실 및 채소 소매업",
          "관광 민예품 및 선물용품 소매업",
          "그외 기타 분류안된 오락관련 서비스업",
          "그외 기타 스포츠시설 운영업",
          "그외 기타 종합 소매업",
          "기타 대형 종합 소매업",
          "기타 수상오락 서비스업",
          "기타 외국식 음식점업",
          "기타 주점업",
          "기타음식료품위주종합소매업",
          "내항 여객 운송업",
          "마사지업",
          "버스 운송업",
          "비알콜 음료점업",
          "빵 및 과자류 소매업",
          "서양식 음식점업",
          "수산물 소매업",
          "슈퍼마켓",
          "스포츠 및 레크레이션 용품 임대업",
          "여관업",
          "여행사업",
          "욕탕업",
          "육류 소매업",
          "일반유흥 주점업",
          "일식 음식점업",
          "자동차 임대업",
          "전시 및 행사 대행업",
          "중식 음식점업",
          "차량용 가스 충전업",
          "차량용 주유소 운영업",
          "체인화 편의점",
          "택시 운송업",
          "피자 햄버거 샌드위치 및 유사 음식점업",
          "한식 음식점업",
          "호텔업",
          "화장품 및 방향제 소매업",
          "휴양콘도 운영업"
         ],
         "y": [
          1.0050988878819815,
          0.8670291309678038,
          1.1120882828020342,
          0.7328021913363139,
          null,
          0.09237706971553511,
          0.9962149861762661,
          0.841870208243979,
          0.5121913179100598,
          0.5124222644183707,
          0.5461882237326177,
          1.226635513735522,
          null,
          0.2939423711888157,
          null,
          0.7366119582493043,
          0.9072984711425225,
          0.6839575283685602,
          0.8799477882821856,
          1.243578314874218,
          0.6144713712538606,
          0.4621309277371174,
          0.8874542301021391,
          0.36527680310404875,
          1.3768389822027918,
          0.5328695083225431,
          0.6122238725727515,
          0.3119193059642039,
          0.16551481426304238,
          0.792344823258734,
          0.847008760347504,
          0.8287327461361066,
          0.9634650550492154,
          0.5571940314587374,
          0.8534671061406206,
          0.5981059222114291,
          0.0812507793982564,
          0.5642256808001495,
          0.03657177184529073
         ]
        },
        {
         "marker": {
          "color": [
           "crimson",
           "crimson",
           "crimson",
           "lightslategray",
           "lightslategray",
           "crimson",
           "lightslategray",
           "lightslategray",
           "lightslategray",
           "lightslategray",
           "crimson",
           "lightslategray",
           "lightslategray",
           "crimson",
           "lightslategray",
           "lightslategray",
           "lightslategray",
           "crimson",
           "crimson",
           "lightslategray",
           "lightslategray",
           "lightslategray",
           "lightslategray",
           "crimson",
           "lightslategray",
           "lightslategray",
           "crimson",
           "lightslategray",
           "lightslategray",
           "crimson",
           "lightslategray",
           "crimson",
           "lightslategray",
           "lightslategray",
           "lightslategray",
           "lightslategray",
           "lightslategray",
           "lightslategray",
           "lightslategray",
           "lightslategray",
           "lightslategray"
          ]
         },
         "name": "경기",
         "opacity": 0.5,
         "type": "bar",
         "visible": false,
         "x": [
          "건강보조식품 소매업",
          "골프장 운영업",
          "과실 및 채소 소매업",
          "관광 민예품 및 선물용품 소매업",
          "그외 기타 스포츠시설 운영업",
          "그외 기타 종합 소매업",
          "기타 대형 종합 소매업",
          "기타 수상오락 서비스업",
          "기타 외국식 음식점업",
          "기타 주점업",
          "기타음식료품위주종합소매업",
          "내항 여객 운송업",
          "마사지업",
          "버스 운송업",
          "비알콜 음료점업",
          "빵 및 과자류 소매업",
          "서양식 음식점업",
          "수산물 소매업",
          "슈퍼마켓",
          "스포츠 및 레크레이션 용품 임대업",
          "여관업",
          "여행사업",
          "욕탕업",
          "육류 소매업",
          "일반유흥 주점업",
          "일식 음식점업",
          "자동차 임대업",
          "전시 및 행사 대행업",
          "중식 음식점업",
          "차량용 가스 충전업",
          "차량용 주유소 운영업",
          "체인화 편의점",
          "택시 운송업",
          "피자 햄버거 샌드위치 및 유사 음식점업",
          "한식 음식점업",
          "호텔업",
          "화장품 및 방향제 소매업",
          "휴양콘도 운영업"
         ],
         "y": [
          1.0565461359213195,
          1.0151771759572303,
          1.3464670391238032,
          0.7482577184704347,
          0.1392653640878154,
          1.1106281256765032,
          0.8286436881856091,
          0.7944414773271068,
          0.7512914227148085,
          0.7140350715676668,
          1.2799969472608725,
          0.6213946695874407,
          0.6046546838497119,
          81.85014423563693,
          0.9439893267510956,
          0.9705614834136689,
          0.9148960336071826,
          1.4446697511308773,
          1.2133155169901688,
          0.7811878667856875,
          0.6866080528689769,
          0.08922878421374131,
          0.4406467398364201,
          1.381193431076855,
          0.6357122314842995,
          0.7985732602786553,
          2.372934460314069,
          0.3160261140472719,
          0.8736501771360867,
          1.0073465687563297,
          0.8855937440190838,
          1.0569881177479346,
          0.75022613714011,
          0.9270198469105738,
          0.8081733993999153,
          0.22157180125530368,
          0.6188873977412459,
          0.5627771471694035
         ]
        },
        {
         "marker": {
          "color": [
           "crimson",
           "crimson",
           "lightslategray",
           "lightslategray",
           "lightslategray",
           "crimson",
           "lightslategray",
           "lightslategray",
           "lightslategray",
           "lightslategray",
           "crimson",
           "lightslategray",
           "lightslategray",
           "lightslategray",
           "lightslategray",
           "lightslategray",
           "lightslategray",
           "lightslategray",
           "lightslategray",
           "crimson",
           "lightslategray",
           "lightslategray",
           "lightslategray",
           "lightslategray",
           "crimson",
           "lightslategray",
           "lightslategray",
           "lightslategray",
           "lightslategray",
           "lightslategray",
           "lightslategray",
           "lightslategray",
           "lightslategray",
           "lightslategray",
           "lightslategray",
           "lightslategray",
           "lightslategray",
           "lightslategray",
           "lightslategray",
           "lightslategray",
           "lightslategray"
          ]
         },
         "name": "부산",
         "opacity": 0.5,
         "type": "bar",
         "visible": false,
         "x": [
          "건강보조식품 소매업",
          "골프장 운영업",
          "과실 및 채소 소매업",
          "관광 민예품 및 선물용품 소매업",
          "그외 기타 스포츠시설 운영업",
          "그외 기타 종합 소매업",
          "기타 대형 종합 소매업",
          "기타 수상오락 서비스업",
          "기타 외국식 음식점업",
          "기타 주점업",
          "기타음식료품위주종합소매업",
          "내항 여객 운송업",
          "마사지업",
          "면세점",
          "버스 운송업",
          "비알콜 음료점업",
          "빵 및 과자류 소매업",
          "서양식 음식점업",
          "수산물 소매업",
          "슈퍼마켓",
          "스포츠 및 레크레이션 용품 임대업",
          "여관업",
          "여행사업",
          "욕탕업",
          "육류 소매업",
          "일반유흥 주점업",
          "일식 음식점업",
          "자동차 임대업",
          "전시 및 행사 대행업",
          "정기 항공 운송업",
          "중식 음식점업",
          "차량용 가스 충전업",
          "차량용 주유소 운영업",
          "체인화 편의점",
          "택시 운송업",
          "피자 햄버거 샌드위치 및 유사 음식점업",
          "한식 음식점업",
          "호텔업",
          "화장품 및 방향제 소매업",
          "휴양콘도 운영업"
         ],
         "y": [
          1.0019353477577009,
          1.072590806251359,
          0.7994130204184463,
          0.47447691115467017,
          0.08501185177737992,
          1.0304841769765962,
          0.8769990089821377,
          0.20373126202315706,
          0.5665292702192404,
          0.6834480089321273,
          1.2933821702677262,
          null,
          0.677267175016997,
          0.0029998385989051216,
          0.05696388372320642,
          0.6957167002200345,
          0.7963095865085432,
          0.6816021850240814,
          0.9982190630253297,
          1.0863672432113003,
          0.5890845079751696,
          0.5504991201772694,
          0.19298649805591347,
          0.5773509280435309,
          1.2609940831217217,
          0.6701740161544626,
          0.5854800403099115,
          0.15323785957623867,
          0.16027730793804695,
          0.16667947791007892,
          0.7026764637446926,
          0.788285758963507,
          0.8458098260524071,
          0.8804157445964897,
          0.6739073441024872,
          0.7470064268612399,
          0.6405741526191867,
          0.35121707052963114,
          0.6029299410530821,
          0.3810030344983237
         ]
        },
        {
         "marker": {
          "color": [
           "lightslategray",
           "lightslategray",
           "crimson",
           "lightslategray",
           "lightslategray",
           "lightslategray",
           "lightslategray",
           "crimson",
           "lightslategray",
           "lightslategray",
           "crimson",
           "lightslategray",
           "lightslategray",
           "lightslategray",
           "lightslategray",
           "lightslategray",
           "lightslategray",
           "crimson",
           "crimson",
           "lightslategray",
           "lightslategray",
           "lightslategray",
           "lightslategray",
           "crimson",
           "lightslategray",
           "lightslategray",
           "lightslategray",
           "lightslategray",
           "lightslategray",
           "lightslategray",
           "lightslategray",
           "lightslategray",
           "lightslategray",
           "lightslategray",
           "lightslategray",
           "lightslategray",
           "lightslategray",
           "lightslategray",
           "lightslategray",
           "lightslategray",
           "lightslategray"
          ]
         },
         "name": "인천",
         "opacity": 0.5,
         "type": "bar",
         "visible": false,
         "x": [
          "건강보조식품 소매업",
          "골프장 운영업",
          "과실 및 채소 소매업",
          "관광 민예품 및 선물용품 소매업",
          "그외 기타 스포츠시설 운영업",
          "그외 기타 종합 소매업",
          "기타 대형 종합 소매업",
          "기타 수상오락 서비스업",
          "기타 외국식 음식점업",
          "기타 주점업",
          "기타음식료품위주종합소매업",
          "내항 여객 운송업",
          "마사지업",
          "면세점",
          "비알콜 음료점업",
          "빵 및 과자류 소매업",
          "서양식 음식점업",
          "수산물 소매업",
          "슈퍼마켓",
          "스포츠 및 레크레이션 용품 임대업",
          "여관업",
          "여행사업",
          "욕탕업",
          "육류 소매업",
          "일반유흥 주점업",
          "일식 음식점업",
          "자동차 임대업",
          "전시 및 행사 대행업",
          "정기 항공 운송업",
          "중식 음식점업",
          "차량용 가스 충전업",
          "차량용 주유소 운영업",
          "체인화 편의점",
          "택시 운송업",
          "피자 햄버거 샌드위치 및 유사 음식점업",
          "한식 음식점업",
          "호텔업",
          "화장품 및 방향제 소매업"
         ],
         "y": [
          0.8245699500280801,
          0.9619370278681424,
          1.0563569245215938,
          0.6224405848645262,
          0.27332480479950594,
          0.12489997360349715,
          0.8100121221836778,
          1.133222168955958,
          0.7032455622368908,
          0.8084078273923833,
          1.1975963340114861,
          0.17412790173317744,
          0.703106327061613,
          0.04267499871007048,
          0.8255774537938498,
          0.7625565055539789,
          0.7625610179578549,
          1.1933897037931693,
          1.0533211076683313,
          0.6296210317795732,
          0.6757467485451725,
          0.2956931888371048,
          0.4101018844330067,
          1.1219685918244091,
          0.6270798150341209,
          0.6861595058076763,
          0.6804804853338235,
          0.7876505945418576,
          0.28074708247825203,
          0.7176472024890646,
          0.8111968170730831,
          0.8283294229149987,
          0.9520664329025712,
          0.7977490032643854,
          0.7437737134327218,
          0.7157797026287438,
          0.29652824416496065,
          0.5806449608235738
         ]
        },
        {
         "marker": {
          "color": [
           "lightslategray",
           "crimson",
           "crimson",
           "lightslategray",
           "lightslategray",
           "lightslategray",
           "crimson",
           "lightslategray",
           "crimson",
           "lightslategray",
           "lightslategray",
           "crimson",
           "lightslategray",
           "lightslategray",
           "lightslategray",
           "lightslategray",
           "lightslategray",
           "lightslategray",
           "crimson",
           "crimson",
           "lightslategray",
           "lightslategray",
           "lightslategray",
           "lightslategray",
           "crimson",
           "lightslategray",
           "lightslategray",
           "lightslategray",
           "lightslategray",
           "lightslategray",
           "lightslategray",
           "lightslategray",
           "lightslategray",
           "crimson",
           "lightslategray",
           "lightslategray",
           "lightslategray",
           "lightslategray",
           "lightslategray",
           "lightslategray",
           "lightslategray"
          ]
         },
         "name": "충남",
         "opacity": 0.5,
         "type": "bar",
         "visible": false,
         "x": [
          "건강보조식품 소매업",
          "골프장 운영업",
          "과실 및 채소 소매업",
          "관광 민예품 및 선물용품 소매업",
          "그외 기타 분류안된 오락관련 서비스업",
          "그외 기타 스포츠시설 운영업",
          "그외 기타 종합 소매업",
          "기타 대형 종합 소매업",
          "기타 수상오락 서비스업",
          "기타 외국식 음식점업",
          "기타 주점업",
          "기타음식료품위주종합소매업",
          "내항 여객 운송업",
          "마사지업",
          "버스 운송업",
          "비알콜 음료점업",
          "빵 및 과자류 소매업",
          "서양식 음식점업",
          "수산물 소매업",
          "슈퍼마켓",
          "스포츠 및 레크레이션 용품 임대업",
          "여관업",
          "여행사업",
          "욕탕업",
          "육류 소매업",
          "일반유흥 주점업",
          "일식 음식점업",
          "자동차 임대업",
          "전시 및 행사 대행업",
          "정기 항공 운송업",
          "중식 음식점업",
          "차량용 가스 충전업",
          "차량용 주유소 운영업",
          "체인화 편의점",
          "택시 운송업",
          "피자 햄버거 샌드위치 및 유사 음식점업",
          "한식 음식점업",
          "호텔업",
          "화장품 및 방향제 소매업",
          "휴양콘도 운영업"
         ],
         "y": [
          0.6997932883887718,
          1.0501777286215037,
          1.166166546478946,
          0.7837505165782258,
          0.5212155963302753,
          0.07806890544628459,
          1.2577555247352397,
          0.8309911379910283,
          2.014838722439076,
          0.732007250084878,
          0.656400933203439,
          1.3242027622380834,
          null,
          0.4442943665272792,
          null,
          0.8434100165071733,
          0.9402868244989158,
          0.8344624448571691,
          1.0337927212855669,
          1.1955875572655563,
          0.7069633633990301,
          0.6260880314626477,
          0.2005230961352889,
          0.4205662873557506,
          1.3524998066771623,
          0.5579082990422499,
          0.7241425847633662,
          0.06908716742613553,
          0.2704291026896752,
          null,
          0.8978443385042041,
          0.8743045045705967,
          0.8609449633176334,
          1.002136003112173,
          null,
          0.8738643708052042,
          0.7533983122947843,
          0.09742945085918332,
          0.681077343265073,
          0.39029979874707504
         ]
        },
        {
         "marker": {
          "color": [
           "crimson",
           "lightslategray",
           "crimson",
           "crimson",
           "lightslategray",
           "lightslategray",
           "crimson",
           "lightslategray",
           "lightslategray",
           "lightslategray",
           "lightslategray",
           "crimson",
           "lightslategray",
           "lightslategray",
           "lightslategray",
           "lightslategray",
           "crimson",
           "lightslategray",
           "crimson",
           "crimson",
           "lightslategray",
           "lightslategray",
           "lightslategray",
           "lightslategray",
           "crimson",
           "lightslategray",
           "lightslategray",
           "lightslategray",
           "lightslategray",
           "lightslategray",
           "lightslategray",
           "lightslategray",
           "crimson",
           "lightslategray",
           "lightslategray",
           "lightslategray",
           "lightslategray",
           "lightslategray",
           "lightslategray",
           "lightslategray",
           "lightslategray"
          ]
         },
         "name": "경남",
         "opacity": 0.5,
         "type": "bar",
         "visible": false,
         "x": [
          "건강보조식품 소매업",
          "골프장 운영업",
          "과실 및 채소 소매업",
          "관광 민예품 및 선물용품 소매업",
          "그외 기타 분류안된 오락관련 서비스업",
          "그외 기타 스포츠시설 운영업",
          "그외 기타 종합 소매업",
          "기타 대형 종합 소매업",
          "기타 수상오락 서비스업",
          "기타 외국식 음식점업",
          "기타 주점업",
          "기타음식료품위주종합소매업",
          "내항 여객 운송업",
          "마사지업",
          "버스 운송업",
          "비알콜 음료점업",
          "빵 및 과자류 소매업",
          "서양식 음식점업",
          "수산물 소매업",
          "슈퍼마켓",
          "스포츠 및 레크레이션 용품 임대업",
          "여관업",
          "여행사업",
          "욕탕업",
          "육류 소매업",
          "일반유흥 주점업",
          "일식 음식점업",
          "자동차 임대업",
          "전시 및 행사 대행업",
          "중식 음식점업",
          "차량용 가스 충전업",
          "차량용 주유소 운영업",
          "체인화 편의점",
          "택시 운송업",
          "피자 햄버거 샌드위치 및 유사 음식점업",
          "한식 음식점업",
          "호텔업",
          "화장품 및 방향제 소매업",
          "휴양콘도 운영업"
         ],
         "y": [
          1.0267233533348616,
          0.9507533510128731,
          1.2808874994647326,
          1.4856236390650084,
          0.5223587223587224,
          0.06863009027441268,
          1.2238712329544275,
          0.7748951784759317,
          0.24933199252980895,
          0.6679741932895564,
          0.8211446834621127,
          1.2710381851962194,
          0.8710498304449937,
          0.5565169873771089,
          0.0032411876684297655,
          0.9382008236406056,
          1.0290511442236379,
          0.8376224253380985,
          1.0830312395407624,
          1.3064992014041057,
          0.7017935513378469,
          0.7018520383332346,
          0.01338114304232832,
          0.638110588748003,
          1.3898274329905072,
          0.7165789508750648,
          0.7581533315910073,
          0.1456781668236167,
          0.4977344937015298,
          0.9461894225495123,
          0.9421587978939009,
          0.8709515400348709,
          1.0323178453844966,
          0.5058592254246307,
          0.9899787302900539,
          0.7828812452715596,
          0.20361160140079398,
          0.6189545048130622,
          0.18223438619930024
         ]
        },
        {
         "marker": {
          "color": [
           "crimson",
           "crimson",
           "crimson",
           "lightslategray",
           "lightslategray",
           "crimson",
           "lightslategray",
           "lightslategray",
           "lightslategray",
           "lightslategray",
           "crimson",
           "lightslategray",
           "lightslategray",
           "lightslategray",
           "lightslategray",
           "crimson",
           "crimson",
           "lightslategray",
           "lightslategray",
           "lightslategray",
           "crimson",
           "lightslategray",
           "lightslategray",
           "crimson",
           "lightslategray",
           "lightslategray",
           "lightslategray",
           "lightslategray",
           "crimson",
           "lightslategray",
           "lightslategray",
           "lightslategray",
           "lightslategray",
           "lightslategray",
           "lightslategray",
           "lightslategray",
           "lightslategray",
           "lightslategray",
           "lightslategray",
           "lightslategray",
           "lightslategray"
          ]
         },
         "name": "대전",
         "opacity": 0.5,
         "type": "bar",
         "visible": false,
         "x": [
          "건강보조식품 소매업",
          "골프장 운영업",
          "과실 및 채소 소매업",
          "관광 민예품 및 선물용품 소매업",
          "그외 기타 스포츠시설 운영업",
          "그외 기타 종합 소매업",
          "기타 대형 종합 소매업",
          "기타 수상오락 서비스업",
          "기타 외국식 음식점업",
          "기타 주점업",
          "기타음식료품위주종합소매업",
          "마사지업",
          "비알콜 음료점업",
          "빵 및 과자류 소매업",
          "서양식 음식점업",
          "수산물 소매업",
          "슈퍼마켓",
          "스포츠 및 레크레이션 용품 임대업",
          "여관업",
          "욕탕업",
          "육류 소매업",
          "일반유흥 주점업",
          "일식 음식점업",
          "자동차 임대업",
          "전시 및 행사 대행업",
          "중식 음식점업",
          "차량용 가스 충전업",
          "차량용 주유소 운영업",
          "체인화 편의점",
          "피자 햄버거 샌드위치 및 유사 음식점업",
          "한식 음식점업",
          "호텔업",
          "화장품 및 방향제 소매업"
         ],
         "y": [
          1.0247453292482105,
          1.0042221507365257,
          1.4279305569259912,
          0.5851825652345367,
          0.4860731840524304,
          1.0631636058450669,
          0.7767731495641069,
          0.2842455397641367,
          0.7178981134409814,
          0.5717834428439001,
          1.206536431393671,
          0.4938999881827501,
          0.8440729392016456,
          0.84985546125626,
          0.8049424807384151,
          1.3401945429502011,
          1.1999404451662474,
          0.7363214165575074,
          0.5870266801561086,
          0.5058083194947937,
          1.3027577478985461,
          0.43243071331465727,
          0.7064954037323263,
          1.1142808912896691,
          0.1340345210664911,
          0.8983759222008273,
          0.8915024473029837,
          0.866366480869383,
          1.0021303536945076,
          0.8698528042278454,
          0.7514526889331344,
          0.37273438044920154,
          0.5723269041958688
         ]
        },
        {
         "marker": {
          "color": [
           "lightslategray",
           "crimson",
           "crimson",
           "lightslategray",
           "lightslategray",
           "lightslategray",
           "lightslategray",
           "lightslategray",
           "crimson",
           "lightslategray",
           "lightslategray",
           "lightslategray",
           "lightslategray",
           "crimson",
           "crimson",
           "crimson",
           "lightslategray",
           "lightslategray",
           "crimson",
           "lightslategray",
           "lightslategray",
           "lightslategray",
           "lightslategray",
           "lightslategray",
           "lightslategray",
           "lightslategray",
           "lightslategray",
           "lightslategray",
           "lightslategray",
           "lightslategray",
           "lightslategray",
           "lightslategray",
           "lightslategray",
           "lightslategray",
           "lightslategray",
           "lightslategray",
           "lightslategray",
           "lightslategray",
           "lightslategray",
           "lightslategray",
           "lightslategray"
          ]
         },
         "name": "세종",
         "opacity": 0.5,
         "type": "bar",
         "visible": false,
         "x": [
          "건강보조식품 소매업",
          "골프장 운영업",
          "과실 및 채소 소매업",
          "관광 민예품 및 선물용품 소매업",
          "그외 기타 종합 소매업",
          "기타 대형 종합 소매업",
          "기타 외국식 음식점업",
          "기타 주점업",
          "기타음식료품위주종합소매업",
          "마사지업",
          "비알콜 음료점업",
          "빵 및 과자류 소매업",
          "서양식 음식점업",
          "수산물 소매업",
          "슈퍼마켓",
          "스포츠 및 레크레이션 용품 임대업",
          "여관업",
          "욕탕업",
          "육류 소매업",
          "일반유흥 주점업",
          "일식 음식점업",
          "전시 및 행사 대행업",
          "중식 음식점업",
          "차량용 가스 충전업",
          "차량용 주유소 운영업",
          "체인화 편의점",
          "피자 햄버거 샌드위치 및 유사 음식점업",
          "한식 음식점업",
          "화장품 및 방향제 소매업"
         ],
         "y": [
          0.8135236666767269,
          1.1742318903217097,
          1.1618374953421906,
          null,
          0.29051676355451667,
          0.9872846784782789,
          0.6390386576141752,
          0.45569620253164556,
          1.457681878806228,
          0.13897617840851495,
          0.8183695965720653,
          0.9503959814139785,
          0.7497110023416865,
          1.3246212479310595,
          1.1130606043603812,
          1.0899973554331668,
          0.5468392447968029,
          0.4916369957667873,
          1.2970693269451972,
          0.6264759136000816,
          0.5828473474163202,
          0.0331822525583234,
          0.8111055806397649,
          0.8205297938079145,
          0.9290734926448279,
          0.9732002672489285,
          0.9043619762795573,
          0.7170171489512629,
          0.731161805860925
         ]
        },
        {
         "marker": {
          "color": [
           "lightslategray",
           "crimson",
           "crimson",
           "crimson",
           "lightslategray",
           "crimson",
           "lightslategray",
           "lightslategray",
           "lightslategray",
           "lightslategray",
           "crimson",
           "lightslategray",
           "lightslategray",
           "lightslategray",
           "lightslategray",
           "lightslategray",
           "crimson",
           "lightslategray",
           "crimson",
           "crimson",
           "lightslategray",
           "lightslategray",
           "lightslategray",
           "lightslategray",
           "crimson",
           "lightslategray",
           "lightslategray",
           "lightslategray",
           "lightslategray",
           "lightslategray",
           "lightslategray",
           "lightslategray",
           "crimson",
           "crimson",
           "lightslategray",
           "lightslategray",
           "lightslategray",
           "lightslategray",
           "lightslategray",
           "lightslategray",
           "lightslategray"
          ]
         },
         "name": "충북",
         "opacity": 0.5,
         "type": "bar",
         "visible": false,
         "x": [
          "건강보조식품 소매업",
          "골프장 운영업",
          "과실 및 채소 소매업",
          "관광 민예품 및 선물용품 소매업",
          "그외 기타 스포츠시설 운영업",
          "그외 기타 종합 소매업",
          "기타 대형 종합 소매업",
          "기타 수상오락 서비스업",
          "기타 외국식 음식점업",
          "기타 주점업",
          "기타음식료품위주종합소매업",
          "내항 여객 운송업",
          "마사지업",
          "면세점",
          "버스 운송업",
          "비알콜 음료점업",
          "빵 및 과자류 소매업",
          "서양식 음식점업",
          "수산물 소매업",
          "슈퍼마켓",
          "스포츠 및 레크레이션 용품 임대업",
          "여관업",
          "여행사업",
          "욕탕업",
          "육류 소매업",
          "일반유흥 주점업",
          "일식 음식점업",
          "자동차 임대업",
          "전시 및 행사 대행업",
          "중식 음식점업",
          "차량용 가스 충전업",
          "차량용 주유소 운영업",
          "체인화 편의점",
          "택시 운송업",
          "피자 햄버거 샌드위치 및 유사 음식점업",
          "한식 음식점업",
          "호텔업",
          "화장품 및 방향제 소매업",
          "휴양콘도 운영업"
         ],
         "y": [
          0.6923297764536216,
          1.1276696201172933,
          1.27193485241302,
          1.184460027045393,
          0.33641617688543435,
          1.158825223775486,
          0.8855582473624114,
          0.3704568903424244,
          0.7391025698159063,
          0.6688575647131039,
          1.2265375918809498,
          0.005725555060754501,
          0.2948188163453056,
          null,
          null,
          0.9390062615111486,
          1.0159045424030586,
          0.9474704996558618,
          1.2654540670588534,
          1.2855379156217612,
          0.723672044034734,
          0.7277311411551317,
          null,
          0.49266156482761464,
          1.3742157039857197,
          0.5949005264780702,
          0.7248645166691641,
          0.21985585585585585,
          0.17807515045491487,
          0.910513339752,
          0.8382367194838043,
          0.8819127714558495,
          1.0507252163494825,
          16.031824324324326,
          0.9370880850907822,
          0.7771969801586414,
          0.3837168709974035,
          0.6207818450458648,
          0.10537696340802737
         ]
        },
        {
         "marker": {
          "color": [
           "lightslategray",
           "lightslategray",
           "crimson",
           "lightslategray",
           "lightslategray",
           "crimson",
           "lightslategray",
           "lightslategray",
           "lightslategray",
           "lightslategray",
           "crimson",
           "lightslategray",
           "lightslategray",
           "lightslategray",
           "lightslategray",
           "lightslategray",
           "lightslategray",
           "crimson",
           "crimson",
           "lightslategray",
           "lightslategray",
           "lightslategray",
           "lightslategray",
           "crimson",
           "lightslategray",
           "lightslategray",
           "lightslategray",
           "lightslategray",
           "lightslategray",
           "lightslategray",
           "lightslategray",
           "lightslategray",
           "lightslategray",
           "lightslategray",
           "lightslategray",
           "lightslategray",
           "lightslategray",
           "lightslategray",
           "lightslategray",
           "lightslategray",
           "lightslategray"
          ]
         },
         "name": "대구",
         "opacity": 0.5,
         "type": "bar",
         "visible": false,
         "x": [
          "건강보조식품 소매업",
          "골프장 운영업",
          "과실 및 채소 소매업",
          "관광 민예품 및 선물용품 소매업",
          "그외 기타 스포츠시설 운영업",
          "그외 기타 종합 소매업",
          "기타 대형 종합 소매업",
          "기타 수상오락 서비스업",
          "기타 외국식 음식점업",
          "기타 주점업",
          "기타음식료품위주종합소매업",
          "마사지업",
          "면세점",
          "버스 운송업",
          "비알콜 음료점업",
          "빵 및 과자류 소매업",
          "서양식 음식점업",
          "수산물 소매업",
          "슈퍼마켓",
          "스포츠 및 레크레이션 용품 임대업",
          "여관업",
          "여행사업",
          "욕탕업",
          "육류 소매업",
          "일반유흥 주점업",
          "일식 음식점업",
          "자동차 임대업",
          "전시 및 행사 대행업",
          "중식 음식점업",
          "차량용 가스 충전업",
          "차량용 주유소 운영업",
          "체인화 편의점",
          "택시 운송업",
          "피자 햄버거 샌드위치 및 유사 음식점업",
          "한식 음식점업",
          "호텔업",
          "화장품 및 방향제 소매업"
         ],
         "y": [
          0.9177836781464764,
          0.5452059786895993,
          1.4465056093834878,
          0.3484437387493493,
          0.05489585472132868,
          1.0165166320232057,
          0.7426308211743613,
          0.08572723900589375,
          0.44746254507669075,
          0.3947449207770233,
          1.1106720948230517,
          0.23316826491380654,
          null,
          null,
          0.6482100429187542,
          0.8588334056672009,
          0.5535742723736455,
          1.1150196833554238,
          1.1912575446632243,
          0.5907791014073472,
          0.4595921331933664,
          null,
          0.2169312231484467,
          1.3809455234621395,
          0.2854417950235583,
          0.4838502323544248,
          0.238907630934209,
          0.14233804682407486,
          0.669117464256456,
          0.8221057095978754,
          0.8146830624008159,
          0.9157439470116656,
          0.5192460950648878,
          0.7844576549034677,
          0.5404185496475463,
          0.09520044482738763,
          0.48213621687731056
         ]
        },
        {
         "marker": {
          "color": [
           "lightslategray",
           "crimson",
           "crimson",
           "lightslategray",
           "lightslategray",
           "crimson",
           "lightslategray",
           "lightslategray",
           "lightslategray",
           "lightslategray",
           "crimson",
           "lightslategray",
           "lightslategray",
           "lightslategray",
           "lightslategray",
           "lightslategray",
           "lightslategray",
           "lightslategray",
           "lightslategray",
           "crimson",
           "lightslategray",
           "lightslategray",
           "crimson",
           "lightslategray",
           "crimson",
           "lightslategray",
           "lightslategray",
           "crimson",
           "lightslategray",
           "lightslategray",
           "lightslategray",
           "lightslategray",
           "lightslategray",
           "lightslategray",
           "lightslategray",
           "lightslategray",
           "lightslategray",
           "lightslategray",
           "lightslategray",
           "lightslategray",
           "lightslategray"
          ]
         },
         "name": "강원",
         "opacity": 0.5,
         "type": "bar",
         "visible": false,
         "x": [
          "건강보조식품 소매업",
          "골프장 운영업",
          "과실 및 채소 소매업",
          "관광 민예품 및 선물용품 소매업",
          "그외 기타 스포츠시설 운영업",
          "그외 기타 종합 소매업",
          "기타 대형 종합 소매업",
          "기타 수상오락 서비스업",
          "기타 외국식 음식점업",
          "기타 주점업",
          "기타음식료품위주종합소매업",
          "내항 여객 운송업",
          "마사지업",
          "면세점",
          "버스 운송업",
          "비알콜 음료점업",
          "빵 및 과자류 소매업",
          "서양식 음식점업",
          "수산물 소매업",
          "슈퍼마켓",
          "스포츠 및 레크레이션 용품 임대업",
          "여관업",
          "여행사업",
          "욕탕업",
          "육류 소매업",
          "일반유흥 주점업",
          "일식 음식점업",
          "자동차 임대업",
          "전시 및 행사 대행업",
          "중식 음식점업",
          "차량용 가스 충전업",
          "차량용 주유소 운영업",
          "체인화 편의점",
          "택시 운송업",
          "피자 햄버거 샌드위치 및 유사 음식점업",
          "한식 음식점업",
          "호텔업",
          "화장품 및 방향제 소매업",
          "휴양콘도 운영업"
         ],
         "y": [
          0.85598935916189,
          1.133636018135232,
          1.197482779710092,
          0.644743854941205,
          0.18096467329360108,
          1.1652823076963972,
          0.8126146955718158,
          0.16166338582677164,
          0.8414289962336752,
          0.8149659895653028,
          1.23888115712497,
          0.3295645898484484,
          0.48316253751824095,
          null,
          null,
          0.8501185789676692,
          0.9937700952385249,
          0.8932475747695373,
          0.9778686828433439,
          1.1578874076869592,
          0.7730237588305146,
          0.6296643773432645,
          1.1677408626175991,
          0.6083999931720458,
          1.3192127777397584,
          0.705048795508552,
          0.7536790794553967,
          2.579132357388248,
          0.3056658372695528,
          0.9705045868921993,
          0.8517054142728963,
          0.883973548212285,
          0.9565171545061689,
          0.10348071495766697,
          0.899591722697409,
          0.8129348036089551,
          0.5897592217836549,
          0.6806302015422753,
          0.45675718626380535
         ]
        },
        {
         "marker": {
          "color": [
           "crimson",
           "crimson",
           "crimson",
           "lightslategray",
           "lightslategray",
           "crimson",
           "lightslategray",
           "lightslategray",
           "lightslategray",
           "lightslategray",
           "crimson",
           "crimson",
           "lightslategray",
           "lightslategray",
           "lightslategray",
           "lightslategray",
           "crimson",
           "crimson",
           "lightslategray",
           "lightslategray",
           "lightslategray",
           "lightslategray",
           "crimson",
           "lightslategray",
           "lightslategray",
           "lightslategray",
           "lightslategray",
           "lightslategray",
           "lightslategray",
           "lightslategray",
           "lightslategray",
           "lightslategray",
           "crimson",
           "lightslategray",
           "lightslategray",
           "lightslategray",
           "lightslategray",
           "lightslategray",
           "lightslategray",
           "lightslategray",
           "lightslategray"
          ]
         },
         "name": "전북",
         "opacity": 0.5,
         "type": "bar",
         "visible": false,
         "x": [
          "건강보조식품 소매업",
          "골프장 운영업",
          "과실 및 채소 소매업",
          "관광 민예품 및 선물용품 소매업",
          "그외 기타 스포츠시설 운영업",
          "그외 기타 종합 소매업",
          "기타 대형 종합 소매업",
          "기타 수상오락 서비스업",
          "기타 외국식 음식점업",
          "기타 주점업",
          "기타음식료품위주종합소매업",
          "마사지업",
          "버스 운송업",
          "비알콜 음료점업",
          "빵 및 과자류 소매업",
          "서양식 음식점업",
          "수산물 소매업",
          "슈퍼마켓",
          "스포츠 및 레크레이션 용품 임대업",
          "여관업",
          "여행사업",
          "욕탕업",
          "육류 소매업",
          "일반유흥 주점업",
          "일식 음식점업",
          "자동차 임대업",
          "전시 및 행사 대행업",
          "정기 항공 운송업",
          "중식 음식점업",
          "차량용 가스 충전업",
          "차량용 주유소 운영업",
          "체인화 편의점",
          "택시 운송업",
          "피자 햄버거 샌드위치 및 유사 음식점업",
          "한식 음식점업",
          "호텔업",
          "화장품 및 방향제 소매업",
          "휴양콘도 운영업"
         ],
         "y": [
          1.0531477163937693,
          1.1258323429631374,
          1.193206659100614,
          0.7253526342681627,
          0.40616455381556055,
          1.3740312988077972,
          0.8128537051136392,
          0.019703204888390075,
          0.8508936857786101,
          0.8496463103527702,
          1.2260505578827683,
          1.1130334930959718,
          0.028673532619197275,
          0.9417685824218731,
          0.9393251266824566,
          0.9283429700640536,
          1.2520877325137851,
          1.1792126137576455,
          0.7212307605117715,
          0.6762798378700678,
          0.21723440319317622,
          0.692443361132337,
          1.271783694720899,
          0.6373457889096962,
          0.7888261795820579,
          0.6500936547430809,
          0.5938299974735116,
          0.06038343360669918,
          0.9909703886943099,
          0.9653136301031923,
          0.8825017214400659,
          0.9830378737666943,
          2.0004854368932037,
          0.9339258791658347,
          0.836583233520071,
          0.12226286558764078,
          0.7586032526088002,
          0.21754879954360623
         ]
        },
        {
         "marker": {
          "color": [
           "lightslategray",
           "crimson",
           "crimson",
           "lightslategray",
           "lightslategray",
           "crimson",
           "lightslategray",
           "lightslategray",
           "lightslategray",
           "crimson",
           "lightslategray",
           "lightslategray",
           "lightslategray",
           "crimson",
           "crimson",
           "crimson",
           "crimson",
           "crimson",
           "crimson",
           "lightslategray",
           "lightslategray",
           "lightslategray",
           "lightslategray",
           "crimson",
           "lightslategray",
           "lightslategray",
           "lightslategray",
           "lightslategray",
           "crimson",
           "lightslategray",
           "lightslategray",
           "crimson",
           "crimson",
           "lightslategray",
           "lightslategray",
           "lightslategray",
           "crimson",
           "lightslategray",
           "lightslategray",
           "lightslategray",
           "lightslategray"
          ]
         },
         "name": "전남",
         "opacity": 0.5,
         "type": "bar",
         "visible": false,
         "x": [
          "건강보조식품 소매업",
          "골프장 운영업",
          "과실 및 채소 소매업",
          "관광 민예품 및 선물용품 소매업",
          "그외 기타 스포츠시설 운영업",
          "그외 기타 종합 소매업",
          "기타 대형 종합 소매업",
          "기타 외국식 음식점업",
          "기타 주점업",
          "기타음식료품위주종합소매업",
          "내항 여객 운송업",
          "마사지업",
          "면세점",
          "버스 운송업",
          "비알콜 음료점업",
          "빵 및 과자류 소매업",
          "서양식 음식점업",
          "수산물 소매업",
          "슈퍼마켓",
          "스포츠 및 레크레이션 용품 임대업",
          "여관업",
          "여행사업",
          "욕탕업",
          "육류 소매업",
          "일반유흥 주점업",
          "일식 음식점업",
          "자동차 임대업",
          "전시 및 행사 대행업",
          "중식 음식점업",
          "차량용 가스 충전업",
          "차량용 주유소 운영업",
          "체인화 편의점",
          "피자 햄버거 샌드위치 및 유사 음식점업",
          "한식 음식점업",
          "호텔업",
          "화장품 및 방향제 소매업",
          "휴양콘도 운영업"
         ],
         "y": [
          0.9834250224466655,
          1.1171762489789676,
          1.1239830566442714,
          0.9076073744369941,
          0.6251618583933288,
          1.1509676438541492,
          0.7935199292550035,
          0.9237679267151864,
          0.8791982218964219,
          1.2633613743884518,
          0.5761294784807591,
          0.7751226010079585,
          null,
          1.2275614733259663,
          1.1096286591030828,
          1.0764836242545415,
          1.0196651068651548,
          1.0826672451120647,
          1.2015292956269874,
          0.705431015761038,
          0.6697583638406303,
          0.7362829384217516,
          0.7928337721647412,
          1.2611855061059578,
          0.790445579334144,
          0.8080087019816552,
          0.449974311573451,
          0.35676150784221783,
          1.1180712546125997,
          0.9573676904311079,
          0.8988965827545764,
          1.123792876283041,
          1.0164845629135542,
          0.8981753529536491,
          0.3299835317281362,
          0.7214874129048148,
          1.9992040794193042
         ]
        },
        {
         "marker": {
          "color": [
           "crimson",
           "crimson",
           "crimson",
           "crimson",
           "lightslategray",
           "crimson",
           "lightslategray",
           "lightslategray",
           "lightslategray",
           "lightslategray",
           "crimson",
           "lightslategray",
           "lightslategray",
           "lightslategray",
           "crimson",
           "crimson",
           "lightslategray",
           "crimson",
           "crimson",
           "lightslategray",
           "lightslategray",
           "lightslategray",
           "lightslategray",
           "crimson",
           "lightslategray",
           "lightslategray",
           "lightslategray",
           "lightslategray",
           "lightslategray",
           "lightslategray",
           "lightslategray",
           "crimson",
           "lightslategray",
           "lightslategray",
           "lightslategray",
           "lightslategray",
           "lightslategray",
           "lightslategray",
           "lightslategray",
           "lightslategray",
           "lightslategray"
          ]
         },
         "name": "광주",
         "opacity": 0.5,
         "type": "bar",
         "visible": false,
         "x": [
          "건강보조식품 소매업",
          "골프장 운영업",
          "과실 및 채소 소매업",
          "관광 민예품 및 선물용품 소매업",
          "그외 기타 스포츠시설 운영업",
          "그외 기타 종합 소매업",
          "기타 대형 종합 소매업",
          "기타 수상오락 서비스업",
          "기타 외국식 음식점업",
          "기타 주점업",
          "기타음식료품위주종합소매업",
          "내항 여객 운송업",
          "마사지업",
          "버스 운송업",
          "비알콜 음료점업",
          "빵 및 과자류 소매업",
          "서양식 음식점업",
          "수산물 소매업",
          "슈퍼마켓",
          "스포츠 및 레크레이션 용품 임대업",
          "여관업",
          "여행사업",
          "욕탕업",
          "육류 소매업",
          "일반유흥 주점업",
          "일식 음식점업",
          "자동차 임대업",
          "전시 및 행사 대행업",
          "중식 음식점업",
          "차량용 가스 충전업",
          "차량용 주유소 운영업",
          "체인화 편의점",
          "택시 운송업",
          "피자 햄버거 샌드위치 및 유사 음식점업",
          "한식 음식점업",
          "호텔업",
          "화장품 및 방향제 소매업"
         ],
         "y": [
          1.5403271278360937,
          1.0991747812584023,
          1.2513400530793013,
          1.104580726763067,
          0.646175504458001,
          1.1717296738200036,
          0.7504883449080921,
          null,
          0.7667466395803366,
          0.8050765528466212,
          1.3413904535153285,
          null,
          0.7012958578376624,
          0.5254446345442247,
          1.0016484074896101,
          1.0542851898934447,
          0.8754924354908531,
          1.2320334400190285,
          1.2794740575507184,
          0.7870941112621079,
          0.7321493811937494,
          null,
          0.7779521113576089,
          1.3780700094121145,
          0.7000654085764147,
          0.8777723695768176,
          0.21529309703804683,
          0.41222601377520046,
          0.9490739353087594,
          0.9876928001617324,
          0.9483686550790799,
          1.0178103042795548,
          null,
          0.9144732936221969,
          0.8576717643491615,
          0.4423317294946844,
          0.8244888637641331
         ]
        },
        {
         "marker": {
          "color": [
           "lightslategray",
           "lightslategray",
           "lightslategray",
           "lightslategray",
           "lightslategray",
           "lightslategray",
           "crimson",
           "lightslategray",
           "crimson",
           "lightslategray",
           "lightslategray",
           "crimson",
           "lightslategray",
           "lightslategray",
           "lightslategray",
           "lightslategray",
           "lightslategray",
           "lightslategray",
           "lightslategray",
           "crimson",
           "lightslategray",
           "lightslategray",
           "lightslategray",
           "lightslategray",
           "crimson",
           "lightslategray",
           "lightslategray",
           "lightslategray",
           "lightslategray",
           "lightslategray",
           "crimson",
           "crimson",
           "lightslategray",
           "crimson",
           "lightslategray",
           "lightslategray",
           "lightslategray",
           "lightslategray",
           "lightslategray",
           "lightslategray",
           "lightslategray"
          ]
         },
         "name": "제주",
         "opacity": 0.5,
         "type": "bar",
         "visible": false,
         "x": [
          "건강보조식품 소매업",
          "골프장 운영업",
          "과실 및 채소 소매업",
          "관광 민예품 및 선물용품 소매업",
          "그외 기타 분류안된 오락관련 서비스업",
          "그외 기타 스포츠시설 운영업",
          "그외 기타 종합 소매업",
          "기타 대형 종합 소매업",
          "기타 수상오락 서비스업",
          "기타 외국식 음식점업",
          "기타 주점업",
          "기타음식료품위주종합소매업",
          "내항 여객 운송업",
          "마사지업",
          "면세점",
          "비알콜 음료점업",
          "빵 및 과자류 소매업",
          "서양식 음식점업",
          "수산물 소매업",
          "슈퍼마켓",
          "스포츠 및 레크레이션 용품 임대업",
          "여관업",
          "여행사업",
          "욕탕업",
          "육류 소매업",
          "일반유흥 주점업",
          "일식 음식점업",
          "자동차 임대업",
          "전시 및 행사 대행업",
          "정기 항공 운송업",
          "중식 음식점업",
          "차량용 가스 충전업",
          "차량용 주유소 운영업",
          "체인화 편의점",
          "택시 운송업",
          "피자 햄버거 샌드위치 및 유사 음식점업",
          "한식 음식점업",
          "호텔업",
          "화장품 및 방향제 소매업",
          "휴양콘도 운영업"
         ],
         "y": [
          0.8528799361353175,
          0.896510242396219,
          0.5852557903350019,
          0.15697186107769107,
          null,
          null,
          1.3193337301270636,
          0.8465433108781661,
          63.94406779661017,
          0.8834990707245829,
          0.7647727069268749,
          1.3772373190660139,
          0.3917424811584668,
          0.4174707973590655,
          0.3909323378762657,
          0.9128713109554425,
          0.9641950899517122,
          0.8604522751854016,
          0.5309789393729634,
          1.0770666095509527,
          0.7819845537169988,
          0.47885136677213574,
          0.1109908919792007,
          0.9319631725365466,
          1.1481625921350094,
          0.7860102644113758,
          0.7154189984825174,
          0.5841465701086137,
          0.18082467397470728,
          0.0830950458119816,
          1.02485751604981,
          1.0181653578155543,
          0.8604469213328628,
          1.0025516636799383,
          null,
          0.9481751256602471,
          0.7829744945413855,
          0.4150587638317032,
          0.774913948046567,
          0.11334643200952689
         ]
        }
       ],
       "layout": {
        "paper_bgcolor": "rgb(243, 243, 243)",
        "plot_bgcolor": "rgb(243, 243, 243)",
        "template": {
         "data": {
          "bar": [
           {
            "error_x": {
             "color": "#2a3f5f"
            },
            "error_y": {
             "color": "#2a3f5f"
            },
            "marker": {
             "line": {
              "color": "#E5ECF6",
              "width": 0.5
             }
            },
            "type": "bar"
           }
          ],
          "barpolar": [
           {
            "marker": {
             "line": {
              "color": "#E5ECF6",
              "width": 0.5
             }
            },
            "type": "barpolar"
           }
          ],
          "carpet": [
           {
            "aaxis": {
             "endlinecolor": "#2a3f5f",
             "gridcolor": "white",
             "linecolor": "white",
             "minorgridcolor": "white",
             "startlinecolor": "#2a3f5f"
            },
            "baxis": {
             "endlinecolor": "#2a3f5f",
             "gridcolor": "white",
             "linecolor": "white",
             "minorgridcolor": "white",
             "startlinecolor": "#2a3f5f"
            },
            "type": "carpet"
           }
          ],
          "choropleth": [
           {
            "colorbar": {
             "outlinewidth": 0,
             "ticks": ""
            },
            "type": "choropleth"
           }
          ],
          "contour": [
           {
            "colorbar": {
             "outlinewidth": 0,
             "ticks": ""
            },
            "colorscale": [
             [
              0,
              "#0d0887"
             ],
             [
              0.1111111111111111,
              "#46039f"
             ],
             [
              0.2222222222222222,
              "#7201a8"
             ],
             [
              0.3333333333333333,
              "#9c179e"
             ],
             [
              0.4444444444444444,
              "#bd3786"
             ],
             [
              0.5555555555555556,
              "#d8576b"
             ],
             [
              0.6666666666666666,
              "#ed7953"
             ],
             [
              0.7777777777777778,
              "#fb9f3a"
             ],
             [
              0.8888888888888888,
              "#fdca26"
             ],
             [
              1,
              "#f0f921"
             ]
            ],
            "type": "contour"
           }
          ],
          "contourcarpet": [
           {
            "colorbar": {
             "outlinewidth": 0,
             "ticks": ""
            },
            "type": "contourcarpet"
           }
          ],
          "heatmap": [
           {
            "colorbar": {
             "outlinewidth": 0,
             "ticks": ""
            },
            "colorscale": [
             [
              0,
              "#0d0887"
             ],
             [
              0.1111111111111111,
              "#46039f"
             ],
             [
              0.2222222222222222,
              "#7201a8"
             ],
             [
              0.3333333333333333,
              "#9c179e"
             ],
             [
              0.4444444444444444,
              "#bd3786"
             ],
             [
              0.5555555555555556,
              "#d8576b"
             ],
             [
              0.6666666666666666,
              "#ed7953"
             ],
             [
              0.7777777777777778,
              "#fb9f3a"
             ],
             [
              0.8888888888888888,
              "#fdca26"
             ],
             [
              1,
              "#f0f921"
             ]
            ],
            "type": "heatmap"
           }
          ],
          "heatmapgl": [
           {
            "colorbar": {
             "outlinewidth": 0,
             "ticks": ""
            },
            "colorscale": [
             [
              0,
              "#0d0887"
             ],
             [
              0.1111111111111111,
              "#46039f"
             ],
             [
              0.2222222222222222,
              "#7201a8"
             ],
             [
              0.3333333333333333,
              "#9c179e"
             ],
             [
              0.4444444444444444,
              "#bd3786"
             ],
             [
              0.5555555555555556,
              "#d8576b"
             ],
             [
              0.6666666666666666,
              "#ed7953"
             ],
             [
              0.7777777777777778,
              "#fb9f3a"
             ],
             [
              0.8888888888888888,
              "#fdca26"
             ],
             [
              1,
              "#f0f921"
             ]
            ],
            "type": "heatmapgl"
           }
          ],
          "histogram": [
           {
            "marker": {
             "colorbar": {
              "outlinewidth": 0,
              "ticks": ""
             }
            },
            "type": "histogram"
           }
          ],
          "histogram2d": [
           {
            "colorbar": {
             "outlinewidth": 0,
             "ticks": ""
            },
            "colorscale": [
             [
              0,
              "#0d0887"
             ],
             [
              0.1111111111111111,
              "#46039f"
             ],
             [
              0.2222222222222222,
              "#7201a8"
             ],
             [
              0.3333333333333333,
              "#9c179e"
             ],
             [
              0.4444444444444444,
              "#bd3786"
             ],
             [
              0.5555555555555556,
              "#d8576b"
             ],
             [
              0.6666666666666666,
              "#ed7953"
             ],
             [
              0.7777777777777778,
              "#fb9f3a"
             ],
             [
              0.8888888888888888,
              "#fdca26"
             ],
             [
              1,
              "#f0f921"
             ]
            ],
            "type": "histogram2d"
           }
          ],
          "histogram2dcontour": [
           {
            "colorbar": {
             "outlinewidth": 0,
             "ticks": ""
            },
            "colorscale": [
             [
              0,
              "#0d0887"
             ],
             [
              0.1111111111111111,
              "#46039f"
             ],
             [
              0.2222222222222222,
              "#7201a8"
             ],
             [
              0.3333333333333333,
              "#9c179e"
             ],
             [
              0.4444444444444444,
              "#bd3786"
             ],
             [
              0.5555555555555556,
              "#d8576b"
             ],
             [
              0.6666666666666666,
              "#ed7953"
             ],
             [
              0.7777777777777778,
              "#fb9f3a"
             ],
             [
              0.8888888888888888,
              "#fdca26"
             ],
             [
              1,
              "#f0f921"
             ]
            ],
            "type": "histogram2dcontour"
           }
          ],
          "mesh3d": [
           {
            "colorbar": {
             "outlinewidth": 0,
             "ticks": ""
            },
            "type": "mesh3d"
           }
          ],
          "parcoords": [
           {
            "line": {
             "colorbar": {
              "outlinewidth": 0,
              "ticks": ""
             }
            },
            "type": "parcoords"
           }
          ],
          "pie": [
           {
            "automargin": true,
            "type": "pie"
           }
          ],
          "scatter": [
           {
            "marker": {
             "colorbar": {
              "outlinewidth": 0,
              "ticks": ""
             }
            },
            "type": "scatter"
           }
          ],
          "scatter3d": [
           {
            "line": {
             "colorbar": {
              "outlinewidth": 0,
              "ticks": ""
             }
            },
            "marker": {
             "colorbar": {
              "outlinewidth": 0,
              "ticks": ""
             }
            },
            "type": "scatter3d"
           }
          ],
          "scattercarpet": [
           {
            "marker": {
             "colorbar": {
              "outlinewidth": 0,
              "ticks": ""
             }
            },
            "type": "scattercarpet"
           }
          ],
          "scattergeo": [
           {
            "marker": {
             "colorbar": {
              "outlinewidth": 0,
              "ticks": ""
             }
            },
            "type": "scattergeo"
           }
          ],
          "scattergl": [
           {
            "marker": {
             "colorbar": {
              "outlinewidth": 0,
              "ticks": ""
             }
            },
            "type": "scattergl"
           }
          ],
          "scattermapbox": [
           {
            "marker": {
             "colorbar": {
              "outlinewidth": 0,
              "ticks": ""
             }
            },
            "type": "scattermapbox"
           }
          ],
          "scatterpolar": [
           {
            "marker": {
             "colorbar": {
              "outlinewidth": 0,
              "ticks": ""
             }
            },
            "type": "scatterpolar"
           }
          ],
          "scatterpolargl": [
           {
            "marker": {
             "colorbar": {
              "outlinewidth": 0,
              "ticks": ""
             }
            },
            "type": "scatterpolargl"
           }
          ],
          "scatterternary": [
           {
            "marker": {
             "colorbar": {
              "outlinewidth": 0,
              "ticks": ""
             }
            },
            "type": "scatterternary"
           }
          ],
          "surface": [
           {
            "colorbar": {
             "outlinewidth": 0,
             "ticks": ""
            },
            "colorscale": [
             [
              0,
              "#0d0887"
             ],
             [
              0.1111111111111111,
              "#46039f"
             ],
             [
              0.2222222222222222,
              "#7201a8"
             ],
             [
              0.3333333333333333,
              "#9c179e"
             ],
             [
              0.4444444444444444,
              "#bd3786"
             ],
             [
              0.5555555555555556,
              "#d8576b"
             ],
             [
              0.6666666666666666,
              "#ed7953"
             ],
             [
              0.7777777777777778,
              "#fb9f3a"
             ],
             [
              0.8888888888888888,
              "#fdca26"
             ],
             [
              1,
              "#f0f921"
             ]
            ],
            "type": "surface"
           }
          ],
          "table": [
           {
            "cells": {
             "fill": {
              "color": "#EBF0F8"
             },
             "line": {
              "color": "white"
             }
            },
            "header": {
             "fill": {
              "color": "#C8D4E3"
             },
             "line": {
              "color": "white"
             }
            },
            "type": "table"
           }
          ]
         },
         "layout": {
          "annotationdefaults": {
           "arrowcolor": "#2a3f5f",
           "arrowhead": 0,
           "arrowwidth": 1
          },
          "coloraxis": {
           "colorbar": {
            "outlinewidth": 0,
            "ticks": ""
           }
          },
          "colorscale": {
           "diverging": [
            [
             0,
             "#8e0152"
            ],
            [
             0.1,
             "#c51b7d"
            ],
            [
             0.2,
             "#de77ae"
            ],
            [
             0.3,
             "#f1b6da"
            ],
            [
             0.4,
             "#fde0ef"
            ],
            [
             0.5,
             "#f7f7f7"
            ],
            [
             0.6,
             "#e6f5d0"
            ],
            [
             0.7,
             "#b8e186"
            ],
            [
             0.8,
             "#7fbc41"
            ],
            [
             0.9,
             "#4d9221"
            ],
            [
             1,
             "#276419"
            ]
           ],
           "sequential": [
            [
             0,
             "#0d0887"
            ],
            [
             0.1111111111111111,
             "#46039f"
            ],
            [
             0.2222222222222222,
             "#7201a8"
            ],
            [
             0.3333333333333333,
             "#9c179e"
            ],
            [
             0.4444444444444444,
             "#bd3786"
            ],
            [
             0.5555555555555556,
             "#d8576b"
            ],
            [
             0.6666666666666666,
             "#ed7953"
            ],
            [
             0.7777777777777778,
             "#fb9f3a"
            ],
            [
             0.8888888888888888,
             "#fdca26"
            ],
            [
             1,
             "#f0f921"
            ]
           ],
           "sequentialminus": [
            [
             0,
             "#0d0887"
            ],
            [
             0.1111111111111111,
             "#46039f"
            ],
            [
             0.2222222222222222,
             "#7201a8"
            ],
            [
             0.3333333333333333,
             "#9c179e"
            ],
            [
             0.4444444444444444,
             "#bd3786"
            ],
            [
             0.5555555555555556,
             "#d8576b"
            ],
            [
             0.6666666666666666,
             "#ed7953"
            ],
            [
             0.7777777777777778,
             "#fb9f3a"
            ],
            [
             0.8888888888888888,
             "#fdca26"
            ],
            [
             1,
             "#f0f921"
            ]
           ]
          },
          "colorway": [
           "#636efa",
           "#EF553B",
           "#00cc96",
           "#ab63fa",
           "#FFA15A",
           "#19d3f3",
           "#FF6692",
           "#B6E880",
           "#FF97FF",
           "#FECB52"
          ],
          "font": {
           "color": "#2a3f5f"
          },
          "geo": {
           "bgcolor": "white",
           "lakecolor": "white",
           "landcolor": "#E5ECF6",
           "showlakes": true,
           "showland": true,
           "subunitcolor": "white"
          },
          "hoverlabel": {
           "align": "left"
          },
          "hovermode": "closest",
          "mapbox": {
           "style": "light"
          },
          "paper_bgcolor": "white",
          "plot_bgcolor": "#E5ECF6",
          "polar": {
           "angularaxis": {
            "gridcolor": "white",
            "linecolor": "white",
            "ticks": ""
           },
           "bgcolor": "#E5ECF6",
           "radialaxis": {
            "gridcolor": "white",
            "linecolor": "white",
            "ticks": ""
           }
          },
          "scene": {
           "xaxis": {
            "backgroundcolor": "#E5ECF6",
            "gridcolor": "white",
            "gridwidth": 2,
            "linecolor": "white",
            "showbackground": true,
            "ticks": "",
            "zerolinecolor": "white"
           },
           "yaxis": {
            "backgroundcolor": "#E5ECF6",
            "gridcolor": "white",
            "gridwidth": 2,
            "linecolor": "white",
            "showbackground": true,
            "ticks": "",
            "zerolinecolor": "white"
           },
           "zaxis": {
            "backgroundcolor": "#E5ECF6",
            "gridcolor": "white",
            "gridwidth": 2,
            "linecolor": "white",
            "showbackground": true,
            "ticks": "",
            "zerolinecolor": "white"
           }
          },
          "shapedefaults": {
           "line": {
            "color": "#2a3f5f"
           }
          },
          "ternary": {
           "aaxis": {
            "gridcolor": "white",
            "linecolor": "white",
            "ticks": ""
           },
           "baxis": {
            "gridcolor": "white",
            "linecolor": "white",
            "ticks": ""
           },
           "bgcolor": "#E5ECF6",
           "caxis": {
            "gridcolor": "white",
            "linecolor": "white",
            "ticks": ""
           }
          },
          "title": {
           "x": 0.05
          },
          "xaxis": {
           "automargin": true,
           "gridcolor": "white",
           "linecolor": "white",
           "ticks": "",
           "title": {
            "standoff": 15
           },
           "zerolinecolor": "white",
           "zerolinewidth": 2
          },
          "yaxis": {
           "automargin": true,
           "gridcolor": "white",
           "linecolor": "white",
           "ticks": "",
           "title": {
            "standoff": 15
           },
           "zerolinecolor": "white",
           "zerolinewidth": 2
          }
         }
        },
        "title": {
         "text": "Total"
        },
        "updatemenus": [
         {
          "active": 0,
          "buttons": [
           {
            "args": [
             {
              "visible": [
               true,
               false,
               false,
               false,
               false,
               false,
               false,
               false,
               false,
               false,
               false,
               false,
               false,
               false,
               false,
               false,
               false
              ]
             },
             {
              "annotations": [],
              "title": "울산"
             }
            ],
            "label": "울산",
            "method": "update"
           },
           {
            "args": [
             {
              "visible": [
               false,
               true,
               false,
               false,
               false,
               false,
               false,
               false,
               false,
               false,
               false,
               false,
               false,
               false,
               false,
               false,
               false
              ]
             },
             {
              "annotations": [],
              "title": "서울"
             }
            ],
            "label": "서울",
            "method": "update"
           },
           {
            "args": [
             {
              "visible": [
               false,
               false,
               true,
               false,
               false,
               false,
               false,
               false,
               false,
               false,
               false,
               false,
               false,
               false,
               false,
               false,
               false
              ]
             },
             {
              "annotations": [],
              "title": "경북"
             }
            ],
            "label": "경북",
            "method": "update"
           },
           {
            "args": [
             {
              "visible": [
               false,
               false,
               false,
               true,
               false,
               false,
               false,
               false,
               false,
               false,
               false,
               false,
               false,
               false,
               false,
               false,
               false
              ]
             },
             {
              "annotations": [],
              "title": "경기"
             }
            ],
            "label": "경기",
            "method": "update"
           },
           {
            "args": [
             {
              "visible": [
               false,
               false,
               false,
               false,
               true,
               false,
               false,
               false,
               false,
               false,
               false,
               false,
               false,
               false,
               false,
               false,
               false
              ]
             },
             {
              "annotations": [],
              "title": "부산"
             }
            ],
            "label": "부산",
            "method": "update"
           },
           {
            "args": [
             {
              "visible": [
               false,
               false,
               false,
               false,
               false,
               true,
               false,
               false,
               false,
               false,
               false,
               false,
               false,
               false,
               false,
               false,
               false
              ]
             },
             {
              "annotations": [],
              "title": "인천"
             }
            ],
            "label": "인천",
            "method": "update"
           },
           {
            "args": [
             {
              "visible": [
               false,
               false,
               false,
               false,
               false,
               false,
               true,
               false,
               false,
               false,
               false,
               false,
               false,
               false,
               false,
               false,
               false
              ]
             },
             {
              "annotations": [],
              "title": "충남"
             }
            ],
            "label": "충남",
            "method": "update"
           },
           {
            "args": [
             {
              "visible": [
               false,
               false,
               false,
               false,
               false,
               false,
               false,
               true,
               false,
               false,
               false,
               false,
               false,
               false,
               false,
               false,
               false
              ]
             },
             {
              "annotations": [],
              "title": "경남"
             }
            ],
            "label": "경남",
            "method": "update"
           },
           {
            "args": [
             {
              "visible": [
               false,
               false,
               false,
               false,
               false,
               false,
               false,
               false,
               true,
               false,
               false,
               false,
               false,
               false,
               false,
               false,
               false
              ]
             },
             {
              "annotations": [],
              "title": "대전"
             }
            ],
            "label": "대전",
            "method": "update"
           },
           {
            "args": [
             {
              "visible": [
               false,
               false,
               false,
               false,
               false,
               false,
               false,
               false,
               false,
               true,
               false,
               false,
               false,
               false,
               false,
               false,
               false
              ]
             },
             {
              "annotations": [],
              "title": "세종"
             }
            ],
            "label": "세종",
            "method": "update"
           },
           {
            "args": [
             {
              "visible": [
               false,
               false,
               false,
               false,
               false,
               false,
               false,
               false,
               false,
               false,
               true,
               false,
               false,
               false,
               false,
               false,
               false
              ]
             },
             {
              "annotations": [],
              "title": "충북"
             }
            ],
            "label": "충북",
            "method": "update"
           },
           {
            "args": [
             {
              "visible": [
               false,
               false,
               false,
               false,
               false,
               false,
               false,
               false,
               false,
               false,
               false,
               true,
               false,
               false,
               false,
               false,
               false
              ]
             },
             {
              "annotations": [],
              "title": "대구"
             }
            ],
            "label": "대구",
            "method": "update"
           },
           {
            "args": [
             {
              "visible": [
               false,
               false,
               false,
               false,
               false,
               false,
               false,
               false,
               false,
               false,
               false,
               false,
               true,
               false,
               false,
               false,
               false
              ]
             },
             {
              "annotations": [],
              "title": "강원"
             }
            ],
            "label": "강원",
            "method": "update"
           },
           {
            "args": [
             {
              "visible": [
               false,
               false,
               false,
               false,
               false,
               false,
               false,
               false,
               false,
               false,
               false,
               false,
               false,
               true,
               false,
               false,
               false
              ]
             },
             {
              "annotations": [],
              "title": "전북"
             }
            ],
            "label": "전북",
            "method": "update"
           },
           {
            "args": [
             {
              "visible": [
               false,
               false,
               false,
               false,
               false,
               false,
               false,
               false,
               false,
               false,
               false,
               false,
               false,
               false,
               true,
               false,
               false
              ]
             },
             {
              "annotations": [],
              "title": "전남"
             }
            ],
            "label": "전남",
            "method": "update"
           },
           {
            "args": [
             {
              "visible": [
               false,
               false,
               false,
               false,
               false,
               false,
               false,
               false,
               false,
               false,
               false,
               false,
               false,
               false,
               false,
               true,
               false
              ]
             },
             {
              "annotations": [],
              "title": "광주"
             }
            ],
            "label": "광주",
            "method": "update"
           },
           {
            "args": [
             {
              "visible": [
               false,
               false,
               false,
               false,
               false,
               false,
               false,
               false,
               false,
               false,
               false,
               false,
               false,
               false,
               false,
               false,
               true
              ]
             },
             {
              "annotations": [],
              "title": "제주"
             }
            ],
            "label": "제주",
            "method": "update"
           }
          ],
          "direction": "down",
          "pad": {
           "r": 10,
           "t": 10
          },
          "showactive": true,
          "x": 1,
          "xanchor": "left",
          "y": 1.265,
          "yanchor": "top"
         }
        ],
        "xaxis": {
         "showgrid": false,
         "showticklabels": true,
         "zeroline": false
        },
        "yaxis": {
         "gridcolor": "white",
         "zeroline": false
        }
       }
      },
      "text/html": [
       "<div>\n",
       "        \n",
       "        \n",
       "            <div id=\"1ea728c4-2cb7-4bb5-861e-8ec2cc4eaf25\" class=\"plotly-graph-div\" style=\"height:525px; width:100%;\"></div>\n",
       "            <script type=\"text/javascript\">\n",
       "                require([\"plotly\"], function(Plotly) {\n",
       "                    window.PLOTLYENV=window.PLOTLYENV || {};\n",
       "                    \n",
       "                if (document.getElementById(\"1ea728c4-2cb7-4bb5-861e-8ec2cc4eaf25\")) {\n",
       "                    Plotly.newPlot(\n",
       "                        '1ea728c4-2cb7-4bb5-861e-8ec2cc4eaf25',\n",
       "                        [{\"marker\": {\"color\": [\"lightslategray\", \"lightslategray\", \"crimson\", \"lightslategray\", \"lightslategray\", \"crimson\", \"lightslategray\", \"lightslategray\", \"lightslategray\", \"lightslategray\", \"crimson\", \"lightslategray\", \"lightslategray\", \"lightslategray\", \"lightslategray\", \"lightslategray\", \"lightslategray\", \"lightslategray\", \"crimson\", \"lightslategray\", \"lightslategray\", \"lightslategray\", \"lightslategray\", \"crimson\", \"lightslategray\", \"lightslategray\", \"lightslategray\", \"lightslategray\", \"lightslategray\", \"lightslategray\", \"lightslategray\", \"crimson\", \"lightslategray\", \"lightslategray\", \"lightslategray\", \"lightslategray\", \"lightslategray\", \"lightslategray\", \"lightslategray\", \"lightslategray\", \"lightslategray\"]}, \"name\": \"\\uc6b8\\uc0b0\", \"opacity\": 0.5, \"type\": \"bar\", \"visible\": false, \"x\": [\"\\uac74\\uac15\\ubcf4\\uc870\\uc2dd\\ud488 \\uc18c\\ub9e4\\uc5c5\", \"\\uace8\\ud504\\uc7a5 \\uc6b4\\uc601\\uc5c5\", \"\\uacfc\\uc2e4 \\ubc0f \\ucc44\\uc18c \\uc18c\\ub9e4\\uc5c5\", \"\\uad00\\uad11 \\ubbfc\\uc608\\ud488 \\ubc0f \\uc120\\ubb3c\\uc6a9\\ud488 \\uc18c\\ub9e4\\uc5c5\", \"\\uadf8\\uc678 \\uae30\\ud0c0 \\uc2a4\\ud3ec\\uce20\\uc2dc\\uc124 \\uc6b4\\uc601\\uc5c5\", \"\\uadf8\\uc678 \\uae30\\ud0c0 \\uc885\\ud569 \\uc18c\\ub9e4\\uc5c5\", \"\\uae30\\ud0c0 \\ub300\\ud615 \\uc885\\ud569 \\uc18c\\ub9e4\\uc5c5\", \"\\uae30\\ud0c0 \\uc218\\uc0c1\\uc624\\ub77d \\uc11c\\ube44\\uc2a4\\uc5c5\", \"\\uae30\\ud0c0 \\uc678\\uad6d\\uc2dd \\uc74c\\uc2dd\\uc810\\uc5c5\", \"\\uae30\\ud0c0 \\uc8fc\\uc810\\uc5c5\", \"\\uae30\\ud0c0\\uc74c\\uc2dd\\ub8cc\\ud488\\uc704\\uc8fc\\uc885\\ud569\\uc18c\\ub9e4\\uc5c5\", \"\\ub9c8\\uc0ac\\uc9c0\\uc5c5\", \"\\uba74\\uc138\\uc810\", \"\\ubc84\\uc2a4 \\uc6b4\\uc1a1\\uc5c5\", \"\\ube44\\uc54c\\ucf5c \\uc74c\\ub8cc\\uc810\\uc5c5\", \"\\ube75 \\ubc0f \\uacfc\\uc790\\ub958 \\uc18c\\ub9e4\\uc5c5\", \"\\uc11c\\uc591\\uc2dd \\uc74c\\uc2dd\\uc810\\uc5c5\", \"\\uc218\\uc0b0\\ubb3c \\uc18c\\ub9e4\\uc5c5\", \"\\uc288\\ud37c\\ub9c8\\ucf13\", \"\\uc2a4\\ud3ec\\uce20 \\ubc0f \\ub808\\ud06c\\ub808\\uc774\\uc158 \\uc6a9\\ud488 \\uc784\\ub300\\uc5c5\", \"\\uc5ec\\uad00\\uc5c5\", \"\\uc5ec\\ud589\\uc0ac\\uc5c5\", \"\\uc695\\ud0d5\\uc5c5\", \"\\uc721\\ub958 \\uc18c\\ub9e4\\uc5c5\", \"\\uc77c\\ubc18\\uc720\\ud765 \\uc8fc\\uc810\\uc5c5\", \"\\uc77c\\uc2dd \\uc74c\\uc2dd\\uc810\\uc5c5\", \"\\uc790\\ub3d9\\ucc28 \\uc784\\ub300\\uc5c5\", \"\\uc804\\uc2dc \\ubc0f \\ud589\\uc0ac \\ub300\\ud589\\uc5c5\", \"\\uc911\\uc2dd \\uc74c\\uc2dd\\uc810\\uc5c5\", \"\\ucc28\\ub7c9\\uc6a9 \\uac00\\uc2a4 \\ucda9\\uc804\\uc5c5\", \"\\ucc28\\ub7c9\\uc6a9 \\uc8fc\\uc720\\uc18c \\uc6b4\\uc601\\uc5c5\", \"\\uccb4\\uc778\\ud654 \\ud3b8\\uc758\\uc810\", \"\\ud53c\\uc790 \\ud584\\ubc84\\uac70 \\uc0cc\\ub4dc\\uc704\\uce58 \\ubc0f \\uc720\\uc0ac \\uc74c\\uc2dd\\uc810\\uc5c5\", \"\\ud55c\\uc2dd \\uc74c\\uc2dd\\uc810\\uc5c5\", \"\\ud638\\ud154\\uc5c5\", \"\\ud654\\uc7a5\\ud488 \\ubc0f \\ubc29\\ud5a5\\uc81c \\uc18c\\ub9e4\\uc5c5\"], \"y\": [0.8738404526764726, 0.9725486257035829, 1.082700092773491, 0.35174107423965745, 0.04632373584552516, 1.190423211646761, 0.7166436887060512, 0.16962052843318473, 0.5658779698716464, 0.5818813409577918, 1.1573540013068693, 0.6029163172207294, null, 0.03043878665239255, 0.8068846531029832, 0.9460938030300841, 0.7391171448405582, 0.8242089822341458, 1.2161901623705342, 0.7083990125908657, 0.6479655409818355, 0.040533860603064756, 0.5636113185980793, 1.2976130103759707, 0.6649962925576038, 0.6131193481802745, 0.29119575833682154, 0.044243256825675495, 0.8311234460938556, 0.8937983431570097, 0.8739811941267083, 1.026356028412105, 0.903666199985836, 0.7009451126182626, 0.6173036379794304, 0.6035448556081909]}, {\"marker\": {\"color\": [\"lightslategray\", \"crimson\", \"crimson\", \"lightslategray\", \"lightslategray\", \"crimson\", \"lightslategray\", \"lightslategray\", \"lightslategray\", \"lightslategray\", \"lightslategray\", \"lightslategray\", \"lightslategray\", \"lightslategray\", \"lightslategray\", \"lightslategray\", \"lightslategray\", \"lightslategray\", \"crimson\", \"crimson\", \"lightslategray\", \"lightslategray\", \"lightslategray\", \"lightslategray\", \"crimson\", \"lightslategray\", \"lightslategray\", \"lightslategray\", \"lightslategray\", \"lightslategray\", \"lightslategray\", \"lightslategray\", \"lightslategray\", \"lightslategray\", \"lightslategray\", \"lightslategray\", \"lightslategray\", \"lightslategray\", \"lightslategray\", \"lightslategray\", \"lightslategray\"]}, \"name\": \"\\uc11c\\uc6b8\", \"opacity\": 0.5, \"type\": \"bar\", \"visible\": false, \"x\": [\"\\uac74\\uac15\\ubcf4\\uc870\\uc2dd\\ud488 \\uc18c\\ub9e4\\uc5c5\", \"\\uace8\\ud504\\uc7a5 \\uc6b4\\uc601\\uc5c5\", \"\\uacfc\\uc2e4 \\ubc0f \\ucc44\\uc18c \\uc18c\\ub9e4\\uc5c5\", \"\\uad00\\uad11 \\ubbfc\\uc608\\ud488 \\ubc0f \\uc120\\ubb3c\\uc6a9\\ud488 \\uc18c\\ub9e4\\uc5c5\", \"\\uadf8\\uc678 \\uae30\\ud0c0 \\uc2a4\\ud3ec\\uce20\\uc2dc\\uc124 \\uc6b4\\uc601\\uc5c5\", \"\\uadf8\\uc678 \\uae30\\ud0c0 \\uc885\\ud569 \\uc18c\\ub9e4\\uc5c5\", \"\\uae30\\ud0c0 \\ub300\\ud615 \\uc885\\ud569 \\uc18c\\ub9e4\\uc5c5\", \"\\uae30\\ud0c0 \\uc218\\uc0c1\\uc624\\ub77d \\uc11c\\ube44\\uc2a4\\uc5c5\", \"\\uae30\\ud0c0 \\uc678\\uad6d\\uc2dd \\uc74c\\uc2dd\\uc810\\uc5c5\", \"\\uae30\\ud0c0 \\uc8fc\\uc810\\uc5c5\", \"\\uae30\\ud0c0\\uc74c\\uc2dd\\ub8cc\\ud488\\uc704\\uc8fc\\uc885\\ud569\\uc18c\\ub9e4\\uc5c5\", \"\\ub0b4\\ud56d \\uc5ec\\uac1d \\uc6b4\\uc1a1\\uc5c5\", \"\\ub9c8\\uc0ac\\uc9c0\\uc5c5\", \"\\uba74\\uc138\\uc810\", \"\\ubc84\\uc2a4 \\uc6b4\\uc1a1\\uc5c5\", \"\\ube44\\uc54c\\ucf5c \\uc74c\\ub8cc\\uc810\\uc5c5\", \"\\ube75 \\ubc0f \\uacfc\\uc790\\ub958 \\uc18c\\ub9e4\\uc5c5\", \"\\uc11c\\uc591\\uc2dd \\uc74c\\uc2dd\\uc810\\uc5c5\", \"\\uc218\\uc0b0\\ubb3c \\uc18c\\ub9e4\\uc5c5\", \"\\uc288\\ud37c\\ub9c8\\ucf13\", \"\\uc2a4\\ud3ec\\uce20 \\ubc0f \\ub808\\ud06c\\ub808\\uc774\\uc158 \\uc6a9\\ud488 \\uc784\\ub300\\uc5c5\", \"\\uc5ec\\uad00\\uc5c5\", \"\\uc5ec\\ud589\\uc0ac\\uc5c5\", \"\\uc695\\ud0d5\\uc5c5\", \"\\uc721\\ub958 \\uc18c\\ub9e4\\uc5c5\", \"\\uc77c\\ubc18\\uc720\\ud765 \\uc8fc\\uc810\\uc5c5\", \"\\uc77c\\uc2dd \\uc74c\\uc2dd\\uc810\\uc5c5\", \"\\uc790\\ub3d9\\ucc28 \\uc784\\ub300\\uc5c5\", \"\\uc804\\uc2dc \\ubc0f \\ud589\\uc0ac \\ub300\\ud589\\uc5c5\", \"\\uc815\\uae30 \\ud56d\\uacf5 \\uc6b4\\uc1a1\\uc5c5\", \"\\uc911\\uc2dd \\uc74c\\uc2dd\\uc810\\uc5c5\", \"\\ucc28\\ub7c9\\uc6a9 \\uac00\\uc2a4 \\ucda9\\uc804\\uc5c5\", \"\\ucc28\\ub7c9\\uc6a9 \\uc8fc\\uc720\\uc18c \\uc6b4\\uc601\\uc5c5\", \"\\uccb4\\uc778\\ud654 \\ud3b8\\uc758\\uc810\", \"\\ud0dd\\uc2dc \\uc6b4\\uc1a1\\uc5c5\", \"\\ud53c\\uc790 \\ud584\\ubc84\\uac70 \\uc0cc\\ub4dc\\uc704\\uce58 \\ubc0f \\uc720\\uc0ac \\uc74c\\uc2dd\\uc810\\uc5c5\", \"\\ud55c\\uc2dd \\uc74c\\uc2dd\\uc810\\uc5c5\", \"\\ud638\\ud154\\uc5c5\", \"\\ud654\\uc7a5\\ud488 \\ubc0f \\ubc29\\ud5a5\\uc81c \\uc18c\\ub9e4\\uc5c5\"], \"y\": [0.8780182606774274, 1.1432969635903123, 1.2245668722130862, 0.3796764086407362, 0.5160982746212084, 1.1741871879945096, 0.8146583204523014, 0.5566114434316296, 0.693136937929736, 0.5542708331320519, 0.9898727488097492, 0.5452284825457717, 0.5553043863801982, 0.006542716107944689, 0.17955640840762302, 0.8275691047802722, 0.8752609566007536, 0.7747294622667438, 1.2928976117709847, 1.1264848998237897, 0.7168517206826093, 0.6052295811829623, 0.03190018782545094, 0.470155134576211, 1.3226567682870969, 0.3913880020816684, 0.7521656113083317, 0.48910386401712697, 0.14695100197017638, 0.073369508630204, 0.7169905939342104, 0.834798069618861, 0.8675764934294633, 0.9422769260061009, 0.7559443011921069, 0.9150716892070537, 0.7355592686706812, 0.38865205970633315, 0.7129487348275629]}, {\"marker\": {\"color\": [\"crimson\", \"lightslategray\", \"crimson\", \"lightslategray\", \"lightslategray\", \"lightslategray\", \"lightslategray\", \"lightslategray\", \"lightslategray\", \"lightslategray\", \"lightslategray\", \"crimson\", \"lightslategray\", \"lightslategray\", \"lightslategray\", \"lightslategray\", \"lightslategray\", \"lightslategray\", \"lightslategray\", \"crimson\", \"lightslategray\", \"lightslategray\", \"lightslategray\", \"lightslategray\", \"crimson\", \"lightslategray\", \"lightslategray\", \"lightslategray\", \"lightslategray\", \"lightslategray\", \"lightslategray\", \"lightslategray\", \"lightslategray\", \"lightslategray\", \"lightslategray\", \"lightslategray\", \"lightslategray\", \"lightslategray\", \"lightslategray\", \"lightslategray\", \"lightslategray\"]}, \"name\": \"\\uacbd\\ubd81\", \"opacity\": 0.5, \"type\": \"bar\", \"visible\": false, \"x\": [\"\\uac74\\uac15\\ubcf4\\uc870\\uc2dd\\ud488 \\uc18c\\ub9e4\\uc5c5\", \"\\uace8\\ud504\\uc7a5 \\uc6b4\\uc601\\uc5c5\", \"\\uacfc\\uc2e4 \\ubc0f \\ucc44\\uc18c \\uc18c\\ub9e4\\uc5c5\", \"\\uad00\\uad11 \\ubbfc\\uc608\\ud488 \\ubc0f \\uc120\\ubb3c\\uc6a9\\ud488 \\uc18c\\ub9e4\\uc5c5\", \"\\uadf8\\uc678 \\uae30\\ud0c0 \\ubd84\\ub958\\uc548\\ub41c \\uc624\\ub77d\\uad00\\ub828 \\uc11c\\ube44\\uc2a4\\uc5c5\", \"\\uadf8\\uc678 \\uae30\\ud0c0 \\uc2a4\\ud3ec\\uce20\\uc2dc\\uc124 \\uc6b4\\uc601\\uc5c5\", \"\\uadf8\\uc678 \\uae30\\ud0c0 \\uc885\\ud569 \\uc18c\\ub9e4\\uc5c5\", \"\\uae30\\ud0c0 \\ub300\\ud615 \\uc885\\ud569 \\uc18c\\ub9e4\\uc5c5\", \"\\uae30\\ud0c0 \\uc218\\uc0c1\\uc624\\ub77d \\uc11c\\ube44\\uc2a4\\uc5c5\", \"\\uae30\\ud0c0 \\uc678\\uad6d\\uc2dd \\uc74c\\uc2dd\\uc810\\uc5c5\", \"\\uae30\\ud0c0 \\uc8fc\\uc810\\uc5c5\", \"\\uae30\\ud0c0\\uc74c\\uc2dd\\ub8cc\\ud488\\uc704\\uc8fc\\uc885\\ud569\\uc18c\\ub9e4\\uc5c5\", \"\\ub0b4\\ud56d \\uc5ec\\uac1d \\uc6b4\\uc1a1\\uc5c5\", \"\\ub9c8\\uc0ac\\uc9c0\\uc5c5\", \"\\ubc84\\uc2a4 \\uc6b4\\uc1a1\\uc5c5\", \"\\ube44\\uc54c\\ucf5c \\uc74c\\ub8cc\\uc810\\uc5c5\", \"\\ube75 \\ubc0f \\uacfc\\uc790\\ub958 \\uc18c\\ub9e4\\uc5c5\", \"\\uc11c\\uc591\\uc2dd \\uc74c\\uc2dd\\uc810\\uc5c5\", \"\\uc218\\uc0b0\\ubb3c \\uc18c\\ub9e4\\uc5c5\", \"\\uc288\\ud37c\\ub9c8\\ucf13\", \"\\uc2a4\\ud3ec\\uce20 \\ubc0f \\ub808\\ud06c\\ub808\\uc774\\uc158 \\uc6a9\\ud488 \\uc784\\ub300\\uc5c5\", \"\\uc5ec\\uad00\\uc5c5\", \"\\uc5ec\\ud589\\uc0ac\\uc5c5\", \"\\uc695\\ud0d5\\uc5c5\", \"\\uc721\\ub958 \\uc18c\\ub9e4\\uc5c5\", \"\\uc77c\\ubc18\\uc720\\ud765 \\uc8fc\\uc810\\uc5c5\", \"\\uc77c\\uc2dd \\uc74c\\uc2dd\\uc810\\uc5c5\", \"\\uc790\\ub3d9\\ucc28 \\uc784\\ub300\\uc5c5\", \"\\uc804\\uc2dc \\ubc0f \\ud589\\uc0ac \\ub300\\ud589\\uc5c5\", \"\\uc911\\uc2dd \\uc74c\\uc2dd\\uc810\\uc5c5\", \"\\ucc28\\ub7c9\\uc6a9 \\uac00\\uc2a4 \\ucda9\\uc804\\uc5c5\", \"\\ucc28\\ub7c9\\uc6a9 \\uc8fc\\uc720\\uc18c \\uc6b4\\uc601\\uc5c5\", \"\\uccb4\\uc778\\ud654 \\ud3b8\\uc758\\uc810\", \"\\ud0dd\\uc2dc \\uc6b4\\uc1a1\\uc5c5\", \"\\ud53c\\uc790 \\ud584\\ubc84\\uac70 \\uc0cc\\ub4dc\\uc704\\uce58 \\ubc0f \\uc720\\uc0ac \\uc74c\\uc2dd\\uc810\\uc5c5\", \"\\ud55c\\uc2dd \\uc74c\\uc2dd\\uc810\\uc5c5\", \"\\ud638\\ud154\\uc5c5\", \"\\ud654\\uc7a5\\ud488 \\ubc0f \\ubc29\\ud5a5\\uc81c \\uc18c\\ub9e4\\uc5c5\", \"\\ud734\\uc591\\ucf58\\ub3c4 \\uc6b4\\uc601\\uc5c5\"], \"y\": [1.0050988878819815, 0.8670291309678038, 1.1120882828020342, 0.7328021913363139, null, 0.09237706971553511, 0.9962149861762661, 0.841870208243979, 0.5121913179100598, 0.5124222644183707, 0.5461882237326177, 1.226635513735522, null, 0.2939423711888157, null, 0.7366119582493043, 0.9072984711425225, 0.6839575283685602, 0.8799477882821856, 1.243578314874218, 0.6144713712538606, 0.4621309277371174, 0.8874542301021391, 0.36527680310404875, 1.3768389822027918, 0.5328695083225431, 0.6122238725727515, 0.3119193059642039, 0.16551481426304238, 0.792344823258734, 0.847008760347504, 0.8287327461361066, 0.9634650550492154, 0.5571940314587374, 0.8534671061406206, 0.5981059222114291, 0.0812507793982564, 0.5642256808001495, 0.03657177184529073]}, {\"marker\": {\"color\": [\"crimson\", \"crimson\", \"crimson\", \"lightslategray\", \"lightslategray\", \"crimson\", \"lightslategray\", \"lightslategray\", \"lightslategray\", \"lightslategray\", \"crimson\", \"lightslategray\", \"lightslategray\", \"crimson\", \"lightslategray\", \"lightslategray\", \"lightslategray\", \"crimson\", \"crimson\", \"lightslategray\", \"lightslategray\", \"lightslategray\", \"lightslategray\", \"crimson\", \"lightslategray\", \"lightslategray\", \"crimson\", \"lightslategray\", \"lightslategray\", \"crimson\", \"lightslategray\", \"crimson\", \"lightslategray\", \"lightslategray\", \"lightslategray\", \"lightslategray\", \"lightslategray\", \"lightslategray\", \"lightslategray\", \"lightslategray\", \"lightslategray\"]}, \"name\": \"\\uacbd\\uae30\", \"opacity\": 0.5, \"type\": \"bar\", \"visible\": false, \"x\": [\"\\uac74\\uac15\\ubcf4\\uc870\\uc2dd\\ud488 \\uc18c\\ub9e4\\uc5c5\", \"\\uace8\\ud504\\uc7a5 \\uc6b4\\uc601\\uc5c5\", \"\\uacfc\\uc2e4 \\ubc0f \\ucc44\\uc18c \\uc18c\\ub9e4\\uc5c5\", \"\\uad00\\uad11 \\ubbfc\\uc608\\ud488 \\ubc0f \\uc120\\ubb3c\\uc6a9\\ud488 \\uc18c\\ub9e4\\uc5c5\", \"\\uadf8\\uc678 \\uae30\\ud0c0 \\uc2a4\\ud3ec\\uce20\\uc2dc\\uc124 \\uc6b4\\uc601\\uc5c5\", \"\\uadf8\\uc678 \\uae30\\ud0c0 \\uc885\\ud569 \\uc18c\\ub9e4\\uc5c5\", \"\\uae30\\ud0c0 \\ub300\\ud615 \\uc885\\ud569 \\uc18c\\ub9e4\\uc5c5\", \"\\uae30\\ud0c0 \\uc218\\uc0c1\\uc624\\ub77d \\uc11c\\ube44\\uc2a4\\uc5c5\", \"\\uae30\\ud0c0 \\uc678\\uad6d\\uc2dd \\uc74c\\uc2dd\\uc810\\uc5c5\", \"\\uae30\\ud0c0 \\uc8fc\\uc810\\uc5c5\", \"\\uae30\\ud0c0\\uc74c\\uc2dd\\ub8cc\\ud488\\uc704\\uc8fc\\uc885\\ud569\\uc18c\\ub9e4\\uc5c5\", \"\\ub0b4\\ud56d \\uc5ec\\uac1d \\uc6b4\\uc1a1\\uc5c5\", \"\\ub9c8\\uc0ac\\uc9c0\\uc5c5\", \"\\ubc84\\uc2a4 \\uc6b4\\uc1a1\\uc5c5\", \"\\ube44\\uc54c\\ucf5c \\uc74c\\ub8cc\\uc810\\uc5c5\", \"\\ube75 \\ubc0f \\uacfc\\uc790\\ub958 \\uc18c\\ub9e4\\uc5c5\", \"\\uc11c\\uc591\\uc2dd \\uc74c\\uc2dd\\uc810\\uc5c5\", \"\\uc218\\uc0b0\\ubb3c \\uc18c\\ub9e4\\uc5c5\", \"\\uc288\\ud37c\\ub9c8\\ucf13\", \"\\uc2a4\\ud3ec\\uce20 \\ubc0f \\ub808\\ud06c\\ub808\\uc774\\uc158 \\uc6a9\\ud488 \\uc784\\ub300\\uc5c5\", \"\\uc5ec\\uad00\\uc5c5\", \"\\uc5ec\\ud589\\uc0ac\\uc5c5\", \"\\uc695\\ud0d5\\uc5c5\", \"\\uc721\\ub958 \\uc18c\\ub9e4\\uc5c5\", \"\\uc77c\\ubc18\\uc720\\ud765 \\uc8fc\\uc810\\uc5c5\", \"\\uc77c\\uc2dd \\uc74c\\uc2dd\\uc810\\uc5c5\", \"\\uc790\\ub3d9\\ucc28 \\uc784\\ub300\\uc5c5\", \"\\uc804\\uc2dc \\ubc0f \\ud589\\uc0ac \\ub300\\ud589\\uc5c5\", \"\\uc911\\uc2dd \\uc74c\\uc2dd\\uc810\\uc5c5\", \"\\ucc28\\ub7c9\\uc6a9 \\uac00\\uc2a4 \\ucda9\\uc804\\uc5c5\", \"\\ucc28\\ub7c9\\uc6a9 \\uc8fc\\uc720\\uc18c \\uc6b4\\uc601\\uc5c5\", \"\\uccb4\\uc778\\ud654 \\ud3b8\\uc758\\uc810\", \"\\ud0dd\\uc2dc \\uc6b4\\uc1a1\\uc5c5\", \"\\ud53c\\uc790 \\ud584\\ubc84\\uac70 \\uc0cc\\ub4dc\\uc704\\uce58 \\ubc0f \\uc720\\uc0ac \\uc74c\\uc2dd\\uc810\\uc5c5\", \"\\ud55c\\uc2dd \\uc74c\\uc2dd\\uc810\\uc5c5\", \"\\ud638\\ud154\\uc5c5\", \"\\ud654\\uc7a5\\ud488 \\ubc0f \\ubc29\\ud5a5\\uc81c \\uc18c\\ub9e4\\uc5c5\", \"\\ud734\\uc591\\ucf58\\ub3c4 \\uc6b4\\uc601\\uc5c5\"], \"y\": [1.0565461359213195, 1.0151771759572303, 1.3464670391238032, 0.7482577184704347, 0.1392653640878154, 1.1106281256765032, 0.8286436881856091, 0.7944414773271068, 0.7512914227148085, 0.7140350715676668, 1.2799969472608725, 0.6213946695874407, 0.6046546838497119, 81.85014423563693, 0.9439893267510956, 0.9705614834136689, 0.9148960336071826, 1.4446697511308773, 1.2133155169901688, 0.7811878667856875, 0.6866080528689769, 0.08922878421374131, 0.4406467398364201, 1.381193431076855, 0.6357122314842995, 0.7985732602786553, 2.372934460314069, 0.3160261140472719, 0.8736501771360867, 1.0073465687563297, 0.8855937440190838, 1.0569881177479346, 0.75022613714011, 0.9270198469105738, 0.8081733993999153, 0.22157180125530368, 0.6188873977412459, 0.5627771471694035]}, {\"marker\": {\"color\": [\"crimson\", \"crimson\", \"lightslategray\", \"lightslategray\", \"lightslategray\", \"crimson\", \"lightslategray\", \"lightslategray\", \"lightslategray\", \"lightslategray\", \"crimson\", \"lightslategray\", \"lightslategray\", \"lightslategray\", \"lightslategray\", \"lightslategray\", \"lightslategray\", \"lightslategray\", \"lightslategray\", \"crimson\", \"lightslategray\", \"lightslategray\", \"lightslategray\", \"lightslategray\", \"crimson\", \"lightslategray\", \"lightslategray\", \"lightslategray\", \"lightslategray\", \"lightslategray\", \"lightslategray\", \"lightslategray\", \"lightslategray\", \"lightslategray\", \"lightslategray\", \"lightslategray\", \"lightslategray\", \"lightslategray\", \"lightslategray\", \"lightslategray\", \"lightslategray\"]}, \"name\": \"\\ubd80\\uc0b0\", \"opacity\": 0.5, \"type\": \"bar\", \"visible\": false, \"x\": [\"\\uac74\\uac15\\ubcf4\\uc870\\uc2dd\\ud488 \\uc18c\\ub9e4\\uc5c5\", \"\\uace8\\ud504\\uc7a5 \\uc6b4\\uc601\\uc5c5\", \"\\uacfc\\uc2e4 \\ubc0f \\ucc44\\uc18c \\uc18c\\ub9e4\\uc5c5\", \"\\uad00\\uad11 \\ubbfc\\uc608\\ud488 \\ubc0f \\uc120\\ubb3c\\uc6a9\\ud488 \\uc18c\\ub9e4\\uc5c5\", \"\\uadf8\\uc678 \\uae30\\ud0c0 \\uc2a4\\ud3ec\\uce20\\uc2dc\\uc124 \\uc6b4\\uc601\\uc5c5\", \"\\uadf8\\uc678 \\uae30\\ud0c0 \\uc885\\ud569 \\uc18c\\ub9e4\\uc5c5\", \"\\uae30\\ud0c0 \\ub300\\ud615 \\uc885\\ud569 \\uc18c\\ub9e4\\uc5c5\", \"\\uae30\\ud0c0 \\uc218\\uc0c1\\uc624\\ub77d \\uc11c\\ube44\\uc2a4\\uc5c5\", \"\\uae30\\ud0c0 \\uc678\\uad6d\\uc2dd \\uc74c\\uc2dd\\uc810\\uc5c5\", \"\\uae30\\ud0c0 \\uc8fc\\uc810\\uc5c5\", \"\\uae30\\ud0c0\\uc74c\\uc2dd\\ub8cc\\ud488\\uc704\\uc8fc\\uc885\\ud569\\uc18c\\ub9e4\\uc5c5\", \"\\ub0b4\\ud56d \\uc5ec\\uac1d \\uc6b4\\uc1a1\\uc5c5\", \"\\ub9c8\\uc0ac\\uc9c0\\uc5c5\", \"\\uba74\\uc138\\uc810\", \"\\ubc84\\uc2a4 \\uc6b4\\uc1a1\\uc5c5\", \"\\ube44\\uc54c\\ucf5c \\uc74c\\ub8cc\\uc810\\uc5c5\", \"\\ube75 \\ubc0f \\uacfc\\uc790\\ub958 \\uc18c\\ub9e4\\uc5c5\", \"\\uc11c\\uc591\\uc2dd \\uc74c\\uc2dd\\uc810\\uc5c5\", \"\\uc218\\uc0b0\\ubb3c \\uc18c\\ub9e4\\uc5c5\", \"\\uc288\\ud37c\\ub9c8\\ucf13\", \"\\uc2a4\\ud3ec\\uce20 \\ubc0f \\ub808\\ud06c\\ub808\\uc774\\uc158 \\uc6a9\\ud488 \\uc784\\ub300\\uc5c5\", \"\\uc5ec\\uad00\\uc5c5\", \"\\uc5ec\\ud589\\uc0ac\\uc5c5\", \"\\uc695\\ud0d5\\uc5c5\", \"\\uc721\\ub958 \\uc18c\\ub9e4\\uc5c5\", \"\\uc77c\\ubc18\\uc720\\ud765 \\uc8fc\\uc810\\uc5c5\", \"\\uc77c\\uc2dd \\uc74c\\uc2dd\\uc810\\uc5c5\", \"\\uc790\\ub3d9\\ucc28 \\uc784\\ub300\\uc5c5\", \"\\uc804\\uc2dc \\ubc0f \\ud589\\uc0ac \\ub300\\ud589\\uc5c5\", \"\\uc815\\uae30 \\ud56d\\uacf5 \\uc6b4\\uc1a1\\uc5c5\", \"\\uc911\\uc2dd \\uc74c\\uc2dd\\uc810\\uc5c5\", \"\\ucc28\\ub7c9\\uc6a9 \\uac00\\uc2a4 \\ucda9\\uc804\\uc5c5\", \"\\ucc28\\ub7c9\\uc6a9 \\uc8fc\\uc720\\uc18c \\uc6b4\\uc601\\uc5c5\", \"\\uccb4\\uc778\\ud654 \\ud3b8\\uc758\\uc810\", \"\\ud0dd\\uc2dc \\uc6b4\\uc1a1\\uc5c5\", \"\\ud53c\\uc790 \\ud584\\ubc84\\uac70 \\uc0cc\\ub4dc\\uc704\\uce58 \\ubc0f \\uc720\\uc0ac \\uc74c\\uc2dd\\uc810\\uc5c5\", \"\\ud55c\\uc2dd \\uc74c\\uc2dd\\uc810\\uc5c5\", \"\\ud638\\ud154\\uc5c5\", \"\\ud654\\uc7a5\\ud488 \\ubc0f \\ubc29\\ud5a5\\uc81c \\uc18c\\ub9e4\\uc5c5\", \"\\ud734\\uc591\\ucf58\\ub3c4 \\uc6b4\\uc601\\uc5c5\"], \"y\": [1.0019353477577009, 1.072590806251359, 0.7994130204184463, 0.47447691115467017, 0.08501185177737992, 1.0304841769765962, 0.8769990089821377, 0.20373126202315706, 0.5665292702192404, 0.6834480089321273, 1.2933821702677262, null, 0.677267175016997, 0.0029998385989051216, 0.05696388372320642, 0.6957167002200345, 0.7963095865085432, 0.6816021850240814, 0.9982190630253297, 1.0863672432113003, 0.5890845079751696, 0.5504991201772694, 0.19298649805591347, 0.5773509280435309, 1.2609940831217217, 0.6701740161544626, 0.5854800403099115, 0.15323785957623867, 0.16027730793804695, 0.16667947791007892, 0.7026764637446926, 0.788285758963507, 0.8458098260524071, 0.8804157445964897, 0.6739073441024872, 0.7470064268612399, 0.6405741526191867, 0.35121707052963114, 0.6029299410530821, 0.3810030344983237]}, {\"marker\": {\"color\": [\"lightslategray\", \"lightslategray\", \"crimson\", \"lightslategray\", \"lightslategray\", \"lightslategray\", \"lightslategray\", \"crimson\", \"lightslategray\", \"lightslategray\", \"crimson\", \"lightslategray\", \"lightslategray\", \"lightslategray\", \"lightslategray\", \"lightslategray\", \"lightslategray\", \"crimson\", \"crimson\", \"lightslategray\", \"lightslategray\", \"lightslategray\", \"lightslategray\", \"crimson\", \"lightslategray\", \"lightslategray\", \"lightslategray\", \"lightslategray\", \"lightslategray\", \"lightslategray\", \"lightslategray\", \"lightslategray\", \"lightslategray\", \"lightslategray\", \"lightslategray\", \"lightslategray\", \"lightslategray\", \"lightslategray\", \"lightslategray\", \"lightslategray\", \"lightslategray\"]}, \"name\": \"\\uc778\\ucc9c\", \"opacity\": 0.5, \"type\": \"bar\", \"visible\": false, \"x\": [\"\\uac74\\uac15\\ubcf4\\uc870\\uc2dd\\ud488 \\uc18c\\ub9e4\\uc5c5\", \"\\uace8\\ud504\\uc7a5 \\uc6b4\\uc601\\uc5c5\", \"\\uacfc\\uc2e4 \\ubc0f \\ucc44\\uc18c \\uc18c\\ub9e4\\uc5c5\", \"\\uad00\\uad11 \\ubbfc\\uc608\\ud488 \\ubc0f \\uc120\\ubb3c\\uc6a9\\ud488 \\uc18c\\ub9e4\\uc5c5\", \"\\uadf8\\uc678 \\uae30\\ud0c0 \\uc2a4\\ud3ec\\uce20\\uc2dc\\uc124 \\uc6b4\\uc601\\uc5c5\", \"\\uadf8\\uc678 \\uae30\\ud0c0 \\uc885\\ud569 \\uc18c\\ub9e4\\uc5c5\", \"\\uae30\\ud0c0 \\ub300\\ud615 \\uc885\\ud569 \\uc18c\\ub9e4\\uc5c5\", \"\\uae30\\ud0c0 \\uc218\\uc0c1\\uc624\\ub77d \\uc11c\\ube44\\uc2a4\\uc5c5\", \"\\uae30\\ud0c0 \\uc678\\uad6d\\uc2dd \\uc74c\\uc2dd\\uc810\\uc5c5\", \"\\uae30\\ud0c0 \\uc8fc\\uc810\\uc5c5\", \"\\uae30\\ud0c0\\uc74c\\uc2dd\\ub8cc\\ud488\\uc704\\uc8fc\\uc885\\ud569\\uc18c\\ub9e4\\uc5c5\", \"\\ub0b4\\ud56d \\uc5ec\\uac1d \\uc6b4\\uc1a1\\uc5c5\", \"\\ub9c8\\uc0ac\\uc9c0\\uc5c5\", \"\\uba74\\uc138\\uc810\", \"\\ube44\\uc54c\\ucf5c \\uc74c\\ub8cc\\uc810\\uc5c5\", \"\\ube75 \\ubc0f \\uacfc\\uc790\\ub958 \\uc18c\\ub9e4\\uc5c5\", \"\\uc11c\\uc591\\uc2dd \\uc74c\\uc2dd\\uc810\\uc5c5\", \"\\uc218\\uc0b0\\ubb3c \\uc18c\\ub9e4\\uc5c5\", \"\\uc288\\ud37c\\ub9c8\\ucf13\", \"\\uc2a4\\ud3ec\\uce20 \\ubc0f \\ub808\\ud06c\\ub808\\uc774\\uc158 \\uc6a9\\ud488 \\uc784\\ub300\\uc5c5\", \"\\uc5ec\\uad00\\uc5c5\", \"\\uc5ec\\ud589\\uc0ac\\uc5c5\", \"\\uc695\\ud0d5\\uc5c5\", \"\\uc721\\ub958 \\uc18c\\ub9e4\\uc5c5\", \"\\uc77c\\ubc18\\uc720\\ud765 \\uc8fc\\uc810\\uc5c5\", \"\\uc77c\\uc2dd \\uc74c\\uc2dd\\uc810\\uc5c5\", \"\\uc790\\ub3d9\\ucc28 \\uc784\\ub300\\uc5c5\", \"\\uc804\\uc2dc \\ubc0f \\ud589\\uc0ac \\ub300\\ud589\\uc5c5\", \"\\uc815\\uae30 \\ud56d\\uacf5 \\uc6b4\\uc1a1\\uc5c5\", \"\\uc911\\uc2dd \\uc74c\\uc2dd\\uc810\\uc5c5\", \"\\ucc28\\ub7c9\\uc6a9 \\uac00\\uc2a4 \\ucda9\\uc804\\uc5c5\", \"\\ucc28\\ub7c9\\uc6a9 \\uc8fc\\uc720\\uc18c \\uc6b4\\uc601\\uc5c5\", \"\\uccb4\\uc778\\ud654 \\ud3b8\\uc758\\uc810\", \"\\ud0dd\\uc2dc \\uc6b4\\uc1a1\\uc5c5\", \"\\ud53c\\uc790 \\ud584\\ubc84\\uac70 \\uc0cc\\ub4dc\\uc704\\uce58 \\ubc0f \\uc720\\uc0ac \\uc74c\\uc2dd\\uc810\\uc5c5\", \"\\ud55c\\uc2dd \\uc74c\\uc2dd\\uc810\\uc5c5\", \"\\ud638\\ud154\\uc5c5\", \"\\ud654\\uc7a5\\ud488 \\ubc0f \\ubc29\\ud5a5\\uc81c \\uc18c\\ub9e4\\uc5c5\"], \"y\": [0.8245699500280801, 0.9619370278681424, 1.0563569245215938, 0.6224405848645262, 0.27332480479950594, 0.12489997360349715, 0.8100121221836778, 1.133222168955958, 0.7032455622368908, 0.8084078273923833, 1.1975963340114861, 0.17412790173317744, 0.703106327061613, 0.04267499871007048, 0.8255774537938498, 0.7625565055539789, 0.7625610179578549, 1.1933897037931693, 1.0533211076683313, 0.6296210317795732, 0.6757467485451725, 0.2956931888371048, 0.4101018844330067, 1.1219685918244091, 0.6270798150341209, 0.6861595058076763, 0.6804804853338235, 0.7876505945418576, 0.28074708247825203, 0.7176472024890646, 0.8111968170730831, 0.8283294229149987, 0.9520664329025712, 0.7977490032643854, 0.7437737134327218, 0.7157797026287438, 0.29652824416496065, 0.5806449608235738]}, {\"marker\": {\"color\": [\"lightslategray\", \"crimson\", \"crimson\", \"lightslategray\", \"lightslategray\", \"lightslategray\", \"crimson\", \"lightslategray\", \"crimson\", \"lightslategray\", \"lightslategray\", \"crimson\", \"lightslategray\", \"lightslategray\", \"lightslategray\", \"lightslategray\", \"lightslategray\", \"lightslategray\", \"crimson\", \"crimson\", \"lightslategray\", \"lightslategray\", \"lightslategray\", \"lightslategray\", \"crimson\", \"lightslategray\", \"lightslategray\", \"lightslategray\", \"lightslategray\", \"lightslategray\", \"lightslategray\", \"lightslategray\", \"lightslategray\", \"crimson\", \"lightslategray\", \"lightslategray\", \"lightslategray\", \"lightslategray\", \"lightslategray\", \"lightslategray\", \"lightslategray\"]}, \"name\": \"\\ucda9\\ub0a8\", \"opacity\": 0.5, \"type\": \"bar\", \"visible\": false, \"x\": [\"\\uac74\\uac15\\ubcf4\\uc870\\uc2dd\\ud488 \\uc18c\\ub9e4\\uc5c5\", \"\\uace8\\ud504\\uc7a5 \\uc6b4\\uc601\\uc5c5\", \"\\uacfc\\uc2e4 \\ubc0f \\ucc44\\uc18c \\uc18c\\ub9e4\\uc5c5\", \"\\uad00\\uad11 \\ubbfc\\uc608\\ud488 \\ubc0f \\uc120\\ubb3c\\uc6a9\\ud488 \\uc18c\\ub9e4\\uc5c5\", \"\\uadf8\\uc678 \\uae30\\ud0c0 \\ubd84\\ub958\\uc548\\ub41c \\uc624\\ub77d\\uad00\\ub828 \\uc11c\\ube44\\uc2a4\\uc5c5\", \"\\uadf8\\uc678 \\uae30\\ud0c0 \\uc2a4\\ud3ec\\uce20\\uc2dc\\uc124 \\uc6b4\\uc601\\uc5c5\", \"\\uadf8\\uc678 \\uae30\\ud0c0 \\uc885\\ud569 \\uc18c\\ub9e4\\uc5c5\", \"\\uae30\\ud0c0 \\ub300\\ud615 \\uc885\\ud569 \\uc18c\\ub9e4\\uc5c5\", \"\\uae30\\ud0c0 \\uc218\\uc0c1\\uc624\\ub77d \\uc11c\\ube44\\uc2a4\\uc5c5\", \"\\uae30\\ud0c0 \\uc678\\uad6d\\uc2dd \\uc74c\\uc2dd\\uc810\\uc5c5\", \"\\uae30\\ud0c0 \\uc8fc\\uc810\\uc5c5\", \"\\uae30\\ud0c0\\uc74c\\uc2dd\\ub8cc\\ud488\\uc704\\uc8fc\\uc885\\ud569\\uc18c\\ub9e4\\uc5c5\", \"\\ub0b4\\ud56d \\uc5ec\\uac1d \\uc6b4\\uc1a1\\uc5c5\", \"\\ub9c8\\uc0ac\\uc9c0\\uc5c5\", \"\\ubc84\\uc2a4 \\uc6b4\\uc1a1\\uc5c5\", \"\\ube44\\uc54c\\ucf5c \\uc74c\\ub8cc\\uc810\\uc5c5\", \"\\ube75 \\ubc0f \\uacfc\\uc790\\ub958 \\uc18c\\ub9e4\\uc5c5\", \"\\uc11c\\uc591\\uc2dd \\uc74c\\uc2dd\\uc810\\uc5c5\", \"\\uc218\\uc0b0\\ubb3c \\uc18c\\ub9e4\\uc5c5\", \"\\uc288\\ud37c\\ub9c8\\ucf13\", \"\\uc2a4\\ud3ec\\uce20 \\ubc0f \\ub808\\ud06c\\ub808\\uc774\\uc158 \\uc6a9\\ud488 \\uc784\\ub300\\uc5c5\", \"\\uc5ec\\uad00\\uc5c5\", \"\\uc5ec\\ud589\\uc0ac\\uc5c5\", \"\\uc695\\ud0d5\\uc5c5\", \"\\uc721\\ub958 \\uc18c\\ub9e4\\uc5c5\", \"\\uc77c\\ubc18\\uc720\\ud765 \\uc8fc\\uc810\\uc5c5\", \"\\uc77c\\uc2dd \\uc74c\\uc2dd\\uc810\\uc5c5\", \"\\uc790\\ub3d9\\ucc28 \\uc784\\ub300\\uc5c5\", \"\\uc804\\uc2dc \\ubc0f \\ud589\\uc0ac \\ub300\\ud589\\uc5c5\", \"\\uc815\\uae30 \\ud56d\\uacf5 \\uc6b4\\uc1a1\\uc5c5\", \"\\uc911\\uc2dd \\uc74c\\uc2dd\\uc810\\uc5c5\", \"\\ucc28\\ub7c9\\uc6a9 \\uac00\\uc2a4 \\ucda9\\uc804\\uc5c5\", \"\\ucc28\\ub7c9\\uc6a9 \\uc8fc\\uc720\\uc18c \\uc6b4\\uc601\\uc5c5\", \"\\uccb4\\uc778\\ud654 \\ud3b8\\uc758\\uc810\", \"\\ud0dd\\uc2dc \\uc6b4\\uc1a1\\uc5c5\", \"\\ud53c\\uc790 \\ud584\\ubc84\\uac70 \\uc0cc\\ub4dc\\uc704\\uce58 \\ubc0f \\uc720\\uc0ac \\uc74c\\uc2dd\\uc810\\uc5c5\", \"\\ud55c\\uc2dd \\uc74c\\uc2dd\\uc810\\uc5c5\", \"\\ud638\\ud154\\uc5c5\", \"\\ud654\\uc7a5\\ud488 \\ubc0f \\ubc29\\ud5a5\\uc81c \\uc18c\\ub9e4\\uc5c5\", \"\\ud734\\uc591\\ucf58\\ub3c4 \\uc6b4\\uc601\\uc5c5\"], \"y\": [0.6997932883887718, 1.0501777286215037, 1.166166546478946, 0.7837505165782258, 0.5212155963302753, 0.07806890544628459, 1.2577555247352397, 0.8309911379910283, 2.014838722439076, 0.732007250084878, 0.656400933203439, 1.3242027622380834, null, 0.4442943665272792, null, 0.8434100165071733, 0.9402868244989158, 0.8344624448571691, 1.0337927212855669, 1.1955875572655563, 0.7069633633990301, 0.6260880314626477, 0.2005230961352889, 0.4205662873557506, 1.3524998066771623, 0.5579082990422499, 0.7241425847633662, 0.06908716742613553, 0.2704291026896752, null, 0.8978443385042041, 0.8743045045705967, 0.8609449633176334, 1.002136003112173, null, 0.8738643708052042, 0.7533983122947843, 0.09742945085918332, 0.681077343265073, 0.39029979874707504]}, {\"marker\": {\"color\": [\"crimson\", \"lightslategray\", \"crimson\", \"crimson\", \"lightslategray\", \"lightslategray\", \"crimson\", \"lightslategray\", \"lightslategray\", \"lightslategray\", \"lightslategray\", \"crimson\", \"lightslategray\", \"lightslategray\", \"lightslategray\", \"lightslategray\", \"crimson\", \"lightslategray\", \"crimson\", \"crimson\", \"lightslategray\", \"lightslategray\", \"lightslategray\", \"lightslategray\", \"crimson\", \"lightslategray\", \"lightslategray\", \"lightslategray\", \"lightslategray\", \"lightslategray\", \"lightslategray\", \"lightslategray\", \"crimson\", \"lightslategray\", \"lightslategray\", \"lightslategray\", \"lightslategray\", \"lightslategray\", \"lightslategray\", \"lightslategray\", \"lightslategray\"]}, \"name\": \"\\uacbd\\ub0a8\", \"opacity\": 0.5, \"type\": \"bar\", \"visible\": false, \"x\": [\"\\uac74\\uac15\\ubcf4\\uc870\\uc2dd\\ud488 \\uc18c\\ub9e4\\uc5c5\", \"\\uace8\\ud504\\uc7a5 \\uc6b4\\uc601\\uc5c5\", \"\\uacfc\\uc2e4 \\ubc0f \\ucc44\\uc18c \\uc18c\\ub9e4\\uc5c5\", \"\\uad00\\uad11 \\ubbfc\\uc608\\ud488 \\ubc0f \\uc120\\ubb3c\\uc6a9\\ud488 \\uc18c\\ub9e4\\uc5c5\", \"\\uadf8\\uc678 \\uae30\\ud0c0 \\ubd84\\ub958\\uc548\\ub41c \\uc624\\ub77d\\uad00\\ub828 \\uc11c\\ube44\\uc2a4\\uc5c5\", \"\\uadf8\\uc678 \\uae30\\ud0c0 \\uc2a4\\ud3ec\\uce20\\uc2dc\\uc124 \\uc6b4\\uc601\\uc5c5\", \"\\uadf8\\uc678 \\uae30\\ud0c0 \\uc885\\ud569 \\uc18c\\ub9e4\\uc5c5\", \"\\uae30\\ud0c0 \\ub300\\ud615 \\uc885\\ud569 \\uc18c\\ub9e4\\uc5c5\", \"\\uae30\\ud0c0 \\uc218\\uc0c1\\uc624\\ub77d \\uc11c\\ube44\\uc2a4\\uc5c5\", \"\\uae30\\ud0c0 \\uc678\\uad6d\\uc2dd \\uc74c\\uc2dd\\uc810\\uc5c5\", \"\\uae30\\ud0c0 \\uc8fc\\uc810\\uc5c5\", \"\\uae30\\ud0c0\\uc74c\\uc2dd\\ub8cc\\ud488\\uc704\\uc8fc\\uc885\\ud569\\uc18c\\ub9e4\\uc5c5\", \"\\ub0b4\\ud56d \\uc5ec\\uac1d \\uc6b4\\uc1a1\\uc5c5\", \"\\ub9c8\\uc0ac\\uc9c0\\uc5c5\", \"\\ubc84\\uc2a4 \\uc6b4\\uc1a1\\uc5c5\", \"\\ube44\\uc54c\\ucf5c \\uc74c\\ub8cc\\uc810\\uc5c5\", \"\\ube75 \\ubc0f \\uacfc\\uc790\\ub958 \\uc18c\\ub9e4\\uc5c5\", \"\\uc11c\\uc591\\uc2dd \\uc74c\\uc2dd\\uc810\\uc5c5\", \"\\uc218\\uc0b0\\ubb3c \\uc18c\\ub9e4\\uc5c5\", \"\\uc288\\ud37c\\ub9c8\\ucf13\", \"\\uc2a4\\ud3ec\\uce20 \\ubc0f \\ub808\\ud06c\\ub808\\uc774\\uc158 \\uc6a9\\ud488 \\uc784\\ub300\\uc5c5\", \"\\uc5ec\\uad00\\uc5c5\", \"\\uc5ec\\ud589\\uc0ac\\uc5c5\", \"\\uc695\\ud0d5\\uc5c5\", \"\\uc721\\ub958 \\uc18c\\ub9e4\\uc5c5\", \"\\uc77c\\ubc18\\uc720\\ud765 \\uc8fc\\uc810\\uc5c5\", \"\\uc77c\\uc2dd \\uc74c\\uc2dd\\uc810\\uc5c5\", \"\\uc790\\ub3d9\\ucc28 \\uc784\\ub300\\uc5c5\", \"\\uc804\\uc2dc \\ubc0f \\ud589\\uc0ac \\ub300\\ud589\\uc5c5\", \"\\uc911\\uc2dd \\uc74c\\uc2dd\\uc810\\uc5c5\", \"\\ucc28\\ub7c9\\uc6a9 \\uac00\\uc2a4 \\ucda9\\uc804\\uc5c5\", \"\\ucc28\\ub7c9\\uc6a9 \\uc8fc\\uc720\\uc18c \\uc6b4\\uc601\\uc5c5\", \"\\uccb4\\uc778\\ud654 \\ud3b8\\uc758\\uc810\", \"\\ud0dd\\uc2dc \\uc6b4\\uc1a1\\uc5c5\", \"\\ud53c\\uc790 \\ud584\\ubc84\\uac70 \\uc0cc\\ub4dc\\uc704\\uce58 \\ubc0f \\uc720\\uc0ac \\uc74c\\uc2dd\\uc810\\uc5c5\", \"\\ud55c\\uc2dd \\uc74c\\uc2dd\\uc810\\uc5c5\", \"\\ud638\\ud154\\uc5c5\", \"\\ud654\\uc7a5\\ud488 \\ubc0f \\ubc29\\ud5a5\\uc81c \\uc18c\\ub9e4\\uc5c5\", \"\\ud734\\uc591\\ucf58\\ub3c4 \\uc6b4\\uc601\\uc5c5\"], \"y\": [1.0267233533348616, 0.9507533510128731, 1.2808874994647326, 1.4856236390650084, 0.5223587223587224, 0.06863009027441268, 1.2238712329544275, 0.7748951784759317, 0.24933199252980895, 0.6679741932895564, 0.8211446834621127, 1.2710381851962194, 0.8710498304449937, 0.5565169873771089, 0.0032411876684297655, 0.9382008236406056, 1.0290511442236379, 0.8376224253380985, 1.0830312395407624, 1.3064992014041057, 0.7017935513378469, 0.7018520383332346, 0.01338114304232832, 0.638110588748003, 1.3898274329905072, 0.7165789508750648, 0.7581533315910073, 0.1456781668236167, 0.4977344937015298, 0.9461894225495123, 0.9421587978939009, 0.8709515400348709, 1.0323178453844966, 0.5058592254246307, 0.9899787302900539, 0.7828812452715596, 0.20361160140079398, 0.6189545048130622, 0.18223438619930024]}, {\"marker\": {\"color\": [\"crimson\", \"crimson\", \"crimson\", \"lightslategray\", \"lightslategray\", \"crimson\", \"lightslategray\", \"lightslategray\", \"lightslategray\", \"lightslategray\", \"crimson\", \"lightslategray\", \"lightslategray\", \"lightslategray\", \"lightslategray\", \"crimson\", \"crimson\", \"lightslategray\", \"lightslategray\", \"lightslategray\", \"crimson\", \"lightslategray\", \"lightslategray\", \"crimson\", \"lightslategray\", \"lightslategray\", \"lightslategray\", \"lightslategray\", \"crimson\", \"lightslategray\", \"lightslategray\", \"lightslategray\", \"lightslategray\", \"lightslategray\", \"lightslategray\", \"lightslategray\", \"lightslategray\", \"lightslategray\", \"lightslategray\", \"lightslategray\", \"lightslategray\"]}, \"name\": \"\\ub300\\uc804\", \"opacity\": 0.5, \"type\": \"bar\", \"visible\": false, \"x\": [\"\\uac74\\uac15\\ubcf4\\uc870\\uc2dd\\ud488 \\uc18c\\ub9e4\\uc5c5\", \"\\uace8\\ud504\\uc7a5 \\uc6b4\\uc601\\uc5c5\", \"\\uacfc\\uc2e4 \\ubc0f \\ucc44\\uc18c \\uc18c\\ub9e4\\uc5c5\", \"\\uad00\\uad11 \\ubbfc\\uc608\\ud488 \\ubc0f \\uc120\\ubb3c\\uc6a9\\ud488 \\uc18c\\ub9e4\\uc5c5\", \"\\uadf8\\uc678 \\uae30\\ud0c0 \\uc2a4\\ud3ec\\uce20\\uc2dc\\uc124 \\uc6b4\\uc601\\uc5c5\", \"\\uadf8\\uc678 \\uae30\\ud0c0 \\uc885\\ud569 \\uc18c\\ub9e4\\uc5c5\", \"\\uae30\\ud0c0 \\ub300\\ud615 \\uc885\\ud569 \\uc18c\\ub9e4\\uc5c5\", \"\\uae30\\ud0c0 \\uc218\\uc0c1\\uc624\\ub77d \\uc11c\\ube44\\uc2a4\\uc5c5\", \"\\uae30\\ud0c0 \\uc678\\uad6d\\uc2dd \\uc74c\\uc2dd\\uc810\\uc5c5\", \"\\uae30\\ud0c0 \\uc8fc\\uc810\\uc5c5\", \"\\uae30\\ud0c0\\uc74c\\uc2dd\\ub8cc\\ud488\\uc704\\uc8fc\\uc885\\ud569\\uc18c\\ub9e4\\uc5c5\", \"\\ub9c8\\uc0ac\\uc9c0\\uc5c5\", \"\\ube44\\uc54c\\ucf5c \\uc74c\\ub8cc\\uc810\\uc5c5\", \"\\ube75 \\ubc0f \\uacfc\\uc790\\ub958 \\uc18c\\ub9e4\\uc5c5\", \"\\uc11c\\uc591\\uc2dd \\uc74c\\uc2dd\\uc810\\uc5c5\", \"\\uc218\\uc0b0\\ubb3c \\uc18c\\ub9e4\\uc5c5\", \"\\uc288\\ud37c\\ub9c8\\ucf13\", \"\\uc2a4\\ud3ec\\uce20 \\ubc0f \\ub808\\ud06c\\ub808\\uc774\\uc158 \\uc6a9\\ud488 \\uc784\\ub300\\uc5c5\", \"\\uc5ec\\uad00\\uc5c5\", \"\\uc695\\ud0d5\\uc5c5\", \"\\uc721\\ub958 \\uc18c\\ub9e4\\uc5c5\", \"\\uc77c\\ubc18\\uc720\\ud765 \\uc8fc\\uc810\\uc5c5\", \"\\uc77c\\uc2dd \\uc74c\\uc2dd\\uc810\\uc5c5\", \"\\uc790\\ub3d9\\ucc28 \\uc784\\ub300\\uc5c5\", \"\\uc804\\uc2dc \\ubc0f \\ud589\\uc0ac \\ub300\\ud589\\uc5c5\", \"\\uc911\\uc2dd \\uc74c\\uc2dd\\uc810\\uc5c5\", \"\\ucc28\\ub7c9\\uc6a9 \\uac00\\uc2a4 \\ucda9\\uc804\\uc5c5\", \"\\ucc28\\ub7c9\\uc6a9 \\uc8fc\\uc720\\uc18c \\uc6b4\\uc601\\uc5c5\", \"\\uccb4\\uc778\\ud654 \\ud3b8\\uc758\\uc810\", \"\\ud53c\\uc790 \\ud584\\ubc84\\uac70 \\uc0cc\\ub4dc\\uc704\\uce58 \\ubc0f \\uc720\\uc0ac \\uc74c\\uc2dd\\uc810\\uc5c5\", \"\\ud55c\\uc2dd \\uc74c\\uc2dd\\uc810\\uc5c5\", \"\\ud638\\ud154\\uc5c5\", \"\\ud654\\uc7a5\\ud488 \\ubc0f \\ubc29\\ud5a5\\uc81c \\uc18c\\ub9e4\\uc5c5\"], \"y\": [1.0247453292482105, 1.0042221507365257, 1.4279305569259912, 0.5851825652345367, 0.4860731840524304, 1.0631636058450669, 0.7767731495641069, 0.2842455397641367, 0.7178981134409814, 0.5717834428439001, 1.206536431393671, 0.4938999881827501, 0.8440729392016456, 0.84985546125626, 0.8049424807384151, 1.3401945429502011, 1.1999404451662474, 0.7363214165575074, 0.5870266801561086, 0.5058083194947937, 1.3027577478985461, 0.43243071331465727, 0.7064954037323263, 1.1142808912896691, 0.1340345210664911, 0.8983759222008273, 0.8915024473029837, 0.866366480869383, 1.0021303536945076, 0.8698528042278454, 0.7514526889331344, 0.37273438044920154, 0.5723269041958688]}, {\"marker\": {\"color\": [\"lightslategray\", \"crimson\", \"crimson\", \"lightslategray\", \"lightslategray\", \"lightslategray\", \"lightslategray\", \"lightslategray\", \"crimson\", \"lightslategray\", \"lightslategray\", \"lightslategray\", \"lightslategray\", \"crimson\", \"crimson\", \"crimson\", \"lightslategray\", \"lightslategray\", \"crimson\", \"lightslategray\", \"lightslategray\", \"lightslategray\", \"lightslategray\", \"lightslategray\", \"lightslategray\", \"lightslategray\", \"lightslategray\", \"lightslategray\", \"lightslategray\", \"lightslategray\", \"lightslategray\", \"lightslategray\", \"lightslategray\", \"lightslategray\", \"lightslategray\", \"lightslategray\", \"lightslategray\", \"lightslategray\", \"lightslategray\", \"lightslategray\", \"lightslategray\"]}, \"name\": \"\\uc138\\uc885\", \"opacity\": 0.5, \"type\": \"bar\", \"visible\": false, \"x\": [\"\\uac74\\uac15\\ubcf4\\uc870\\uc2dd\\ud488 \\uc18c\\ub9e4\\uc5c5\", \"\\uace8\\ud504\\uc7a5 \\uc6b4\\uc601\\uc5c5\", \"\\uacfc\\uc2e4 \\ubc0f \\ucc44\\uc18c \\uc18c\\ub9e4\\uc5c5\", \"\\uad00\\uad11 \\ubbfc\\uc608\\ud488 \\ubc0f \\uc120\\ubb3c\\uc6a9\\ud488 \\uc18c\\ub9e4\\uc5c5\", \"\\uadf8\\uc678 \\uae30\\ud0c0 \\uc885\\ud569 \\uc18c\\ub9e4\\uc5c5\", \"\\uae30\\ud0c0 \\ub300\\ud615 \\uc885\\ud569 \\uc18c\\ub9e4\\uc5c5\", \"\\uae30\\ud0c0 \\uc678\\uad6d\\uc2dd \\uc74c\\uc2dd\\uc810\\uc5c5\", \"\\uae30\\ud0c0 \\uc8fc\\uc810\\uc5c5\", \"\\uae30\\ud0c0\\uc74c\\uc2dd\\ub8cc\\ud488\\uc704\\uc8fc\\uc885\\ud569\\uc18c\\ub9e4\\uc5c5\", \"\\ub9c8\\uc0ac\\uc9c0\\uc5c5\", \"\\ube44\\uc54c\\ucf5c \\uc74c\\ub8cc\\uc810\\uc5c5\", \"\\ube75 \\ubc0f \\uacfc\\uc790\\ub958 \\uc18c\\ub9e4\\uc5c5\", \"\\uc11c\\uc591\\uc2dd \\uc74c\\uc2dd\\uc810\\uc5c5\", \"\\uc218\\uc0b0\\ubb3c \\uc18c\\ub9e4\\uc5c5\", \"\\uc288\\ud37c\\ub9c8\\ucf13\", \"\\uc2a4\\ud3ec\\uce20 \\ubc0f \\ub808\\ud06c\\ub808\\uc774\\uc158 \\uc6a9\\ud488 \\uc784\\ub300\\uc5c5\", \"\\uc5ec\\uad00\\uc5c5\", \"\\uc695\\ud0d5\\uc5c5\", \"\\uc721\\ub958 \\uc18c\\ub9e4\\uc5c5\", \"\\uc77c\\ubc18\\uc720\\ud765 \\uc8fc\\uc810\\uc5c5\", \"\\uc77c\\uc2dd \\uc74c\\uc2dd\\uc810\\uc5c5\", \"\\uc804\\uc2dc \\ubc0f \\ud589\\uc0ac \\ub300\\ud589\\uc5c5\", \"\\uc911\\uc2dd \\uc74c\\uc2dd\\uc810\\uc5c5\", \"\\ucc28\\ub7c9\\uc6a9 \\uac00\\uc2a4 \\ucda9\\uc804\\uc5c5\", \"\\ucc28\\ub7c9\\uc6a9 \\uc8fc\\uc720\\uc18c \\uc6b4\\uc601\\uc5c5\", \"\\uccb4\\uc778\\ud654 \\ud3b8\\uc758\\uc810\", \"\\ud53c\\uc790 \\ud584\\ubc84\\uac70 \\uc0cc\\ub4dc\\uc704\\uce58 \\ubc0f \\uc720\\uc0ac \\uc74c\\uc2dd\\uc810\\uc5c5\", \"\\ud55c\\uc2dd \\uc74c\\uc2dd\\uc810\\uc5c5\", \"\\ud654\\uc7a5\\ud488 \\ubc0f \\ubc29\\ud5a5\\uc81c \\uc18c\\ub9e4\\uc5c5\"], \"y\": [0.8135236666767269, 1.1742318903217097, 1.1618374953421906, null, 0.29051676355451667, 0.9872846784782789, 0.6390386576141752, 0.45569620253164556, 1.457681878806228, 0.13897617840851495, 0.8183695965720653, 0.9503959814139785, 0.7497110023416865, 1.3246212479310595, 1.1130606043603812, 1.0899973554331668, 0.5468392447968029, 0.4916369957667873, 1.2970693269451972, 0.6264759136000816, 0.5828473474163202, 0.0331822525583234, 0.8111055806397649, 0.8205297938079145, 0.9290734926448279, 0.9732002672489285, 0.9043619762795573, 0.7170171489512629, 0.731161805860925]}, {\"marker\": {\"color\": [\"lightslategray\", \"crimson\", \"crimson\", \"crimson\", \"lightslategray\", \"crimson\", \"lightslategray\", \"lightslategray\", \"lightslategray\", \"lightslategray\", \"crimson\", \"lightslategray\", \"lightslategray\", \"lightslategray\", \"lightslategray\", \"lightslategray\", \"crimson\", \"lightslategray\", \"crimson\", \"crimson\", \"lightslategray\", \"lightslategray\", \"lightslategray\", \"lightslategray\", \"crimson\", \"lightslategray\", \"lightslategray\", \"lightslategray\", \"lightslategray\", \"lightslategray\", \"lightslategray\", \"lightslategray\", \"crimson\", \"crimson\", \"lightslategray\", \"lightslategray\", \"lightslategray\", \"lightslategray\", \"lightslategray\", \"lightslategray\", \"lightslategray\"]}, \"name\": \"\\ucda9\\ubd81\", \"opacity\": 0.5, \"type\": \"bar\", \"visible\": false, \"x\": [\"\\uac74\\uac15\\ubcf4\\uc870\\uc2dd\\ud488 \\uc18c\\ub9e4\\uc5c5\", \"\\uace8\\ud504\\uc7a5 \\uc6b4\\uc601\\uc5c5\", \"\\uacfc\\uc2e4 \\ubc0f \\ucc44\\uc18c \\uc18c\\ub9e4\\uc5c5\", \"\\uad00\\uad11 \\ubbfc\\uc608\\ud488 \\ubc0f \\uc120\\ubb3c\\uc6a9\\ud488 \\uc18c\\ub9e4\\uc5c5\", \"\\uadf8\\uc678 \\uae30\\ud0c0 \\uc2a4\\ud3ec\\uce20\\uc2dc\\uc124 \\uc6b4\\uc601\\uc5c5\", \"\\uadf8\\uc678 \\uae30\\ud0c0 \\uc885\\ud569 \\uc18c\\ub9e4\\uc5c5\", \"\\uae30\\ud0c0 \\ub300\\ud615 \\uc885\\ud569 \\uc18c\\ub9e4\\uc5c5\", \"\\uae30\\ud0c0 \\uc218\\uc0c1\\uc624\\ub77d \\uc11c\\ube44\\uc2a4\\uc5c5\", \"\\uae30\\ud0c0 \\uc678\\uad6d\\uc2dd \\uc74c\\uc2dd\\uc810\\uc5c5\", \"\\uae30\\ud0c0 \\uc8fc\\uc810\\uc5c5\", \"\\uae30\\ud0c0\\uc74c\\uc2dd\\ub8cc\\ud488\\uc704\\uc8fc\\uc885\\ud569\\uc18c\\ub9e4\\uc5c5\", \"\\ub0b4\\ud56d \\uc5ec\\uac1d \\uc6b4\\uc1a1\\uc5c5\", \"\\ub9c8\\uc0ac\\uc9c0\\uc5c5\", \"\\uba74\\uc138\\uc810\", \"\\ubc84\\uc2a4 \\uc6b4\\uc1a1\\uc5c5\", \"\\ube44\\uc54c\\ucf5c \\uc74c\\ub8cc\\uc810\\uc5c5\", \"\\ube75 \\ubc0f \\uacfc\\uc790\\ub958 \\uc18c\\ub9e4\\uc5c5\", \"\\uc11c\\uc591\\uc2dd \\uc74c\\uc2dd\\uc810\\uc5c5\", \"\\uc218\\uc0b0\\ubb3c \\uc18c\\ub9e4\\uc5c5\", \"\\uc288\\ud37c\\ub9c8\\ucf13\", \"\\uc2a4\\ud3ec\\uce20 \\ubc0f \\ub808\\ud06c\\ub808\\uc774\\uc158 \\uc6a9\\ud488 \\uc784\\ub300\\uc5c5\", \"\\uc5ec\\uad00\\uc5c5\", \"\\uc5ec\\ud589\\uc0ac\\uc5c5\", \"\\uc695\\ud0d5\\uc5c5\", \"\\uc721\\ub958 \\uc18c\\ub9e4\\uc5c5\", \"\\uc77c\\ubc18\\uc720\\ud765 \\uc8fc\\uc810\\uc5c5\", \"\\uc77c\\uc2dd \\uc74c\\uc2dd\\uc810\\uc5c5\", \"\\uc790\\ub3d9\\ucc28 \\uc784\\ub300\\uc5c5\", \"\\uc804\\uc2dc \\ubc0f \\ud589\\uc0ac \\ub300\\ud589\\uc5c5\", \"\\uc911\\uc2dd \\uc74c\\uc2dd\\uc810\\uc5c5\", \"\\ucc28\\ub7c9\\uc6a9 \\uac00\\uc2a4 \\ucda9\\uc804\\uc5c5\", \"\\ucc28\\ub7c9\\uc6a9 \\uc8fc\\uc720\\uc18c \\uc6b4\\uc601\\uc5c5\", \"\\uccb4\\uc778\\ud654 \\ud3b8\\uc758\\uc810\", \"\\ud0dd\\uc2dc \\uc6b4\\uc1a1\\uc5c5\", \"\\ud53c\\uc790 \\ud584\\ubc84\\uac70 \\uc0cc\\ub4dc\\uc704\\uce58 \\ubc0f \\uc720\\uc0ac \\uc74c\\uc2dd\\uc810\\uc5c5\", \"\\ud55c\\uc2dd \\uc74c\\uc2dd\\uc810\\uc5c5\", \"\\ud638\\ud154\\uc5c5\", \"\\ud654\\uc7a5\\ud488 \\ubc0f \\ubc29\\ud5a5\\uc81c \\uc18c\\ub9e4\\uc5c5\", \"\\ud734\\uc591\\ucf58\\ub3c4 \\uc6b4\\uc601\\uc5c5\"], \"y\": [0.6923297764536216, 1.1276696201172933, 1.27193485241302, 1.184460027045393, 0.33641617688543435, 1.158825223775486, 0.8855582473624114, 0.3704568903424244, 0.7391025698159063, 0.6688575647131039, 1.2265375918809498, 0.005725555060754501, 0.2948188163453056, null, null, 0.9390062615111486, 1.0159045424030586, 0.9474704996558618, 1.2654540670588534, 1.2855379156217612, 0.723672044034734, 0.7277311411551317, null, 0.49266156482761464, 1.3742157039857197, 0.5949005264780702, 0.7248645166691641, 0.21985585585585585, 0.17807515045491487, 0.910513339752, 0.8382367194838043, 0.8819127714558495, 1.0507252163494825, 16.031824324324326, 0.9370880850907822, 0.7771969801586414, 0.3837168709974035, 0.6207818450458648, 0.10537696340802737]}, {\"marker\": {\"color\": [\"lightslategray\", \"lightslategray\", \"crimson\", \"lightslategray\", \"lightslategray\", \"crimson\", \"lightslategray\", \"lightslategray\", \"lightslategray\", \"lightslategray\", \"crimson\", \"lightslategray\", \"lightslategray\", \"lightslategray\", \"lightslategray\", \"lightslategray\", \"lightslategray\", \"crimson\", \"crimson\", \"lightslategray\", \"lightslategray\", \"lightslategray\", \"lightslategray\", \"crimson\", \"lightslategray\", \"lightslategray\", \"lightslategray\", \"lightslategray\", \"lightslategray\", \"lightslategray\", \"lightslategray\", \"lightslategray\", \"lightslategray\", \"lightslategray\", \"lightslategray\", \"lightslategray\", \"lightslategray\", \"lightslategray\", \"lightslategray\", \"lightslategray\", \"lightslategray\"]}, \"name\": \"\\ub300\\uad6c\", \"opacity\": 0.5, \"type\": \"bar\", \"visible\": false, \"x\": [\"\\uac74\\uac15\\ubcf4\\uc870\\uc2dd\\ud488 \\uc18c\\ub9e4\\uc5c5\", \"\\uace8\\ud504\\uc7a5 \\uc6b4\\uc601\\uc5c5\", \"\\uacfc\\uc2e4 \\ubc0f \\ucc44\\uc18c \\uc18c\\ub9e4\\uc5c5\", \"\\uad00\\uad11 \\ubbfc\\uc608\\ud488 \\ubc0f \\uc120\\ubb3c\\uc6a9\\ud488 \\uc18c\\ub9e4\\uc5c5\", \"\\uadf8\\uc678 \\uae30\\ud0c0 \\uc2a4\\ud3ec\\uce20\\uc2dc\\uc124 \\uc6b4\\uc601\\uc5c5\", \"\\uadf8\\uc678 \\uae30\\ud0c0 \\uc885\\ud569 \\uc18c\\ub9e4\\uc5c5\", \"\\uae30\\ud0c0 \\ub300\\ud615 \\uc885\\ud569 \\uc18c\\ub9e4\\uc5c5\", \"\\uae30\\ud0c0 \\uc218\\uc0c1\\uc624\\ub77d \\uc11c\\ube44\\uc2a4\\uc5c5\", \"\\uae30\\ud0c0 \\uc678\\uad6d\\uc2dd \\uc74c\\uc2dd\\uc810\\uc5c5\", \"\\uae30\\ud0c0 \\uc8fc\\uc810\\uc5c5\", \"\\uae30\\ud0c0\\uc74c\\uc2dd\\ub8cc\\ud488\\uc704\\uc8fc\\uc885\\ud569\\uc18c\\ub9e4\\uc5c5\", \"\\ub9c8\\uc0ac\\uc9c0\\uc5c5\", \"\\uba74\\uc138\\uc810\", \"\\ubc84\\uc2a4 \\uc6b4\\uc1a1\\uc5c5\", \"\\ube44\\uc54c\\ucf5c \\uc74c\\ub8cc\\uc810\\uc5c5\", \"\\ube75 \\ubc0f \\uacfc\\uc790\\ub958 \\uc18c\\ub9e4\\uc5c5\", \"\\uc11c\\uc591\\uc2dd \\uc74c\\uc2dd\\uc810\\uc5c5\", \"\\uc218\\uc0b0\\ubb3c \\uc18c\\ub9e4\\uc5c5\", \"\\uc288\\ud37c\\ub9c8\\ucf13\", \"\\uc2a4\\ud3ec\\uce20 \\ubc0f \\ub808\\ud06c\\ub808\\uc774\\uc158 \\uc6a9\\ud488 \\uc784\\ub300\\uc5c5\", \"\\uc5ec\\uad00\\uc5c5\", \"\\uc5ec\\ud589\\uc0ac\\uc5c5\", \"\\uc695\\ud0d5\\uc5c5\", \"\\uc721\\ub958 \\uc18c\\ub9e4\\uc5c5\", \"\\uc77c\\ubc18\\uc720\\ud765 \\uc8fc\\uc810\\uc5c5\", \"\\uc77c\\uc2dd \\uc74c\\uc2dd\\uc810\\uc5c5\", \"\\uc790\\ub3d9\\ucc28 \\uc784\\ub300\\uc5c5\", \"\\uc804\\uc2dc \\ubc0f \\ud589\\uc0ac \\ub300\\ud589\\uc5c5\", \"\\uc911\\uc2dd \\uc74c\\uc2dd\\uc810\\uc5c5\", \"\\ucc28\\ub7c9\\uc6a9 \\uac00\\uc2a4 \\ucda9\\uc804\\uc5c5\", \"\\ucc28\\ub7c9\\uc6a9 \\uc8fc\\uc720\\uc18c \\uc6b4\\uc601\\uc5c5\", \"\\uccb4\\uc778\\ud654 \\ud3b8\\uc758\\uc810\", \"\\ud0dd\\uc2dc \\uc6b4\\uc1a1\\uc5c5\", \"\\ud53c\\uc790 \\ud584\\ubc84\\uac70 \\uc0cc\\ub4dc\\uc704\\uce58 \\ubc0f \\uc720\\uc0ac \\uc74c\\uc2dd\\uc810\\uc5c5\", \"\\ud55c\\uc2dd \\uc74c\\uc2dd\\uc810\\uc5c5\", \"\\ud638\\ud154\\uc5c5\", \"\\ud654\\uc7a5\\ud488 \\ubc0f \\ubc29\\ud5a5\\uc81c \\uc18c\\ub9e4\\uc5c5\"], \"y\": [0.9177836781464764, 0.5452059786895993, 1.4465056093834878, 0.3484437387493493, 0.05489585472132868, 1.0165166320232057, 0.7426308211743613, 0.08572723900589375, 0.44746254507669075, 0.3947449207770233, 1.1106720948230517, 0.23316826491380654, null, null, 0.6482100429187542, 0.8588334056672009, 0.5535742723736455, 1.1150196833554238, 1.1912575446632243, 0.5907791014073472, 0.4595921331933664, null, 0.2169312231484467, 1.3809455234621395, 0.2854417950235583, 0.4838502323544248, 0.238907630934209, 0.14233804682407486, 0.669117464256456, 0.8221057095978754, 0.8146830624008159, 0.9157439470116656, 0.5192460950648878, 0.7844576549034677, 0.5404185496475463, 0.09520044482738763, 0.48213621687731056]}, {\"marker\": {\"color\": [\"lightslategray\", \"crimson\", \"crimson\", \"lightslategray\", \"lightslategray\", \"crimson\", \"lightslategray\", \"lightslategray\", \"lightslategray\", \"lightslategray\", \"crimson\", \"lightslategray\", \"lightslategray\", \"lightslategray\", \"lightslategray\", \"lightslategray\", \"lightslategray\", \"lightslategray\", \"lightslategray\", \"crimson\", \"lightslategray\", \"lightslategray\", \"crimson\", \"lightslategray\", \"crimson\", \"lightslategray\", \"lightslategray\", \"crimson\", \"lightslategray\", \"lightslategray\", \"lightslategray\", \"lightslategray\", \"lightslategray\", \"lightslategray\", \"lightslategray\", \"lightslategray\", \"lightslategray\", \"lightslategray\", \"lightslategray\", \"lightslategray\", \"lightslategray\"]}, \"name\": \"\\uac15\\uc6d0\", \"opacity\": 0.5, \"type\": \"bar\", \"visible\": false, \"x\": [\"\\uac74\\uac15\\ubcf4\\uc870\\uc2dd\\ud488 \\uc18c\\ub9e4\\uc5c5\", \"\\uace8\\ud504\\uc7a5 \\uc6b4\\uc601\\uc5c5\", \"\\uacfc\\uc2e4 \\ubc0f \\ucc44\\uc18c \\uc18c\\ub9e4\\uc5c5\", \"\\uad00\\uad11 \\ubbfc\\uc608\\ud488 \\ubc0f \\uc120\\ubb3c\\uc6a9\\ud488 \\uc18c\\ub9e4\\uc5c5\", \"\\uadf8\\uc678 \\uae30\\ud0c0 \\uc2a4\\ud3ec\\uce20\\uc2dc\\uc124 \\uc6b4\\uc601\\uc5c5\", \"\\uadf8\\uc678 \\uae30\\ud0c0 \\uc885\\ud569 \\uc18c\\ub9e4\\uc5c5\", \"\\uae30\\ud0c0 \\ub300\\ud615 \\uc885\\ud569 \\uc18c\\ub9e4\\uc5c5\", \"\\uae30\\ud0c0 \\uc218\\uc0c1\\uc624\\ub77d \\uc11c\\ube44\\uc2a4\\uc5c5\", \"\\uae30\\ud0c0 \\uc678\\uad6d\\uc2dd \\uc74c\\uc2dd\\uc810\\uc5c5\", \"\\uae30\\ud0c0 \\uc8fc\\uc810\\uc5c5\", \"\\uae30\\ud0c0\\uc74c\\uc2dd\\ub8cc\\ud488\\uc704\\uc8fc\\uc885\\ud569\\uc18c\\ub9e4\\uc5c5\", \"\\ub0b4\\ud56d \\uc5ec\\uac1d \\uc6b4\\uc1a1\\uc5c5\", \"\\ub9c8\\uc0ac\\uc9c0\\uc5c5\", \"\\uba74\\uc138\\uc810\", \"\\ubc84\\uc2a4 \\uc6b4\\uc1a1\\uc5c5\", \"\\ube44\\uc54c\\ucf5c \\uc74c\\ub8cc\\uc810\\uc5c5\", \"\\ube75 \\ubc0f \\uacfc\\uc790\\ub958 \\uc18c\\ub9e4\\uc5c5\", \"\\uc11c\\uc591\\uc2dd \\uc74c\\uc2dd\\uc810\\uc5c5\", \"\\uc218\\uc0b0\\ubb3c \\uc18c\\ub9e4\\uc5c5\", \"\\uc288\\ud37c\\ub9c8\\ucf13\", \"\\uc2a4\\ud3ec\\uce20 \\ubc0f \\ub808\\ud06c\\ub808\\uc774\\uc158 \\uc6a9\\ud488 \\uc784\\ub300\\uc5c5\", \"\\uc5ec\\uad00\\uc5c5\", \"\\uc5ec\\ud589\\uc0ac\\uc5c5\", \"\\uc695\\ud0d5\\uc5c5\", \"\\uc721\\ub958 \\uc18c\\ub9e4\\uc5c5\", \"\\uc77c\\ubc18\\uc720\\ud765 \\uc8fc\\uc810\\uc5c5\", \"\\uc77c\\uc2dd \\uc74c\\uc2dd\\uc810\\uc5c5\", \"\\uc790\\ub3d9\\ucc28 \\uc784\\ub300\\uc5c5\", \"\\uc804\\uc2dc \\ubc0f \\ud589\\uc0ac \\ub300\\ud589\\uc5c5\", \"\\uc911\\uc2dd \\uc74c\\uc2dd\\uc810\\uc5c5\", \"\\ucc28\\ub7c9\\uc6a9 \\uac00\\uc2a4 \\ucda9\\uc804\\uc5c5\", \"\\ucc28\\ub7c9\\uc6a9 \\uc8fc\\uc720\\uc18c \\uc6b4\\uc601\\uc5c5\", \"\\uccb4\\uc778\\ud654 \\ud3b8\\uc758\\uc810\", \"\\ud0dd\\uc2dc \\uc6b4\\uc1a1\\uc5c5\", \"\\ud53c\\uc790 \\ud584\\ubc84\\uac70 \\uc0cc\\ub4dc\\uc704\\uce58 \\ubc0f \\uc720\\uc0ac \\uc74c\\uc2dd\\uc810\\uc5c5\", \"\\ud55c\\uc2dd \\uc74c\\uc2dd\\uc810\\uc5c5\", \"\\ud638\\ud154\\uc5c5\", \"\\ud654\\uc7a5\\ud488 \\ubc0f \\ubc29\\ud5a5\\uc81c \\uc18c\\ub9e4\\uc5c5\", \"\\ud734\\uc591\\ucf58\\ub3c4 \\uc6b4\\uc601\\uc5c5\"], \"y\": [0.85598935916189, 1.133636018135232, 1.197482779710092, 0.644743854941205, 0.18096467329360108, 1.1652823076963972, 0.8126146955718158, 0.16166338582677164, 0.8414289962336752, 0.8149659895653028, 1.23888115712497, 0.3295645898484484, 0.48316253751824095, null, null, 0.8501185789676692, 0.9937700952385249, 0.8932475747695373, 0.9778686828433439, 1.1578874076869592, 0.7730237588305146, 0.6296643773432645, 1.1677408626175991, 0.6083999931720458, 1.3192127777397584, 0.705048795508552, 0.7536790794553967, 2.579132357388248, 0.3056658372695528, 0.9705045868921993, 0.8517054142728963, 0.883973548212285, 0.9565171545061689, 0.10348071495766697, 0.899591722697409, 0.8129348036089551, 0.5897592217836549, 0.6806302015422753, 0.45675718626380535]}, {\"marker\": {\"color\": [\"crimson\", \"crimson\", \"crimson\", \"lightslategray\", \"lightslategray\", \"crimson\", \"lightslategray\", \"lightslategray\", \"lightslategray\", \"lightslategray\", \"crimson\", \"crimson\", \"lightslategray\", \"lightslategray\", \"lightslategray\", \"lightslategray\", \"crimson\", \"crimson\", \"lightslategray\", \"lightslategray\", \"lightslategray\", \"lightslategray\", \"crimson\", \"lightslategray\", \"lightslategray\", \"lightslategray\", \"lightslategray\", \"lightslategray\", \"lightslategray\", \"lightslategray\", \"lightslategray\", \"lightslategray\", \"crimson\", \"lightslategray\", \"lightslategray\", \"lightslategray\", \"lightslategray\", \"lightslategray\", \"lightslategray\", \"lightslategray\", \"lightslategray\"]}, \"name\": \"\\uc804\\ubd81\", \"opacity\": 0.5, \"type\": \"bar\", \"visible\": false, \"x\": [\"\\uac74\\uac15\\ubcf4\\uc870\\uc2dd\\ud488 \\uc18c\\ub9e4\\uc5c5\", \"\\uace8\\ud504\\uc7a5 \\uc6b4\\uc601\\uc5c5\", \"\\uacfc\\uc2e4 \\ubc0f \\ucc44\\uc18c \\uc18c\\ub9e4\\uc5c5\", \"\\uad00\\uad11 \\ubbfc\\uc608\\ud488 \\ubc0f \\uc120\\ubb3c\\uc6a9\\ud488 \\uc18c\\ub9e4\\uc5c5\", \"\\uadf8\\uc678 \\uae30\\ud0c0 \\uc2a4\\ud3ec\\uce20\\uc2dc\\uc124 \\uc6b4\\uc601\\uc5c5\", \"\\uadf8\\uc678 \\uae30\\ud0c0 \\uc885\\ud569 \\uc18c\\ub9e4\\uc5c5\", \"\\uae30\\ud0c0 \\ub300\\ud615 \\uc885\\ud569 \\uc18c\\ub9e4\\uc5c5\", \"\\uae30\\ud0c0 \\uc218\\uc0c1\\uc624\\ub77d \\uc11c\\ube44\\uc2a4\\uc5c5\", \"\\uae30\\ud0c0 \\uc678\\uad6d\\uc2dd \\uc74c\\uc2dd\\uc810\\uc5c5\", \"\\uae30\\ud0c0 \\uc8fc\\uc810\\uc5c5\", \"\\uae30\\ud0c0\\uc74c\\uc2dd\\ub8cc\\ud488\\uc704\\uc8fc\\uc885\\ud569\\uc18c\\ub9e4\\uc5c5\", \"\\ub9c8\\uc0ac\\uc9c0\\uc5c5\", \"\\ubc84\\uc2a4 \\uc6b4\\uc1a1\\uc5c5\", \"\\ube44\\uc54c\\ucf5c \\uc74c\\ub8cc\\uc810\\uc5c5\", \"\\ube75 \\ubc0f \\uacfc\\uc790\\ub958 \\uc18c\\ub9e4\\uc5c5\", \"\\uc11c\\uc591\\uc2dd \\uc74c\\uc2dd\\uc810\\uc5c5\", \"\\uc218\\uc0b0\\ubb3c \\uc18c\\ub9e4\\uc5c5\", \"\\uc288\\ud37c\\ub9c8\\ucf13\", \"\\uc2a4\\ud3ec\\uce20 \\ubc0f \\ub808\\ud06c\\ub808\\uc774\\uc158 \\uc6a9\\ud488 \\uc784\\ub300\\uc5c5\", \"\\uc5ec\\uad00\\uc5c5\", \"\\uc5ec\\ud589\\uc0ac\\uc5c5\", \"\\uc695\\ud0d5\\uc5c5\", \"\\uc721\\ub958 \\uc18c\\ub9e4\\uc5c5\", \"\\uc77c\\ubc18\\uc720\\ud765 \\uc8fc\\uc810\\uc5c5\", \"\\uc77c\\uc2dd \\uc74c\\uc2dd\\uc810\\uc5c5\", \"\\uc790\\ub3d9\\ucc28 \\uc784\\ub300\\uc5c5\", \"\\uc804\\uc2dc \\ubc0f \\ud589\\uc0ac \\ub300\\ud589\\uc5c5\", \"\\uc815\\uae30 \\ud56d\\uacf5 \\uc6b4\\uc1a1\\uc5c5\", \"\\uc911\\uc2dd \\uc74c\\uc2dd\\uc810\\uc5c5\", \"\\ucc28\\ub7c9\\uc6a9 \\uac00\\uc2a4 \\ucda9\\uc804\\uc5c5\", \"\\ucc28\\ub7c9\\uc6a9 \\uc8fc\\uc720\\uc18c \\uc6b4\\uc601\\uc5c5\", \"\\uccb4\\uc778\\ud654 \\ud3b8\\uc758\\uc810\", \"\\ud0dd\\uc2dc \\uc6b4\\uc1a1\\uc5c5\", \"\\ud53c\\uc790 \\ud584\\ubc84\\uac70 \\uc0cc\\ub4dc\\uc704\\uce58 \\ubc0f \\uc720\\uc0ac \\uc74c\\uc2dd\\uc810\\uc5c5\", \"\\ud55c\\uc2dd \\uc74c\\uc2dd\\uc810\\uc5c5\", \"\\ud638\\ud154\\uc5c5\", \"\\ud654\\uc7a5\\ud488 \\ubc0f \\ubc29\\ud5a5\\uc81c \\uc18c\\ub9e4\\uc5c5\", \"\\ud734\\uc591\\ucf58\\ub3c4 \\uc6b4\\uc601\\uc5c5\"], \"y\": [1.0531477163937693, 1.1258323429631374, 1.193206659100614, 0.7253526342681627, 0.40616455381556055, 1.3740312988077972, 0.8128537051136392, 0.019703204888390075, 0.8508936857786101, 0.8496463103527702, 1.2260505578827683, 1.1130334930959718, 0.028673532619197275, 0.9417685824218731, 0.9393251266824566, 0.9283429700640536, 1.2520877325137851, 1.1792126137576455, 0.7212307605117715, 0.6762798378700678, 0.21723440319317622, 0.692443361132337, 1.271783694720899, 0.6373457889096962, 0.7888261795820579, 0.6500936547430809, 0.5938299974735116, 0.06038343360669918, 0.9909703886943099, 0.9653136301031923, 0.8825017214400659, 0.9830378737666943, 2.0004854368932037, 0.9339258791658347, 0.836583233520071, 0.12226286558764078, 0.7586032526088002, 0.21754879954360623]}, {\"marker\": {\"color\": [\"lightslategray\", \"crimson\", \"crimson\", \"lightslategray\", \"lightslategray\", \"crimson\", \"lightslategray\", \"lightslategray\", \"lightslategray\", \"crimson\", \"lightslategray\", \"lightslategray\", \"lightslategray\", \"crimson\", \"crimson\", \"crimson\", \"crimson\", \"crimson\", \"crimson\", \"lightslategray\", \"lightslategray\", \"lightslategray\", \"lightslategray\", \"crimson\", \"lightslategray\", \"lightslategray\", \"lightslategray\", \"lightslategray\", \"crimson\", \"lightslategray\", \"lightslategray\", \"crimson\", \"crimson\", \"lightslategray\", \"lightslategray\", \"lightslategray\", \"crimson\", \"lightslategray\", \"lightslategray\", \"lightslategray\", \"lightslategray\"]}, \"name\": \"\\uc804\\ub0a8\", \"opacity\": 0.5, \"type\": \"bar\", \"visible\": false, \"x\": [\"\\uac74\\uac15\\ubcf4\\uc870\\uc2dd\\ud488 \\uc18c\\ub9e4\\uc5c5\", \"\\uace8\\ud504\\uc7a5 \\uc6b4\\uc601\\uc5c5\", \"\\uacfc\\uc2e4 \\ubc0f \\ucc44\\uc18c \\uc18c\\ub9e4\\uc5c5\", \"\\uad00\\uad11 \\ubbfc\\uc608\\ud488 \\ubc0f \\uc120\\ubb3c\\uc6a9\\ud488 \\uc18c\\ub9e4\\uc5c5\", \"\\uadf8\\uc678 \\uae30\\ud0c0 \\uc2a4\\ud3ec\\uce20\\uc2dc\\uc124 \\uc6b4\\uc601\\uc5c5\", \"\\uadf8\\uc678 \\uae30\\ud0c0 \\uc885\\ud569 \\uc18c\\ub9e4\\uc5c5\", \"\\uae30\\ud0c0 \\ub300\\ud615 \\uc885\\ud569 \\uc18c\\ub9e4\\uc5c5\", \"\\uae30\\ud0c0 \\uc678\\uad6d\\uc2dd \\uc74c\\uc2dd\\uc810\\uc5c5\", \"\\uae30\\ud0c0 \\uc8fc\\uc810\\uc5c5\", \"\\uae30\\ud0c0\\uc74c\\uc2dd\\ub8cc\\ud488\\uc704\\uc8fc\\uc885\\ud569\\uc18c\\ub9e4\\uc5c5\", \"\\ub0b4\\ud56d \\uc5ec\\uac1d \\uc6b4\\uc1a1\\uc5c5\", \"\\ub9c8\\uc0ac\\uc9c0\\uc5c5\", \"\\uba74\\uc138\\uc810\", \"\\ubc84\\uc2a4 \\uc6b4\\uc1a1\\uc5c5\", \"\\ube44\\uc54c\\ucf5c \\uc74c\\ub8cc\\uc810\\uc5c5\", \"\\ube75 \\ubc0f \\uacfc\\uc790\\ub958 \\uc18c\\ub9e4\\uc5c5\", \"\\uc11c\\uc591\\uc2dd \\uc74c\\uc2dd\\uc810\\uc5c5\", \"\\uc218\\uc0b0\\ubb3c \\uc18c\\ub9e4\\uc5c5\", \"\\uc288\\ud37c\\ub9c8\\ucf13\", \"\\uc2a4\\ud3ec\\uce20 \\ubc0f \\ub808\\ud06c\\ub808\\uc774\\uc158 \\uc6a9\\ud488 \\uc784\\ub300\\uc5c5\", \"\\uc5ec\\uad00\\uc5c5\", \"\\uc5ec\\ud589\\uc0ac\\uc5c5\", \"\\uc695\\ud0d5\\uc5c5\", \"\\uc721\\ub958 \\uc18c\\ub9e4\\uc5c5\", \"\\uc77c\\ubc18\\uc720\\ud765 \\uc8fc\\uc810\\uc5c5\", \"\\uc77c\\uc2dd \\uc74c\\uc2dd\\uc810\\uc5c5\", \"\\uc790\\ub3d9\\ucc28 \\uc784\\ub300\\uc5c5\", \"\\uc804\\uc2dc \\ubc0f \\ud589\\uc0ac \\ub300\\ud589\\uc5c5\", \"\\uc911\\uc2dd \\uc74c\\uc2dd\\uc810\\uc5c5\", \"\\ucc28\\ub7c9\\uc6a9 \\uac00\\uc2a4 \\ucda9\\uc804\\uc5c5\", \"\\ucc28\\ub7c9\\uc6a9 \\uc8fc\\uc720\\uc18c \\uc6b4\\uc601\\uc5c5\", \"\\uccb4\\uc778\\ud654 \\ud3b8\\uc758\\uc810\", \"\\ud53c\\uc790 \\ud584\\ubc84\\uac70 \\uc0cc\\ub4dc\\uc704\\uce58 \\ubc0f \\uc720\\uc0ac \\uc74c\\uc2dd\\uc810\\uc5c5\", \"\\ud55c\\uc2dd \\uc74c\\uc2dd\\uc810\\uc5c5\", \"\\ud638\\ud154\\uc5c5\", \"\\ud654\\uc7a5\\ud488 \\ubc0f \\ubc29\\ud5a5\\uc81c \\uc18c\\ub9e4\\uc5c5\", \"\\ud734\\uc591\\ucf58\\ub3c4 \\uc6b4\\uc601\\uc5c5\"], \"y\": [0.9834250224466655, 1.1171762489789676, 1.1239830566442714, 0.9076073744369941, 0.6251618583933288, 1.1509676438541492, 0.7935199292550035, 0.9237679267151864, 0.8791982218964219, 1.2633613743884518, 0.5761294784807591, 0.7751226010079585, null, 1.2275614733259663, 1.1096286591030828, 1.0764836242545415, 1.0196651068651548, 1.0826672451120647, 1.2015292956269874, 0.705431015761038, 0.6697583638406303, 0.7362829384217516, 0.7928337721647412, 1.2611855061059578, 0.790445579334144, 0.8080087019816552, 0.449974311573451, 0.35676150784221783, 1.1180712546125997, 0.9573676904311079, 0.8988965827545764, 1.123792876283041, 1.0164845629135542, 0.8981753529536491, 0.3299835317281362, 0.7214874129048148, 1.9992040794193042]}, {\"marker\": {\"color\": [\"crimson\", \"crimson\", \"crimson\", \"crimson\", \"lightslategray\", \"crimson\", \"lightslategray\", \"lightslategray\", \"lightslategray\", \"lightslategray\", \"crimson\", \"lightslategray\", \"lightslategray\", \"lightslategray\", \"crimson\", \"crimson\", \"lightslategray\", \"crimson\", \"crimson\", \"lightslategray\", \"lightslategray\", \"lightslategray\", \"lightslategray\", \"crimson\", \"lightslategray\", \"lightslategray\", \"lightslategray\", \"lightslategray\", \"lightslategray\", \"lightslategray\", \"lightslategray\", \"crimson\", \"lightslategray\", \"lightslategray\", \"lightslategray\", \"lightslategray\", \"lightslategray\", \"lightslategray\", \"lightslategray\", \"lightslategray\", \"lightslategray\"]}, \"name\": \"\\uad11\\uc8fc\", \"opacity\": 0.5, \"type\": \"bar\", \"visible\": false, \"x\": [\"\\uac74\\uac15\\ubcf4\\uc870\\uc2dd\\ud488 \\uc18c\\ub9e4\\uc5c5\", \"\\uace8\\ud504\\uc7a5 \\uc6b4\\uc601\\uc5c5\", \"\\uacfc\\uc2e4 \\ubc0f \\ucc44\\uc18c \\uc18c\\ub9e4\\uc5c5\", \"\\uad00\\uad11 \\ubbfc\\uc608\\ud488 \\ubc0f \\uc120\\ubb3c\\uc6a9\\ud488 \\uc18c\\ub9e4\\uc5c5\", \"\\uadf8\\uc678 \\uae30\\ud0c0 \\uc2a4\\ud3ec\\uce20\\uc2dc\\uc124 \\uc6b4\\uc601\\uc5c5\", \"\\uadf8\\uc678 \\uae30\\ud0c0 \\uc885\\ud569 \\uc18c\\ub9e4\\uc5c5\", \"\\uae30\\ud0c0 \\ub300\\ud615 \\uc885\\ud569 \\uc18c\\ub9e4\\uc5c5\", \"\\uae30\\ud0c0 \\uc218\\uc0c1\\uc624\\ub77d \\uc11c\\ube44\\uc2a4\\uc5c5\", \"\\uae30\\ud0c0 \\uc678\\uad6d\\uc2dd \\uc74c\\uc2dd\\uc810\\uc5c5\", \"\\uae30\\ud0c0 \\uc8fc\\uc810\\uc5c5\", \"\\uae30\\ud0c0\\uc74c\\uc2dd\\ub8cc\\ud488\\uc704\\uc8fc\\uc885\\ud569\\uc18c\\ub9e4\\uc5c5\", \"\\ub0b4\\ud56d \\uc5ec\\uac1d \\uc6b4\\uc1a1\\uc5c5\", \"\\ub9c8\\uc0ac\\uc9c0\\uc5c5\", \"\\ubc84\\uc2a4 \\uc6b4\\uc1a1\\uc5c5\", \"\\ube44\\uc54c\\ucf5c \\uc74c\\ub8cc\\uc810\\uc5c5\", \"\\ube75 \\ubc0f \\uacfc\\uc790\\ub958 \\uc18c\\ub9e4\\uc5c5\", \"\\uc11c\\uc591\\uc2dd \\uc74c\\uc2dd\\uc810\\uc5c5\", \"\\uc218\\uc0b0\\ubb3c \\uc18c\\ub9e4\\uc5c5\", \"\\uc288\\ud37c\\ub9c8\\ucf13\", \"\\uc2a4\\ud3ec\\uce20 \\ubc0f \\ub808\\ud06c\\ub808\\uc774\\uc158 \\uc6a9\\ud488 \\uc784\\ub300\\uc5c5\", \"\\uc5ec\\uad00\\uc5c5\", \"\\uc5ec\\ud589\\uc0ac\\uc5c5\", \"\\uc695\\ud0d5\\uc5c5\", \"\\uc721\\ub958 \\uc18c\\ub9e4\\uc5c5\", \"\\uc77c\\ubc18\\uc720\\ud765 \\uc8fc\\uc810\\uc5c5\", \"\\uc77c\\uc2dd \\uc74c\\uc2dd\\uc810\\uc5c5\", \"\\uc790\\ub3d9\\ucc28 \\uc784\\ub300\\uc5c5\", \"\\uc804\\uc2dc \\ubc0f \\ud589\\uc0ac \\ub300\\ud589\\uc5c5\", \"\\uc911\\uc2dd \\uc74c\\uc2dd\\uc810\\uc5c5\", \"\\ucc28\\ub7c9\\uc6a9 \\uac00\\uc2a4 \\ucda9\\uc804\\uc5c5\", \"\\ucc28\\ub7c9\\uc6a9 \\uc8fc\\uc720\\uc18c \\uc6b4\\uc601\\uc5c5\", \"\\uccb4\\uc778\\ud654 \\ud3b8\\uc758\\uc810\", \"\\ud0dd\\uc2dc \\uc6b4\\uc1a1\\uc5c5\", \"\\ud53c\\uc790 \\ud584\\ubc84\\uac70 \\uc0cc\\ub4dc\\uc704\\uce58 \\ubc0f \\uc720\\uc0ac \\uc74c\\uc2dd\\uc810\\uc5c5\", \"\\ud55c\\uc2dd \\uc74c\\uc2dd\\uc810\\uc5c5\", \"\\ud638\\ud154\\uc5c5\", \"\\ud654\\uc7a5\\ud488 \\ubc0f \\ubc29\\ud5a5\\uc81c \\uc18c\\ub9e4\\uc5c5\"], \"y\": [1.5403271278360937, 1.0991747812584023, 1.2513400530793013, 1.104580726763067, 0.646175504458001, 1.1717296738200036, 0.7504883449080921, null, 0.7667466395803366, 0.8050765528466212, 1.3413904535153285, null, 0.7012958578376624, 0.5254446345442247, 1.0016484074896101, 1.0542851898934447, 0.8754924354908531, 1.2320334400190285, 1.2794740575507184, 0.7870941112621079, 0.7321493811937494, null, 0.7779521113576089, 1.3780700094121145, 0.7000654085764147, 0.8777723695768176, 0.21529309703804683, 0.41222601377520046, 0.9490739353087594, 0.9876928001617324, 0.9483686550790799, 1.0178103042795548, null, 0.9144732936221969, 0.8576717643491615, 0.4423317294946844, 0.8244888637641331]}, {\"marker\": {\"color\": [\"lightslategray\", \"lightslategray\", \"lightslategray\", \"lightslategray\", \"lightslategray\", \"lightslategray\", \"crimson\", \"lightslategray\", \"crimson\", \"lightslategray\", \"lightslategray\", \"crimson\", \"lightslategray\", \"lightslategray\", \"lightslategray\", \"lightslategray\", \"lightslategray\", \"lightslategray\", \"lightslategray\", \"crimson\", \"lightslategray\", \"lightslategray\", \"lightslategray\", \"lightslategray\", \"crimson\", \"lightslategray\", \"lightslategray\", \"lightslategray\", \"lightslategray\", \"lightslategray\", \"crimson\", \"crimson\", \"lightslategray\", \"crimson\", \"lightslategray\", \"lightslategray\", \"lightslategray\", \"lightslategray\", \"lightslategray\", \"lightslategray\", \"lightslategray\"]}, \"name\": \"\\uc81c\\uc8fc\", \"opacity\": 0.5, \"type\": \"bar\", \"visible\": false, \"x\": [\"\\uac74\\uac15\\ubcf4\\uc870\\uc2dd\\ud488 \\uc18c\\ub9e4\\uc5c5\", \"\\uace8\\ud504\\uc7a5 \\uc6b4\\uc601\\uc5c5\", \"\\uacfc\\uc2e4 \\ubc0f \\ucc44\\uc18c \\uc18c\\ub9e4\\uc5c5\", \"\\uad00\\uad11 \\ubbfc\\uc608\\ud488 \\ubc0f \\uc120\\ubb3c\\uc6a9\\ud488 \\uc18c\\ub9e4\\uc5c5\", \"\\uadf8\\uc678 \\uae30\\ud0c0 \\ubd84\\ub958\\uc548\\ub41c \\uc624\\ub77d\\uad00\\ub828 \\uc11c\\ube44\\uc2a4\\uc5c5\", \"\\uadf8\\uc678 \\uae30\\ud0c0 \\uc2a4\\ud3ec\\uce20\\uc2dc\\uc124 \\uc6b4\\uc601\\uc5c5\", \"\\uadf8\\uc678 \\uae30\\ud0c0 \\uc885\\ud569 \\uc18c\\ub9e4\\uc5c5\", \"\\uae30\\ud0c0 \\ub300\\ud615 \\uc885\\ud569 \\uc18c\\ub9e4\\uc5c5\", \"\\uae30\\ud0c0 \\uc218\\uc0c1\\uc624\\ub77d \\uc11c\\ube44\\uc2a4\\uc5c5\", \"\\uae30\\ud0c0 \\uc678\\uad6d\\uc2dd \\uc74c\\uc2dd\\uc810\\uc5c5\", \"\\uae30\\ud0c0 \\uc8fc\\uc810\\uc5c5\", \"\\uae30\\ud0c0\\uc74c\\uc2dd\\ub8cc\\ud488\\uc704\\uc8fc\\uc885\\ud569\\uc18c\\ub9e4\\uc5c5\", \"\\ub0b4\\ud56d \\uc5ec\\uac1d \\uc6b4\\uc1a1\\uc5c5\", \"\\ub9c8\\uc0ac\\uc9c0\\uc5c5\", \"\\uba74\\uc138\\uc810\", \"\\ube44\\uc54c\\ucf5c \\uc74c\\ub8cc\\uc810\\uc5c5\", \"\\ube75 \\ubc0f \\uacfc\\uc790\\ub958 \\uc18c\\ub9e4\\uc5c5\", \"\\uc11c\\uc591\\uc2dd \\uc74c\\uc2dd\\uc810\\uc5c5\", \"\\uc218\\uc0b0\\ubb3c \\uc18c\\ub9e4\\uc5c5\", \"\\uc288\\ud37c\\ub9c8\\ucf13\", \"\\uc2a4\\ud3ec\\uce20 \\ubc0f \\ub808\\ud06c\\ub808\\uc774\\uc158 \\uc6a9\\ud488 \\uc784\\ub300\\uc5c5\", \"\\uc5ec\\uad00\\uc5c5\", \"\\uc5ec\\ud589\\uc0ac\\uc5c5\", \"\\uc695\\ud0d5\\uc5c5\", \"\\uc721\\ub958 \\uc18c\\ub9e4\\uc5c5\", \"\\uc77c\\ubc18\\uc720\\ud765 \\uc8fc\\uc810\\uc5c5\", \"\\uc77c\\uc2dd \\uc74c\\uc2dd\\uc810\\uc5c5\", \"\\uc790\\ub3d9\\ucc28 \\uc784\\ub300\\uc5c5\", \"\\uc804\\uc2dc \\ubc0f \\ud589\\uc0ac \\ub300\\ud589\\uc5c5\", \"\\uc815\\uae30 \\ud56d\\uacf5 \\uc6b4\\uc1a1\\uc5c5\", \"\\uc911\\uc2dd \\uc74c\\uc2dd\\uc810\\uc5c5\", \"\\ucc28\\ub7c9\\uc6a9 \\uac00\\uc2a4 \\ucda9\\uc804\\uc5c5\", \"\\ucc28\\ub7c9\\uc6a9 \\uc8fc\\uc720\\uc18c \\uc6b4\\uc601\\uc5c5\", \"\\uccb4\\uc778\\ud654 \\ud3b8\\uc758\\uc810\", \"\\ud0dd\\uc2dc \\uc6b4\\uc1a1\\uc5c5\", \"\\ud53c\\uc790 \\ud584\\ubc84\\uac70 \\uc0cc\\ub4dc\\uc704\\uce58 \\ubc0f \\uc720\\uc0ac \\uc74c\\uc2dd\\uc810\\uc5c5\", \"\\ud55c\\uc2dd \\uc74c\\uc2dd\\uc810\\uc5c5\", \"\\ud638\\ud154\\uc5c5\", \"\\ud654\\uc7a5\\ud488 \\ubc0f \\ubc29\\ud5a5\\uc81c \\uc18c\\ub9e4\\uc5c5\", \"\\ud734\\uc591\\ucf58\\ub3c4 \\uc6b4\\uc601\\uc5c5\"], \"y\": [0.8528799361353175, 0.896510242396219, 0.5852557903350019, 0.15697186107769107, null, null, 1.3193337301270636, 0.8465433108781661, 63.94406779661017, 0.8834990707245829, 0.7647727069268749, 1.3772373190660139, 0.3917424811584668, 0.4174707973590655, 0.3909323378762657, 0.9128713109554425, 0.9641950899517122, 0.8604522751854016, 0.5309789393729634, 1.0770666095509527, 0.7819845537169988, 0.47885136677213574, 0.1109908919792007, 0.9319631725365466, 1.1481625921350094, 0.7860102644113758, 0.7154189984825174, 0.5841465701086137, 0.18082467397470728, 0.0830950458119816, 1.02485751604981, 1.0181653578155543, 0.8604469213328628, 1.0025516636799383, null, 0.9481751256602471, 0.7829744945413855, 0.4150587638317032, 0.774913948046567, 0.11334643200952689]}],\n",
       "                        {\"paper_bgcolor\": \"rgb(243, 243, 243)\", \"plot_bgcolor\": \"rgb(243, 243, 243)\", \"template\": {\"data\": {\"bar\": [{\"error_x\": {\"color\": \"#2a3f5f\"}, \"error_y\": {\"color\": \"#2a3f5f\"}, \"marker\": {\"line\": {\"color\": \"#E5ECF6\", \"width\": 0.5}}, \"type\": \"bar\"}], \"barpolar\": [{\"marker\": {\"line\": {\"color\": \"#E5ECF6\", \"width\": 0.5}}, \"type\": \"barpolar\"}], \"carpet\": [{\"aaxis\": {\"endlinecolor\": \"#2a3f5f\", \"gridcolor\": \"white\", \"linecolor\": \"white\", \"minorgridcolor\": \"white\", \"startlinecolor\": \"#2a3f5f\"}, \"baxis\": {\"endlinecolor\": \"#2a3f5f\", \"gridcolor\": \"white\", \"linecolor\": \"white\", \"minorgridcolor\": \"white\", \"startlinecolor\": \"#2a3f5f\"}, \"type\": \"carpet\"}], \"choropleth\": [{\"colorbar\": {\"outlinewidth\": 0, \"ticks\": \"\"}, \"type\": \"choropleth\"}], \"contour\": [{\"colorbar\": {\"outlinewidth\": 0, \"ticks\": \"\"}, \"colorscale\": [[0.0, \"#0d0887\"], [0.1111111111111111, \"#46039f\"], [0.2222222222222222, \"#7201a8\"], [0.3333333333333333, \"#9c179e\"], [0.4444444444444444, \"#bd3786\"], [0.5555555555555556, \"#d8576b\"], [0.6666666666666666, \"#ed7953\"], [0.7777777777777778, \"#fb9f3a\"], [0.8888888888888888, \"#fdca26\"], [1.0, \"#f0f921\"]], \"type\": \"contour\"}], \"contourcarpet\": [{\"colorbar\": {\"outlinewidth\": 0, \"ticks\": \"\"}, \"type\": \"contourcarpet\"}], \"heatmap\": [{\"colorbar\": {\"outlinewidth\": 0, \"ticks\": \"\"}, \"colorscale\": [[0.0, \"#0d0887\"], [0.1111111111111111, \"#46039f\"], [0.2222222222222222, \"#7201a8\"], [0.3333333333333333, \"#9c179e\"], [0.4444444444444444, \"#bd3786\"], [0.5555555555555556, \"#d8576b\"], [0.6666666666666666, \"#ed7953\"], [0.7777777777777778, \"#fb9f3a\"], [0.8888888888888888, \"#fdca26\"], [1.0, \"#f0f921\"]], \"type\": \"heatmap\"}], \"heatmapgl\": [{\"colorbar\": {\"outlinewidth\": 0, \"ticks\": \"\"}, \"colorscale\": [[0.0, \"#0d0887\"], [0.1111111111111111, \"#46039f\"], [0.2222222222222222, \"#7201a8\"], [0.3333333333333333, \"#9c179e\"], [0.4444444444444444, \"#bd3786\"], [0.5555555555555556, \"#d8576b\"], [0.6666666666666666, \"#ed7953\"], [0.7777777777777778, \"#fb9f3a\"], [0.8888888888888888, \"#fdca26\"], [1.0, \"#f0f921\"]], \"type\": \"heatmapgl\"}], \"histogram\": [{\"marker\": {\"colorbar\": {\"outlinewidth\": 0, \"ticks\": \"\"}}, \"type\": \"histogram\"}], \"histogram2d\": [{\"colorbar\": {\"outlinewidth\": 0, \"ticks\": \"\"}, \"colorscale\": [[0.0, \"#0d0887\"], [0.1111111111111111, \"#46039f\"], [0.2222222222222222, \"#7201a8\"], [0.3333333333333333, \"#9c179e\"], [0.4444444444444444, \"#bd3786\"], [0.5555555555555556, \"#d8576b\"], [0.6666666666666666, \"#ed7953\"], [0.7777777777777778, \"#fb9f3a\"], [0.8888888888888888, \"#fdca26\"], [1.0, \"#f0f921\"]], \"type\": \"histogram2d\"}], \"histogram2dcontour\": [{\"colorbar\": {\"outlinewidth\": 0, \"ticks\": \"\"}, \"colorscale\": [[0.0, \"#0d0887\"], [0.1111111111111111, \"#46039f\"], [0.2222222222222222, \"#7201a8\"], [0.3333333333333333, \"#9c179e\"], [0.4444444444444444, \"#bd3786\"], [0.5555555555555556, \"#d8576b\"], [0.6666666666666666, \"#ed7953\"], [0.7777777777777778, \"#fb9f3a\"], [0.8888888888888888, \"#fdca26\"], [1.0, \"#f0f921\"]], \"type\": \"histogram2dcontour\"}], \"mesh3d\": [{\"colorbar\": {\"outlinewidth\": 0, \"ticks\": \"\"}, \"type\": \"mesh3d\"}], \"parcoords\": [{\"line\": {\"colorbar\": {\"outlinewidth\": 0, \"ticks\": \"\"}}, \"type\": \"parcoords\"}], \"pie\": [{\"automargin\": true, \"type\": \"pie\"}], \"scatter\": [{\"marker\": {\"colorbar\": {\"outlinewidth\": 0, \"ticks\": \"\"}}, \"type\": \"scatter\"}], \"scatter3d\": [{\"line\": {\"colorbar\": {\"outlinewidth\": 0, \"ticks\": \"\"}}, \"marker\": {\"colorbar\": {\"outlinewidth\": 0, \"ticks\": \"\"}}, \"type\": \"scatter3d\"}], \"scattercarpet\": [{\"marker\": {\"colorbar\": {\"outlinewidth\": 0, \"ticks\": \"\"}}, \"type\": \"scattercarpet\"}], \"scattergeo\": [{\"marker\": {\"colorbar\": {\"outlinewidth\": 0, \"ticks\": \"\"}}, \"type\": \"scattergeo\"}], \"scattergl\": [{\"marker\": {\"colorbar\": {\"outlinewidth\": 0, \"ticks\": \"\"}}, \"type\": \"scattergl\"}], \"scattermapbox\": [{\"marker\": {\"colorbar\": {\"outlinewidth\": 0, \"ticks\": \"\"}}, \"type\": \"scattermapbox\"}], \"scatterpolar\": [{\"marker\": {\"colorbar\": {\"outlinewidth\": 0, \"ticks\": \"\"}}, \"type\": \"scatterpolar\"}], \"scatterpolargl\": [{\"marker\": {\"colorbar\": {\"outlinewidth\": 0, \"ticks\": \"\"}}, \"type\": \"scatterpolargl\"}], \"scatterternary\": [{\"marker\": {\"colorbar\": {\"outlinewidth\": 0, \"ticks\": \"\"}}, \"type\": \"scatterternary\"}], \"surface\": [{\"colorbar\": {\"outlinewidth\": 0, \"ticks\": \"\"}, \"colorscale\": [[0.0, \"#0d0887\"], [0.1111111111111111, \"#46039f\"], [0.2222222222222222, \"#7201a8\"], [0.3333333333333333, \"#9c179e\"], [0.4444444444444444, \"#bd3786\"], [0.5555555555555556, \"#d8576b\"], [0.6666666666666666, \"#ed7953\"], [0.7777777777777778, \"#fb9f3a\"], [0.8888888888888888, \"#fdca26\"], [1.0, \"#f0f921\"]], \"type\": \"surface\"}], \"table\": [{\"cells\": {\"fill\": {\"color\": \"#EBF0F8\"}, \"line\": {\"color\": \"white\"}}, \"header\": {\"fill\": {\"color\": \"#C8D4E3\"}, \"line\": {\"color\": \"white\"}}, \"type\": \"table\"}]}, \"layout\": {\"annotationdefaults\": {\"arrowcolor\": \"#2a3f5f\", \"arrowhead\": 0, \"arrowwidth\": 1}, \"coloraxis\": {\"colorbar\": {\"outlinewidth\": 0, \"ticks\": \"\"}}, \"colorscale\": {\"diverging\": [[0, \"#8e0152\"], [0.1, \"#c51b7d\"], [0.2, \"#de77ae\"], [0.3, \"#f1b6da\"], [0.4, \"#fde0ef\"], [0.5, \"#f7f7f7\"], [0.6, \"#e6f5d0\"], [0.7, \"#b8e186\"], [0.8, \"#7fbc41\"], [0.9, \"#4d9221\"], [1, \"#276419\"]], \"sequential\": [[0.0, \"#0d0887\"], [0.1111111111111111, \"#46039f\"], [0.2222222222222222, \"#7201a8\"], [0.3333333333333333, \"#9c179e\"], [0.4444444444444444, \"#bd3786\"], [0.5555555555555556, \"#d8576b\"], [0.6666666666666666, \"#ed7953\"], [0.7777777777777778, \"#fb9f3a\"], [0.8888888888888888, \"#fdca26\"], [1.0, \"#f0f921\"]], \"sequentialminus\": [[0.0, \"#0d0887\"], [0.1111111111111111, \"#46039f\"], [0.2222222222222222, \"#7201a8\"], [0.3333333333333333, \"#9c179e\"], [0.4444444444444444, \"#bd3786\"], [0.5555555555555556, \"#d8576b\"], [0.6666666666666666, \"#ed7953\"], [0.7777777777777778, \"#fb9f3a\"], [0.8888888888888888, \"#fdca26\"], [1.0, \"#f0f921\"]]}, \"colorway\": [\"#636efa\", \"#EF553B\", \"#00cc96\", \"#ab63fa\", \"#FFA15A\", \"#19d3f3\", \"#FF6692\", \"#B6E880\", \"#FF97FF\", \"#FECB52\"], \"font\": {\"color\": \"#2a3f5f\"}, \"geo\": {\"bgcolor\": \"white\", \"lakecolor\": \"white\", \"landcolor\": \"#E5ECF6\", \"showlakes\": true, \"showland\": true, \"subunitcolor\": \"white\"}, \"hoverlabel\": {\"align\": \"left\"}, \"hovermode\": \"closest\", \"mapbox\": {\"style\": \"light\"}, \"paper_bgcolor\": \"white\", \"plot_bgcolor\": \"#E5ECF6\", \"polar\": {\"angularaxis\": {\"gridcolor\": \"white\", \"linecolor\": \"white\", \"ticks\": \"\"}, \"bgcolor\": \"#E5ECF6\", \"radialaxis\": {\"gridcolor\": \"white\", \"linecolor\": \"white\", \"ticks\": \"\"}}, \"scene\": {\"xaxis\": {\"backgroundcolor\": \"#E5ECF6\", \"gridcolor\": \"white\", \"gridwidth\": 2, \"linecolor\": \"white\", \"showbackground\": true, \"ticks\": \"\", \"zerolinecolor\": \"white\"}, \"yaxis\": {\"backgroundcolor\": \"#E5ECF6\", \"gridcolor\": \"white\", \"gridwidth\": 2, \"linecolor\": \"white\", \"showbackground\": true, \"ticks\": \"\", \"zerolinecolor\": \"white\"}, \"zaxis\": {\"backgroundcolor\": \"#E5ECF6\", \"gridcolor\": \"white\", \"gridwidth\": 2, \"linecolor\": \"white\", \"showbackground\": true, \"ticks\": \"\", \"zerolinecolor\": \"white\"}}, \"shapedefaults\": {\"line\": {\"color\": \"#2a3f5f\"}}, \"ternary\": {\"aaxis\": {\"gridcolor\": \"white\", \"linecolor\": \"white\", \"ticks\": \"\"}, \"baxis\": {\"gridcolor\": \"white\", \"linecolor\": \"white\", \"ticks\": \"\"}, \"bgcolor\": \"#E5ECF6\", \"caxis\": {\"gridcolor\": \"white\", \"linecolor\": \"white\", \"ticks\": \"\"}}, \"title\": {\"x\": 0.05}, \"xaxis\": {\"automargin\": true, \"gridcolor\": \"white\", \"linecolor\": \"white\", \"ticks\": \"\", \"title\": {\"standoff\": 15}, \"zerolinecolor\": \"white\", \"zerolinewidth\": 2}, \"yaxis\": {\"automargin\": true, \"gridcolor\": \"white\", \"linecolor\": \"white\", \"ticks\": \"\", \"title\": {\"standoff\": 15}, \"zerolinecolor\": \"white\", \"zerolinewidth\": 2}}}, \"title\": {\"text\": \"Total\"}, \"updatemenus\": [{\"active\": 0, \"buttons\": [{\"args\": [{\"visible\": [true, false, false, false, false, false, false, false, false, false, false, false, false, false, false, false, false]}, {\"annotations\": [], \"title\": \"\\uc6b8\\uc0b0\"}], \"label\": \"\\uc6b8\\uc0b0\", \"method\": \"update\"}, {\"args\": [{\"visible\": [false, true, false, false, false, false, false, false, false, false, false, false, false, false, false, false, false]}, {\"annotations\": [], \"title\": \"\\uc11c\\uc6b8\"}], \"label\": \"\\uc11c\\uc6b8\", \"method\": \"update\"}, {\"args\": [{\"visible\": [false, false, true, false, false, false, false, false, false, false, false, false, false, false, false, false, false]}, {\"annotations\": [], \"title\": \"\\uacbd\\ubd81\"}], \"label\": \"\\uacbd\\ubd81\", \"method\": \"update\"}, {\"args\": [{\"visible\": [false, false, false, true, false, false, false, false, false, false, false, false, false, false, false, false, false]}, {\"annotations\": [], \"title\": \"\\uacbd\\uae30\"}], \"label\": \"\\uacbd\\uae30\", \"method\": \"update\"}, {\"args\": [{\"visible\": [false, false, false, false, true, false, false, false, false, false, false, false, false, false, false, false, false]}, {\"annotations\": [], \"title\": \"\\ubd80\\uc0b0\"}], \"label\": \"\\ubd80\\uc0b0\", \"method\": \"update\"}, {\"args\": [{\"visible\": [false, false, false, false, false, true, false, false, false, false, false, false, false, false, false, false, false]}, {\"annotations\": [], \"title\": \"\\uc778\\ucc9c\"}], \"label\": \"\\uc778\\ucc9c\", \"method\": \"update\"}, {\"args\": [{\"visible\": [false, false, false, false, false, false, true, false, false, false, false, false, false, false, false, false, false]}, {\"annotations\": [], \"title\": \"\\ucda9\\ub0a8\"}], \"label\": \"\\ucda9\\ub0a8\", \"method\": \"update\"}, {\"args\": [{\"visible\": [false, false, false, false, false, false, false, true, false, false, false, false, false, false, false, false, false]}, {\"annotations\": [], \"title\": \"\\uacbd\\ub0a8\"}], \"label\": \"\\uacbd\\ub0a8\", \"method\": \"update\"}, {\"args\": [{\"visible\": [false, false, false, false, false, false, false, false, true, false, false, false, false, false, false, false, false]}, {\"annotations\": [], \"title\": \"\\ub300\\uc804\"}], \"label\": \"\\ub300\\uc804\", \"method\": \"update\"}, {\"args\": [{\"visible\": [false, false, false, false, false, false, false, false, false, true, false, false, false, false, false, false, false]}, {\"annotations\": [], \"title\": \"\\uc138\\uc885\"}], \"label\": \"\\uc138\\uc885\", \"method\": \"update\"}, {\"args\": [{\"visible\": [false, false, false, false, false, false, false, false, false, false, true, false, false, false, false, false, false]}, {\"annotations\": [], \"title\": \"\\ucda9\\ubd81\"}], \"label\": \"\\ucda9\\ubd81\", \"method\": \"update\"}, {\"args\": [{\"visible\": [false, false, false, false, false, false, false, false, false, false, false, true, false, false, false, false, false]}, {\"annotations\": [], \"title\": \"\\ub300\\uad6c\"}], \"label\": \"\\ub300\\uad6c\", \"method\": \"update\"}, {\"args\": [{\"visible\": [false, false, false, false, false, false, false, false, false, false, false, false, true, false, false, false, false]}, {\"annotations\": [], \"title\": \"\\uac15\\uc6d0\"}], \"label\": \"\\uac15\\uc6d0\", \"method\": \"update\"}, {\"args\": [{\"visible\": [false, false, false, false, false, false, false, false, false, false, false, false, false, true, false, false, false]}, {\"annotations\": [], \"title\": \"\\uc804\\ubd81\"}], \"label\": \"\\uc804\\ubd81\", \"method\": \"update\"}, {\"args\": [{\"visible\": [false, false, false, false, false, false, false, false, false, false, false, false, false, false, true, false, false]}, {\"annotations\": [], \"title\": \"\\uc804\\ub0a8\"}], \"label\": \"\\uc804\\ub0a8\", \"method\": \"update\"}, {\"args\": [{\"visible\": [false, false, false, false, false, false, false, false, false, false, false, false, false, false, false, true, false]}, {\"annotations\": [], \"title\": \"\\uad11\\uc8fc\"}], \"label\": \"\\uad11\\uc8fc\", \"method\": \"update\"}, {\"args\": [{\"visible\": [false, false, false, false, false, false, false, false, false, false, false, false, false, false, false, false, true]}, {\"annotations\": [], \"title\": \"\\uc81c\\uc8fc\"}], \"label\": \"\\uc81c\\uc8fc\", \"method\": \"update\"}], \"direction\": \"down\", \"pad\": {\"r\": 10, \"t\": 10}, \"showactive\": true, \"x\": 1.0, \"xanchor\": \"left\", \"y\": 1.265, \"yanchor\": \"top\"}], \"xaxis\": {\"showgrid\": false, \"showticklabels\": true, \"zeroline\": false}, \"yaxis\": {\"gridcolor\": \"white\", \"zeroline\": false}},\n",
       "                        {\"responsive\": true}\n",
       "                    ).then(function(){\n",
       "                            \n",
       "var gd = document.getElementById('1ea728c4-2cb7-4bb5-861e-8ec2cc4eaf25');\n",
       "var x = new MutationObserver(function (mutations, observer) {{\n",
       "        var display = window.getComputedStyle(gd).display;\n",
       "        if (!display || display === 'none') {{\n",
       "            console.log([gd, 'removed!']);\n",
       "            Plotly.purge(gd);\n",
       "            observer.disconnect();\n",
       "        }}\n",
       "}});\n",
       "\n",
       "// Listen for the removal of the full notebook cells\n",
       "var notebookContainer = gd.closest('#notebook-container');\n",
       "if (notebookContainer) {{\n",
       "    x.observe(notebookContainer, {childList: true});\n",
       "}}\n",
       "\n",
       "// Listen for the clearing of the current output cell\n",
       "var outputEl = gd.closest('.output');\n",
       "if (outputEl) {{\n",
       "    x.observe(outputEl, {childList: true});\n",
       "}}\n",
       "\n",
       "                        })\n",
       "                };\n",
       "                });\n",
       "            </script>\n",
       "        </div>"
      ]
     },
     "metadata": {},
     "output_type": "display_data"
    }
   ],
   "source": [
    "fig = go.Figure()\n",
    "df202034=df3[df3['REG_YYMM'].isin(['202003','202004'])]\n",
    "df201934=df3[df3['REG_YYMM'].isin(['201903','201904'])]\n",
    "s1 =list(set(df202034['CARD_SIDO_NM']))\n",
    "\n",
    "\n",
    "\n",
    "#colors = ['#A56CC1', '#A6ACEC', '#63F5EF']\n",
    "\n",
    "\n",
    "for i in s1:\n",
    "    df202034_1=df202034[df202034['CARD_SIDO_NM']==i].groupby('STD_CLSS_NM').sum()\n",
    "    df201934_1=df201934[df201934['CARD_SIDO_NM']==i].groupby('STD_CLSS_NM').sum()\n",
    "    df_amt= df202034_1['AMT']/df201934_1['AMT']\n",
    "    \n",
    "    colors = ['lightslategray'] * len(list(set(df202034['STD_CLSS_NM'])))\n",
    "    k = 0 \n",
    "    for j in df_amt:\n",
    "        if j >= 1 :\n",
    "            colors[k] = 'crimson'\n",
    "        k+=1\n",
    "    \n",
    "    # Load dataset\n",
    "    df = df_amt\n",
    "    # Add Traces\n",
    "    fig.add_trace(go.Bar(x=list(df.index),y=list(df),marker_color=colors,name=i,visible=False,opacity=0.5))\n",
    "\n",
    "visible1 = [False]*(len(s1)); list1=[] ; j = 0\n",
    "\n",
    "for i in s1 :\n",
    "    visible1_temp = copy.deepcopy(visible1)\n",
    "    visible1_temp[j] = True\n",
    "    dict_temp = dict(label=i,method=\"update\",args=[{\"visible\": visible1_temp},{\"title\": i, \"annotations\": []}])\n",
    "    list1.append(dict_temp)\n",
    "    j+=1\n",
    "\n",
    "button_layer_1_height = 1.265\n",
    "fig.update_layout(\n",
    "    updatemenus=[\n",
    "        dict(\n",
    "            active=0,\n",
    "            buttons=list1,\n",
    "            direction=\"down\",\n",
    "            pad={\"r\": 10, \"t\": 10},\n",
    "            showactive=True,\n",
    "            x=1.0,\n",
    "            xanchor=\"left\",\n",
    "            y=button_layer_1_height,\n",
    "            yanchor=\"top\")])\n",
    "\n",
    "# Set title\n",
    "fig.update_layout(title_text=\"Total\", paper_bgcolor='rgb(243, 243, 243)',\n",
    "    plot_bgcolor='rgb(243, 243, 243)', xaxis=dict(showgrid=False, zeroline=False, showticklabels=True),\n",
    "    yaxis=dict(zeroline=False, gridcolor='white'))\n",
    "fig.show()"
   ]
  },
  {
   "cell_type": "markdown",
   "metadata": {},
   "source": [
    "##  &nbsp;&nbsp;&nbsp;&nbsp;&nbsp;&nbsp; &nbsp;&nbsp;&nbsp;&nbsp;&nbsp;&nbsp; &nbsp;&nbsp;&nbsp;&nbsp;&nbsp;&nbsp;5.포스트 코로나 이전 이후  특정 업종의 지역별 카드 사용량 비교\n",
    "  &nbsp;&nbsp;&nbsp;&nbsp;&nbsp;&nbsp;\n",
    "  \n",
    "  \n",
    "  \n",
    "  \n",
    "  \n",
    "  \n",
    "  \n",
    "  \n",
    "  \n",
    "  \n",
    "  \n",
    "   &nbsp;&nbsp;&nbsp;&nbsp;&nbsp;&nbsp;\n",
    "### 포스트 코로나 이전 이후  특정 업종의 지역별 카드 사용량 시각화\n",
    "\n",
    "#### 타 지역보다 코로나 타격을 덜받은 지역을 시각화  \n",
    "    - 특정 업종에 사업 입지 의사 결정 지원"
   ]
  },
  {
   "cell_type": "code",
   "execution_count": 12,
   "metadata": {},
   "outputs": [],
   "source": [
    "import plotly.graph_objects as go\n",
    "import pandas as pd\n",
    "import copy\n",
    "import numpy as np"
   ]
  },
  {
   "cell_type": "code",
   "execution_count": 13,
   "metadata": {},
   "outputs": [
    {
     "data": {
      "application/vnd.plotly.v1+json": {
       "config": {
        "plotlyServerURL": "https://plot.ly"
       },
       "data": [
        {
         "marker": {
          "color": [
           "hsl(0.0,50%,50%)",
           "hsl(22.5,50%,50%)",
           "hsl(45.0,50%,50%)",
           "hsl(67.5,50%,50%)",
           "hsl(90.0,50%,50%)",
           "hsl(112.5,50%,50%)",
           "hsl(135.0,50%,50%)",
           "hsl(157.5,50%,50%)",
           "hsl(180.0,50%,50%)",
           "hsl(202.5,50%,50%)",
           "hsl(225.0,50%,50%)",
           "hsl(247.5,50%,50%)",
           "hsl(270.0,50%,50%)",
           "hsl(292.5,50%,50%)",
           "hsl(315.0,50%,50%)",
           "hsl(337.5,50%,50%)",
           "hsl(360.0,50%,50%)"
          ]
         },
         "name": "면세점",
         "opacity": 0.5,
         "type": "bar",
         "visible": false,
         "x": [
          "강원",
          "대구",
          "부산",
          "서울",
          "울산",
          "인천",
          "전남",
          "제주",
          "충북"
         ],
         "y": [
          null,
          null,
          0.0029998385989051216,
          0.006542716107944689,
          null,
          0.04267499871007048,
          null,
          0.3909323378762657,
          null
         ]
        },
        {
         "marker": {
          "color": [
           "hsl(0.0,50%,50%)",
           "hsl(22.5,50%,50%)",
           "hsl(45.0,50%,50%)",
           "hsl(67.5,50%,50%)",
           "hsl(90.0,50%,50%)",
           "hsl(112.5,50%,50%)",
           "hsl(135.0,50%,50%)",
           "hsl(157.5,50%,50%)",
           "hsl(180.0,50%,50%)",
           "hsl(202.5,50%,50%)",
           "hsl(225.0,50%,50%)",
           "hsl(247.5,50%,50%)",
           "hsl(270.0,50%,50%)",
           "hsl(292.5,50%,50%)",
           "hsl(315.0,50%,50%)",
           "hsl(337.5,50%,50%)",
           "hsl(360.0,50%,50%)"
          ]
         },
         "name": "건강보조식품 소매업",
         "opacity": 0.5,
         "type": "bar",
         "visible": false,
         "x": [
          "강원",
          "경기",
          "경남",
          "경북",
          "광주",
          "대구",
          "대전",
          "부산",
          "서울",
          "세종",
          "울산",
          "인천",
          "전남",
          "전북",
          "제주",
          "충남",
          "충북"
         ],
         "y": [
          0.85598935916189,
          1.0565461359213195,
          1.0267233533348616,
          1.0050988878819815,
          1.5403271278360937,
          0.9177836781464764,
          1.0247453292482105,
          1.0019353477577009,
          0.8780182606774274,
          0.8135236666767269,
          0.8738404526764726,
          0.8245699500280801,
          0.9834250224466655,
          1.0531477163937693,
          0.8528799361353175,
          0.6997932883887718,
          0.6923297764536216
         ]
        },
        {
         "marker": {
          "color": [
           "hsl(0.0,50%,50%)",
           "hsl(22.5,50%,50%)",
           "hsl(45.0,50%,50%)",
           "hsl(67.5,50%,50%)",
           "hsl(90.0,50%,50%)",
           "hsl(112.5,50%,50%)",
           "hsl(135.0,50%,50%)",
           "hsl(157.5,50%,50%)",
           "hsl(180.0,50%,50%)",
           "hsl(202.5,50%,50%)",
           "hsl(225.0,50%,50%)",
           "hsl(247.5,50%,50%)",
           "hsl(270.0,50%,50%)",
           "hsl(292.5,50%,50%)",
           "hsl(315.0,50%,50%)",
           "hsl(337.5,50%,50%)",
           "hsl(360.0,50%,50%)"
          ]
         },
         "name": "여관업",
         "opacity": 0.5,
         "type": "bar",
         "visible": false,
         "x": [
          "강원",
          "경기",
          "경남",
          "경북",
          "광주",
          "대구",
          "대전",
          "부산",
          "서울",
          "세종",
          "울산",
          "인천",
          "전남",
          "전북",
          "제주",
          "충남",
          "충북"
         ],
         "y": [
          0.6296643773432645,
          0.6866080528689769,
          0.7018520383332346,
          0.4621309277371174,
          0.7321493811937494,
          0.4595921331933664,
          0.5870266801561086,
          0.5504991201772694,
          0.6052295811829623,
          0.5468392447968029,
          0.6479655409818355,
          0.6757467485451725,
          0.6697583638406303,
          0.6762798378700678,
          0.47885136677213574,
          0.6260880314626477,
          0.7277311411551317
         ]
        },
        {
         "marker": {
          "color": [
           "hsl(0.0,50%,50%)",
           "hsl(22.5,50%,50%)",
           "hsl(45.0,50%,50%)",
           "hsl(67.5,50%,50%)",
           "hsl(90.0,50%,50%)",
           "hsl(112.5,50%,50%)",
           "hsl(135.0,50%,50%)",
           "hsl(157.5,50%,50%)",
           "hsl(180.0,50%,50%)",
           "hsl(202.5,50%,50%)",
           "hsl(225.0,50%,50%)",
           "hsl(247.5,50%,50%)",
           "hsl(270.0,50%,50%)",
           "hsl(292.5,50%,50%)",
           "hsl(315.0,50%,50%)",
           "hsl(337.5,50%,50%)",
           "hsl(360.0,50%,50%)"
          ]
         },
         "name": "골프장 운영업",
         "opacity": 0.5,
         "type": "bar",
         "visible": false,
         "x": [
          "강원",
          "경기",
          "경남",
          "경북",
          "광주",
          "대구",
          "대전",
          "부산",
          "서울",
          "세종",
          "울산",
          "인천",
          "전남",
          "전북",
          "제주",
          "충남",
          "충북"
         ],
         "y": [
          1.133636018135232,
          1.0151771759572303,
          0.9507533510128731,
          0.8670291309678038,
          1.0991747812584023,
          0.5452059786895993,
          1.0042221507365257,
          1.072590806251359,
          1.1432969635903123,
          1.1742318903217097,
          0.9725486257035829,
          0.9619370278681424,
          1.1171762489789676,
          1.1258323429631374,
          0.896510242396219,
          1.0501777286215037,
          1.1276696201172933
         ]
        },
        {
         "marker": {
          "color": [
           "hsl(0.0,50%,50%)",
           "hsl(22.5,50%,50%)",
           "hsl(45.0,50%,50%)",
           "hsl(67.5,50%,50%)",
           "hsl(90.0,50%,50%)",
           "hsl(112.5,50%,50%)",
           "hsl(135.0,50%,50%)",
           "hsl(157.5,50%,50%)",
           "hsl(180.0,50%,50%)",
           "hsl(202.5,50%,50%)",
           "hsl(225.0,50%,50%)",
           "hsl(247.5,50%,50%)",
           "hsl(270.0,50%,50%)",
           "hsl(292.5,50%,50%)",
           "hsl(315.0,50%,50%)",
           "hsl(337.5,50%,50%)",
           "hsl(360.0,50%,50%)"
          ]
         },
         "name": "그외 기타 분류안된 오락관련 서비스업",
         "opacity": 0.5,
         "type": "bar",
         "visible": false,
         "x": [
          "경남",
          "경북",
          "제주",
          "충남"
         ],
         "y": [
          0.5223587223587224,
          null,
          null,
          0.5212155963302753
         ]
        },
        {
         "marker": {
          "color": [
           "hsl(0.0,50%,50%)",
           "hsl(22.5,50%,50%)",
           "hsl(45.0,50%,50%)",
           "hsl(67.5,50%,50%)",
           "hsl(90.0,50%,50%)",
           "hsl(112.5,50%,50%)",
           "hsl(135.0,50%,50%)",
           "hsl(157.5,50%,50%)",
           "hsl(180.0,50%,50%)",
           "hsl(202.5,50%,50%)",
           "hsl(225.0,50%,50%)",
           "hsl(247.5,50%,50%)",
           "hsl(270.0,50%,50%)",
           "hsl(292.5,50%,50%)",
           "hsl(315.0,50%,50%)",
           "hsl(337.5,50%,50%)",
           "hsl(360.0,50%,50%)"
          ]
         },
         "name": "스포츠 및 레크레이션 용품 임대업",
         "opacity": 0.5,
         "type": "bar",
         "visible": false,
         "x": [
          "강원",
          "경기",
          "경남",
          "경북",
          "광주",
          "대구",
          "대전",
          "부산",
          "서울",
          "세종",
          "울산",
          "인천",
          "전남",
          "전북",
          "제주",
          "충남",
          "충북"
         ],
         "y": [
          0.7730237588305146,
          0.7811878667856875,
          0.7017935513378469,
          0.6144713712538606,
          0.7870941112621079,
          0.5907791014073472,
          0.7363214165575074,
          0.5890845079751696,
          0.7168517206826093,
          1.0899973554331668,
          0.7083990125908657,
          0.6296210317795732,
          0.705431015761038,
          0.7212307605117715,
          0.7819845537169988,
          0.7069633633990301,
          0.723672044034734
         ]
        },
        {
         "marker": {
          "color": [
           "hsl(0.0,50%,50%)",
           "hsl(22.5,50%,50%)",
           "hsl(45.0,50%,50%)",
           "hsl(67.5,50%,50%)",
           "hsl(90.0,50%,50%)",
           "hsl(112.5,50%,50%)",
           "hsl(135.0,50%,50%)",
           "hsl(157.5,50%,50%)",
           "hsl(180.0,50%,50%)",
           "hsl(202.5,50%,50%)",
           "hsl(225.0,50%,50%)",
           "hsl(247.5,50%,50%)",
           "hsl(270.0,50%,50%)",
           "hsl(292.5,50%,50%)",
           "hsl(315.0,50%,50%)",
           "hsl(337.5,50%,50%)",
           "hsl(360.0,50%,50%)"
          ]
         },
         "name": "중식 음식점업",
         "opacity": 0.5,
         "type": "bar",
         "visible": false,
         "x": [
          "강원",
          "경기",
          "경남",
          "경북",
          "광주",
          "대구",
          "대전",
          "부산",
          "서울",
          "세종",
          "울산",
          "인천",
          "전남",
          "전북",
          "제주",
          "충남",
          "충북"
         ],
         "y": [
          0.9705045868921993,
          0.8736501771360867,
          0.9461894225495123,
          0.792344823258734,
          0.9490739353087594,
          0.669117464256456,
          0.8983759222008273,
          0.7026764637446926,
          0.7169905939342104,
          0.8111055806397649,
          0.8311234460938556,
          0.7176472024890646,
          1.1180712546125997,
          0.9909703886943099,
          1.02485751604981,
          0.8978443385042041,
          0.910513339752
         ]
        },
        {
         "marker": {
          "color": [
           "hsl(0.0,50%,50%)",
           "hsl(22.5,50%,50%)",
           "hsl(45.0,50%,50%)",
           "hsl(67.5,50%,50%)",
           "hsl(90.0,50%,50%)",
           "hsl(112.5,50%,50%)",
           "hsl(135.0,50%,50%)",
           "hsl(157.5,50%,50%)",
           "hsl(180.0,50%,50%)",
           "hsl(202.5,50%,50%)",
           "hsl(225.0,50%,50%)",
           "hsl(247.5,50%,50%)",
           "hsl(270.0,50%,50%)",
           "hsl(292.5,50%,50%)",
           "hsl(315.0,50%,50%)",
           "hsl(337.5,50%,50%)",
           "hsl(360.0,50%,50%)"
          ]
         },
         "name": "욕탕업",
         "opacity": 0.5,
         "type": "bar",
         "visible": false,
         "x": [
          "강원",
          "경기",
          "경남",
          "경북",
          "광주",
          "대구",
          "대전",
          "부산",
          "서울",
          "세종",
          "울산",
          "인천",
          "전남",
          "전북",
          "제주",
          "충남",
          "충북"
         ],
         "y": [
          0.6083999931720458,
          0.4406467398364201,
          0.638110588748003,
          0.36527680310404875,
          0.7779521113576089,
          0.2169312231484467,
          0.5058083194947937,
          0.5773509280435309,
          0.470155134576211,
          0.4916369957667873,
          0.5636113185980793,
          0.4101018844330067,
          0.7928337721647412,
          0.692443361132337,
          0.9319631725365466,
          0.4205662873557506,
          0.49266156482761464
         ]
        },
        {
         "marker": {
          "color": [
           "hsl(0.0,50%,50%)",
           "hsl(22.5,50%,50%)",
           "hsl(45.0,50%,50%)",
           "hsl(67.5,50%,50%)",
           "hsl(90.0,50%,50%)",
           "hsl(112.5,50%,50%)",
           "hsl(135.0,50%,50%)",
           "hsl(157.5,50%,50%)",
           "hsl(180.0,50%,50%)",
           "hsl(202.5,50%,50%)",
           "hsl(225.0,50%,50%)",
           "hsl(247.5,50%,50%)",
           "hsl(270.0,50%,50%)",
           "hsl(292.5,50%,50%)",
           "hsl(315.0,50%,50%)",
           "hsl(337.5,50%,50%)",
           "hsl(360.0,50%,50%)"
          ]
         },
         "name": "빵 및 과자류 소매업",
         "opacity": 0.5,
         "type": "bar",
         "visible": false,
         "x": [
          "강원",
          "경기",
          "경남",
          "경북",
          "광주",
          "대구",
          "대전",
          "부산",
          "서울",
          "세종",
          "울산",
          "인천",
          "전남",
          "전북",
          "제주",
          "충남",
          "충북"
         ],
         "y": [
          0.9937700952385249,
          0.9705614834136689,
          1.0290511442236379,
          0.9072984711425225,
          1.0542851898934447,
          0.8588334056672009,
          0.84985546125626,
          0.7963095865085432,
          0.8752609566007536,
          0.9503959814139785,
          0.9460938030300841,
          0.7625565055539789,
          1.0764836242545415,
          0.9393251266824566,
          0.9641950899517122,
          0.9402868244989158,
          1.0159045424030586
         ]
        },
        {
         "marker": {
          "color": [
           "hsl(0.0,50%,50%)",
           "hsl(22.5,50%,50%)",
           "hsl(45.0,50%,50%)",
           "hsl(67.5,50%,50%)",
           "hsl(90.0,50%,50%)",
           "hsl(112.5,50%,50%)",
           "hsl(135.0,50%,50%)",
           "hsl(157.5,50%,50%)",
           "hsl(180.0,50%,50%)",
           "hsl(202.5,50%,50%)",
           "hsl(225.0,50%,50%)",
           "hsl(247.5,50%,50%)",
           "hsl(270.0,50%,50%)",
           "hsl(292.5,50%,50%)",
           "hsl(315.0,50%,50%)",
           "hsl(337.5,50%,50%)",
           "hsl(360.0,50%,50%)"
          ]
         },
         "name": "내항 여객 운송업",
         "opacity": 0.5,
         "type": "bar",
         "visible": false,
         "x": [
          "강원",
          "경기",
          "경남",
          "경북",
          "광주",
          "부산",
          "서울",
          "인천",
          "전남",
          "제주",
          "충남",
          "충북"
         ],
         "y": [
          0.3295645898484484,
          0.6213946695874407,
          0.8710498304449937,
          null,
          null,
          null,
          0.5452284825457717,
          0.17412790173317744,
          0.5761294784807591,
          0.3917424811584668,
          null,
          0.005725555060754501
         ]
        },
        {
         "marker": {
          "color": [
           "hsl(0.0,50%,50%)",
           "hsl(22.5,50%,50%)",
           "hsl(45.0,50%,50%)",
           "hsl(67.5,50%,50%)",
           "hsl(90.0,50%,50%)",
           "hsl(112.5,50%,50%)",
           "hsl(135.0,50%,50%)",
           "hsl(157.5,50%,50%)",
           "hsl(180.0,50%,50%)",
           "hsl(202.5,50%,50%)",
           "hsl(225.0,50%,50%)",
           "hsl(247.5,50%,50%)",
           "hsl(270.0,50%,50%)",
           "hsl(292.5,50%,50%)",
           "hsl(315.0,50%,50%)",
           "hsl(337.5,50%,50%)",
           "hsl(360.0,50%,50%)"
          ]
         },
         "name": "그외 기타 종합 소매업",
         "opacity": 0.5,
         "type": "bar",
         "visible": false,
         "x": [
          "강원",
          "경기",
          "경남",
          "경북",
          "광주",
          "대구",
          "대전",
          "부산",
          "서울",
          "세종",
          "울산",
          "인천",
          "전남",
          "전북",
          "제주",
          "충남",
          "충북"
         ],
         "y": [
          1.1652823076963972,
          1.1106281256765032,
          1.2238712329544275,
          0.9962149861762661,
          1.1717296738200036,
          1.0165166320232057,
          1.0631636058450669,
          1.0304841769765962,
          1.1741871879945096,
          0.29051676355451667,
          1.190423211646761,
          0.12489997360349715,
          1.1509676438541492,
          1.3740312988077972,
          1.3193337301270636,
          1.2577555247352397,
          1.158825223775486
         ]
        },
        {
         "marker": {
          "color": [
           "hsl(0.0,50%,50%)",
           "hsl(22.5,50%,50%)",
           "hsl(45.0,50%,50%)",
           "hsl(67.5,50%,50%)",
           "hsl(90.0,50%,50%)",
           "hsl(112.5,50%,50%)",
           "hsl(135.0,50%,50%)",
           "hsl(157.5,50%,50%)",
           "hsl(180.0,50%,50%)",
           "hsl(202.5,50%,50%)",
           "hsl(225.0,50%,50%)",
           "hsl(247.5,50%,50%)",
           "hsl(270.0,50%,50%)",
           "hsl(292.5,50%,50%)",
           "hsl(315.0,50%,50%)",
           "hsl(337.5,50%,50%)",
           "hsl(360.0,50%,50%)"
          ]
         },
         "name": "전시 및 행사 대행업",
         "opacity": 0.5,
         "type": "bar",
         "visible": false,
         "x": [
          "강원",
          "경기",
          "경남",
          "경북",
          "광주",
          "대구",
          "대전",
          "부산",
          "서울",
          "세종",
          "울산",
          "인천",
          "전남",
          "전북",
          "제주",
          "충남",
          "충북"
         ],
         "y": [
          0.3056658372695528,
          0.3160261140472719,
          0.4977344937015298,
          0.16551481426304238,
          0.41222601377520046,
          0.14233804682407486,
          0.1340345210664911,
          0.16027730793804695,
          0.14695100197017638,
          0.0331822525583234,
          0.044243256825675495,
          0.7876505945418576,
          0.35676150784221783,
          0.5938299974735116,
          0.18082467397470728,
          0.2704291026896752,
          0.17807515045491487
         ]
        },
        {
         "marker": {
          "color": [
           "hsl(0.0,50%,50%)",
           "hsl(22.5,50%,50%)",
           "hsl(45.0,50%,50%)",
           "hsl(67.5,50%,50%)",
           "hsl(90.0,50%,50%)",
           "hsl(112.5,50%,50%)",
           "hsl(135.0,50%,50%)",
           "hsl(157.5,50%,50%)",
           "hsl(180.0,50%,50%)",
           "hsl(202.5,50%,50%)",
           "hsl(225.0,50%,50%)",
           "hsl(247.5,50%,50%)",
           "hsl(270.0,50%,50%)",
           "hsl(292.5,50%,50%)",
           "hsl(315.0,50%,50%)",
           "hsl(337.5,50%,50%)",
           "hsl(360.0,50%,50%)"
          ]
         },
         "name": "택시 운송업",
         "opacity": 0.5,
         "type": "bar",
         "visible": false,
         "x": [
          "강원",
          "경기",
          "경남",
          "경북",
          "광주",
          "대구",
          "부산",
          "서울",
          "인천",
          "전북",
          "제주",
          "충남",
          "충북"
         ],
         "y": [
          0.10348071495766697,
          0.75022613714011,
          0.5058592254246307,
          0.5571940314587374,
          null,
          0.5192460950648878,
          0.6739073441024872,
          0.7559443011921069,
          0.7977490032643854,
          2.0004854368932037,
          null,
          null,
          16.031824324324326
         ]
        },
        {
         "marker": {
          "color": [
           "hsl(0.0,50%,50%)",
           "hsl(22.5,50%,50%)",
           "hsl(45.0,50%,50%)",
           "hsl(67.5,50%,50%)",
           "hsl(90.0,50%,50%)",
           "hsl(112.5,50%,50%)",
           "hsl(135.0,50%,50%)",
           "hsl(157.5,50%,50%)",
           "hsl(180.0,50%,50%)",
           "hsl(202.5,50%,50%)",
           "hsl(225.0,50%,50%)",
           "hsl(247.5,50%,50%)",
           "hsl(270.0,50%,50%)",
           "hsl(292.5,50%,50%)",
           "hsl(315.0,50%,50%)",
           "hsl(337.5,50%,50%)",
           "hsl(360.0,50%,50%)"
          ]
         },
         "name": "화장품 및 방향제 소매업",
         "opacity": 0.5,
         "type": "bar",
         "visible": false,
         "x": [
          "강원",
          "경기",
          "경남",
          "경북",
          "광주",
          "대구",
          "대전",
          "부산",
          "서울",
          "세종",
          "울산",
          "인천",
          "전남",
          "전북",
          "제주",
          "충남",
          "충북"
         ],
         "y": [
          0.6806302015422753,
          0.6188873977412459,
          0.6189545048130622,
          0.5642256808001495,
          0.8244888637641331,
          0.48213621687731056,
          0.5723269041958688,
          0.6029299410530821,
          0.7129487348275629,
          0.731161805860925,
          0.6035448556081909,
          0.5806449608235738,
          0.7214874129048148,
          0.7586032526088002,
          0.774913948046567,
          0.681077343265073,
          0.6207818450458648
         ]
        },
        {
         "marker": {
          "color": [
           "hsl(0.0,50%,50%)",
           "hsl(22.5,50%,50%)",
           "hsl(45.0,50%,50%)",
           "hsl(67.5,50%,50%)",
           "hsl(90.0,50%,50%)",
           "hsl(112.5,50%,50%)",
           "hsl(135.0,50%,50%)",
           "hsl(157.5,50%,50%)",
           "hsl(180.0,50%,50%)",
           "hsl(202.5,50%,50%)",
           "hsl(225.0,50%,50%)",
           "hsl(247.5,50%,50%)",
           "hsl(270.0,50%,50%)",
           "hsl(292.5,50%,50%)",
           "hsl(315.0,50%,50%)",
           "hsl(337.5,50%,50%)",
           "hsl(360.0,50%,50%)"
          ]
         },
         "name": "관광 민예품 및 선물용품 소매업",
         "opacity": 0.5,
         "type": "bar",
         "visible": false,
         "x": [
          "강원",
          "경기",
          "경남",
          "경북",
          "광주",
          "대구",
          "대전",
          "부산",
          "서울",
          "세종",
          "울산",
          "인천",
          "전남",
          "전북",
          "제주",
          "충남",
          "충북"
         ],
         "y": [
          0.644743854941205,
          0.7482577184704347,
          1.4856236390650084,
          0.7328021913363139,
          1.104580726763067,
          0.3484437387493493,
          0.5851825652345367,
          0.47447691115467017,
          0.3796764086407362,
          null,
          0.35174107423965745,
          0.6224405848645262,
          0.9076073744369941,
          0.7253526342681627,
          0.15697186107769107,
          0.7837505165782258,
          1.184460027045393
         ]
        },
        {
         "marker": {
          "color": [
           "hsl(0.0,50%,50%)",
           "hsl(22.5,50%,50%)",
           "hsl(45.0,50%,50%)",
           "hsl(67.5,50%,50%)",
           "hsl(90.0,50%,50%)",
           "hsl(112.5,50%,50%)",
           "hsl(135.0,50%,50%)",
           "hsl(157.5,50%,50%)",
           "hsl(180.0,50%,50%)",
           "hsl(202.5,50%,50%)",
           "hsl(225.0,50%,50%)",
           "hsl(247.5,50%,50%)",
           "hsl(270.0,50%,50%)",
           "hsl(292.5,50%,50%)",
           "hsl(315.0,50%,50%)",
           "hsl(337.5,50%,50%)",
           "hsl(360.0,50%,50%)"
          ]
         },
         "name": "그외 기타 스포츠시설 운영업",
         "opacity": 0.5,
         "type": "bar",
         "visible": false,
         "x": [
          "강원",
          "경기",
          "경남",
          "경북",
          "광주",
          "대구",
          "대전",
          "부산",
          "서울",
          "울산",
          "인천",
          "전남",
          "전북",
          "제주",
          "충남",
          "충북"
         ],
         "y": [
          0.18096467329360108,
          0.1392653640878154,
          0.06863009027441268,
          0.09237706971553511,
          0.646175504458001,
          0.05489585472132868,
          0.4860731840524304,
          0.08501185177737992,
          0.5160982746212084,
          0.04632373584552516,
          0.27332480479950594,
          0.6251618583933288,
          0.40616455381556055,
          null,
          0.07806890544628459,
          0.33641617688543435
         ]
        },
        {
         "marker": {
          "color": [
           "hsl(0.0,50%,50%)",
           "hsl(22.5,50%,50%)",
           "hsl(45.0,50%,50%)",
           "hsl(67.5,50%,50%)",
           "hsl(90.0,50%,50%)",
           "hsl(112.5,50%,50%)",
           "hsl(135.0,50%,50%)",
           "hsl(157.5,50%,50%)",
           "hsl(180.0,50%,50%)",
           "hsl(202.5,50%,50%)",
           "hsl(225.0,50%,50%)",
           "hsl(247.5,50%,50%)",
           "hsl(270.0,50%,50%)",
           "hsl(292.5,50%,50%)",
           "hsl(315.0,50%,50%)",
           "hsl(337.5,50%,50%)",
           "hsl(360.0,50%,50%)"
          ]
         },
         "name": "슈퍼마켓",
         "opacity": 0.5,
         "type": "bar",
         "visible": false,
         "x": [
          "강원",
          "경기",
          "경남",
          "경북",
          "광주",
          "대구",
          "대전",
          "부산",
          "서울",
          "세종",
          "울산",
          "인천",
          "전남",
          "전북",
          "제주",
          "충남",
          "충북"
         ],
         "y": [
          1.1578874076869592,
          1.2133155169901688,
          1.3064992014041057,
          1.243578314874218,
          1.2794740575507184,
          1.1912575446632243,
          1.1999404451662474,
          1.0863672432113003,
          1.1264848998237897,
          1.1130606043603812,
          1.2161901623705342,
          1.0533211076683313,
          1.2015292956269874,
          1.1792126137576455,
          1.0770666095509527,
          1.1955875572655563,
          1.2855379156217612
         ]
        },
        {
         "marker": {
          "color": [
           "hsl(0.0,50%,50%)",
           "hsl(22.5,50%,50%)",
           "hsl(45.0,50%,50%)",
           "hsl(67.5,50%,50%)",
           "hsl(90.0,50%,50%)",
           "hsl(112.5,50%,50%)",
           "hsl(135.0,50%,50%)",
           "hsl(157.5,50%,50%)",
           "hsl(180.0,50%,50%)",
           "hsl(202.5,50%,50%)",
           "hsl(225.0,50%,50%)",
           "hsl(247.5,50%,50%)",
           "hsl(270.0,50%,50%)",
           "hsl(292.5,50%,50%)",
           "hsl(315.0,50%,50%)",
           "hsl(337.5,50%,50%)",
           "hsl(360.0,50%,50%)"
          ]
         },
         "name": "여행사업",
         "opacity": 0.5,
         "type": "bar",
         "visible": false,
         "x": [
          "강원",
          "경기",
          "경남",
          "경북",
          "광주",
          "대구",
          "부산",
          "서울",
          "울산",
          "인천",
          "전남",
          "전북",
          "제주",
          "충남",
          "충북"
         ],
         "y": [
          1.1677408626175991,
          0.08922878421374131,
          0.01338114304232832,
          0.8874542301021391,
          null,
          null,
          0.19298649805591347,
          0.03190018782545094,
          0.040533860603064756,
          0.2956931888371048,
          0.7362829384217516,
          0.21723440319317622,
          0.1109908919792007,
          0.2005230961352889,
          null
         ]
        },
        {
         "marker": {
          "color": [
           "hsl(0.0,50%,50%)",
           "hsl(22.5,50%,50%)",
           "hsl(45.0,50%,50%)",
           "hsl(67.5,50%,50%)",
           "hsl(90.0,50%,50%)",
           "hsl(112.5,50%,50%)",
           "hsl(135.0,50%,50%)",
           "hsl(157.5,50%,50%)",
           "hsl(180.0,50%,50%)",
           "hsl(202.5,50%,50%)",
           "hsl(225.0,50%,50%)",
           "hsl(247.5,50%,50%)",
           "hsl(270.0,50%,50%)",
           "hsl(292.5,50%,50%)",
           "hsl(315.0,50%,50%)",
           "hsl(337.5,50%,50%)",
           "hsl(360.0,50%,50%)"
          ]
         },
         "name": "버스 운송업",
         "opacity": 0.5,
         "type": "bar",
         "visible": false,
         "x": [
          "강원",
          "경기",
          "경남",
          "경북",
          "광주",
          "대구",
          "부산",
          "서울",
          "울산",
          "전남",
          "전북",
          "충남",
          "충북"
         ],
         "y": [
          null,
          81.85014423563693,
          0.0032411876684297655,
          null,
          0.5254446345442247,
          null,
          0.05696388372320642,
          0.17955640840762302,
          0.03043878665239255,
          1.2275614733259663,
          0.028673532619197275,
          null,
          null
         ]
        },
        {
         "marker": {
          "color": [
           "hsl(0.0,50%,50%)",
           "hsl(22.5,50%,50%)",
           "hsl(45.0,50%,50%)",
           "hsl(67.5,50%,50%)",
           "hsl(90.0,50%,50%)",
           "hsl(112.5,50%,50%)",
           "hsl(135.0,50%,50%)",
           "hsl(157.5,50%,50%)",
           "hsl(180.0,50%,50%)",
           "hsl(202.5,50%,50%)",
           "hsl(225.0,50%,50%)",
           "hsl(247.5,50%,50%)",
           "hsl(270.0,50%,50%)",
           "hsl(292.5,50%,50%)",
           "hsl(315.0,50%,50%)",
           "hsl(337.5,50%,50%)",
           "hsl(360.0,50%,50%)"
          ]
         },
         "name": "정기 항공 운송업",
         "opacity": 0.5,
         "type": "bar",
         "visible": false,
         "x": [
          "부산",
          "서울",
          "인천",
          "전북",
          "제주",
          "충남"
         ],
         "y": [
          0.16667947791007892,
          0.073369508630204,
          0.28074708247825203,
          0.06038343360669918,
          0.0830950458119816,
          null
         ]
        },
        {
         "marker": {
          "color": [
           "hsl(0.0,50%,50%)",
           "hsl(22.5,50%,50%)",
           "hsl(45.0,50%,50%)",
           "hsl(67.5,50%,50%)",
           "hsl(90.0,50%,50%)",
           "hsl(112.5,50%,50%)",
           "hsl(135.0,50%,50%)",
           "hsl(157.5,50%,50%)",
           "hsl(180.0,50%,50%)",
           "hsl(202.5,50%,50%)",
           "hsl(225.0,50%,50%)",
           "hsl(247.5,50%,50%)",
           "hsl(270.0,50%,50%)",
           "hsl(292.5,50%,50%)",
           "hsl(315.0,50%,50%)",
           "hsl(337.5,50%,50%)",
           "hsl(360.0,50%,50%)"
          ]
         },
         "name": "한식 음식점업",
         "opacity": 0.5,
         "type": "bar",
         "visible": false,
         "x": [
          "강원",
          "경기",
          "경남",
          "경북",
          "광주",
          "대구",
          "대전",
          "부산",
          "서울",
          "세종",
          "울산",
          "인천",
          "전남",
          "전북",
          "제주",
          "충남",
          "충북"
         ],
         "y": [
          0.8129348036089551,
          0.8081733993999153,
          0.7828812452715596,
          0.5981059222114291,
          0.8576717643491615,
          0.5404185496475463,
          0.7514526889331344,
          0.6405741526191867,
          0.7355592686706812,
          0.7170171489512629,
          0.7009451126182626,
          0.7157797026287438,
          0.8981753529536491,
          0.836583233520071,
          0.7829744945413855,
          0.7533983122947843,
          0.7771969801586414
         ]
        },
        {
         "marker": {
          "color": [
           "hsl(0.0,50%,50%)",
           "hsl(22.5,50%,50%)",
           "hsl(45.0,50%,50%)",
           "hsl(67.5,50%,50%)",
           "hsl(90.0,50%,50%)",
           "hsl(112.5,50%,50%)",
           "hsl(135.0,50%,50%)",
           "hsl(157.5,50%,50%)",
           "hsl(180.0,50%,50%)",
           "hsl(202.5,50%,50%)",
           "hsl(225.0,50%,50%)",
           "hsl(247.5,50%,50%)",
           "hsl(270.0,50%,50%)",
           "hsl(292.5,50%,50%)",
           "hsl(315.0,50%,50%)",
           "hsl(337.5,50%,50%)",
           "hsl(360.0,50%,50%)"
          ]
         },
         "name": "자동차 임대업",
         "opacity": 0.5,
         "type": "bar",
         "visible": false,
         "x": [
          "강원",
          "경기",
          "경남",
          "경북",
          "광주",
          "대구",
          "대전",
          "부산",
          "서울",
          "울산",
          "인천",
          "전남",
          "전북",
          "제주",
          "충남",
          "충북"
         ],
         "y": [
          2.579132357388248,
          2.372934460314069,
          0.1456781668236167,
          0.3119193059642039,
          0.21529309703804683,
          0.238907630934209,
          1.1142808912896691,
          0.15323785957623867,
          0.48910386401712697,
          0.29119575833682154,
          0.6804804853338235,
          0.449974311573451,
          0.6500936547430809,
          0.5841465701086137,
          0.06908716742613553,
          0.21985585585585585
         ]
        },
        {
         "marker": {
          "color": [
           "hsl(0.0,50%,50%)",
           "hsl(22.5,50%,50%)",
           "hsl(45.0,50%,50%)",
           "hsl(67.5,50%,50%)",
           "hsl(90.0,50%,50%)",
           "hsl(112.5,50%,50%)",
           "hsl(135.0,50%,50%)",
           "hsl(157.5,50%,50%)",
           "hsl(180.0,50%,50%)",
           "hsl(202.5,50%,50%)",
           "hsl(225.0,50%,50%)",
           "hsl(247.5,50%,50%)",
           "hsl(270.0,50%,50%)",
           "hsl(292.5,50%,50%)",
           "hsl(315.0,50%,50%)",
           "hsl(337.5,50%,50%)",
           "hsl(360.0,50%,50%)"
          ]
         },
         "name": "차량용 가스 충전업",
         "opacity": 0.5,
         "type": "bar",
         "visible": false,
         "x": [
          "강원",
          "경기",
          "경남",
          "경북",
          "광주",
          "대구",
          "대전",
          "부산",
          "서울",
          "세종",
          "울산",
          "인천",
          "전남",
          "전북",
          "제주",
          "충남",
          "충북"
         ],
         "y": [
          0.8517054142728963,
          1.0073465687563297,
          0.9421587978939009,
          0.847008760347504,
          0.9876928001617324,
          0.8221057095978754,
          0.8915024473029837,
          0.788285758963507,
          0.834798069618861,
          0.8205297938079145,
          0.8937983431570097,
          0.8111968170730831,
          0.9573676904311079,
          0.9653136301031923,
          1.0181653578155543,
          0.8743045045705967,
          0.8382367194838043
         ]
        },
        {
         "marker": {
          "color": [
           "hsl(0.0,50%,50%)",
           "hsl(22.5,50%,50%)",
           "hsl(45.0,50%,50%)",
           "hsl(67.5,50%,50%)",
           "hsl(90.0,50%,50%)",
           "hsl(112.5,50%,50%)",
           "hsl(135.0,50%,50%)",
           "hsl(157.5,50%,50%)",
           "hsl(180.0,50%,50%)",
           "hsl(202.5,50%,50%)",
           "hsl(225.0,50%,50%)",
           "hsl(247.5,50%,50%)",
           "hsl(270.0,50%,50%)",
           "hsl(292.5,50%,50%)",
           "hsl(315.0,50%,50%)",
           "hsl(337.5,50%,50%)",
           "hsl(360.0,50%,50%)"
          ]
         },
         "name": "차량용 주유소 운영업",
         "opacity": 0.5,
         "type": "bar",
         "visible": false,
         "x": [
          "강원",
          "경기",
          "경남",
          "경북",
          "광주",
          "대구",
          "대전",
          "부산",
          "서울",
          "세종",
          "울산",
          "인천",
          "전남",
          "전북",
          "제주",
          "충남",
          "충북"
         ],
         "y": [
          0.883973548212285,
          0.8855937440190838,
          0.8709515400348709,
          0.8287327461361066,
          0.9483686550790799,
          0.8146830624008159,
          0.866366480869383,
          0.8458098260524071,
          0.8675764934294633,
          0.9290734926448279,
          0.8739811941267083,
          0.8283294229149987,
          0.8988965827545764,
          0.8825017214400659,
          0.8604469213328628,
          0.8609449633176334,
          0.8819127714558495
         ]
        },
        {
         "marker": {
          "color": [
           "hsl(0.0,50%,50%)",
           "hsl(22.5,50%,50%)",
           "hsl(45.0,50%,50%)",
           "hsl(67.5,50%,50%)",
           "hsl(90.0,50%,50%)",
           "hsl(112.5,50%,50%)",
           "hsl(135.0,50%,50%)",
           "hsl(157.5,50%,50%)",
           "hsl(180.0,50%,50%)",
           "hsl(202.5,50%,50%)",
           "hsl(225.0,50%,50%)",
           "hsl(247.5,50%,50%)",
           "hsl(270.0,50%,50%)",
           "hsl(292.5,50%,50%)",
           "hsl(315.0,50%,50%)",
           "hsl(337.5,50%,50%)",
           "hsl(360.0,50%,50%)"
          ]
         },
         "name": "과실 및 채소 소매업",
         "opacity": 0.5,
         "type": "bar",
         "visible": false,
         "x": [
          "강원",
          "경기",
          "경남",
          "경북",
          "광주",
          "대구",
          "대전",
          "부산",
          "서울",
          "세종",
          "울산",
          "인천",
          "전남",
          "전북",
          "제주",
          "충남",
          "충북"
         ],
         "y": [
          1.197482779710092,
          1.3464670391238032,
          1.2808874994647326,
          1.1120882828020342,
          1.2513400530793013,
          1.4465056093834878,
          1.4279305569259912,
          0.7994130204184463,
          1.2245668722130862,
          1.1618374953421906,
          1.082700092773491,
          1.0563569245215938,
          1.1239830566442714,
          1.193206659100614,
          0.5852557903350019,
          1.166166546478946,
          1.27193485241302
         ]
        },
        {
         "marker": {
          "color": [
           "hsl(0.0,50%,50%)",
           "hsl(22.5,50%,50%)",
           "hsl(45.0,50%,50%)",
           "hsl(67.5,50%,50%)",
           "hsl(90.0,50%,50%)",
           "hsl(112.5,50%,50%)",
           "hsl(135.0,50%,50%)",
           "hsl(157.5,50%,50%)",
           "hsl(180.0,50%,50%)",
           "hsl(202.5,50%,50%)",
           "hsl(225.0,50%,50%)",
           "hsl(247.5,50%,50%)",
           "hsl(270.0,50%,50%)",
           "hsl(292.5,50%,50%)",
           "hsl(315.0,50%,50%)",
           "hsl(337.5,50%,50%)",
           "hsl(360.0,50%,50%)"
          ]
         },
         "name": "기타음식료품위주종합소매업",
         "opacity": 0.5,
         "type": "bar",
         "visible": false,
         "x": [
          "강원",
          "경기",
          "경남",
          "경북",
          "광주",
          "대구",
          "대전",
          "부산",
          "서울",
          "세종",
          "울산",
          "인천",
          "전남",
          "전북",
          "제주",
          "충남",
          "충북"
         ],
         "y": [
          1.23888115712497,
          1.2799969472608725,
          1.2710381851962194,
          1.226635513735522,
          1.3413904535153285,
          1.1106720948230517,
          1.206536431393671,
          1.2933821702677262,
          0.9898727488097492,
          1.457681878806228,
          1.1573540013068693,
          1.1975963340114861,
          1.2633613743884518,
          1.2260505578827683,
          1.3772373190660139,
          1.3242027622380834,
          1.2265375918809498
         ]
        },
        {
         "marker": {
          "color": [
           "hsl(0.0,50%,50%)",
           "hsl(22.5,50%,50%)",
           "hsl(45.0,50%,50%)",
           "hsl(67.5,50%,50%)",
           "hsl(90.0,50%,50%)",
           "hsl(112.5,50%,50%)",
           "hsl(135.0,50%,50%)",
           "hsl(157.5,50%,50%)",
           "hsl(180.0,50%,50%)",
           "hsl(202.5,50%,50%)",
           "hsl(225.0,50%,50%)",
           "hsl(247.5,50%,50%)",
           "hsl(270.0,50%,50%)",
           "hsl(292.5,50%,50%)",
           "hsl(315.0,50%,50%)",
           "hsl(337.5,50%,50%)",
           "hsl(360.0,50%,50%)"
          ]
         },
         "name": "비알콜 음료점업",
         "opacity": 0.5,
         "type": "bar",
         "visible": false,
         "x": [
          "강원",
          "경기",
          "경남",
          "경북",
          "광주",
          "대구",
          "대전",
          "부산",
          "서울",
          "세종",
          "울산",
          "인천",
          "전남",
          "전북",
          "제주",
          "충남",
          "충북"
         ],
         "y": [
          0.8501185789676692,
          0.9439893267510956,
          0.9382008236406056,
          0.7366119582493043,
          1.0016484074896101,
          0.6482100429187542,
          0.8440729392016456,
          0.6957167002200345,
          0.8275691047802722,
          0.8183695965720653,
          0.8068846531029832,
          0.8255774537938498,
          1.1096286591030828,
          0.9417685824218731,
          0.9128713109554425,
          0.8434100165071733,
          0.9390062615111486
         ]
        },
        {
         "marker": {
          "color": [
           "hsl(0.0,50%,50%)",
           "hsl(22.5,50%,50%)",
           "hsl(45.0,50%,50%)",
           "hsl(67.5,50%,50%)",
           "hsl(90.0,50%,50%)",
           "hsl(112.5,50%,50%)",
           "hsl(135.0,50%,50%)",
           "hsl(157.5,50%,50%)",
           "hsl(180.0,50%,50%)",
           "hsl(202.5,50%,50%)",
           "hsl(225.0,50%,50%)",
           "hsl(247.5,50%,50%)",
           "hsl(270.0,50%,50%)",
           "hsl(292.5,50%,50%)",
           "hsl(315.0,50%,50%)",
           "hsl(337.5,50%,50%)",
           "hsl(360.0,50%,50%)"
          ]
         },
         "name": "수산물 소매업",
         "opacity": 0.5,
         "type": "bar",
         "visible": false,
         "x": [
          "강원",
          "경기",
          "경남",
          "경북",
          "광주",
          "대구",
          "대전",
          "부산",
          "서울",
          "세종",
          "울산",
          "인천",
          "전남",
          "전북",
          "제주",
          "충남",
          "충북"
         ],
         "y": [
          0.9778686828433439,
          1.4446697511308773,
          1.0830312395407624,
          0.8799477882821856,
          1.2320334400190285,
          1.1150196833554238,
          1.3401945429502011,
          0.9982190630253297,
          1.2928976117709847,
          1.3246212479310595,
          0.8242089822341458,
          1.1933897037931693,
          1.0826672451120647,
          1.2520877325137851,
          0.5309789393729634,
          1.0337927212855669,
          1.2654540670588534
         ]
        },
        {
         "marker": {
          "color": [
           "hsl(0.0,50%,50%)",
           "hsl(22.5,50%,50%)",
           "hsl(45.0,50%,50%)",
           "hsl(67.5,50%,50%)",
           "hsl(90.0,50%,50%)",
           "hsl(112.5,50%,50%)",
           "hsl(135.0,50%,50%)",
           "hsl(157.5,50%,50%)",
           "hsl(180.0,50%,50%)",
           "hsl(202.5,50%,50%)",
           "hsl(225.0,50%,50%)",
           "hsl(247.5,50%,50%)",
           "hsl(270.0,50%,50%)",
           "hsl(292.5,50%,50%)",
           "hsl(315.0,50%,50%)",
           "hsl(337.5,50%,50%)",
           "hsl(360.0,50%,50%)"
          ]
         },
         "name": "기타 외국식 음식점업",
         "opacity": 0.5,
         "type": "bar",
         "visible": false,
         "x": [
          "강원",
          "경기",
          "경남",
          "경북",
          "광주",
          "대구",
          "대전",
          "부산",
          "서울",
          "세종",
          "울산",
          "인천",
          "전남",
          "전북",
          "제주",
          "충남",
          "충북"
         ],
         "y": [
          0.8414289962336752,
          0.7512914227148085,
          0.6679741932895564,
          0.5124222644183707,
          0.7667466395803366,
          0.44746254507669075,
          0.7178981134409814,
          0.5665292702192404,
          0.693136937929736,
          0.6390386576141752,
          0.5658779698716464,
          0.7032455622368908,
          0.9237679267151864,
          0.8508936857786101,
          0.8834990707245829,
          0.732007250084878,
          0.7391025698159063
         ]
        },
        {
         "marker": {
          "color": [
           "hsl(0.0,50%,50%)",
           "hsl(22.5,50%,50%)",
           "hsl(45.0,50%,50%)",
           "hsl(67.5,50%,50%)",
           "hsl(90.0,50%,50%)",
           "hsl(112.5,50%,50%)",
           "hsl(135.0,50%,50%)",
           "hsl(157.5,50%,50%)",
           "hsl(180.0,50%,50%)",
           "hsl(202.5,50%,50%)",
           "hsl(225.0,50%,50%)",
           "hsl(247.5,50%,50%)",
           "hsl(270.0,50%,50%)",
           "hsl(292.5,50%,50%)",
           "hsl(315.0,50%,50%)",
           "hsl(337.5,50%,50%)",
           "hsl(360.0,50%,50%)"
          ]
         },
         "name": "일반유흥 주점업",
         "opacity": 0.5,
         "type": "bar",
         "visible": false,
         "x": [
          "강원",
          "경기",
          "경남",
          "경북",
          "광주",
          "대구",
          "대전",
          "부산",
          "서울",
          "세종",
          "울산",
          "인천",
          "전남",
          "전북",
          "제주",
          "충남",
          "충북"
         ],
         "y": [
          0.705048795508552,
          0.6357122314842995,
          0.7165789508750648,
          0.5328695083225431,
          0.7000654085764147,
          0.2854417950235583,
          0.43243071331465727,
          0.6701740161544626,
          0.3913880020816684,
          0.6264759136000816,
          0.6649962925576038,
          0.6270798150341209,
          0.790445579334144,
          0.6373457889096962,
          0.7860102644113758,
          0.5579082990422499,
          0.5949005264780702
         ]
        },
        {
         "marker": {
          "color": [
           "hsl(0.0,50%,50%)",
           "hsl(22.5,50%,50%)",
           "hsl(45.0,50%,50%)",
           "hsl(67.5,50%,50%)",
           "hsl(90.0,50%,50%)",
           "hsl(112.5,50%,50%)",
           "hsl(135.0,50%,50%)",
           "hsl(157.5,50%,50%)",
           "hsl(180.0,50%,50%)",
           "hsl(202.5,50%,50%)",
           "hsl(225.0,50%,50%)",
           "hsl(247.5,50%,50%)",
           "hsl(270.0,50%,50%)",
           "hsl(292.5,50%,50%)",
           "hsl(315.0,50%,50%)",
           "hsl(337.5,50%,50%)",
           "hsl(360.0,50%,50%)"
          ]
         },
         "name": "일식 음식점업",
         "opacity": 0.5,
         "type": "bar",
         "visible": false,
         "x": [
          "강원",
          "경기",
          "경남",
          "경북",
          "광주",
          "대구",
          "대전",
          "부산",
          "서울",
          "세종",
          "울산",
          "인천",
          "전남",
          "전북",
          "제주",
          "충남",
          "충북"
         ],
         "y": [
          0.7536790794553967,
          0.7985732602786553,
          0.7581533315910073,
          0.6122238725727515,
          0.8777723695768176,
          0.4838502323544248,
          0.7064954037323263,
          0.5854800403099115,
          0.7521656113083317,
          0.5828473474163202,
          0.6131193481802745,
          0.6861595058076763,
          0.8080087019816552,
          0.7888261795820579,
          0.7154189984825174,
          0.7241425847633662,
          0.7248645166691641
         ]
        },
        {
         "marker": {
          "color": [
           "hsl(0.0,50%,50%)",
           "hsl(22.5,50%,50%)",
           "hsl(45.0,50%,50%)",
           "hsl(67.5,50%,50%)",
           "hsl(90.0,50%,50%)",
           "hsl(112.5,50%,50%)",
           "hsl(135.0,50%,50%)",
           "hsl(157.5,50%,50%)",
           "hsl(180.0,50%,50%)",
           "hsl(202.5,50%,50%)",
           "hsl(225.0,50%,50%)",
           "hsl(247.5,50%,50%)",
           "hsl(270.0,50%,50%)",
           "hsl(292.5,50%,50%)",
           "hsl(315.0,50%,50%)",
           "hsl(337.5,50%,50%)",
           "hsl(360.0,50%,50%)"
          ]
         },
         "name": "휴양콘도 운영업",
         "opacity": 0.5,
         "type": "bar",
         "visible": false,
         "x": [
          "강원",
          "경기",
          "경남",
          "경북",
          "부산",
          "전남",
          "전북",
          "제주",
          "충남",
          "충북"
         ],
         "y": [
          0.45675718626380535,
          0.5627771471694035,
          0.18223438619930024,
          0.03657177184529073,
          0.3810030344983237,
          1.9992040794193042,
          0.21754879954360623,
          0.11334643200952689,
          0.39029979874707504,
          0.10537696340802737
         ]
        },
        {
         "marker": {
          "color": [
           "hsl(0.0,50%,50%)",
           "hsl(22.5,50%,50%)",
           "hsl(45.0,50%,50%)",
           "hsl(67.5,50%,50%)",
           "hsl(90.0,50%,50%)",
           "hsl(112.5,50%,50%)",
           "hsl(135.0,50%,50%)",
           "hsl(157.5,50%,50%)",
           "hsl(180.0,50%,50%)",
           "hsl(202.5,50%,50%)",
           "hsl(225.0,50%,50%)",
           "hsl(247.5,50%,50%)",
           "hsl(270.0,50%,50%)",
           "hsl(292.5,50%,50%)",
           "hsl(315.0,50%,50%)",
           "hsl(337.5,50%,50%)",
           "hsl(360.0,50%,50%)"
          ]
         },
         "name": "피자 햄버거 샌드위치 및 유사 음식점업",
         "opacity": 0.5,
         "type": "bar",
         "visible": false,
         "x": [
          "강원",
          "경기",
          "경남",
          "경북",
          "광주",
          "대구",
          "대전",
          "부산",
          "서울",
          "세종",
          "울산",
          "인천",
          "전남",
          "전북",
          "제주",
          "충남",
          "충북"
         ],
         "y": [
          0.899591722697409,
          0.9270198469105738,
          0.9899787302900539,
          0.8534671061406206,
          0.9144732936221969,
          0.7844576549034677,
          0.8698528042278454,
          0.7470064268612399,
          0.9150716892070537,
          0.9043619762795573,
          0.903666199985836,
          0.7437737134327218,
          1.0164845629135542,
          0.9339258791658347,
          0.9481751256602471,
          0.8738643708052042,
          0.9370880850907822
         ]
        },
        {
         "marker": {
          "color": [
           "hsl(0.0,50%,50%)",
           "hsl(22.5,50%,50%)",
           "hsl(45.0,50%,50%)",
           "hsl(67.5,50%,50%)",
           "hsl(90.0,50%,50%)",
           "hsl(112.5,50%,50%)",
           "hsl(135.0,50%,50%)",
           "hsl(157.5,50%,50%)",
           "hsl(180.0,50%,50%)",
           "hsl(202.5,50%,50%)",
           "hsl(225.0,50%,50%)",
           "hsl(247.5,50%,50%)",
           "hsl(270.0,50%,50%)",
           "hsl(292.5,50%,50%)",
           "hsl(315.0,50%,50%)",
           "hsl(337.5,50%,50%)",
           "hsl(360.0,50%,50%)"
          ]
         },
         "name": "체인화 편의점",
         "opacity": 0.5,
         "type": "bar",
         "visible": false,
         "x": [
          "강원",
          "경기",
          "경남",
          "경북",
          "광주",
          "대구",
          "대전",
          "부산",
          "서울",
          "세종",
          "울산",
          "인천",
          "전남",
          "전북",
          "제주",
          "충남",
          "충북"
         ],
         "y": [
          0.9565171545061689,
          1.0569881177479346,
          1.0323178453844966,
          0.9634650550492154,
          1.0178103042795548,
          0.9157439470116656,
          1.0021303536945076,
          0.8804157445964897,
          0.9422769260061009,
          0.9732002672489285,
          1.026356028412105,
          0.9520664329025712,
          1.123792876283041,
          0.9830378737666943,
          1.0025516636799383,
          1.002136003112173,
          1.0507252163494825
         ]
        },
        {
         "marker": {
          "color": [
           "hsl(0.0,50%,50%)",
           "hsl(22.5,50%,50%)",
           "hsl(45.0,50%,50%)",
           "hsl(67.5,50%,50%)",
           "hsl(90.0,50%,50%)",
           "hsl(112.5,50%,50%)",
           "hsl(135.0,50%,50%)",
           "hsl(157.5,50%,50%)",
           "hsl(180.0,50%,50%)",
           "hsl(202.5,50%,50%)",
           "hsl(225.0,50%,50%)",
           "hsl(247.5,50%,50%)",
           "hsl(270.0,50%,50%)",
           "hsl(292.5,50%,50%)",
           "hsl(315.0,50%,50%)",
           "hsl(337.5,50%,50%)",
           "hsl(360.0,50%,50%)"
          ]
         },
         "name": "마사지업",
         "opacity": 0.5,
         "type": "bar",
         "visible": false,
         "x": [
          "강원",
          "경기",
          "경남",
          "경북",
          "광주",
          "대구",
          "대전",
          "부산",
          "서울",
          "세종",
          "울산",
          "인천",
          "전남",
          "전북",
          "제주",
          "충남",
          "충북"
         ],
         "y": [
          0.48316253751824095,
          0.6046546838497119,
          0.5565169873771089,
          0.2939423711888157,
          0.7012958578376624,
          0.23316826491380654,
          0.4938999881827501,
          0.677267175016997,
          0.5553043863801982,
          0.13897617840851495,
          0.6029163172207294,
          0.703106327061613,
          0.7751226010079585,
          1.1130334930959718,
          0.4174707973590655,
          0.4442943665272792,
          0.2948188163453056
         ]
        },
        {
         "marker": {
          "color": [
           "hsl(0.0,50%,50%)",
           "hsl(22.5,50%,50%)",
           "hsl(45.0,50%,50%)",
           "hsl(67.5,50%,50%)",
           "hsl(90.0,50%,50%)",
           "hsl(112.5,50%,50%)",
           "hsl(135.0,50%,50%)",
           "hsl(157.5,50%,50%)",
           "hsl(180.0,50%,50%)",
           "hsl(202.5,50%,50%)",
           "hsl(225.0,50%,50%)",
           "hsl(247.5,50%,50%)",
           "hsl(270.0,50%,50%)",
           "hsl(292.5,50%,50%)",
           "hsl(315.0,50%,50%)",
           "hsl(337.5,50%,50%)",
           "hsl(360.0,50%,50%)"
          ]
         },
         "name": "서양식 음식점업",
         "opacity": 0.5,
         "type": "bar",
         "visible": false,
         "x": [
          "강원",
          "경기",
          "경남",
          "경북",
          "광주",
          "대구",
          "대전",
          "부산",
          "서울",
          "세종",
          "울산",
          "인천",
          "전남",
          "전북",
          "제주",
          "충남",
          "충북"
         ],
         "y": [
          0.8932475747695373,
          0.9148960336071826,
          0.8376224253380985,
          0.6839575283685602,
          0.8754924354908531,
          0.5535742723736455,
          0.8049424807384151,
          0.6816021850240814,
          0.7747294622667438,
          0.7497110023416865,
          0.7391171448405582,
          0.7625610179578549,
          1.0196651068651548,
          0.9283429700640536,
          0.8604522751854016,
          0.8344624448571691,
          0.9474704996558618
         ]
        },
        {
         "marker": {
          "color": [
           "hsl(0.0,50%,50%)",
           "hsl(22.5,50%,50%)",
           "hsl(45.0,50%,50%)",
           "hsl(67.5,50%,50%)",
           "hsl(90.0,50%,50%)",
           "hsl(112.5,50%,50%)",
           "hsl(135.0,50%,50%)",
           "hsl(157.5,50%,50%)",
           "hsl(180.0,50%,50%)",
           "hsl(202.5,50%,50%)",
           "hsl(225.0,50%,50%)",
           "hsl(247.5,50%,50%)",
           "hsl(270.0,50%,50%)",
           "hsl(292.5,50%,50%)",
           "hsl(315.0,50%,50%)",
           "hsl(337.5,50%,50%)",
           "hsl(360.0,50%,50%)"
          ]
         },
         "name": "기타 주점업",
         "opacity": 0.5,
         "type": "bar",
         "visible": false,
         "x": [
          "강원",
          "경기",
          "경남",
          "경북",
          "광주",
          "대구",
          "대전",
          "부산",
          "서울",
          "세종",
          "울산",
          "인천",
          "전남",
          "전북",
          "제주",
          "충남",
          "충북"
         ],
         "y": [
          0.8149659895653028,
          0.7140350715676668,
          0.8211446834621127,
          0.5461882237326177,
          0.8050765528466212,
          0.3947449207770233,
          0.5717834428439001,
          0.6834480089321273,
          0.5542708331320519,
          0.45569620253164556,
          0.5818813409577918,
          0.8084078273923833,
          0.8791982218964219,
          0.8496463103527702,
          0.7647727069268749,
          0.656400933203439,
          0.6688575647131039
         ]
        },
        {
         "marker": {
          "color": [
           "hsl(0.0,50%,50%)",
           "hsl(22.5,50%,50%)",
           "hsl(45.0,50%,50%)",
           "hsl(67.5,50%,50%)",
           "hsl(90.0,50%,50%)",
           "hsl(112.5,50%,50%)",
           "hsl(135.0,50%,50%)",
           "hsl(157.5,50%,50%)",
           "hsl(180.0,50%,50%)",
           "hsl(202.5,50%,50%)",
           "hsl(225.0,50%,50%)",
           "hsl(247.5,50%,50%)",
           "hsl(270.0,50%,50%)",
           "hsl(292.5,50%,50%)",
           "hsl(315.0,50%,50%)",
           "hsl(337.5,50%,50%)",
           "hsl(360.0,50%,50%)"
          ]
         },
         "name": "육류 소매업",
         "opacity": 0.5,
         "type": "bar",
         "visible": false,
         "x": [
          "강원",
          "경기",
          "경남",
          "경북",
          "광주",
          "대구",
          "대전",
          "부산",
          "서울",
          "세종",
          "울산",
          "인천",
          "전남",
          "전북",
          "제주",
          "충남",
          "충북"
         ],
         "y": [
          1.3192127777397584,
          1.381193431076855,
          1.3898274329905072,
          1.3768389822027918,
          1.3780700094121145,
          1.3809455234621395,
          1.3027577478985461,
          1.2609940831217217,
          1.3226567682870969,
          1.2970693269451972,
          1.2976130103759707,
          1.1219685918244091,
          1.2611855061059578,
          1.271783694720899,
          1.1481625921350094,
          1.3524998066771623,
          1.3742157039857197
         ]
        },
        {
         "marker": {
          "color": [
           "hsl(0.0,50%,50%)",
           "hsl(22.5,50%,50%)",
           "hsl(45.0,50%,50%)",
           "hsl(67.5,50%,50%)",
           "hsl(90.0,50%,50%)",
           "hsl(112.5,50%,50%)",
           "hsl(135.0,50%,50%)",
           "hsl(157.5,50%,50%)",
           "hsl(180.0,50%,50%)",
           "hsl(202.5,50%,50%)",
           "hsl(225.0,50%,50%)",
           "hsl(247.5,50%,50%)",
           "hsl(270.0,50%,50%)",
           "hsl(292.5,50%,50%)",
           "hsl(315.0,50%,50%)",
           "hsl(337.5,50%,50%)",
           "hsl(360.0,50%,50%)"
          ]
         },
         "name": "기타 대형 종합 소매업",
         "opacity": 0.5,
         "type": "bar",
         "visible": false,
         "x": [
          "강원",
          "경기",
          "경남",
          "경북",
          "광주",
          "대구",
          "대전",
          "부산",
          "서울",
          "세종",
          "울산",
          "인천",
          "전남",
          "전북",
          "제주",
          "충남",
          "충북"
         ],
         "y": [
          0.8126146955718158,
          0.8286436881856091,
          0.7748951784759317,
          0.841870208243979,
          0.7504883449080921,
          0.7426308211743613,
          0.7767731495641069,
          0.8769990089821377,
          0.8146583204523014,
          0.9872846784782789,
          0.7166436887060512,
          0.8100121221836778,
          0.7935199292550035,
          0.8128537051136392,
          0.8465433108781661,
          0.8309911379910283,
          0.8855582473624114
         ]
        },
        {
         "marker": {
          "color": [
           "hsl(0.0,50%,50%)",
           "hsl(22.5,50%,50%)",
           "hsl(45.0,50%,50%)",
           "hsl(67.5,50%,50%)",
           "hsl(90.0,50%,50%)",
           "hsl(112.5,50%,50%)",
           "hsl(135.0,50%,50%)",
           "hsl(157.5,50%,50%)",
           "hsl(180.0,50%,50%)",
           "hsl(202.5,50%,50%)",
           "hsl(225.0,50%,50%)",
           "hsl(247.5,50%,50%)",
           "hsl(270.0,50%,50%)",
           "hsl(292.5,50%,50%)",
           "hsl(315.0,50%,50%)",
           "hsl(337.5,50%,50%)",
           "hsl(360.0,50%,50%)"
          ]
         },
         "name": "호텔업",
         "opacity": 0.5,
         "type": "bar",
         "visible": false,
         "x": [
          "강원",
          "경기",
          "경남",
          "경북",
          "광주",
          "대구",
          "대전",
          "부산",
          "서울",
          "울산",
          "인천",
          "전남",
          "전북",
          "제주",
          "충남",
          "충북"
         ],
         "y": [
          0.5897592217836549,
          0.22157180125530368,
          0.20361160140079398,
          0.0812507793982564,
          0.4423317294946844,
          0.09520044482738763,
          0.37273438044920154,
          0.35121707052963114,
          0.38865205970633315,
          0.6173036379794304,
          0.29652824416496065,
          0.3299835317281362,
          0.12226286558764078,
          0.4150587638317032,
          0.09742945085918332,
          0.3837168709974035
         ]
        },
        {
         "marker": {
          "color": [
           "hsl(0.0,50%,50%)",
           "hsl(22.5,50%,50%)",
           "hsl(45.0,50%,50%)",
           "hsl(67.5,50%,50%)",
           "hsl(90.0,50%,50%)",
           "hsl(112.5,50%,50%)",
           "hsl(135.0,50%,50%)",
           "hsl(157.5,50%,50%)",
           "hsl(180.0,50%,50%)",
           "hsl(202.5,50%,50%)",
           "hsl(225.0,50%,50%)",
           "hsl(247.5,50%,50%)",
           "hsl(270.0,50%,50%)",
           "hsl(292.5,50%,50%)",
           "hsl(315.0,50%,50%)",
           "hsl(337.5,50%,50%)",
           "hsl(360.0,50%,50%)"
          ]
         },
         "name": "기타 수상오락 서비스업",
         "opacity": 0.5,
         "type": "bar",
         "visible": false,
         "x": [
          "강원",
          "경기",
          "경남",
          "경북",
          "광주",
          "대구",
          "대전",
          "부산",
          "서울",
          "울산",
          "인천",
          "전북",
          "제주",
          "충남",
          "충북"
         ],
         "y": [
          0.16166338582677164,
          0.7944414773271068,
          0.24933199252980895,
          0.5121913179100598,
          null,
          0.08572723900589375,
          0.2842455397641367,
          0.20373126202315706,
          0.5566114434316296,
          0.16962052843318473,
          1.133222168955958,
          0.019703204888390075,
          63.94406779661017,
          2.014838722439076,
          0.3704568903424244
         ]
        }
       ],
       "layout": {
        "paper_bgcolor": "rgb(243, 243, 243)",
        "plot_bgcolor": "rgb(243, 243, 243)",
        "template": {
         "data": {
          "bar": [
           {
            "error_x": {
             "color": "#2a3f5f"
            },
            "error_y": {
             "color": "#2a3f5f"
            },
            "marker": {
             "line": {
              "color": "#E5ECF6",
              "width": 0.5
             }
            },
            "type": "bar"
           }
          ],
          "barpolar": [
           {
            "marker": {
             "line": {
              "color": "#E5ECF6",
              "width": 0.5
             }
            },
            "type": "barpolar"
           }
          ],
          "carpet": [
           {
            "aaxis": {
             "endlinecolor": "#2a3f5f",
             "gridcolor": "white",
             "linecolor": "white",
             "minorgridcolor": "white",
             "startlinecolor": "#2a3f5f"
            },
            "baxis": {
             "endlinecolor": "#2a3f5f",
             "gridcolor": "white",
             "linecolor": "white",
             "minorgridcolor": "white",
             "startlinecolor": "#2a3f5f"
            },
            "type": "carpet"
           }
          ],
          "choropleth": [
           {
            "colorbar": {
             "outlinewidth": 0,
             "ticks": ""
            },
            "type": "choropleth"
           }
          ],
          "contour": [
           {
            "colorbar": {
             "outlinewidth": 0,
             "ticks": ""
            },
            "colorscale": [
             [
              0,
              "#0d0887"
             ],
             [
              0.1111111111111111,
              "#46039f"
             ],
             [
              0.2222222222222222,
              "#7201a8"
             ],
             [
              0.3333333333333333,
              "#9c179e"
             ],
             [
              0.4444444444444444,
              "#bd3786"
             ],
             [
              0.5555555555555556,
              "#d8576b"
             ],
             [
              0.6666666666666666,
              "#ed7953"
             ],
             [
              0.7777777777777778,
              "#fb9f3a"
             ],
             [
              0.8888888888888888,
              "#fdca26"
             ],
             [
              1,
              "#f0f921"
             ]
            ],
            "type": "contour"
           }
          ],
          "contourcarpet": [
           {
            "colorbar": {
             "outlinewidth": 0,
             "ticks": ""
            },
            "type": "contourcarpet"
           }
          ],
          "heatmap": [
           {
            "colorbar": {
             "outlinewidth": 0,
             "ticks": ""
            },
            "colorscale": [
             [
              0,
              "#0d0887"
             ],
             [
              0.1111111111111111,
              "#46039f"
             ],
             [
              0.2222222222222222,
              "#7201a8"
             ],
             [
              0.3333333333333333,
              "#9c179e"
             ],
             [
              0.4444444444444444,
              "#bd3786"
             ],
             [
              0.5555555555555556,
              "#d8576b"
             ],
             [
              0.6666666666666666,
              "#ed7953"
             ],
             [
              0.7777777777777778,
              "#fb9f3a"
             ],
             [
              0.8888888888888888,
              "#fdca26"
             ],
             [
              1,
              "#f0f921"
             ]
            ],
            "type": "heatmap"
           }
          ],
          "heatmapgl": [
           {
            "colorbar": {
             "outlinewidth": 0,
             "ticks": ""
            },
            "colorscale": [
             [
              0,
              "#0d0887"
             ],
             [
              0.1111111111111111,
              "#46039f"
             ],
             [
              0.2222222222222222,
              "#7201a8"
             ],
             [
              0.3333333333333333,
              "#9c179e"
             ],
             [
              0.4444444444444444,
              "#bd3786"
             ],
             [
              0.5555555555555556,
              "#d8576b"
             ],
             [
              0.6666666666666666,
              "#ed7953"
             ],
             [
              0.7777777777777778,
              "#fb9f3a"
             ],
             [
              0.8888888888888888,
              "#fdca26"
             ],
             [
              1,
              "#f0f921"
             ]
            ],
            "type": "heatmapgl"
           }
          ],
          "histogram": [
           {
            "marker": {
             "colorbar": {
              "outlinewidth": 0,
              "ticks": ""
             }
            },
            "type": "histogram"
           }
          ],
          "histogram2d": [
           {
            "colorbar": {
             "outlinewidth": 0,
             "ticks": ""
            },
            "colorscale": [
             [
              0,
              "#0d0887"
             ],
             [
              0.1111111111111111,
              "#46039f"
             ],
             [
              0.2222222222222222,
              "#7201a8"
             ],
             [
              0.3333333333333333,
              "#9c179e"
             ],
             [
              0.4444444444444444,
              "#bd3786"
             ],
             [
              0.5555555555555556,
              "#d8576b"
             ],
             [
              0.6666666666666666,
              "#ed7953"
             ],
             [
              0.7777777777777778,
              "#fb9f3a"
             ],
             [
              0.8888888888888888,
              "#fdca26"
             ],
             [
              1,
              "#f0f921"
             ]
            ],
            "type": "histogram2d"
           }
          ],
          "histogram2dcontour": [
           {
            "colorbar": {
             "outlinewidth": 0,
             "ticks": ""
            },
            "colorscale": [
             [
              0,
              "#0d0887"
             ],
             [
              0.1111111111111111,
              "#46039f"
             ],
             [
              0.2222222222222222,
              "#7201a8"
             ],
             [
              0.3333333333333333,
              "#9c179e"
             ],
             [
              0.4444444444444444,
              "#bd3786"
             ],
             [
              0.5555555555555556,
              "#d8576b"
             ],
             [
              0.6666666666666666,
              "#ed7953"
             ],
             [
              0.7777777777777778,
              "#fb9f3a"
             ],
             [
              0.8888888888888888,
              "#fdca26"
             ],
             [
              1,
              "#f0f921"
             ]
            ],
            "type": "histogram2dcontour"
           }
          ],
          "mesh3d": [
           {
            "colorbar": {
             "outlinewidth": 0,
             "ticks": ""
            },
            "type": "mesh3d"
           }
          ],
          "parcoords": [
           {
            "line": {
             "colorbar": {
              "outlinewidth": 0,
              "ticks": ""
             }
            },
            "type": "parcoords"
           }
          ],
          "pie": [
           {
            "automargin": true,
            "type": "pie"
           }
          ],
          "scatter": [
           {
            "marker": {
             "colorbar": {
              "outlinewidth": 0,
              "ticks": ""
             }
            },
            "type": "scatter"
           }
          ],
          "scatter3d": [
           {
            "line": {
             "colorbar": {
              "outlinewidth": 0,
              "ticks": ""
             }
            },
            "marker": {
             "colorbar": {
              "outlinewidth": 0,
              "ticks": ""
             }
            },
            "type": "scatter3d"
           }
          ],
          "scattercarpet": [
           {
            "marker": {
             "colorbar": {
              "outlinewidth": 0,
              "ticks": ""
             }
            },
            "type": "scattercarpet"
           }
          ],
          "scattergeo": [
           {
            "marker": {
             "colorbar": {
              "outlinewidth": 0,
              "ticks": ""
             }
            },
            "type": "scattergeo"
           }
          ],
          "scattergl": [
           {
            "marker": {
             "colorbar": {
              "outlinewidth": 0,
              "ticks": ""
             }
            },
            "type": "scattergl"
           }
          ],
          "scattermapbox": [
           {
            "marker": {
             "colorbar": {
              "outlinewidth": 0,
              "ticks": ""
             }
            },
            "type": "scattermapbox"
           }
          ],
          "scatterpolar": [
           {
            "marker": {
             "colorbar": {
              "outlinewidth": 0,
              "ticks": ""
             }
            },
            "type": "scatterpolar"
           }
          ],
          "scatterpolargl": [
           {
            "marker": {
             "colorbar": {
              "outlinewidth": 0,
              "ticks": ""
             }
            },
            "type": "scatterpolargl"
           }
          ],
          "scatterternary": [
           {
            "marker": {
             "colorbar": {
              "outlinewidth": 0,
              "ticks": ""
             }
            },
            "type": "scatterternary"
           }
          ],
          "surface": [
           {
            "colorbar": {
             "outlinewidth": 0,
             "ticks": ""
            },
            "colorscale": [
             [
              0,
              "#0d0887"
             ],
             [
              0.1111111111111111,
              "#46039f"
             ],
             [
              0.2222222222222222,
              "#7201a8"
             ],
             [
              0.3333333333333333,
              "#9c179e"
             ],
             [
              0.4444444444444444,
              "#bd3786"
             ],
             [
              0.5555555555555556,
              "#d8576b"
             ],
             [
              0.6666666666666666,
              "#ed7953"
             ],
             [
              0.7777777777777778,
              "#fb9f3a"
             ],
             [
              0.8888888888888888,
              "#fdca26"
             ],
             [
              1,
              "#f0f921"
             ]
            ],
            "type": "surface"
           }
          ],
          "table": [
           {
            "cells": {
             "fill": {
              "color": "#EBF0F8"
             },
             "line": {
              "color": "white"
             }
            },
            "header": {
             "fill": {
              "color": "#C8D4E3"
             },
             "line": {
              "color": "white"
             }
            },
            "type": "table"
           }
          ]
         },
         "layout": {
          "annotationdefaults": {
           "arrowcolor": "#2a3f5f",
           "arrowhead": 0,
           "arrowwidth": 1
          },
          "coloraxis": {
           "colorbar": {
            "outlinewidth": 0,
            "ticks": ""
           }
          },
          "colorscale": {
           "diverging": [
            [
             0,
             "#8e0152"
            ],
            [
             0.1,
             "#c51b7d"
            ],
            [
             0.2,
             "#de77ae"
            ],
            [
             0.3,
             "#f1b6da"
            ],
            [
             0.4,
             "#fde0ef"
            ],
            [
             0.5,
             "#f7f7f7"
            ],
            [
             0.6,
             "#e6f5d0"
            ],
            [
             0.7,
             "#b8e186"
            ],
            [
             0.8,
             "#7fbc41"
            ],
            [
             0.9,
             "#4d9221"
            ],
            [
             1,
             "#276419"
            ]
           ],
           "sequential": [
            [
             0,
             "#0d0887"
            ],
            [
             0.1111111111111111,
             "#46039f"
            ],
            [
             0.2222222222222222,
             "#7201a8"
            ],
            [
             0.3333333333333333,
             "#9c179e"
            ],
            [
             0.4444444444444444,
             "#bd3786"
            ],
            [
             0.5555555555555556,
             "#d8576b"
            ],
            [
             0.6666666666666666,
             "#ed7953"
            ],
            [
             0.7777777777777778,
             "#fb9f3a"
            ],
            [
             0.8888888888888888,
             "#fdca26"
            ],
            [
             1,
             "#f0f921"
            ]
           ],
           "sequentialminus": [
            [
             0,
             "#0d0887"
            ],
            [
             0.1111111111111111,
             "#46039f"
            ],
            [
             0.2222222222222222,
             "#7201a8"
            ],
            [
             0.3333333333333333,
             "#9c179e"
            ],
            [
             0.4444444444444444,
             "#bd3786"
            ],
            [
             0.5555555555555556,
             "#d8576b"
            ],
            [
             0.6666666666666666,
             "#ed7953"
            ],
            [
             0.7777777777777778,
             "#fb9f3a"
            ],
            [
             0.8888888888888888,
             "#fdca26"
            ],
            [
             1,
             "#f0f921"
            ]
           ]
          },
          "colorway": [
           "#636efa",
           "#EF553B",
           "#00cc96",
           "#ab63fa",
           "#FFA15A",
           "#19d3f3",
           "#FF6692",
           "#B6E880",
           "#FF97FF",
           "#FECB52"
          ],
          "font": {
           "color": "#2a3f5f"
          },
          "geo": {
           "bgcolor": "white",
           "lakecolor": "white",
           "landcolor": "#E5ECF6",
           "showlakes": true,
           "showland": true,
           "subunitcolor": "white"
          },
          "hoverlabel": {
           "align": "left"
          },
          "hovermode": "closest",
          "mapbox": {
           "style": "light"
          },
          "paper_bgcolor": "white",
          "plot_bgcolor": "#E5ECF6",
          "polar": {
           "angularaxis": {
            "gridcolor": "white",
            "linecolor": "white",
            "ticks": ""
           },
           "bgcolor": "#E5ECF6",
           "radialaxis": {
            "gridcolor": "white",
            "linecolor": "white",
            "ticks": ""
           }
          },
          "scene": {
           "xaxis": {
            "backgroundcolor": "#E5ECF6",
            "gridcolor": "white",
            "gridwidth": 2,
            "linecolor": "white",
            "showbackground": true,
            "ticks": "",
            "zerolinecolor": "white"
           },
           "yaxis": {
            "backgroundcolor": "#E5ECF6",
            "gridcolor": "white",
            "gridwidth": 2,
            "linecolor": "white",
            "showbackground": true,
            "ticks": "",
            "zerolinecolor": "white"
           },
           "zaxis": {
            "backgroundcolor": "#E5ECF6",
            "gridcolor": "white",
            "gridwidth": 2,
            "linecolor": "white",
            "showbackground": true,
            "ticks": "",
            "zerolinecolor": "white"
           }
          },
          "shapedefaults": {
           "line": {
            "color": "#2a3f5f"
           }
          },
          "ternary": {
           "aaxis": {
            "gridcolor": "white",
            "linecolor": "white",
            "ticks": ""
           },
           "baxis": {
            "gridcolor": "white",
            "linecolor": "white",
            "ticks": ""
           },
           "bgcolor": "#E5ECF6",
           "caxis": {
            "gridcolor": "white",
            "linecolor": "white",
            "ticks": ""
           }
          },
          "title": {
           "x": 0.05
          },
          "xaxis": {
           "automargin": true,
           "gridcolor": "white",
           "linecolor": "white",
           "ticks": "",
           "title": {
            "standoff": 15
           },
           "zerolinecolor": "white",
           "zerolinewidth": 2
          },
          "yaxis": {
           "automargin": true,
           "gridcolor": "white",
           "linecolor": "white",
           "ticks": "",
           "title": {
            "standoff": 15
           },
           "zerolinecolor": "white",
           "zerolinewidth": 2
          }
         }
        },
        "title": {
         "text": "Total"
        },
        "updatemenus": [
         {
          "active": 0,
          "buttons": [
           {
            "args": [
             {
              "visible": [
               true,
               false,
               false,
               false,
               false,
               false,
               false,
               false,
               false,
               false,
               false,
               false,
               false,
               false,
               false,
               false,
               false,
               false,
               false,
               false,
               false,
               false,
               false,
               false,
               false,
               false,
               false,
               false,
               false,
               false,
               false,
               false,
               false,
               false,
               false,
               false,
               false,
               false,
               false,
               false,
               false
              ]
             },
             {
              "annotations": [],
              "title": "면세점"
             }
            ],
            "label": "면세점",
            "method": "update"
           },
           {
            "args": [
             {
              "visible": [
               false,
               true,
               false,
               false,
               false,
               false,
               false,
               false,
               false,
               false,
               false,
               false,
               false,
               false,
               false,
               false,
               false,
               false,
               false,
               false,
               false,
               false,
               false,
               false,
               false,
               false,
               false,
               false,
               false,
               false,
               false,
               false,
               false,
               false,
               false,
               false,
               false,
               false,
               false,
               false,
               false
              ]
             },
             {
              "annotations": [],
              "title": "건강보조식품 소매업"
             }
            ],
            "label": "건강보조식품 소매업",
            "method": "update"
           },
           {
            "args": [
             {
              "visible": [
               false,
               false,
               true,
               false,
               false,
               false,
               false,
               false,
               false,
               false,
               false,
               false,
               false,
               false,
               false,
               false,
               false,
               false,
               false,
               false,
               false,
               false,
               false,
               false,
               false,
               false,
               false,
               false,
               false,
               false,
               false,
               false,
               false,
               false,
               false,
               false,
               false,
               false,
               false,
               false,
               false
              ]
             },
             {
              "annotations": [],
              "title": "여관업"
             }
            ],
            "label": "여관업",
            "method": "update"
           },
           {
            "args": [
             {
              "visible": [
               false,
               false,
               false,
               true,
               false,
               false,
               false,
               false,
               false,
               false,
               false,
               false,
               false,
               false,
               false,
               false,
               false,
               false,
               false,
               false,
               false,
               false,
               false,
               false,
               false,
               false,
               false,
               false,
               false,
               false,
               false,
               false,
               false,
               false,
               false,
               false,
               false,
               false,
               false,
               false,
               false
              ]
             },
             {
              "annotations": [],
              "title": "골프장 운영업"
             }
            ],
            "label": "골프장 운영업",
            "method": "update"
           },
           {
            "args": [
             {
              "visible": [
               false,
               false,
               false,
               false,
               true,
               false,
               false,
               false,
               false,
               false,
               false,
               false,
               false,
               false,
               false,
               false,
               false,
               false,
               false,
               false,
               false,
               false,
               false,
               false,
               false,
               false,
               false,
               false,
               false,
               false,
               false,
               false,
               false,
               false,
               false,
               false,
               false,
               false,
               false,
               false,
               false
              ]
             },
             {
              "annotations": [],
              "title": "그외 기타 분류안된 오락관련 서비스업"
             }
            ],
            "label": "그외 기타 분류안된 오락관련 서비스업",
            "method": "update"
           },
           {
            "args": [
             {
              "visible": [
               false,
               false,
               false,
               false,
               false,
               true,
               false,
               false,
               false,
               false,
               false,
               false,
               false,
               false,
               false,
               false,
               false,
               false,
               false,
               false,
               false,
               false,
               false,
               false,
               false,
               false,
               false,
               false,
               false,
               false,
               false,
               false,
               false,
               false,
               false,
               false,
               false,
               false,
               false,
               false,
               false
              ]
             },
             {
              "annotations": [],
              "title": "스포츠 및 레크레이션 용품 임대업"
             }
            ],
            "label": "스포츠 및 레크레이션 용품 임대업",
            "method": "update"
           },
           {
            "args": [
             {
              "visible": [
               false,
               false,
               false,
               false,
               false,
               false,
               true,
               false,
               false,
               false,
               false,
               false,
               false,
               false,
               false,
               false,
               false,
               false,
               false,
               false,
               false,
               false,
               false,
               false,
               false,
               false,
               false,
               false,
               false,
               false,
               false,
               false,
               false,
               false,
               false,
               false,
               false,
               false,
               false,
               false,
               false
              ]
             },
             {
              "annotations": [],
              "title": "중식 음식점업"
             }
            ],
            "label": "중식 음식점업",
            "method": "update"
           },
           {
            "args": [
             {
              "visible": [
               false,
               false,
               false,
               false,
               false,
               false,
               false,
               true,
               false,
               false,
               false,
               false,
               false,
               false,
               false,
               false,
               false,
               false,
               false,
               false,
               false,
               false,
               false,
               false,
               false,
               false,
               false,
               false,
               false,
               false,
               false,
               false,
               false,
               false,
               false,
               false,
               false,
               false,
               false,
               false,
               false
              ]
             },
             {
              "annotations": [],
              "title": "욕탕업"
             }
            ],
            "label": "욕탕업",
            "method": "update"
           },
           {
            "args": [
             {
              "visible": [
               false,
               false,
               false,
               false,
               false,
               false,
               false,
               false,
               true,
               false,
               false,
               false,
               false,
               false,
               false,
               false,
               false,
               false,
               false,
               false,
               false,
               false,
               false,
               false,
               false,
               false,
               false,
               false,
               false,
               false,
               false,
               false,
               false,
               false,
               false,
               false,
               false,
               false,
               false,
               false,
               false
              ]
             },
             {
              "annotations": [],
              "title": "빵 및 과자류 소매업"
             }
            ],
            "label": "빵 및 과자류 소매업",
            "method": "update"
           },
           {
            "args": [
             {
              "visible": [
               false,
               false,
               false,
               false,
               false,
               false,
               false,
               false,
               false,
               true,
               false,
               false,
               false,
               false,
               false,
               false,
               false,
               false,
               false,
               false,
               false,
               false,
               false,
               false,
               false,
               false,
               false,
               false,
               false,
               false,
               false,
               false,
               false,
               false,
               false,
               false,
               false,
               false,
               false,
               false,
               false
              ]
             },
             {
              "annotations": [],
              "title": "내항 여객 운송업"
             }
            ],
            "label": "내항 여객 운송업",
            "method": "update"
           },
           {
            "args": [
             {
              "visible": [
               false,
               false,
               false,
               false,
               false,
               false,
               false,
               false,
               false,
               false,
               true,
               false,
               false,
               false,
               false,
               false,
               false,
               false,
               false,
               false,
               false,
               false,
               false,
               false,
               false,
               false,
               false,
               false,
               false,
               false,
               false,
               false,
               false,
               false,
               false,
               false,
               false,
               false,
               false,
               false,
               false
              ]
             },
             {
              "annotations": [],
              "title": "그외 기타 종합 소매업"
             }
            ],
            "label": "그외 기타 종합 소매업",
            "method": "update"
           },
           {
            "args": [
             {
              "visible": [
               false,
               false,
               false,
               false,
               false,
               false,
               false,
               false,
               false,
               false,
               false,
               true,
               false,
               false,
               false,
               false,
               false,
               false,
               false,
               false,
               false,
               false,
               false,
               false,
               false,
               false,
               false,
               false,
               false,
               false,
               false,
               false,
               false,
               false,
               false,
               false,
               false,
               false,
               false,
               false,
               false
              ]
             },
             {
              "annotations": [],
              "title": "전시 및 행사 대행업"
             }
            ],
            "label": "전시 및 행사 대행업",
            "method": "update"
           },
           {
            "args": [
             {
              "visible": [
               false,
               false,
               false,
               false,
               false,
               false,
               false,
               false,
               false,
               false,
               false,
               false,
               true,
               false,
               false,
               false,
               false,
               false,
               false,
               false,
               false,
               false,
               false,
               false,
               false,
               false,
               false,
               false,
               false,
               false,
               false,
               false,
               false,
               false,
               false,
               false,
               false,
               false,
               false,
               false,
               false
              ]
             },
             {
              "annotations": [],
              "title": "택시 운송업"
             }
            ],
            "label": "택시 운송업",
            "method": "update"
           },
           {
            "args": [
             {
              "visible": [
               false,
               false,
               false,
               false,
               false,
               false,
               false,
               false,
               false,
               false,
               false,
               false,
               false,
               true,
               false,
               false,
               false,
               false,
               false,
               false,
               false,
               false,
               false,
               false,
               false,
               false,
               false,
               false,
               false,
               false,
               false,
               false,
               false,
               false,
               false,
               false,
               false,
               false,
               false,
               false,
               false
              ]
             },
             {
              "annotations": [],
              "title": "화장품 및 방향제 소매업"
             }
            ],
            "label": "화장품 및 방향제 소매업",
            "method": "update"
           },
           {
            "args": [
             {
              "visible": [
               false,
               false,
               false,
               false,
               false,
               false,
               false,
               false,
               false,
               false,
               false,
               false,
               false,
               false,
               true,
               false,
               false,
               false,
               false,
               false,
               false,
               false,
               false,
               false,
               false,
               false,
               false,
               false,
               false,
               false,
               false,
               false,
               false,
               false,
               false,
               false,
               false,
               false,
               false,
               false,
               false
              ]
             },
             {
              "annotations": [],
              "title": "관광 민예품 및 선물용품 소매업"
             }
            ],
            "label": "관광 민예품 및 선물용품 소매업",
            "method": "update"
           },
           {
            "args": [
             {
              "visible": [
               false,
               false,
               false,
               false,
               false,
               false,
               false,
               false,
               false,
               false,
               false,
               false,
               false,
               false,
               false,
               true,
               false,
               false,
               false,
               false,
               false,
               false,
               false,
               false,
               false,
               false,
               false,
               false,
               false,
               false,
               false,
               false,
               false,
               false,
               false,
               false,
               false,
               false,
               false,
               false,
               false
              ]
             },
             {
              "annotations": [],
              "title": "그외 기타 스포츠시설 운영업"
             }
            ],
            "label": "그외 기타 스포츠시설 운영업",
            "method": "update"
           },
           {
            "args": [
             {
              "visible": [
               false,
               false,
               false,
               false,
               false,
               false,
               false,
               false,
               false,
               false,
               false,
               false,
               false,
               false,
               false,
               false,
               true,
               false,
               false,
               false,
               false,
               false,
               false,
               false,
               false,
               false,
               false,
               false,
               false,
               false,
               false,
               false,
               false,
               false,
               false,
               false,
               false,
               false,
               false,
               false,
               false
              ]
             },
             {
              "annotations": [],
              "title": "슈퍼마켓"
             }
            ],
            "label": "슈퍼마켓",
            "method": "update"
           },
           {
            "args": [
             {
              "visible": [
               false,
               false,
               false,
               false,
               false,
               false,
               false,
               false,
               false,
               false,
               false,
               false,
               false,
               false,
               false,
               false,
               false,
               true,
               false,
               false,
               false,
               false,
               false,
               false,
               false,
               false,
               false,
               false,
               false,
               false,
               false,
               false,
               false,
               false,
               false,
               false,
               false,
               false,
               false,
               false,
               false
              ]
             },
             {
              "annotations": [],
              "title": "여행사업"
             }
            ],
            "label": "여행사업",
            "method": "update"
           },
           {
            "args": [
             {
              "visible": [
               false,
               false,
               false,
               false,
               false,
               false,
               false,
               false,
               false,
               false,
               false,
               false,
               false,
               false,
               false,
               false,
               false,
               false,
               true,
               false,
               false,
               false,
               false,
               false,
               false,
               false,
               false,
               false,
               false,
               false,
               false,
               false,
               false,
               false,
               false,
               false,
               false,
               false,
               false,
               false,
               false
              ]
             },
             {
              "annotations": [],
              "title": "버스 운송업"
             }
            ],
            "label": "버스 운송업",
            "method": "update"
           },
           {
            "args": [
             {
              "visible": [
               false,
               false,
               false,
               false,
               false,
               false,
               false,
               false,
               false,
               false,
               false,
               false,
               false,
               false,
               false,
               false,
               false,
               false,
               false,
               true,
               false,
               false,
               false,
               false,
               false,
               false,
               false,
               false,
               false,
               false,
               false,
               false,
               false,
               false,
               false,
               false,
               false,
               false,
               false,
               false,
               false
              ]
             },
             {
              "annotations": [],
              "title": "정기 항공 운송업"
             }
            ],
            "label": "정기 항공 운송업",
            "method": "update"
           },
           {
            "args": [
             {
              "visible": [
               false,
               false,
               false,
               false,
               false,
               false,
               false,
               false,
               false,
               false,
               false,
               false,
               false,
               false,
               false,
               false,
               false,
               false,
               false,
               false,
               true,
               false,
               false,
               false,
               false,
               false,
               false,
               false,
               false,
               false,
               false,
               false,
               false,
               false,
               false,
               false,
               false,
               false,
               false,
               false,
               false
              ]
             },
             {
              "annotations": [],
              "title": "한식 음식점업"
             }
            ],
            "label": "한식 음식점업",
            "method": "update"
           },
           {
            "args": [
             {
              "visible": [
               false,
               false,
               false,
               false,
               false,
               false,
               false,
               false,
               false,
               false,
               false,
               false,
               false,
               false,
               false,
               false,
               false,
               false,
               false,
               false,
               false,
               true,
               false,
               false,
               false,
               false,
               false,
               false,
               false,
               false,
               false,
               false,
               false,
               false,
               false,
               false,
               false,
               false,
               false,
               false,
               false
              ]
             },
             {
              "annotations": [],
              "title": "자동차 임대업"
             }
            ],
            "label": "자동차 임대업",
            "method": "update"
           },
           {
            "args": [
             {
              "visible": [
               false,
               false,
               false,
               false,
               false,
               false,
               false,
               false,
               false,
               false,
               false,
               false,
               false,
               false,
               false,
               false,
               false,
               false,
               false,
               false,
               false,
               false,
               true,
               false,
               false,
               false,
               false,
               false,
               false,
               false,
               false,
               false,
               false,
               false,
               false,
               false,
               false,
               false,
               false,
               false,
               false
              ]
             },
             {
              "annotations": [],
              "title": "차량용 가스 충전업"
             }
            ],
            "label": "차량용 가스 충전업",
            "method": "update"
           },
           {
            "args": [
             {
              "visible": [
               false,
               false,
               false,
               false,
               false,
               false,
               false,
               false,
               false,
               false,
               false,
               false,
               false,
               false,
               false,
               false,
               false,
               false,
               false,
               false,
               false,
               false,
               false,
               true,
               false,
               false,
               false,
               false,
               false,
               false,
               false,
               false,
               false,
               false,
               false,
               false,
               false,
               false,
               false,
               false,
               false
              ]
             },
             {
              "annotations": [],
              "title": "차량용 주유소 운영업"
             }
            ],
            "label": "차량용 주유소 운영업",
            "method": "update"
           },
           {
            "args": [
             {
              "visible": [
               false,
               false,
               false,
               false,
               false,
               false,
               false,
               false,
               false,
               false,
               false,
               false,
               false,
               false,
               false,
               false,
               false,
               false,
               false,
               false,
               false,
               false,
               false,
               false,
               true,
               false,
               false,
               false,
               false,
               false,
               false,
               false,
               false,
               false,
               false,
               false,
               false,
               false,
               false,
               false,
               false
              ]
             },
             {
              "annotations": [],
              "title": "과실 및 채소 소매업"
             }
            ],
            "label": "과실 및 채소 소매업",
            "method": "update"
           },
           {
            "args": [
             {
              "visible": [
               false,
               false,
               false,
               false,
               false,
               false,
               false,
               false,
               false,
               false,
               false,
               false,
               false,
               false,
               false,
               false,
               false,
               false,
               false,
               false,
               false,
               false,
               false,
               false,
               false,
               true,
               false,
               false,
               false,
               false,
               false,
               false,
               false,
               false,
               false,
               false,
               false,
               false,
               false,
               false,
               false
              ]
             },
             {
              "annotations": [],
              "title": "기타음식료품위주종합소매업"
             }
            ],
            "label": "기타음식료품위주종합소매업",
            "method": "update"
           },
           {
            "args": [
             {
              "visible": [
               false,
               false,
               false,
               false,
               false,
               false,
               false,
               false,
               false,
               false,
               false,
               false,
               false,
               false,
               false,
               false,
               false,
               false,
               false,
               false,
               false,
               false,
               false,
               false,
               false,
               false,
               true,
               false,
               false,
               false,
               false,
               false,
               false,
               false,
               false,
               false,
               false,
               false,
               false,
               false,
               false
              ]
             },
             {
              "annotations": [],
              "title": "비알콜 음료점업"
             }
            ],
            "label": "비알콜 음료점업",
            "method": "update"
           },
           {
            "args": [
             {
              "visible": [
               false,
               false,
               false,
               false,
               false,
               false,
               false,
               false,
               false,
               false,
               false,
               false,
               false,
               false,
               false,
               false,
               false,
               false,
               false,
               false,
               false,
               false,
               false,
               false,
               false,
               false,
               false,
               true,
               false,
               false,
               false,
               false,
               false,
               false,
               false,
               false,
               false,
               false,
               false,
               false,
               false
              ]
             },
             {
              "annotations": [],
              "title": "수산물 소매업"
             }
            ],
            "label": "수산물 소매업",
            "method": "update"
           },
           {
            "args": [
             {
              "visible": [
               false,
               false,
               false,
               false,
               false,
               false,
               false,
               false,
               false,
               false,
               false,
               false,
               false,
               false,
               false,
               false,
               false,
               false,
               false,
               false,
               false,
               false,
               false,
               false,
               false,
               false,
               false,
               false,
               true,
               false,
               false,
               false,
               false,
               false,
               false,
               false,
               false,
               false,
               false,
               false,
               false
              ]
             },
             {
              "annotations": [],
              "title": "기타 외국식 음식점업"
             }
            ],
            "label": "기타 외국식 음식점업",
            "method": "update"
           },
           {
            "args": [
             {
              "visible": [
               false,
               false,
               false,
               false,
               false,
               false,
               false,
               false,
               false,
               false,
               false,
               false,
               false,
               false,
               false,
               false,
               false,
               false,
               false,
               false,
               false,
               false,
               false,
               false,
               false,
               false,
               false,
               false,
               false,
               true,
               false,
               false,
               false,
               false,
               false,
               false,
               false,
               false,
               false,
               false,
               false
              ]
             },
             {
              "annotations": [],
              "title": "일반유흥 주점업"
             }
            ],
            "label": "일반유흥 주점업",
            "method": "update"
           },
           {
            "args": [
             {
              "visible": [
               false,
               false,
               false,
               false,
               false,
               false,
               false,
               false,
               false,
               false,
               false,
               false,
               false,
               false,
               false,
               false,
               false,
               false,
               false,
               false,
               false,
               false,
               false,
               false,
               false,
               false,
               false,
               false,
               false,
               false,
               true,
               false,
               false,
               false,
               false,
               false,
               false,
               false,
               false,
               false,
               false
              ]
             },
             {
              "annotations": [],
              "title": "일식 음식점업"
             }
            ],
            "label": "일식 음식점업",
            "method": "update"
           },
           {
            "args": [
             {
              "visible": [
               false,
               false,
               false,
               false,
               false,
               false,
               false,
               false,
               false,
               false,
               false,
               false,
               false,
               false,
               false,
               false,
               false,
               false,
               false,
               false,
               false,
               false,
               false,
               false,
               false,
               false,
               false,
               false,
               false,
               false,
               false,
               true,
               false,
               false,
               false,
               false,
               false,
               false,
               false,
               false,
               false
              ]
             },
             {
              "annotations": [],
              "title": "휴양콘도 운영업"
             }
            ],
            "label": "휴양콘도 운영업",
            "method": "update"
           },
           {
            "args": [
             {
              "visible": [
               false,
               false,
               false,
               false,
               false,
               false,
               false,
               false,
               false,
               false,
               false,
               false,
               false,
               false,
               false,
               false,
               false,
               false,
               false,
               false,
               false,
               false,
               false,
               false,
               false,
               false,
               false,
               false,
               false,
               false,
               false,
               false,
               true,
               false,
               false,
               false,
               false,
               false,
               false,
               false,
               false
              ]
             },
             {
              "annotations": [],
              "title": "피자 햄버거 샌드위치 및 유사 음식점업"
             }
            ],
            "label": "피자 햄버거 샌드위치 및 유사 음식점업",
            "method": "update"
           },
           {
            "args": [
             {
              "visible": [
               false,
               false,
               false,
               false,
               false,
               false,
               false,
               false,
               false,
               false,
               false,
               false,
               false,
               false,
               false,
               false,
               false,
               false,
               false,
               false,
               false,
               false,
               false,
               false,
               false,
               false,
               false,
               false,
               false,
               false,
               false,
               false,
               false,
               true,
               false,
               false,
               false,
               false,
               false,
               false,
               false
              ]
             },
             {
              "annotations": [],
              "title": "체인화 편의점"
             }
            ],
            "label": "체인화 편의점",
            "method": "update"
           },
           {
            "args": [
             {
              "visible": [
               false,
               false,
               false,
               false,
               false,
               false,
               false,
               false,
               false,
               false,
               false,
               false,
               false,
               false,
               false,
               false,
               false,
               false,
               false,
               false,
               false,
               false,
               false,
               false,
               false,
               false,
               false,
               false,
               false,
               false,
               false,
               false,
               false,
               false,
               true,
               false,
               false,
               false,
               false,
               false,
               false
              ]
             },
             {
              "annotations": [],
              "title": "마사지업"
             }
            ],
            "label": "마사지업",
            "method": "update"
           },
           {
            "args": [
             {
              "visible": [
               false,
               false,
               false,
               false,
               false,
               false,
               false,
               false,
               false,
               false,
               false,
               false,
               false,
               false,
               false,
               false,
               false,
               false,
               false,
               false,
               false,
               false,
               false,
               false,
               false,
               false,
               false,
               false,
               false,
               false,
               false,
               false,
               false,
               false,
               false,
               true,
               false,
               false,
               false,
               false,
               false
              ]
             },
             {
              "annotations": [],
              "title": "서양식 음식점업"
             }
            ],
            "label": "서양식 음식점업",
            "method": "update"
           },
           {
            "args": [
             {
              "visible": [
               false,
               false,
               false,
               false,
               false,
               false,
               false,
               false,
               false,
               false,
               false,
               false,
               false,
               false,
               false,
               false,
               false,
               false,
               false,
               false,
               false,
               false,
               false,
               false,
               false,
               false,
               false,
               false,
               false,
               false,
               false,
               false,
               false,
               false,
               false,
               false,
               true,
               false,
               false,
               false,
               false
              ]
             },
             {
              "annotations": [],
              "title": "기타 주점업"
             }
            ],
            "label": "기타 주점업",
            "method": "update"
           },
           {
            "args": [
             {
              "visible": [
               false,
               false,
               false,
               false,
               false,
               false,
               false,
               false,
               false,
               false,
               false,
               false,
               false,
               false,
               false,
               false,
               false,
               false,
               false,
               false,
               false,
               false,
               false,
               false,
               false,
               false,
               false,
               false,
               false,
               false,
               false,
               false,
               false,
               false,
               false,
               false,
               false,
               true,
               false,
               false,
               false
              ]
             },
             {
              "annotations": [],
              "title": "육류 소매업"
             }
            ],
            "label": "육류 소매업",
            "method": "update"
           },
           {
            "args": [
             {
              "visible": [
               false,
               false,
               false,
               false,
               false,
               false,
               false,
               false,
               false,
               false,
               false,
               false,
               false,
               false,
               false,
               false,
               false,
               false,
               false,
               false,
               false,
               false,
               false,
               false,
               false,
               false,
               false,
               false,
               false,
               false,
               false,
               false,
               false,
               false,
               false,
               false,
               false,
               false,
               true,
               false,
               false
              ]
             },
             {
              "annotations": [],
              "title": "기타 대형 종합 소매업"
             }
            ],
            "label": "기타 대형 종합 소매업",
            "method": "update"
           },
           {
            "args": [
             {
              "visible": [
               false,
               false,
               false,
               false,
               false,
               false,
               false,
               false,
               false,
               false,
               false,
               false,
               false,
               false,
               false,
               false,
               false,
               false,
               false,
               false,
               false,
               false,
               false,
               false,
               false,
               false,
               false,
               false,
               false,
               false,
               false,
               false,
               false,
               false,
               false,
               false,
               false,
               false,
               false,
               true,
               false
              ]
             },
             {
              "annotations": [],
              "title": "호텔업"
             }
            ],
            "label": "호텔업",
            "method": "update"
           },
           {
            "args": [
             {
              "visible": [
               false,
               false,
               false,
               false,
               false,
               false,
               false,
               false,
               false,
               false,
               false,
               false,
               false,
               false,
               false,
               false,
               false,
               false,
               false,
               false,
               false,
               false,
               false,
               false,
               false,
               false,
               false,
               false,
               false,
               false,
               false,
               false,
               false,
               false,
               false,
               false,
               false,
               false,
               false,
               false,
               true
              ]
             },
             {
              "annotations": [],
              "title": "기타 수상오락 서비스업"
             }
            ],
            "label": "기타 수상오락 서비스업",
            "method": "update"
           }
          ],
          "direction": "down",
          "pad": {
           "r": 10,
           "t": 10
          },
          "showactive": true,
          "x": 0.7,
          "xanchor": "left",
          "y": 1.25,
          "yanchor": "top"
         }
        ],
        "xaxis": {
         "showgrid": false,
         "showticklabels": true,
         "zeroline": false
        },
        "yaxis": {
         "gridcolor": "white",
         "zeroline": false
        }
       }
      },
      "text/html": [
       "<div>\n",
       "        \n",
       "        \n",
       "            <div id=\"67c8bb4a-40e4-49dd-803a-017815c5b128\" class=\"plotly-graph-div\" style=\"height:525px; width:100%;\"></div>\n",
       "            <script type=\"text/javascript\">\n",
       "                require([\"plotly\"], function(Plotly) {\n",
       "                    window.PLOTLYENV=window.PLOTLYENV || {};\n",
       "                    \n",
       "                if (document.getElementById(\"67c8bb4a-40e4-49dd-803a-017815c5b128\")) {\n",
       "                    Plotly.newPlot(\n",
       "                        '67c8bb4a-40e4-49dd-803a-017815c5b128',\n",
       "                        [{\"marker\": {\"color\": [\"hsl(0.0,50%,50%)\", \"hsl(22.5,50%,50%)\", \"hsl(45.0,50%,50%)\", \"hsl(67.5,50%,50%)\", \"hsl(90.0,50%,50%)\", \"hsl(112.5,50%,50%)\", \"hsl(135.0,50%,50%)\", \"hsl(157.5,50%,50%)\", \"hsl(180.0,50%,50%)\", \"hsl(202.5,50%,50%)\", \"hsl(225.0,50%,50%)\", \"hsl(247.5,50%,50%)\", \"hsl(270.0,50%,50%)\", \"hsl(292.5,50%,50%)\", \"hsl(315.0,50%,50%)\", \"hsl(337.5,50%,50%)\", \"hsl(360.0,50%,50%)\"]}, \"name\": \"\\uba74\\uc138\\uc810\", \"opacity\": 0.5, \"type\": \"bar\", \"visible\": false, \"x\": [\"\\uac15\\uc6d0\", \"\\ub300\\uad6c\", \"\\ubd80\\uc0b0\", \"\\uc11c\\uc6b8\", \"\\uc6b8\\uc0b0\", \"\\uc778\\ucc9c\", \"\\uc804\\ub0a8\", \"\\uc81c\\uc8fc\", \"\\ucda9\\ubd81\"], \"y\": [null, null, 0.0029998385989051216, 0.006542716107944689, null, 0.04267499871007048, null, 0.3909323378762657, null]}, {\"marker\": {\"color\": [\"hsl(0.0,50%,50%)\", \"hsl(22.5,50%,50%)\", \"hsl(45.0,50%,50%)\", \"hsl(67.5,50%,50%)\", \"hsl(90.0,50%,50%)\", \"hsl(112.5,50%,50%)\", \"hsl(135.0,50%,50%)\", \"hsl(157.5,50%,50%)\", \"hsl(180.0,50%,50%)\", \"hsl(202.5,50%,50%)\", \"hsl(225.0,50%,50%)\", \"hsl(247.5,50%,50%)\", \"hsl(270.0,50%,50%)\", \"hsl(292.5,50%,50%)\", \"hsl(315.0,50%,50%)\", \"hsl(337.5,50%,50%)\", \"hsl(360.0,50%,50%)\"]}, \"name\": \"\\uac74\\uac15\\ubcf4\\uc870\\uc2dd\\ud488 \\uc18c\\ub9e4\\uc5c5\", \"opacity\": 0.5, \"type\": \"bar\", \"visible\": false, \"x\": [\"\\uac15\\uc6d0\", \"\\uacbd\\uae30\", \"\\uacbd\\ub0a8\", \"\\uacbd\\ubd81\", \"\\uad11\\uc8fc\", \"\\ub300\\uad6c\", \"\\ub300\\uc804\", \"\\ubd80\\uc0b0\", \"\\uc11c\\uc6b8\", \"\\uc138\\uc885\", \"\\uc6b8\\uc0b0\", \"\\uc778\\ucc9c\", \"\\uc804\\ub0a8\", \"\\uc804\\ubd81\", \"\\uc81c\\uc8fc\", \"\\ucda9\\ub0a8\", \"\\ucda9\\ubd81\"], \"y\": [0.85598935916189, 1.0565461359213195, 1.0267233533348616, 1.0050988878819815, 1.5403271278360937, 0.9177836781464764, 1.0247453292482105, 1.0019353477577009, 0.8780182606774274, 0.8135236666767269, 0.8738404526764726, 0.8245699500280801, 0.9834250224466655, 1.0531477163937693, 0.8528799361353175, 0.6997932883887718, 0.6923297764536216]}, {\"marker\": {\"color\": [\"hsl(0.0,50%,50%)\", \"hsl(22.5,50%,50%)\", \"hsl(45.0,50%,50%)\", \"hsl(67.5,50%,50%)\", \"hsl(90.0,50%,50%)\", \"hsl(112.5,50%,50%)\", \"hsl(135.0,50%,50%)\", \"hsl(157.5,50%,50%)\", \"hsl(180.0,50%,50%)\", \"hsl(202.5,50%,50%)\", \"hsl(225.0,50%,50%)\", \"hsl(247.5,50%,50%)\", \"hsl(270.0,50%,50%)\", \"hsl(292.5,50%,50%)\", \"hsl(315.0,50%,50%)\", \"hsl(337.5,50%,50%)\", \"hsl(360.0,50%,50%)\"]}, \"name\": \"\\uc5ec\\uad00\\uc5c5\", \"opacity\": 0.5, \"type\": \"bar\", \"visible\": false, \"x\": [\"\\uac15\\uc6d0\", \"\\uacbd\\uae30\", \"\\uacbd\\ub0a8\", \"\\uacbd\\ubd81\", \"\\uad11\\uc8fc\", \"\\ub300\\uad6c\", \"\\ub300\\uc804\", \"\\ubd80\\uc0b0\", \"\\uc11c\\uc6b8\", \"\\uc138\\uc885\", \"\\uc6b8\\uc0b0\", \"\\uc778\\ucc9c\", \"\\uc804\\ub0a8\", \"\\uc804\\ubd81\", \"\\uc81c\\uc8fc\", \"\\ucda9\\ub0a8\", \"\\ucda9\\ubd81\"], \"y\": [0.6296643773432645, 0.6866080528689769, 0.7018520383332346, 0.4621309277371174, 0.7321493811937494, 0.4595921331933664, 0.5870266801561086, 0.5504991201772694, 0.6052295811829623, 0.5468392447968029, 0.6479655409818355, 0.6757467485451725, 0.6697583638406303, 0.6762798378700678, 0.47885136677213574, 0.6260880314626477, 0.7277311411551317]}, {\"marker\": {\"color\": [\"hsl(0.0,50%,50%)\", \"hsl(22.5,50%,50%)\", \"hsl(45.0,50%,50%)\", \"hsl(67.5,50%,50%)\", \"hsl(90.0,50%,50%)\", \"hsl(112.5,50%,50%)\", \"hsl(135.0,50%,50%)\", \"hsl(157.5,50%,50%)\", \"hsl(180.0,50%,50%)\", \"hsl(202.5,50%,50%)\", \"hsl(225.0,50%,50%)\", \"hsl(247.5,50%,50%)\", \"hsl(270.0,50%,50%)\", \"hsl(292.5,50%,50%)\", \"hsl(315.0,50%,50%)\", \"hsl(337.5,50%,50%)\", \"hsl(360.0,50%,50%)\"]}, \"name\": \"\\uace8\\ud504\\uc7a5 \\uc6b4\\uc601\\uc5c5\", \"opacity\": 0.5, \"type\": \"bar\", \"visible\": false, \"x\": [\"\\uac15\\uc6d0\", \"\\uacbd\\uae30\", \"\\uacbd\\ub0a8\", \"\\uacbd\\ubd81\", \"\\uad11\\uc8fc\", \"\\ub300\\uad6c\", \"\\ub300\\uc804\", \"\\ubd80\\uc0b0\", \"\\uc11c\\uc6b8\", \"\\uc138\\uc885\", \"\\uc6b8\\uc0b0\", \"\\uc778\\ucc9c\", \"\\uc804\\ub0a8\", \"\\uc804\\ubd81\", \"\\uc81c\\uc8fc\", \"\\ucda9\\ub0a8\", \"\\ucda9\\ubd81\"], \"y\": [1.133636018135232, 1.0151771759572303, 0.9507533510128731, 0.8670291309678038, 1.0991747812584023, 0.5452059786895993, 1.0042221507365257, 1.072590806251359, 1.1432969635903123, 1.1742318903217097, 0.9725486257035829, 0.9619370278681424, 1.1171762489789676, 1.1258323429631374, 0.896510242396219, 1.0501777286215037, 1.1276696201172933]}, {\"marker\": {\"color\": [\"hsl(0.0,50%,50%)\", \"hsl(22.5,50%,50%)\", \"hsl(45.0,50%,50%)\", \"hsl(67.5,50%,50%)\", \"hsl(90.0,50%,50%)\", \"hsl(112.5,50%,50%)\", \"hsl(135.0,50%,50%)\", \"hsl(157.5,50%,50%)\", \"hsl(180.0,50%,50%)\", \"hsl(202.5,50%,50%)\", \"hsl(225.0,50%,50%)\", \"hsl(247.5,50%,50%)\", \"hsl(270.0,50%,50%)\", \"hsl(292.5,50%,50%)\", \"hsl(315.0,50%,50%)\", \"hsl(337.5,50%,50%)\", \"hsl(360.0,50%,50%)\"]}, \"name\": \"\\uadf8\\uc678 \\uae30\\ud0c0 \\ubd84\\ub958\\uc548\\ub41c \\uc624\\ub77d\\uad00\\ub828 \\uc11c\\ube44\\uc2a4\\uc5c5\", \"opacity\": 0.5, \"type\": \"bar\", \"visible\": false, \"x\": [\"\\uacbd\\ub0a8\", \"\\uacbd\\ubd81\", \"\\uc81c\\uc8fc\", \"\\ucda9\\ub0a8\"], \"y\": [0.5223587223587224, null, null, 0.5212155963302753]}, {\"marker\": {\"color\": [\"hsl(0.0,50%,50%)\", \"hsl(22.5,50%,50%)\", \"hsl(45.0,50%,50%)\", \"hsl(67.5,50%,50%)\", \"hsl(90.0,50%,50%)\", \"hsl(112.5,50%,50%)\", \"hsl(135.0,50%,50%)\", \"hsl(157.5,50%,50%)\", \"hsl(180.0,50%,50%)\", \"hsl(202.5,50%,50%)\", \"hsl(225.0,50%,50%)\", \"hsl(247.5,50%,50%)\", \"hsl(270.0,50%,50%)\", \"hsl(292.5,50%,50%)\", \"hsl(315.0,50%,50%)\", \"hsl(337.5,50%,50%)\", \"hsl(360.0,50%,50%)\"]}, \"name\": \"\\uc2a4\\ud3ec\\uce20 \\ubc0f \\ub808\\ud06c\\ub808\\uc774\\uc158 \\uc6a9\\ud488 \\uc784\\ub300\\uc5c5\", \"opacity\": 0.5, \"type\": \"bar\", \"visible\": false, \"x\": [\"\\uac15\\uc6d0\", \"\\uacbd\\uae30\", \"\\uacbd\\ub0a8\", \"\\uacbd\\ubd81\", \"\\uad11\\uc8fc\", \"\\ub300\\uad6c\", \"\\ub300\\uc804\", \"\\ubd80\\uc0b0\", \"\\uc11c\\uc6b8\", \"\\uc138\\uc885\", \"\\uc6b8\\uc0b0\", \"\\uc778\\ucc9c\", \"\\uc804\\ub0a8\", \"\\uc804\\ubd81\", \"\\uc81c\\uc8fc\", \"\\ucda9\\ub0a8\", \"\\ucda9\\ubd81\"], \"y\": [0.7730237588305146, 0.7811878667856875, 0.7017935513378469, 0.6144713712538606, 0.7870941112621079, 0.5907791014073472, 0.7363214165575074, 0.5890845079751696, 0.7168517206826093, 1.0899973554331668, 0.7083990125908657, 0.6296210317795732, 0.705431015761038, 0.7212307605117715, 0.7819845537169988, 0.7069633633990301, 0.723672044034734]}, {\"marker\": {\"color\": [\"hsl(0.0,50%,50%)\", \"hsl(22.5,50%,50%)\", \"hsl(45.0,50%,50%)\", \"hsl(67.5,50%,50%)\", \"hsl(90.0,50%,50%)\", \"hsl(112.5,50%,50%)\", \"hsl(135.0,50%,50%)\", \"hsl(157.5,50%,50%)\", \"hsl(180.0,50%,50%)\", \"hsl(202.5,50%,50%)\", \"hsl(225.0,50%,50%)\", \"hsl(247.5,50%,50%)\", \"hsl(270.0,50%,50%)\", \"hsl(292.5,50%,50%)\", \"hsl(315.0,50%,50%)\", \"hsl(337.5,50%,50%)\", \"hsl(360.0,50%,50%)\"]}, \"name\": \"\\uc911\\uc2dd \\uc74c\\uc2dd\\uc810\\uc5c5\", \"opacity\": 0.5, \"type\": \"bar\", \"visible\": false, \"x\": [\"\\uac15\\uc6d0\", \"\\uacbd\\uae30\", \"\\uacbd\\ub0a8\", \"\\uacbd\\ubd81\", \"\\uad11\\uc8fc\", \"\\ub300\\uad6c\", \"\\ub300\\uc804\", \"\\ubd80\\uc0b0\", \"\\uc11c\\uc6b8\", \"\\uc138\\uc885\", \"\\uc6b8\\uc0b0\", \"\\uc778\\ucc9c\", \"\\uc804\\ub0a8\", \"\\uc804\\ubd81\", \"\\uc81c\\uc8fc\", \"\\ucda9\\ub0a8\", \"\\ucda9\\ubd81\"], \"y\": [0.9705045868921993, 0.8736501771360867, 0.9461894225495123, 0.792344823258734, 0.9490739353087594, 0.669117464256456, 0.8983759222008273, 0.7026764637446926, 0.7169905939342104, 0.8111055806397649, 0.8311234460938556, 0.7176472024890646, 1.1180712546125997, 0.9909703886943099, 1.02485751604981, 0.8978443385042041, 0.910513339752]}, {\"marker\": {\"color\": [\"hsl(0.0,50%,50%)\", \"hsl(22.5,50%,50%)\", \"hsl(45.0,50%,50%)\", \"hsl(67.5,50%,50%)\", \"hsl(90.0,50%,50%)\", \"hsl(112.5,50%,50%)\", \"hsl(135.0,50%,50%)\", \"hsl(157.5,50%,50%)\", \"hsl(180.0,50%,50%)\", \"hsl(202.5,50%,50%)\", \"hsl(225.0,50%,50%)\", \"hsl(247.5,50%,50%)\", \"hsl(270.0,50%,50%)\", \"hsl(292.5,50%,50%)\", \"hsl(315.0,50%,50%)\", \"hsl(337.5,50%,50%)\", \"hsl(360.0,50%,50%)\"]}, \"name\": \"\\uc695\\ud0d5\\uc5c5\", \"opacity\": 0.5, \"type\": \"bar\", \"visible\": false, \"x\": [\"\\uac15\\uc6d0\", \"\\uacbd\\uae30\", \"\\uacbd\\ub0a8\", \"\\uacbd\\ubd81\", \"\\uad11\\uc8fc\", \"\\ub300\\uad6c\", \"\\ub300\\uc804\", \"\\ubd80\\uc0b0\", \"\\uc11c\\uc6b8\", \"\\uc138\\uc885\", \"\\uc6b8\\uc0b0\", \"\\uc778\\ucc9c\", \"\\uc804\\ub0a8\", \"\\uc804\\ubd81\", \"\\uc81c\\uc8fc\", \"\\ucda9\\ub0a8\", \"\\ucda9\\ubd81\"], \"y\": [0.6083999931720458, 0.4406467398364201, 0.638110588748003, 0.36527680310404875, 0.7779521113576089, 0.2169312231484467, 0.5058083194947937, 0.5773509280435309, 0.470155134576211, 0.4916369957667873, 0.5636113185980793, 0.4101018844330067, 0.7928337721647412, 0.692443361132337, 0.9319631725365466, 0.4205662873557506, 0.49266156482761464]}, {\"marker\": {\"color\": [\"hsl(0.0,50%,50%)\", \"hsl(22.5,50%,50%)\", \"hsl(45.0,50%,50%)\", \"hsl(67.5,50%,50%)\", \"hsl(90.0,50%,50%)\", \"hsl(112.5,50%,50%)\", \"hsl(135.0,50%,50%)\", \"hsl(157.5,50%,50%)\", \"hsl(180.0,50%,50%)\", \"hsl(202.5,50%,50%)\", \"hsl(225.0,50%,50%)\", \"hsl(247.5,50%,50%)\", \"hsl(270.0,50%,50%)\", \"hsl(292.5,50%,50%)\", \"hsl(315.0,50%,50%)\", \"hsl(337.5,50%,50%)\", \"hsl(360.0,50%,50%)\"]}, \"name\": \"\\ube75 \\ubc0f \\uacfc\\uc790\\ub958 \\uc18c\\ub9e4\\uc5c5\", \"opacity\": 0.5, \"type\": \"bar\", \"visible\": false, \"x\": [\"\\uac15\\uc6d0\", \"\\uacbd\\uae30\", \"\\uacbd\\ub0a8\", \"\\uacbd\\ubd81\", \"\\uad11\\uc8fc\", \"\\ub300\\uad6c\", \"\\ub300\\uc804\", \"\\ubd80\\uc0b0\", \"\\uc11c\\uc6b8\", \"\\uc138\\uc885\", \"\\uc6b8\\uc0b0\", \"\\uc778\\ucc9c\", \"\\uc804\\ub0a8\", \"\\uc804\\ubd81\", \"\\uc81c\\uc8fc\", \"\\ucda9\\ub0a8\", \"\\ucda9\\ubd81\"], \"y\": [0.9937700952385249, 0.9705614834136689, 1.0290511442236379, 0.9072984711425225, 1.0542851898934447, 0.8588334056672009, 0.84985546125626, 0.7963095865085432, 0.8752609566007536, 0.9503959814139785, 0.9460938030300841, 0.7625565055539789, 1.0764836242545415, 0.9393251266824566, 0.9641950899517122, 0.9402868244989158, 1.0159045424030586]}, {\"marker\": {\"color\": [\"hsl(0.0,50%,50%)\", \"hsl(22.5,50%,50%)\", \"hsl(45.0,50%,50%)\", \"hsl(67.5,50%,50%)\", \"hsl(90.0,50%,50%)\", \"hsl(112.5,50%,50%)\", \"hsl(135.0,50%,50%)\", \"hsl(157.5,50%,50%)\", \"hsl(180.0,50%,50%)\", \"hsl(202.5,50%,50%)\", \"hsl(225.0,50%,50%)\", \"hsl(247.5,50%,50%)\", \"hsl(270.0,50%,50%)\", \"hsl(292.5,50%,50%)\", \"hsl(315.0,50%,50%)\", \"hsl(337.5,50%,50%)\", \"hsl(360.0,50%,50%)\"]}, \"name\": \"\\ub0b4\\ud56d \\uc5ec\\uac1d \\uc6b4\\uc1a1\\uc5c5\", \"opacity\": 0.5, \"type\": \"bar\", \"visible\": false, \"x\": [\"\\uac15\\uc6d0\", \"\\uacbd\\uae30\", \"\\uacbd\\ub0a8\", \"\\uacbd\\ubd81\", \"\\uad11\\uc8fc\", \"\\ubd80\\uc0b0\", \"\\uc11c\\uc6b8\", \"\\uc778\\ucc9c\", \"\\uc804\\ub0a8\", \"\\uc81c\\uc8fc\", \"\\ucda9\\ub0a8\", \"\\ucda9\\ubd81\"], \"y\": [0.3295645898484484, 0.6213946695874407, 0.8710498304449937, null, null, null, 0.5452284825457717, 0.17412790173317744, 0.5761294784807591, 0.3917424811584668, null, 0.005725555060754501]}, {\"marker\": {\"color\": [\"hsl(0.0,50%,50%)\", \"hsl(22.5,50%,50%)\", \"hsl(45.0,50%,50%)\", \"hsl(67.5,50%,50%)\", \"hsl(90.0,50%,50%)\", \"hsl(112.5,50%,50%)\", \"hsl(135.0,50%,50%)\", \"hsl(157.5,50%,50%)\", \"hsl(180.0,50%,50%)\", \"hsl(202.5,50%,50%)\", \"hsl(225.0,50%,50%)\", \"hsl(247.5,50%,50%)\", \"hsl(270.0,50%,50%)\", \"hsl(292.5,50%,50%)\", \"hsl(315.0,50%,50%)\", \"hsl(337.5,50%,50%)\", \"hsl(360.0,50%,50%)\"]}, \"name\": \"\\uadf8\\uc678 \\uae30\\ud0c0 \\uc885\\ud569 \\uc18c\\ub9e4\\uc5c5\", \"opacity\": 0.5, \"type\": \"bar\", \"visible\": false, \"x\": [\"\\uac15\\uc6d0\", \"\\uacbd\\uae30\", \"\\uacbd\\ub0a8\", \"\\uacbd\\ubd81\", \"\\uad11\\uc8fc\", \"\\ub300\\uad6c\", \"\\ub300\\uc804\", \"\\ubd80\\uc0b0\", \"\\uc11c\\uc6b8\", \"\\uc138\\uc885\", \"\\uc6b8\\uc0b0\", \"\\uc778\\ucc9c\", \"\\uc804\\ub0a8\", \"\\uc804\\ubd81\", \"\\uc81c\\uc8fc\", \"\\ucda9\\ub0a8\", \"\\ucda9\\ubd81\"], \"y\": [1.1652823076963972, 1.1106281256765032, 1.2238712329544275, 0.9962149861762661, 1.1717296738200036, 1.0165166320232057, 1.0631636058450669, 1.0304841769765962, 1.1741871879945096, 0.29051676355451667, 1.190423211646761, 0.12489997360349715, 1.1509676438541492, 1.3740312988077972, 1.3193337301270636, 1.2577555247352397, 1.158825223775486]}, {\"marker\": {\"color\": [\"hsl(0.0,50%,50%)\", \"hsl(22.5,50%,50%)\", \"hsl(45.0,50%,50%)\", \"hsl(67.5,50%,50%)\", \"hsl(90.0,50%,50%)\", \"hsl(112.5,50%,50%)\", \"hsl(135.0,50%,50%)\", \"hsl(157.5,50%,50%)\", \"hsl(180.0,50%,50%)\", \"hsl(202.5,50%,50%)\", \"hsl(225.0,50%,50%)\", \"hsl(247.5,50%,50%)\", \"hsl(270.0,50%,50%)\", \"hsl(292.5,50%,50%)\", \"hsl(315.0,50%,50%)\", \"hsl(337.5,50%,50%)\", \"hsl(360.0,50%,50%)\"]}, \"name\": \"\\uc804\\uc2dc \\ubc0f \\ud589\\uc0ac \\ub300\\ud589\\uc5c5\", \"opacity\": 0.5, \"type\": \"bar\", \"visible\": false, \"x\": [\"\\uac15\\uc6d0\", \"\\uacbd\\uae30\", \"\\uacbd\\ub0a8\", \"\\uacbd\\ubd81\", \"\\uad11\\uc8fc\", \"\\ub300\\uad6c\", \"\\ub300\\uc804\", \"\\ubd80\\uc0b0\", \"\\uc11c\\uc6b8\", \"\\uc138\\uc885\", \"\\uc6b8\\uc0b0\", \"\\uc778\\ucc9c\", \"\\uc804\\ub0a8\", \"\\uc804\\ubd81\", \"\\uc81c\\uc8fc\", \"\\ucda9\\ub0a8\", \"\\ucda9\\ubd81\"], \"y\": [0.3056658372695528, 0.3160261140472719, 0.4977344937015298, 0.16551481426304238, 0.41222601377520046, 0.14233804682407486, 0.1340345210664911, 0.16027730793804695, 0.14695100197017638, 0.0331822525583234, 0.044243256825675495, 0.7876505945418576, 0.35676150784221783, 0.5938299974735116, 0.18082467397470728, 0.2704291026896752, 0.17807515045491487]}, {\"marker\": {\"color\": [\"hsl(0.0,50%,50%)\", \"hsl(22.5,50%,50%)\", \"hsl(45.0,50%,50%)\", \"hsl(67.5,50%,50%)\", \"hsl(90.0,50%,50%)\", \"hsl(112.5,50%,50%)\", \"hsl(135.0,50%,50%)\", \"hsl(157.5,50%,50%)\", \"hsl(180.0,50%,50%)\", \"hsl(202.5,50%,50%)\", \"hsl(225.0,50%,50%)\", \"hsl(247.5,50%,50%)\", \"hsl(270.0,50%,50%)\", \"hsl(292.5,50%,50%)\", \"hsl(315.0,50%,50%)\", \"hsl(337.5,50%,50%)\", \"hsl(360.0,50%,50%)\"]}, \"name\": \"\\ud0dd\\uc2dc \\uc6b4\\uc1a1\\uc5c5\", \"opacity\": 0.5, \"type\": \"bar\", \"visible\": false, \"x\": [\"\\uac15\\uc6d0\", \"\\uacbd\\uae30\", \"\\uacbd\\ub0a8\", \"\\uacbd\\ubd81\", \"\\uad11\\uc8fc\", \"\\ub300\\uad6c\", \"\\ubd80\\uc0b0\", \"\\uc11c\\uc6b8\", \"\\uc778\\ucc9c\", \"\\uc804\\ubd81\", \"\\uc81c\\uc8fc\", \"\\ucda9\\ub0a8\", \"\\ucda9\\ubd81\"], \"y\": [0.10348071495766697, 0.75022613714011, 0.5058592254246307, 0.5571940314587374, null, 0.5192460950648878, 0.6739073441024872, 0.7559443011921069, 0.7977490032643854, 2.0004854368932037, null, null, 16.031824324324326]}, {\"marker\": {\"color\": [\"hsl(0.0,50%,50%)\", \"hsl(22.5,50%,50%)\", \"hsl(45.0,50%,50%)\", \"hsl(67.5,50%,50%)\", \"hsl(90.0,50%,50%)\", \"hsl(112.5,50%,50%)\", \"hsl(135.0,50%,50%)\", \"hsl(157.5,50%,50%)\", \"hsl(180.0,50%,50%)\", \"hsl(202.5,50%,50%)\", \"hsl(225.0,50%,50%)\", \"hsl(247.5,50%,50%)\", \"hsl(270.0,50%,50%)\", \"hsl(292.5,50%,50%)\", \"hsl(315.0,50%,50%)\", \"hsl(337.5,50%,50%)\", \"hsl(360.0,50%,50%)\"]}, \"name\": \"\\ud654\\uc7a5\\ud488 \\ubc0f \\ubc29\\ud5a5\\uc81c \\uc18c\\ub9e4\\uc5c5\", \"opacity\": 0.5, \"type\": \"bar\", \"visible\": false, \"x\": [\"\\uac15\\uc6d0\", \"\\uacbd\\uae30\", \"\\uacbd\\ub0a8\", \"\\uacbd\\ubd81\", \"\\uad11\\uc8fc\", \"\\ub300\\uad6c\", \"\\ub300\\uc804\", \"\\ubd80\\uc0b0\", \"\\uc11c\\uc6b8\", \"\\uc138\\uc885\", \"\\uc6b8\\uc0b0\", \"\\uc778\\ucc9c\", \"\\uc804\\ub0a8\", \"\\uc804\\ubd81\", \"\\uc81c\\uc8fc\", \"\\ucda9\\ub0a8\", \"\\ucda9\\ubd81\"], \"y\": [0.6806302015422753, 0.6188873977412459, 0.6189545048130622, 0.5642256808001495, 0.8244888637641331, 0.48213621687731056, 0.5723269041958688, 0.6029299410530821, 0.7129487348275629, 0.731161805860925, 0.6035448556081909, 0.5806449608235738, 0.7214874129048148, 0.7586032526088002, 0.774913948046567, 0.681077343265073, 0.6207818450458648]}, {\"marker\": {\"color\": [\"hsl(0.0,50%,50%)\", \"hsl(22.5,50%,50%)\", \"hsl(45.0,50%,50%)\", \"hsl(67.5,50%,50%)\", \"hsl(90.0,50%,50%)\", \"hsl(112.5,50%,50%)\", \"hsl(135.0,50%,50%)\", \"hsl(157.5,50%,50%)\", \"hsl(180.0,50%,50%)\", \"hsl(202.5,50%,50%)\", \"hsl(225.0,50%,50%)\", \"hsl(247.5,50%,50%)\", \"hsl(270.0,50%,50%)\", \"hsl(292.5,50%,50%)\", \"hsl(315.0,50%,50%)\", \"hsl(337.5,50%,50%)\", \"hsl(360.0,50%,50%)\"]}, \"name\": \"\\uad00\\uad11 \\ubbfc\\uc608\\ud488 \\ubc0f \\uc120\\ubb3c\\uc6a9\\ud488 \\uc18c\\ub9e4\\uc5c5\", \"opacity\": 0.5, \"type\": \"bar\", \"visible\": false, \"x\": [\"\\uac15\\uc6d0\", \"\\uacbd\\uae30\", \"\\uacbd\\ub0a8\", \"\\uacbd\\ubd81\", \"\\uad11\\uc8fc\", \"\\ub300\\uad6c\", \"\\ub300\\uc804\", \"\\ubd80\\uc0b0\", \"\\uc11c\\uc6b8\", \"\\uc138\\uc885\", \"\\uc6b8\\uc0b0\", \"\\uc778\\ucc9c\", \"\\uc804\\ub0a8\", \"\\uc804\\ubd81\", \"\\uc81c\\uc8fc\", \"\\ucda9\\ub0a8\", \"\\ucda9\\ubd81\"], \"y\": [0.644743854941205, 0.7482577184704347, 1.4856236390650084, 0.7328021913363139, 1.104580726763067, 0.3484437387493493, 0.5851825652345367, 0.47447691115467017, 0.3796764086407362, null, 0.35174107423965745, 0.6224405848645262, 0.9076073744369941, 0.7253526342681627, 0.15697186107769107, 0.7837505165782258, 1.184460027045393]}, {\"marker\": {\"color\": [\"hsl(0.0,50%,50%)\", \"hsl(22.5,50%,50%)\", \"hsl(45.0,50%,50%)\", \"hsl(67.5,50%,50%)\", \"hsl(90.0,50%,50%)\", \"hsl(112.5,50%,50%)\", \"hsl(135.0,50%,50%)\", \"hsl(157.5,50%,50%)\", \"hsl(180.0,50%,50%)\", \"hsl(202.5,50%,50%)\", \"hsl(225.0,50%,50%)\", \"hsl(247.5,50%,50%)\", \"hsl(270.0,50%,50%)\", \"hsl(292.5,50%,50%)\", \"hsl(315.0,50%,50%)\", \"hsl(337.5,50%,50%)\", \"hsl(360.0,50%,50%)\"]}, \"name\": \"\\uadf8\\uc678 \\uae30\\ud0c0 \\uc2a4\\ud3ec\\uce20\\uc2dc\\uc124 \\uc6b4\\uc601\\uc5c5\", \"opacity\": 0.5, \"type\": \"bar\", \"visible\": false, \"x\": [\"\\uac15\\uc6d0\", \"\\uacbd\\uae30\", \"\\uacbd\\ub0a8\", \"\\uacbd\\ubd81\", \"\\uad11\\uc8fc\", \"\\ub300\\uad6c\", \"\\ub300\\uc804\", \"\\ubd80\\uc0b0\", \"\\uc11c\\uc6b8\", \"\\uc6b8\\uc0b0\", \"\\uc778\\ucc9c\", \"\\uc804\\ub0a8\", \"\\uc804\\ubd81\", \"\\uc81c\\uc8fc\", \"\\ucda9\\ub0a8\", \"\\ucda9\\ubd81\"], \"y\": [0.18096467329360108, 0.1392653640878154, 0.06863009027441268, 0.09237706971553511, 0.646175504458001, 0.05489585472132868, 0.4860731840524304, 0.08501185177737992, 0.5160982746212084, 0.04632373584552516, 0.27332480479950594, 0.6251618583933288, 0.40616455381556055, null, 0.07806890544628459, 0.33641617688543435]}, {\"marker\": {\"color\": [\"hsl(0.0,50%,50%)\", \"hsl(22.5,50%,50%)\", \"hsl(45.0,50%,50%)\", \"hsl(67.5,50%,50%)\", \"hsl(90.0,50%,50%)\", \"hsl(112.5,50%,50%)\", \"hsl(135.0,50%,50%)\", \"hsl(157.5,50%,50%)\", \"hsl(180.0,50%,50%)\", \"hsl(202.5,50%,50%)\", \"hsl(225.0,50%,50%)\", \"hsl(247.5,50%,50%)\", \"hsl(270.0,50%,50%)\", \"hsl(292.5,50%,50%)\", \"hsl(315.0,50%,50%)\", \"hsl(337.5,50%,50%)\", \"hsl(360.0,50%,50%)\"]}, \"name\": \"\\uc288\\ud37c\\ub9c8\\ucf13\", \"opacity\": 0.5, \"type\": \"bar\", \"visible\": false, \"x\": [\"\\uac15\\uc6d0\", \"\\uacbd\\uae30\", \"\\uacbd\\ub0a8\", \"\\uacbd\\ubd81\", \"\\uad11\\uc8fc\", \"\\ub300\\uad6c\", \"\\ub300\\uc804\", \"\\ubd80\\uc0b0\", \"\\uc11c\\uc6b8\", \"\\uc138\\uc885\", \"\\uc6b8\\uc0b0\", \"\\uc778\\ucc9c\", \"\\uc804\\ub0a8\", \"\\uc804\\ubd81\", \"\\uc81c\\uc8fc\", \"\\ucda9\\ub0a8\", \"\\ucda9\\ubd81\"], \"y\": [1.1578874076869592, 1.2133155169901688, 1.3064992014041057, 1.243578314874218, 1.2794740575507184, 1.1912575446632243, 1.1999404451662474, 1.0863672432113003, 1.1264848998237897, 1.1130606043603812, 1.2161901623705342, 1.0533211076683313, 1.2015292956269874, 1.1792126137576455, 1.0770666095509527, 1.1955875572655563, 1.2855379156217612]}, {\"marker\": {\"color\": [\"hsl(0.0,50%,50%)\", \"hsl(22.5,50%,50%)\", \"hsl(45.0,50%,50%)\", \"hsl(67.5,50%,50%)\", \"hsl(90.0,50%,50%)\", \"hsl(112.5,50%,50%)\", \"hsl(135.0,50%,50%)\", \"hsl(157.5,50%,50%)\", \"hsl(180.0,50%,50%)\", \"hsl(202.5,50%,50%)\", \"hsl(225.0,50%,50%)\", \"hsl(247.5,50%,50%)\", \"hsl(270.0,50%,50%)\", \"hsl(292.5,50%,50%)\", \"hsl(315.0,50%,50%)\", \"hsl(337.5,50%,50%)\", \"hsl(360.0,50%,50%)\"]}, \"name\": \"\\uc5ec\\ud589\\uc0ac\\uc5c5\", \"opacity\": 0.5, \"type\": \"bar\", \"visible\": false, \"x\": [\"\\uac15\\uc6d0\", \"\\uacbd\\uae30\", \"\\uacbd\\ub0a8\", \"\\uacbd\\ubd81\", \"\\uad11\\uc8fc\", \"\\ub300\\uad6c\", \"\\ubd80\\uc0b0\", \"\\uc11c\\uc6b8\", \"\\uc6b8\\uc0b0\", \"\\uc778\\ucc9c\", \"\\uc804\\ub0a8\", \"\\uc804\\ubd81\", \"\\uc81c\\uc8fc\", \"\\ucda9\\ub0a8\", \"\\ucda9\\ubd81\"], \"y\": [1.1677408626175991, 0.08922878421374131, 0.01338114304232832, 0.8874542301021391, null, null, 0.19298649805591347, 0.03190018782545094, 0.040533860603064756, 0.2956931888371048, 0.7362829384217516, 0.21723440319317622, 0.1109908919792007, 0.2005230961352889, null]}, {\"marker\": {\"color\": [\"hsl(0.0,50%,50%)\", \"hsl(22.5,50%,50%)\", \"hsl(45.0,50%,50%)\", \"hsl(67.5,50%,50%)\", \"hsl(90.0,50%,50%)\", \"hsl(112.5,50%,50%)\", \"hsl(135.0,50%,50%)\", \"hsl(157.5,50%,50%)\", \"hsl(180.0,50%,50%)\", \"hsl(202.5,50%,50%)\", \"hsl(225.0,50%,50%)\", \"hsl(247.5,50%,50%)\", \"hsl(270.0,50%,50%)\", \"hsl(292.5,50%,50%)\", \"hsl(315.0,50%,50%)\", \"hsl(337.5,50%,50%)\", \"hsl(360.0,50%,50%)\"]}, \"name\": \"\\ubc84\\uc2a4 \\uc6b4\\uc1a1\\uc5c5\", \"opacity\": 0.5, \"type\": \"bar\", \"visible\": false, \"x\": [\"\\uac15\\uc6d0\", \"\\uacbd\\uae30\", \"\\uacbd\\ub0a8\", \"\\uacbd\\ubd81\", \"\\uad11\\uc8fc\", \"\\ub300\\uad6c\", \"\\ubd80\\uc0b0\", \"\\uc11c\\uc6b8\", \"\\uc6b8\\uc0b0\", \"\\uc804\\ub0a8\", \"\\uc804\\ubd81\", \"\\ucda9\\ub0a8\", \"\\ucda9\\ubd81\"], \"y\": [null, 81.85014423563693, 0.0032411876684297655, null, 0.5254446345442247, null, 0.05696388372320642, 0.17955640840762302, 0.03043878665239255, 1.2275614733259663, 0.028673532619197275, null, null]}, {\"marker\": {\"color\": [\"hsl(0.0,50%,50%)\", \"hsl(22.5,50%,50%)\", \"hsl(45.0,50%,50%)\", \"hsl(67.5,50%,50%)\", \"hsl(90.0,50%,50%)\", \"hsl(112.5,50%,50%)\", \"hsl(135.0,50%,50%)\", \"hsl(157.5,50%,50%)\", \"hsl(180.0,50%,50%)\", \"hsl(202.5,50%,50%)\", \"hsl(225.0,50%,50%)\", \"hsl(247.5,50%,50%)\", \"hsl(270.0,50%,50%)\", \"hsl(292.5,50%,50%)\", \"hsl(315.0,50%,50%)\", \"hsl(337.5,50%,50%)\", \"hsl(360.0,50%,50%)\"]}, \"name\": \"\\uc815\\uae30 \\ud56d\\uacf5 \\uc6b4\\uc1a1\\uc5c5\", \"opacity\": 0.5, \"type\": \"bar\", \"visible\": false, \"x\": [\"\\ubd80\\uc0b0\", \"\\uc11c\\uc6b8\", \"\\uc778\\ucc9c\", \"\\uc804\\ubd81\", \"\\uc81c\\uc8fc\", \"\\ucda9\\ub0a8\"], \"y\": [0.16667947791007892, 0.073369508630204, 0.28074708247825203, 0.06038343360669918, 0.0830950458119816, null]}, {\"marker\": {\"color\": [\"hsl(0.0,50%,50%)\", \"hsl(22.5,50%,50%)\", \"hsl(45.0,50%,50%)\", \"hsl(67.5,50%,50%)\", \"hsl(90.0,50%,50%)\", \"hsl(112.5,50%,50%)\", \"hsl(135.0,50%,50%)\", \"hsl(157.5,50%,50%)\", \"hsl(180.0,50%,50%)\", \"hsl(202.5,50%,50%)\", \"hsl(225.0,50%,50%)\", \"hsl(247.5,50%,50%)\", \"hsl(270.0,50%,50%)\", \"hsl(292.5,50%,50%)\", \"hsl(315.0,50%,50%)\", \"hsl(337.5,50%,50%)\", \"hsl(360.0,50%,50%)\"]}, \"name\": \"\\ud55c\\uc2dd \\uc74c\\uc2dd\\uc810\\uc5c5\", \"opacity\": 0.5, \"type\": \"bar\", \"visible\": false, \"x\": [\"\\uac15\\uc6d0\", \"\\uacbd\\uae30\", \"\\uacbd\\ub0a8\", \"\\uacbd\\ubd81\", \"\\uad11\\uc8fc\", \"\\ub300\\uad6c\", \"\\ub300\\uc804\", \"\\ubd80\\uc0b0\", \"\\uc11c\\uc6b8\", \"\\uc138\\uc885\", \"\\uc6b8\\uc0b0\", \"\\uc778\\ucc9c\", \"\\uc804\\ub0a8\", \"\\uc804\\ubd81\", \"\\uc81c\\uc8fc\", \"\\ucda9\\ub0a8\", \"\\ucda9\\ubd81\"], \"y\": [0.8129348036089551, 0.8081733993999153, 0.7828812452715596, 0.5981059222114291, 0.8576717643491615, 0.5404185496475463, 0.7514526889331344, 0.6405741526191867, 0.7355592686706812, 0.7170171489512629, 0.7009451126182626, 0.7157797026287438, 0.8981753529536491, 0.836583233520071, 0.7829744945413855, 0.7533983122947843, 0.7771969801586414]}, {\"marker\": {\"color\": [\"hsl(0.0,50%,50%)\", \"hsl(22.5,50%,50%)\", \"hsl(45.0,50%,50%)\", \"hsl(67.5,50%,50%)\", \"hsl(90.0,50%,50%)\", \"hsl(112.5,50%,50%)\", \"hsl(135.0,50%,50%)\", \"hsl(157.5,50%,50%)\", \"hsl(180.0,50%,50%)\", \"hsl(202.5,50%,50%)\", \"hsl(225.0,50%,50%)\", \"hsl(247.5,50%,50%)\", \"hsl(270.0,50%,50%)\", \"hsl(292.5,50%,50%)\", \"hsl(315.0,50%,50%)\", \"hsl(337.5,50%,50%)\", \"hsl(360.0,50%,50%)\"]}, \"name\": \"\\uc790\\ub3d9\\ucc28 \\uc784\\ub300\\uc5c5\", \"opacity\": 0.5, \"type\": \"bar\", \"visible\": false, \"x\": [\"\\uac15\\uc6d0\", \"\\uacbd\\uae30\", \"\\uacbd\\ub0a8\", \"\\uacbd\\ubd81\", \"\\uad11\\uc8fc\", \"\\ub300\\uad6c\", \"\\ub300\\uc804\", \"\\ubd80\\uc0b0\", \"\\uc11c\\uc6b8\", \"\\uc6b8\\uc0b0\", \"\\uc778\\ucc9c\", \"\\uc804\\ub0a8\", \"\\uc804\\ubd81\", \"\\uc81c\\uc8fc\", \"\\ucda9\\ub0a8\", \"\\ucda9\\ubd81\"], \"y\": [2.579132357388248, 2.372934460314069, 0.1456781668236167, 0.3119193059642039, 0.21529309703804683, 0.238907630934209, 1.1142808912896691, 0.15323785957623867, 0.48910386401712697, 0.29119575833682154, 0.6804804853338235, 0.449974311573451, 0.6500936547430809, 0.5841465701086137, 0.06908716742613553, 0.21985585585585585]}, {\"marker\": {\"color\": [\"hsl(0.0,50%,50%)\", \"hsl(22.5,50%,50%)\", \"hsl(45.0,50%,50%)\", \"hsl(67.5,50%,50%)\", \"hsl(90.0,50%,50%)\", \"hsl(112.5,50%,50%)\", \"hsl(135.0,50%,50%)\", \"hsl(157.5,50%,50%)\", \"hsl(180.0,50%,50%)\", \"hsl(202.5,50%,50%)\", \"hsl(225.0,50%,50%)\", \"hsl(247.5,50%,50%)\", \"hsl(270.0,50%,50%)\", \"hsl(292.5,50%,50%)\", \"hsl(315.0,50%,50%)\", \"hsl(337.5,50%,50%)\", \"hsl(360.0,50%,50%)\"]}, \"name\": \"\\ucc28\\ub7c9\\uc6a9 \\uac00\\uc2a4 \\ucda9\\uc804\\uc5c5\", \"opacity\": 0.5, \"type\": \"bar\", \"visible\": false, \"x\": [\"\\uac15\\uc6d0\", \"\\uacbd\\uae30\", \"\\uacbd\\ub0a8\", \"\\uacbd\\ubd81\", \"\\uad11\\uc8fc\", \"\\ub300\\uad6c\", \"\\ub300\\uc804\", \"\\ubd80\\uc0b0\", \"\\uc11c\\uc6b8\", \"\\uc138\\uc885\", \"\\uc6b8\\uc0b0\", \"\\uc778\\ucc9c\", \"\\uc804\\ub0a8\", \"\\uc804\\ubd81\", \"\\uc81c\\uc8fc\", \"\\ucda9\\ub0a8\", \"\\ucda9\\ubd81\"], \"y\": [0.8517054142728963, 1.0073465687563297, 0.9421587978939009, 0.847008760347504, 0.9876928001617324, 0.8221057095978754, 0.8915024473029837, 0.788285758963507, 0.834798069618861, 0.8205297938079145, 0.8937983431570097, 0.8111968170730831, 0.9573676904311079, 0.9653136301031923, 1.0181653578155543, 0.8743045045705967, 0.8382367194838043]}, {\"marker\": {\"color\": [\"hsl(0.0,50%,50%)\", \"hsl(22.5,50%,50%)\", \"hsl(45.0,50%,50%)\", \"hsl(67.5,50%,50%)\", \"hsl(90.0,50%,50%)\", \"hsl(112.5,50%,50%)\", \"hsl(135.0,50%,50%)\", \"hsl(157.5,50%,50%)\", \"hsl(180.0,50%,50%)\", \"hsl(202.5,50%,50%)\", \"hsl(225.0,50%,50%)\", \"hsl(247.5,50%,50%)\", \"hsl(270.0,50%,50%)\", \"hsl(292.5,50%,50%)\", \"hsl(315.0,50%,50%)\", \"hsl(337.5,50%,50%)\", \"hsl(360.0,50%,50%)\"]}, \"name\": \"\\ucc28\\ub7c9\\uc6a9 \\uc8fc\\uc720\\uc18c \\uc6b4\\uc601\\uc5c5\", \"opacity\": 0.5, \"type\": \"bar\", \"visible\": false, \"x\": [\"\\uac15\\uc6d0\", \"\\uacbd\\uae30\", \"\\uacbd\\ub0a8\", \"\\uacbd\\ubd81\", \"\\uad11\\uc8fc\", \"\\ub300\\uad6c\", \"\\ub300\\uc804\", \"\\ubd80\\uc0b0\", \"\\uc11c\\uc6b8\", \"\\uc138\\uc885\", \"\\uc6b8\\uc0b0\", \"\\uc778\\ucc9c\", \"\\uc804\\ub0a8\", \"\\uc804\\ubd81\", \"\\uc81c\\uc8fc\", \"\\ucda9\\ub0a8\", \"\\ucda9\\ubd81\"], \"y\": [0.883973548212285, 0.8855937440190838, 0.8709515400348709, 0.8287327461361066, 0.9483686550790799, 0.8146830624008159, 0.866366480869383, 0.8458098260524071, 0.8675764934294633, 0.9290734926448279, 0.8739811941267083, 0.8283294229149987, 0.8988965827545764, 0.8825017214400659, 0.8604469213328628, 0.8609449633176334, 0.8819127714558495]}, {\"marker\": {\"color\": [\"hsl(0.0,50%,50%)\", \"hsl(22.5,50%,50%)\", \"hsl(45.0,50%,50%)\", \"hsl(67.5,50%,50%)\", \"hsl(90.0,50%,50%)\", \"hsl(112.5,50%,50%)\", \"hsl(135.0,50%,50%)\", \"hsl(157.5,50%,50%)\", \"hsl(180.0,50%,50%)\", \"hsl(202.5,50%,50%)\", \"hsl(225.0,50%,50%)\", \"hsl(247.5,50%,50%)\", \"hsl(270.0,50%,50%)\", \"hsl(292.5,50%,50%)\", \"hsl(315.0,50%,50%)\", \"hsl(337.5,50%,50%)\", \"hsl(360.0,50%,50%)\"]}, \"name\": \"\\uacfc\\uc2e4 \\ubc0f \\ucc44\\uc18c \\uc18c\\ub9e4\\uc5c5\", \"opacity\": 0.5, \"type\": \"bar\", \"visible\": false, \"x\": [\"\\uac15\\uc6d0\", \"\\uacbd\\uae30\", \"\\uacbd\\ub0a8\", \"\\uacbd\\ubd81\", \"\\uad11\\uc8fc\", \"\\ub300\\uad6c\", \"\\ub300\\uc804\", \"\\ubd80\\uc0b0\", \"\\uc11c\\uc6b8\", \"\\uc138\\uc885\", \"\\uc6b8\\uc0b0\", \"\\uc778\\ucc9c\", \"\\uc804\\ub0a8\", \"\\uc804\\ubd81\", \"\\uc81c\\uc8fc\", \"\\ucda9\\ub0a8\", \"\\ucda9\\ubd81\"], \"y\": [1.197482779710092, 1.3464670391238032, 1.2808874994647326, 1.1120882828020342, 1.2513400530793013, 1.4465056093834878, 1.4279305569259912, 0.7994130204184463, 1.2245668722130862, 1.1618374953421906, 1.082700092773491, 1.0563569245215938, 1.1239830566442714, 1.193206659100614, 0.5852557903350019, 1.166166546478946, 1.27193485241302]}, {\"marker\": {\"color\": [\"hsl(0.0,50%,50%)\", \"hsl(22.5,50%,50%)\", \"hsl(45.0,50%,50%)\", \"hsl(67.5,50%,50%)\", \"hsl(90.0,50%,50%)\", \"hsl(112.5,50%,50%)\", \"hsl(135.0,50%,50%)\", \"hsl(157.5,50%,50%)\", \"hsl(180.0,50%,50%)\", \"hsl(202.5,50%,50%)\", \"hsl(225.0,50%,50%)\", \"hsl(247.5,50%,50%)\", \"hsl(270.0,50%,50%)\", \"hsl(292.5,50%,50%)\", \"hsl(315.0,50%,50%)\", \"hsl(337.5,50%,50%)\", \"hsl(360.0,50%,50%)\"]}, \"name\": \"\\uae30\\ud0c0\\uc74c\\uc2dd\\ub8cc\\ud488\\uc704\\uc8fc\\uc885\\ud569\\uc18c\\ub9e4\\uc5c5\", \"opacity\": 0.5, \"type\": \"bar\", \"visible\": false, \"x\": [\"\\uac15\\uc6d0\", \"\\uacbd\\uae30\", \"\\uacbd\\ub0a8\", \"\\uacbd\\ubd81\", \"\\uad11\\uc8fc\", \"\\ub300\\uad6c\", \"\\ub300\\uc804\", \"\\ubd80\\uc0b0\", \"\\uc11c\\uc6b8\", \"\\uc138\\uc885\", \"\\uc6b8\\uc0b0\", \"\\uc778\\ucc9c\", \"\\uc804\\ub0a8\", \"\\uc804\\ubd81\", \"\\uc81c\\uc8fc\", \"\\ucda9\\ub0a8\", \"\\ucda9\\ubd81\"], \"y\": [1.23888115712497, 1.2799969472608725, 1.2710381851962194, 1.226635513735522, 1.3413904535153285, 1.1106720948230517, 1.206536431393671, 1.2933821702677262, 0.9898727488097492, 1.457681878806228, 1.1573540013068693, 1.1975963340114861, 1.2633613743884518, 1.2260505578827683, 1.3772373190660139, 1.3242027622380834, 1.2265375918809498]}, {\"marker\": {\"color\": [\"hsl(0.0,50%,50%)\", \"hsl(22.5,50%,50%)\", \"hsl(45.0,50%,50%)\", \"hsl(67.5,50%,50%)\", \"hsl(90.0,50%,50%)\", \"hsl(112.5,50%,50%)\", \"hsl(135.0,50%,50%)\", \"hsl(157.5,50%,50%)\", \"hsl(180.0,50%,50%)\", \"hsl(202.5,50%,50%)\", \"hsl(225.0,50%,50%)\", \"hsl(247.5,50%,50%)\", \"hsl(270.0,50%,50%)\", \"hsl(292.5,50%,50%)\", \"hsl(315.0,50%,50%)\", \"hsl(337.5,50%,50%)\", \"hsl(360.0,50%,50%)\"]}, \"name\": \"\\ube44\\uc54c\\ucf5c \\uc74c\\ub8cc\\uc810\\uc5c5\", \"opacity\": 0.5, \"type\": \"bar\", \"visible\": false, \"x\": [\"\\uac15\\uc6d0\", \"\\uacbd\\uae30\", \"\\uacbd\\ub0a8\", \"\\uacbd\\ubd81\", \"\\uad11\\uc8fc\", \"\\ub300\\uad6c\", \"\\ub300\\uc804\", \"\\ubd80\\uc0b0\", \"\\uc11c\\uc6b8\", \"\\uc138\\uc885\", \"\\uc6b8\\uc0b0\", \"\\uc778\\ucc9c\", \"\\uc804\\ub0a8\", \"\\uc804\\ubd81\", \"\\uc81c\\uc8fc\", \"\\ucda9\\ub0a8\", \"\\ucda9\\ubd81\"], \"y\": [0.8501185789676692, 0.9439893267510956, 0.9382008236406056, 0.7366119582493043, 1.0016484074896101, 0.6482100429187542, 0.8440729392016456, 0.6957167002200345, 0.8275691047802722, 0.8183695965720653, 0.8068846531029832, 0.8255774537938498, 1.1096286591030828, 0.9417685824218731, 0.9128713109554425, 0.8434100165071733, 0.9390062615111486]}, {\"marker\": {\"color\": [\"hsl(0.0,50%,50%)\", \"hsl(22.5,50%,50%)\", \"hsl(45.0,50%,50%)\", \"hsl(67.5,50%,50%)\", \"hsl(90.0,50%,50%)\", \"hsl(112.5,50%,50%)\", \"hsl(135.0,50%,50%)\", \"hsl(157.5,50%,50%)\", \"hsl(180.0,50%,50%)\", \"hsl(202.5,50%,50%)\", \"hsl(225.0,50%,50%)\", \"hsl(247.5,50%,50%)\", \"hsl(270.0,50%,50%)\", \"hsl(292.5,50%,50%)\", \"hsl(315.0,50%,50%)\", \"hsl(337.5,50%,50%)\", \"hsl(360.0,50%,50%)\"]}, \"name\": \"\\uc218\\uc0b0\\ubb3c \\uc18c\\ub9e4\\uc5c5\", \"opacity\": 0.5, \"type\": \"bar\", \"visible\": false, \"x\": [\"\\uac15\\uc6d0\", \"\\uacbd\\uae30\", \"\\uacbd\\ub0a8\", \"\\uacbd\\ubd81\", \"\\uad11\\uc8fc\", \"\\ub300\\uad6c\", \"\\ub300\\uc804\", \"\\ubd80\\uc0b0\", \"\\uc11c\\uc6b8\", \"\\uc138\\uc885\", \"\\uc6b8\\uc0b0\", \"\\uc778\\ucc9c\", \"\\uc804\\ub0a8\", \"\\uc804\\ubd81\", \"\\uc81c\\uc8fc\", \"\\ucda9\\ub0a8\", \"\\ucda9\\ubd81\"], \"y\": [0.9778686828433439, 1.4446697511308773, 1.0830312395407624, 0.8799477882821856, 1.2320334400190285, 1.1150196833554238, 1.3401945429502011, 0.9982190630253297, 1.2928976117709847, 1.3246212479310595, 0.8242089822341458, 1.1933897037931693, 1.0826672451120647, 1.2520877325137851, 0.5309789393729634, 1.0337927212855669, 1.2654540670588534]}, {\"marker\": {\"color\": [\"hsl(0.0,50%,50%)\", \"hsl(22.5,50%,50%)\", \"hsl(45.0,50%,50%)\", \"hsl(67.5,50%,50%)\", \"hsl(90.0,50%,50%)\", \"hsl(112.5,50%,50%)\", \"hsl(135.0,50%,50%)\", \"hsl(157.5,50%,50%)\", \"hsl(180.0,50%,50%)\", \"hsl(202.5,50%,50%)\", \"hsl(225.0,50%,50%)\", \"hsl(247.5,50%,50%)\", \"hsl(270.0,50%,50%)\", \"hsl(292.5,50%,50%)\", \"hsl(315.0,50%,50%)\", \"hsl(337.5,50%,50%)\", \"hsl(360.0,50%,50%)\"]}, \"name\": \"\\uae30\\ud0c0 \\uc678\\uad6d\\uc2dd \\uc74c\\uc2dd\\uc810\\uc5c5\", \"opacity\": 0.5, \"type\": \"bar\", \"visible\": false, \"x\": [\"\\uac15\\uc6d0\", \"\\uacbd\\uae30\", \"\\uacbd\\ub0a8\", \"\\uacbd\\ubd81\", \"\\uad11\\uc8fc\", \"\\ub300\\uad6c\", \"\\ub300\\uc804\", \"\\ubd80\\uc0b0\", \"\\uc11c\\uc6b8\", \"\\uc138\\uc885\", \"\\uc6b8\\uc0b0\", \"\\uc778\\ucc9c\", \"\\uc804\\ub0a8\", \"\\uc804\\ubd81\", \"\\uc81c\\uc8fc\", \"\\ucda9\\ub0a8\", \"\\ucda9\\ubd81\"], \"y\": [0.8414289962336752, 0.7512914227148085, 0.6679741932895564, 0.5124222644183707, 0.7667466395803366, 0.44746254507669075, 0.7178981134409814, 0.5665292702192404, 0.693136937929736, 0.6390386576141752, 0.5658779698716464, 0.7032455622368908, 0.9237679267151864, 0.8508936857786101, 0.8834990707245829, 0.732007250084878, 0.7391025698159063]}, {\"marker\": {\"color\": [\"hsl(0.0,50%,50%)\", \"hsl(22.5,50%,50%)\", \"hsl(45.0,50%,50%)\", \"hsl(67.5,50%,50%)\", \"hsl(90.0,50%,50%)\", \"hsl(112.5,50%,50%)\", \"hsl(135.0,50%,50%)\", \"hsl(157.5,50%,50%)\", \"hsl(180.0,50%,50%)\", \"hsl(202.5,50%,50%)\", \"hsl(225.0,50%,50%)\", \"hsl(247.5,50%,50%)\", \"hsl(270.0,50%,50%)\", \"hsl(292.5,50%,50%)\", \"hsl(315.0,50%,50%)\", \"hsl(337.5,50%,50%)\", \"hsl(360.0,50%,50%)\"]}, \"name\": \"\\uc77c\\ubc18\\uc720\\ud765 \\uc8fc\\uc810\\uc5c5\", \"opacity\": 0.5, \"type\": \"bar\", \"visible\": false, \"x\": [\"\\uac15\\uc6d0\", \"\\uacbd\\uae30\", \"\\uacbd\\ub0a8\", \"\\uacbd\\ubd81\", \"\\uad11\\uc8fc\", \"\\ub300\\uad6c\", \"\\ub300\\uc804\", \"\\ubd80\\uc0b0\", \"\\uc11c\\uc6b8\", \"\\uc138\\uc885\", \"\\uc6b8\\uc0b0\", \"\\uc778\\ucc9c\", \"\\uc804\\ub0a8\", \"\\uc804\\ubd81\", \"\\uc81c\\uc8fc\", \"\\ucda9\\ub0a8\", \"\\ucda9\\ubd81\"], \"y\": [0.705048795508552, 0.6357122314842995, 0.7165789508750648, 0.5328695083225431, 0.7000654085764147, 0.2854417950235583, 0.43243071331465727, 0.6701740161544626, 0.3913880020816684, 0.6264759136000816, 0.6649962925576038, 0.6270798150341209, 0.790445579334144, 0.6373457889096962, 0.7860102644113758, 0.5579082990422499, 0.5949005264780702]}, {\"marker\": {\"color\": [\"hsl(0.0,50%,50%)\", \"hsl(22.5,50%,50%)\", \"hsl(45.0,50%,50%)\", \"hsl(67.5,50%,50%)\", \"hsl(90.0,50%,50%)\", \"hsl(112.5,50%,50%)\", \"hsl(135.0,50%,50%)\", \"hsl(157.5,50%,50%)\", \"hsl(180.0,50%,50%)\", \"hsl(202.5,50%,50%)\", \"hsl(225.0,50%,50%)\", \"hsl(247.5,50%,50%)\", \"hsl(270.0,50%,50%)\", \"hsl(292.5,50%,50%)\", \"hsl(315.0,50%,50%)\", \"hsl(337.5,50%,50%)\", \"hsl(360.0,50%,50%)\"]}, \"name\": \"\\uc77c\\uc2dd \\uc74c\\uc2dd\\uc810\\uc5c5\", \"opacity\": 0.5, \"type\": \"bar\", \"visible\": false, \"x\": [\"\\uac15\\uc6d0\", \"\\uacbd\\uae30\", \"\\uacbd\\ub0a8\", \"\\uacbd\\ubd81\", \"\\uad11\\uc8fc\", \"\\ub300\\uad6c\", \"\\ub300\\uc804\", \"\\ubd80\\uc0b0\", \"\\uc11c\\uc6b8\", \"\\uc138\\uc885\", \"\\uc6b8\\uc0b0\", \"\\uc778\\ucc9c\", \"\\uc804\\ub0a8\", \"\\uc804\\ubd81\", \"\\uc81c\\uc8fc\", \"\\ucda9\\ub0a8\", \"\\ucda9\\ubd81\"], \"y\": [0.7536790794553967, 0.7985732602786553, 0.7581533315910073, 0.6122238725727515, 0.8777723695768176, 0.4838502323544248, 0.7064954037323263, 0.5854800403099115, 0.7521656113083317, 0.5828473474163202, 0.6131193481802745, 0.6861595058076763, 0.8080087019816552, 0.7888261795820579, 0.7154189984825174, 0.7241425847633662, 0.7248645166691641]}, {\"marker\": {\"color\": [\"hsl(0.0,50%,50%)\", \"hsl(22.5,50%,50%)\", \"hsl(45.0,50%,50%)\", \"hsl(67.5,50%,50%)\", \"hsl(90.0,50%,50%)\", \"hsl(112.5,50%,50%)\", \"hsl(135.0,50%,50%)\", \"hsl(157.5,50%,50%)\", \"hsl(180.0,50%,50%)\", \"hsl(202.5,50%,50%)\", \"hsl(225.0,50%,50%)\", \"hsl(247.5,50%,50%)\", \"hsl(270.0,50%,50%)\", \"hsl(292.5,50%,50%)\", \"hsl(315.0,50%,50%)\", \"hsl(337.5,50%,50%)\", \"hsl(360.0,50%,50%)\"]}, \"name\": \"\\ud734\\uc591\\ucf58\\ub3c4 \\uc6b4\\uc601\\uc5c5\", \"opacity\": 0.5, \"type\": \"bar\", \"visible\": false, \"x\": [\"\\uac15\\uc6d0\", \"\\uacbd\\uae30\", \"\\uacbd\\ub0a8\", \"\\uacbd\\ubd81\", \"\\ubd80\\uc0b0\", \"\\uc804\\ub0a8\", \"\\uc804\\ubd81\", \"\\uc81c\\uc8fc\", \"\\ucda9\\ub0a8\", \"\\ucda9\\ubd81\"], \"y\": [0.45675718626380535, 0.5627771471694035, 0.18223438619930024, 0.03657177184529073, 0.3810030344983237, 1.9992040794193042, 0.21754879954360623, 0.11334643200952689, 0.39029979874707504, 0.10537696340802737]}, {\"marker\": {\"color\": [\"hsl(0.0,50%,50%)\", \"hsl(22.5,50%,50%)\", \"hsl(45.0,50%,50%)\", \"hsl(67.5,50%,50%)\", \"hsl(90.0,50%,50%)\", \"hsl(112.5,50%,50%)\", \"hsl(135.0,50%,50%)\", \"hsl(157.5,50%,50%)\", \"hsl(180.0,50%,50%)\", \"hsl(202.5,50%,50%)\", \"hsl(225.0,50%,50%)\", \"hsl(247.5,50%,50%)\", \"hsl(270.0,50%,50%)\", \"hsl(292.5,50%,50%)\", \"hsl(315.0,50%,50%)\", \"hsl(337.5,50%,50%)\", \"hsl(360.0,50%,50%)\"]}, \"name\": \"\\ud53c\\uc790 \\ud584\\ubc84\\uac70 \\uc0cc\\ub4dc\\uc704\\uce58 \\ubc0f \\uc720\\uc0ac \\uc74c\\uc2dd\\uc810\\uc5c5\", \"opacity\": 0.5, \"type\": \"bar\", \"visible\": false, \"x\": [\"\\uac15\\uc6d0\", \"\\uacbd\\uae30\", \"\\uacbd\\ub0a8\", \"\\uacbd\\ubd81\", \"\\uad11\\uc8fc\", \"\\ub300\\uad6c\", \"\\ub300\\uc804\", \"\\ubd80\\uc0b0\", \"\\uc11c\\uc6b8\", \"\\uc138\\uc885\", \"\\uc6b8\\uc0b0\", \"\\uc778\\ucc9c\", \"\\uc804\\ub0a8\", \"\\uc804\\ubd81\", \"\\uc81c\\uc8fc\", \"\\ucda9\\ub0a8\", \"\\ucda9\\ubd81\"], \"y\": [0.899591722697409, 0.9270198469105738, 0.9899787302900539, 0.8534671061406206, 0.9144732936221969, 0.7844576549034677, 0.8698528042278454, 0.7470064268612399, 0.9150716892070537, 0.9043619762795573, 0.903666199985836, 0.7437737134327218, 1.0164845629135542, 0.9339258791658347, 0.9481751256602471, 0.8738643708052042, 0.9370880850907822]}, {\"marker\": {\"color\": [\"hsl(0.0,50%,50%)\", \"hsl(22.5,50%,50%)\", \"hsl(45.0,50%,50%)\", \"hsl(67.5,50%,50%)\", \"hsl(90.0,50%,50%)\", \"hsl(112.5,50%,50%)\", \"hsl(135.0,50%,50%)\", \"hsl(157.5,50%,50%)\", \"hsl(180.0,50%,50%)\", \"hsl(202.5,50%,50%)\", \"hsl(225.0,50%,50%)\", \"hsl(247.5,50%,50%)\", \"hsl(270.0,50%,50%)\", \"hsl(292.5,50%,50%)\", \"hsl(315.0,50%,50%)\", \"hsl(337.5,50%,50%)\", \"hsl(360.0,50%,50%)\"]}, \"name\": \"\\uccb4\\uc778\\ud654 \\ud3b8\\uc758\\uc810\", \"opacity\": 0.5, \"type\": \"bar\", \"visible\": false, \"x\": [\"\\uac15\\uc6d0\", \"\\uacbd\\uae30\", \"\\uacbd\\ub0a8\", \"\\uacbd\\ubd81\", \"\\uad11\\uc8fc\", \"\\ub300\\uad6c\", \"\\ub300\\uc804\", \"\\ubd80\\uc0b0\", \"\\uc11c\\uc6b8\", \"\\uc138\\uc885\", \"\\uc6b8\\uc0b0\", \"\\uc778\\ucc9c\", \"\\uc804\\ub0a8\", \"\\uc804\\ubd81\", \"\\uc81c\\uc8fc\", \"\\ucda9\\ub0a8\", \"\\ucda9\\ubd81\"], \"y\": [0.9565171545061689, 1.0569881177479346, 1.0323178453844966, 0.9634650550492154, 1.0178103042795548, 0.9157439470116656, 1.0021303536945076, 0.8804157445964897, 0.9422769260061009, 0.9732002672489285, 1.026356028412105, 0.9520664329025712, 1.123792876283041, 0.9830378737666943, 1.0025516636799383, 1.002136003112173, 1.0507252163494825]}, {\"marker\": {\"color\": [\"hsl(0.0,50%,50%)\", \"hsl(22.5,50%,50%)\", \"hsl(45.0,50%,50%)\", \"hsl(67.5,50%,50%)\", \"hsl(90.0,50%,50%)\", \"hsl(112.5,50%,50%)\", \"hsl(135.0,50%,50%)\", \"hsl(157.5,50%,50%)\", \"hsl(180.0,50%,50%)\", \"hsl(202.5,50%,50%)\", \"hsl(225.0,50%,50%)\", \"hsl(247.5,50%,50%)\", \"hsl(270.0,50%,50%)\", \"hsl(292.5,50%,50%)\", \"hsl(315.0,50%,50%)\", \"hsl(337.5,50%,50%)\", \"hsl(360.0,50%,50%)\"]}, \"name\": \"\\ub9c8\\uc0ac\\uc9c0\\uc5c5\", \"opacity\": 0.5, \"type\": \"bar\", \"visible\": false, \"x\": [\"\\uac15\\uc6d0\", \"\\uacbd\\uae30\", \"\\uacbd\\ub0a8\", \"\\uacbd\\ubd81\", \"\\uad11\\uc8fc\", \"\\ub300\\uad6c\", \"\\ub300\\uc804\", \"\\ubd80\\uc0b0\", \"\\uc11c\\uc6b8\", \"\\uc138\\uc885\", \"\\uc6b8\\uc0b0\", \"\\uc778\\ucc9c\", \"\\uc804\\ub0a8\", \"\\uc804\\ubd81\", \"\\uc81c\\uc8fc\", \"\\ucda9\\ub0a8\", \"\\ucda9\\ubd81\"], \"y\": [0.48316253751824095, 0.6046546838497119, 0.5565169873771089, 0.2939423711888157, 0.7012958578376624, 0.23316826491380654, 0.4938999881827501, 0.677267175016997, 0.5553043863801982, 0.13897617840851495, 0.6029163172207294, 0.703106327061613, 0.7751226010079585, 1.1130334930959718, 0.4174707973590655, 0.4442943665272792, 0.2948188163453056]}, {\"marker\": {\"color\": [\"hsl(0.0,50%,50%)\", \"hsl(22.5,50%,50%)\", \"hsl(45.0,50%,50%)\", \"hsl(67.5,50%,50%)\", \"hsl(90.0,50%,50%)\", \"hsl(112.5,50%,50%)\", \"hsl(135.0,50%,50%)\", \"hsl(157.5,50%,50%)\", \"hsl(180.0,50%,50%)\", \"hsl(202.5,50%,50%)\", \"hsl(225.0,50%,50%)\", \"hsl(247.5,50%,50%)\", \"hsl(270.0,50%,50%)\", \"hsl(292.5,50%,50%)\", \"hsl(315.0,50%,50%)\", \"hsl(337.5,50%,50%)\", \"hsl(360.0,50%,50%)\"]}, \"name\": \"\\uc11c\\uc591\\uc2dd \\uc74c\\uc2dd\\uc810\\uc5c5\", \"opacity\": 0.5, \"type\": \"bar\", \"visible\": false, \"x\": [\"\\uac15\\uc6d0\", \"\\uacbd\\uae30\", \"\\uacbd\\ub0a8\", \"\\uacbd\\ubd81\", \"\\uad11\\uc8fc\", \"\\ub300\\uad6c\", \"\\ub300\\uc804\", \"\\ubd80\\uc0b0\", \"\\uc11c\\uc6b8\", \"\\uc138\\uc885\", \"\\uc6b8\\uc0b0\", \"\\uc778\\ucc9c\", \"\\uc804\\ub0a8\", \"\\uc804\\ubd81\", \"\\uc81c\\uc8fc\", \"\\ucda9\\ub0a8\", \"\\ucda9\\ubd81\"], \"y\": [0.8932475747695373, 0.9148960336071826, 0.8376224253380985, 0.6839575283685602, 0.8754924354908531, 0.5535742723736455, 0.8049424807384151, 0.6816021850240814, 0.7747294622667438, 0.7497110023416865, 0.7391171448405582, 0.7625610179578549, 1.0196651068651548, 0.9283429700640536, 0.8604522751854016, 0.8344624448571691, 0.9474704996558618]}, {\"marker\": {\"color\": [\"hsl(0.0,50%,50%)\", \"hsl(22.5,50%,50%)\", \"hsl(45.0,50%,50%)\", \"hsl(67.5,50%,50%)\", \"hsl(90.0,50%,50%)\", \"hsl(112.5,50%,50%)\", \"hsl(135.0,50%,50%)\", \"hsl(157.5,50%,50%)\", \"hsl(180.0,50%,50%)\", \"hsl(202.5,50%,50%)\", \"hsl(225.0,50%,50%)\", \"hsl(247.5,50%,50%)\", \"hsl(270.0,50%,50%)\", \"hsl(292.5,50%,50%)\", \"hsl(315.0,50%,50%)\", \"hsl(337.5,50%,50%)\", \"hsl(360.0,50%,50%)\"]}, \"name\": \"\\uae30\\ud0c0 \\uc8fc\\uc810\\uc5c5\", \"opacity\": 0.5, \"type\": \"bar\", \"visible\": false, \"x\": [\"\\uac15\\uc6d0\", \"\\uacbd\\uae30\", \"\\uacbd\\ub0a8\", \"\\uacbd\\ubd81\", \"\\uad11\\uc8fc\", \"\\ub300\\uad6c\", \"\\ub300\\uc804\", \"\\ubd80\\uc0b0\", \"\\uc11c\\uc6b8\", \"\\uc138\\uc885\", \"\\uc6b8\\uc0b0\", \"\\uc778\\ucc9c\", \"\\uc804\\ub0a8\", \"\\uc804\\ubd81\", \"\\uc81c\\uc8fc\", \"\\ucda9\\ub0a8\", \"\\ucda9\\ubd81\"], \"y\": [0.8149659895653028, 0.7140350715676668, 0.8211446834621127, 0.5461882237326177, 0.8050765528466212, 0.3947449207770233, 0.5717834428439001, 0.6834480089321273, 0.5542708331320519, 0.45569620253164556, 0.5818813409577918, 0.8084078273923833, 0.8791982218964219, 0.8496463103527702, 0.7647727069268749, 0.656400933203439, 0.6688575647131039]}, {\"marker\": {\"color\": [\"hsl(0.0,50%,50%)\", \"hsl(22.5,50%,50%)\", \"hsl(45.0,50%,50%)\", \"hsl(67.5,50%,50%)\", \"hsl(90.0,50%,50%)\", \"hsl(112.5,50%,50%)\", \"hsl(135.0,50%,50%)\", \"hsl(157.5,50%,50%)\", \"hsl(180.0,50%,50%)\", \"hsl(202.5,50%,50%)\", \"hsl(225.0,50%,50%)\", \"hsl(247.5,50%,50%)\", \"hsl(270.0,50%,50%)\", \"hsl(292.5,50%,50%)\", \"hsl(315.0,50%,50%)\", \"hsl(337.5,50%,50%)\", \"hsl(360.0,50%,50%)\"]}, \"name\": \"\\uc721\\ub958 \\uc18c\\ub9e4\\uc5c5\", \"opacity\": 0.5, \"type\": \"bar\", \"visible\": false, \"x\": [\"\\uac15\\uc6d0\", \"\\uacbd\\uae30\", \"\\uacbd\\ub0a8\", \"\\uacbd\\ubd81\", \"\\uad11\\uc8fc\", \"\\ub300\\uad6c\", \"\\ub300\\uc804\", \"\\ubd80\\uc0b0\", \"\\uc11c\\uc6b8\", \"\\uc138\\uc885\", \"\\uc6b8\\uc0b0\", \"\\uc778\\ucc9c\", \"\\uc804\\ub0a8\", \"\\uc804\\ubd81\", \"\\uc81c\\uc8fc\", \"\\ucda9\\ub0a8\", \"\\ucda9\\ubd81\"], \"y\": [1.3192127777397584, 1.381193431076855, 1.3898274329905072, 1.3768389822027918, 1.3780700094121145, 1.3809455234621395, 1.3027577478985461, 1.2609940831217217, 1.3226567682870969, 1.2970693269451972, 1.2976130103759707, 1.1219685918244091, 1.2611855061059578, 1.271783694720899, 1.1481625921350094, 1.3524998066771623, 1.3742157039857197]}, {\"marker\": {\"color\": [\"hsl(0.0,50%,50%)\", \"hsl(22.5,50%,50%)\", \"hsl(45.0,50%,50%)\", \"hsl(67.5,50%,50%)\", \"hsl(90.0,50%,50%)\", \"hsl(112.5,50%,50%)\", \"hsl(135.0,50%,50%)\", \"hsl(157.5,50%,50%)\", \"hsl(180.0,50%,50%)\", \"hsl(202.5,50%,50%)\", \"hsl(225.0,50%,50%)\", \"hsl(247.5,50%,50%)\", \"hsl(270.0,50%,50%)\", \"hsl(292.5,50%,50%)\", \"hsl(315.0,50%,50%)\", \"hsl(337.5,50%,50%)\", \"hsl(360.0,50%,50%)\"]}, \"name\": \"\\uae30\\ud0c0 \\ub300\\ud615 \\uc885\\ud569 \\uc18c\\ub9e4\\uc5c5\", \"opacity\": 0.5, \"type\": \"bar\", \"visible\": false, \"x\": [\"\\uac15\\uc6d0\", \"\\uacbd\\uae30\", \"\\uacbd\\ub0a8\", \"\\uacbd\\ubd81\", \"\\uad11\\uc8fc\", \"\\ub300\\uad6c\", \"\\ub300\\uc804\", \"\\ubd80\\uc0b0\", \"\\uc11c\\uc6b8\", \"\\uc138\\uc885\", \"\\uc6b8\\uc0b0\", \"\\uc778\\ucc9c\", \"\\uc804\\ub0a8\", \"\\uc804\\ubd81\", \"\\uc81c\\uc8fc\", \"\\ucda9\\ub0a8\", \"\\ucda9\\ubd81\"], \"y\": [0.8126146955718158, 0.8286436881856091, 0.7748951784759317, 0.841870208243979, 0.7504883449080921, 0.7426308211743613, 0.7767731495641069, 0.8769990089821377, 0.8146583204523014, 0.9872846784782789, 0.7166436887060512, 0.8100121221836778, 0.7935199292550035, 0.8128537051136392, 0.8465433108781661, 0.8309911379910283, 0.8855582473624114]}, {\"marker\": {\"color\": [\"hsl(0.0,50%,50%)\", \"hsl(22.5,50%,50%)\", \"hsl(45.0,50%,50%)\", \"hsl(67.5,50%,50%)\", \"hsl(90.0,50%,50%)\", \"hsl(112.5,50%,50%)\", \"hsl(135.0,50%,50%)\", \"hsl(157.5,50%,50%)\", \"hsl(180.0,50%,50%)\", \"hsl(202.5,50%,50%)\", \"hsl(225.0,50%,50%)\", \"hsl(247.5,50%,50%)\", \"hsl(270.0,50%,50%)\", \"hsl(292.5,50%,50%)\", \"hsl(315.0,50%,50%)\", \"hsl(337.5,50%,50%)\", \"hsl(360.0,50%,50%)\"]}, \"name\": \"\\ud638\\ud154\\uc5c5\", \"opacity\": 0.5, \"type\": \"bar\", \"visible\": false, \"x\": [\"\\uac15\\uc6d0\", \"\\uacbd\\uae30\", \"\\uacbd\\ub0a8\", \"\\uacbd\\ubd81\", \"\\uad11\\uc8fc\", \"\\ub300\\uad6c\", \"\\ub300\\uc804\", \"\\ubd80\\uc0b0\", \"\\uc11c\\uc6b8\", \"\\uc6b8\\uc0b0\", \"\\uc778\\ucc9c\", \"\\uc804\\ub0a8\", \"\\uc804\\ubd81\", \"\\uc81c\\uc8fc\", \"\\ucda9\\ub0a8\", \"\\ucda9\\ubd81\"], \"y\": [0.5897592217836549, 0.22157180125530368, 0.20361160140079398, 0.0812507793982564, 0.4423317294946844, 0.09520044482738763, 0.37273438044920154, 0.35121707052963114, 0.38865205970633315, 0.6173036379794304, 0.29652824416496065, 0.3299835317281362, 0.12226286558764078, 0.4150587638317032, 0.09742945085918332, 0.3837168709974035]}, {\"marker\": {\"color\": [\"hsl(0.0,50%,50%)\", \"hsl(22.5,50%,50%)\", \"hsl(45.0,50%,50%)\", \"hsl(67.5,50%,50%)\", \"hsl(90.0,50%,50%)\", \"hsl(112.5,50%,50%)\", \"hsl(135.0,50%,50%)\", \"hsl(157.5,50%,50%)\", \"hsl(180.0,50%,50%)\", \"hsl(202.5,50%,50%)\", \"hsl(225.0,50%,50%)\", \"hsl(247.5,50%,50%)\", \"hsl(270.0,50%,50%)\", \"hsl(292.5,50%,50%)\", \"hsl(315.0,50%,50%)\", \"hsl(337.5,50%,50%)\", \"hsl(360.0,50%,50%)\"]}, \"name\": \"\\uae30\\ud0c0 \\uc218\\uc0c1\\uc624\\ub77d \\uc11c\\ube44\\uc2a4\\uc5c5\", \"opacity\": 0.5, \"type\": \"bar\", \"visible\": false, \"x\": [\"\\uac15\\uc6d0\", \"\\uacbd\\uae30\", \"\\uacbd\\ub0a8\", \"\\uacbd\\ubd81\", \"\\uad11\\uc8fc\", \"\\ub300\\uad6c\", \"\\ub300\\uc804\", \"\\ubd80\\uc0b0\", \"\\uc11c\\uc6b8\", \"\\uc6b8\\uc0b0\", \"\\uc778\\ucc9c\", \"\\uc804\\ubd81\", \"\\uc81c\\uc8fc\", \"\\ucda9\\ub0a8\", \"\\ucda9\\ubd81\"], \"y\": [0.16166338582677164, 0.7944414773271068, 0.24933199252980895, 0.5121913179100598, null, 0.08572723900589375, 0.2842455397641367, 0.20373126202315706, 0.5566114434316296, 0.16962052843318473, 1.133222168955958, 0.019703204888390075, 63.94406779661017, 2.014838722439076, 0.3704568903424244]}],\n",
       "                        {\"paper_bgcolor\": \"rgb(243, 243, 243)\", \"plot_bgcolor\": \"rgb(243, 243, 243)\", \"template\": {\"data\": {\"bar\": [{\"error_x\": {\"color\": \"#2a3f5f\"}, \"error_y\": {\"color\": \"#2a3f5f\"}, \"marker\": {\"line\": {\"color\": \"#E5ECF6\", \"width\": 0.5}}, \"type\": \"bar\"}], \"barpolar\": [{\"marker\": {\"line\": {\"color\": \"#E5ECF6\", \"width\": 0.5}}, \"type\": \"barpolar\"}], \"carpet\": [{\"aaxis\": {\"endlinecolor\": \"#2a3f5f\", \"gridcolor\": \"white\", \"linecolor\": \"white\", \"minorgridcolor\": \"white\", \"startlinecolor\": \"#2a3f5f\"}, \"baxis\": {\"endlinecolor\": \"#2a3f5f\", \"gridcolor\": \"white\", \"linecolor\": \"white\", \"minorgridcolor\": \"white\", \"startlinecolor\": \"#2a3f5f\"}, \"type\": \"carpet\"}], \"choropleth\": [{\"colorbar\": {\"outlinewidth\": 0, \"ticks\": \"\"}, \"type\": \"choropleth\"}], \"contour\": [{\"colorbar\": {\"outlinewidth\": 0, \"ticks\": \"\"}, \"colorscale\": [[0.0, \"#0d0887\"], [0.1111111111111111, \"#46039f\"], [0.2222222222222222, \"#7201a8\"], [0.3333333333333333, \"#9c179e\"], [0.4444444444444444, \"#bd3786\"], [0.5555555555555556, \"#d8576b\"], [0.6666666666666666, \"#ed7953\"], [0.7777777777777778, \"#fb9f3a\"], [0.8888888888888888, \"#fdca26\"], [1.0, \"#f0f921\"]], \"type\": \"contour\"}], \"contourcarpet\": [{\"colorbar\": {\"outlinewidth\": 0, \"ticks\": \"\"}, \"type\": \"contourcarpet\"}], \"heatmap\": [{\"colorbar\": {\"outlinewidth\": 0, \"ticks\": \"\"}, \"colorscale\": [[0.0, \"#0d0887\"], [0.1111111111111111, \"#46039f\"], [0.2222222222222222, \"#7201a8\"], [0.3333333333333333, \"#9c179e\"], [0.4444444444444444, \"#bd3786\"], [0.5555555555555556, \"#d8576b\"], [0.6666666666666666, \"#ed7953\"], [0.7777777777777778, \"#fb9f3a\"], [0.8888888888888888, \"#fdca26\"], [1.0, \"#f0f921\"]], \"type\": \"heatmap\"}], \"heatmapgl\": [{\"colorbar\": {\"outlinewidth\": 0, \"ticks\": \"\"}, \"colorscale\": [[0.0, \"#0d0887\"], [0.1111111111111111, \"#46039f\"], [0.2222222222222222, \"#7201a8\"], [0.3333333333333333, \"#9c179e\"], [0.4444444444444444, \"#bd3786\"], [0.5555555555555556, \"#d8576b\"], [0.6666666666666666, \"#ed7953\"], [0.7777777777777778, \"#fb9f3a\"], [0.8888888888888888, \"#fdca26\"], [1.0, \"#f0f921\"]], \"type\": \"heatmapgl\"}], \"histogram\": [{\"marker\": {\"colorbar\": {\"outlinewidth\": 0, \"ticks\": \"\"}}, \"type\": \"histogram\"}], \"histogram2d\": [{\"colorbar\": {\"outlinewidth\": 0, \"ticks\": \"\"}, \"colorscale\": [[0.0, \"#0d0887\"], [0.1111111111111111, \"#46039f\"], [0.2222222222222222, \"#7201a8\"], [0.3333333333333333, \"#9c179e\"], [0.4444444444444444, \"#bd3786\"], [0.5555555555555556, \"#d8576b\"], [0.6666666666666666, \"#ed7953\"], [0.7777777777777778, \"#fb9f3a\"], [0.8888888888888888, \"#fdca26\"], [1.0, \"#f0f921\"]], \"type\": \"histogram2d\"}], \"histogram2dcontour\": [{\"colorbar\": {\"outlinewidth\": 0, \"ticks\": \"\"}, \"colorscale\": [[0.0, \"#0d0887\"], [0.1111111111111111, \"#46039f\"], [0.2222222222222222, \"#7201a8\"], [0.3333333333333333, \"#9c179e\"], [0.4444444444444444, \"#bd3786\"], [0.5555555555555556, \"#d8576b\"], [0.6666666666666666, \"#ed7953\"], [0.7777777777777778, \"#fb9f3a\"], [0.8888888888888888, \"#fdca26\"], [1.0, \"#f0f921\"]], \"type\": \"histogram2dcontour\"}], \"mesh3d\": [{\"colorbar\": {\"outlinewidth\": 0, \"ticks\": \"\"}, \"type\": \"mesh3d\"}], \"parcoords\": [{\"line\": {\"colorbar\": {\"outlinewidth\": 0, \"ticks\": \"\"}}, \"type\": \"parcoords\"}], \"pie\": [{\"automargin\": true, \"type\": \"pie\"}], \"scatter\": [{\"marker\": {\"colorbar\": {\"outlinewidth\": 0, \"ticks\": \"\"}}, \"type\": \"scatter\"}], \"scatter3d\": [{\"line\": {\"colorbar\": {\"outlinewidth\": 0, \"ticks\": \"\"}}, \"marker\": {\"colorbar\": {\"outlinewidth\": 0, \"ticks\": \"\"}}, \"type\": \"scatter3d\"}], \"scattercarpet\": [{\"marker\": {\"colorbar\": {\"outlinewidth\": 0, \"ticks\": \"\"}}, \"type\": \"scattercarpet\"}], \"scattergeo\": [{\"marker\": {\"colorbar\": {\"outlinewidth\": 0, \"ticks\": \"\"}}, \"type\": \"scattergeo\"}], \"scattergl\": [{\"marker\": {\"colorbar\": {\"outlinewidth\": 0, \"ticks\": \"\"}}, \"type\": \"scattergl\"}], \"scattermapbox\": [{\"marker\": {\"colorbar\": {\"outlinewidth\": 0, \"ticks\": \"\"}}, \"type\": \"scattermapbox\"}], \"scatterpolar\": [{\"marker\": {\"colorbar\": {\"outlinewidth\": 0, \"ticks\": \"\"}}, \"type\": \"scatterpolar\"}], \"scatterpolargl\": [{\"marker\": {\"colorbar\": {\"outlinewidth\": 0, \"ticks\": \"\"}}, \"type\": \"scatterpolargl\"}], \"scatterternary\": [{\"marker\": {\"colorbar\": {\"outlinewidth\": 0, \"ticks\": \"\"}}, \"type\": \"scatterternary\"}], \"surface\": [{\"colorbar\": {\"outlinewidth\": 0, \"ticks\": \"\"}, \"colorscale\": [[0.0, \"#0d0887\"], [0.1111111111111111, \"#46039f\"], [0.2222222222222222, \"#7201a8\"], [0.3333333333333333, \"#9c179e\"], [0.4444444444444444, \"#bd3786\"], [0.5555555555555556, \"#d8576b\"], [0.6666666666666666, \"#ed7953\"], [0.7777777777777778, \"#fb9f3a\"], [0.8888888888888888, \"#fdca26\"], [1.0, \"#f0f921\"]], \"type\": \"surface\"}], \"table\": [{\"cells\": {\"fill\": {\"color\": \"#EBF0F8\"}, \"line\": {\"color\": \"white\"}}, \"header\": {\"fill\": {\"color\": \"#C8D4E3\"}, \"line\": {\"color\": \"white\"}}, \"type\": \"table\"}]}, \"layout\": {\"annotationdefaults\": {\"arrowcolor\": \"#2a3f5f\", \"arrowhead\": 0, \"arrowwidth\": 1}, \"coloraxis\": {\"colorbar\": {\"outlinewidth\": 0, \"ticks\": \"\"}}, \"colorscale\": {\"diverging\": [[0, \"#8e0152\"], [0.1, \"#c51b7d\"], [0.2, \"#de77ae\"], [0.3, \"#f1b6da\"], [0.4, \"#fde0ef\"], [0.5, \"#f7f7f7\"], [0.6, \"#e6f5d0\"], [0.7, \"#b8e186\"], [0.8, \"#7fbc41\"], [0.9, \"#4d9221\"], [1, \"#276419\"]], \"sequential\": [[0.0, \"#0d0887\"], [0.1111111111111111, \"#46039f\"], [0.2222222222222222, \"#7201a8\"], [0.3333333333333333, \"#9c179e\"], [0.4444444444444444, \"#bd3786\"], [0.5555555555555556, \"#d8576b\"], [0.6666666666666666, \"#ed7953\"], [0.7777777777777778, \"#fb9f3a\"], [0.8888888888888888, \"#fdca26\"], [1.0, \"#f0f921\"]], \"sequentialminus\": [[0.0, \"#0d0887\"], [0.1111111111111111, \"#46039f\"], [0.2222222222222222, \"#7201a8\"], [0.3333333333333333, \"#9c179e\"], [0.4444444444444444, \"#bd3786\"], [0.5555555555555556, \"#d8576b\"], [0.6666666666666666, \"#ed7953\"], [0.7777777777777778, \"#fb9f3a\"], [0.8888888888888888, \"#fdca26\"], [1.0, \"#f0f921\"]]}, \"colorway\": [\"#636efa\", \"#EF553B\", \"#00cc96\", \"#ab63fa\", \"#FFA15A\", \"#19d3f3\", \"#FF6692\", \"#B6E880\", \"#FF97FF\", \"#FECB52\"], \"font\": {\"color\": \"#2a3f5f\"}, \"geo\": {\"bgcolor\": \"white\", \"lakecolor\": \"white\", \"landcolor\": \"#E5ECF6\", \"showlakes\": true, \"showland\": true, \"subunitcolor\": \"white\"}, \"hoverlabel\": {\"align\": \"left\"}, \"hovermode\": \"closest\", \"mapbox\": {\"style\": \"light\"}, \"paper_bgcolor\": \"white\", \"plot_bgcolor\": \"#E5ECF6\", \"polar\": {\"angularaxis\": {\"gridcolor\": \"white\", \"linecolor\": \"white\", \"ticks\": \"\"}, \"bgcolor\": \"#E5ECF6\", \"radialaxis\": {\"gridcolor\": \"white\", \"linecolor\": \"white\", \"ticks\": \"\"}}, \"scene\": {\"xaxis\": {\"backgroundcolor\": \"#E5ECF6\", \"gridcolor\": \"white\", \"gridwidth\": 2, \"linecolor\": \"white\", \"showbackground\": true, \"ticks\": \"\", \"zerolinecolor\": \"white\"}, \"yaxis\": {\"backgroundcolor\": \"#E5ECF6\", \"gridcolor\": \"white\", \"gridwidth\": 2, \"linecolor\": \"white\", \"showbackground\": true, \"ticks\": \"\", \"zerolinecolor\": \"white\"}, \"zaxis\": {\"backgroundcolor\": \"#E5ECF6\", \"gridcolor\": \"white\", \"gridwidth\": 2, \"linecolor\": \"white\", \"showbackground\": true, \"ticks\": \"\", \"zerolinecolor\": \"white\"}}, \"shapedefaults\": {\"line\": {\"color\": \"#2a3f5f\"}}, \"ternary\": {\"aaxis\": {\"gridcolor\": \"white\", \"linecolor\": \"white\", \"ticks\": \"\"}, \"baxis\": {\"gridcolor\": \"white\", \"linecolor\": \"white\", \"ticks\": \"\"}, \"bgcolor\": \"#E5ECF6\", \"caxis\": {\"gridcolor\": \"white\", \"linecolor\": \"white\", \"ticks\": \"\"}}, \"title\": {\"x\": 0.05}, \"xaxis\": {\"automargin\": true, \"gridcolor\": \"white\", \"linecolor\": \"white\", \"ticks\": \"\", \"title\": {\"standoff\": 15}, \"zerolinecolor\": \"white\", \"zerolinewidth\": 2}, \"yaxis\": {\"automargin\": true, \"gridcolor\": \"white\", \"linecolor\": \"white\", \"ticks\": \"\", \"title\": {\"standoff\": 15}, \"zerolinecolor\": \"white\", \"zerolinewidth\": 2}}}, \"title\": {\"text\": \"Total\"}, \"updatemenus\": [{\"active\": 0, \"buttons\": [{\"args\": [{\"visible\": [true, false, false, false, false, false, false, false, false, false, false, false, false, false, false, false, false, false, false, false, false, false, false, false, false, false, false, false, false, false, false, false, false, false, false, false, false, false, false, false, false]}, {\"annotations\": [], \"title\": \"\\uba74\\uc138\\uc810\"}], \"label\": \"\\uba74\\uc138\\uc810\", \"method\": \"update\"}, {\"args\": [{\"visible\": [false, true, false, false, false, false, false, false, false, false, false, false, false, false, false, false, false, false, false, false, false, false, false, false, false, false, false, false, false, false, false, false, false, false, false, false, false, false, false, false, false]}, {\"annotations\": [], \"title\": \"\\uac74\\uac15\\ubcf4\\uc870\\uc2dd\\ud488 \\uc18c\\ub9e4\\uc5c5\"}], \"label\": \"\\uac74\\uac15\\ubcf4\\uc870\\uc2dd\\ud488 \\uc18c\\ub9e4\\uc5c5\", \"method\": \"update\"}, {\"args\": [{\"visible\": [false, false, true, false, false, false, false, false, false, false, false, false, false, false, false, false, false, false, false, false, false, false, false, false, false, false, false, false, false, false, false, false, false, false, false, false, false, false, false, false, false]}, {\"annotations\": [], \"title\": \"\\uc5ec\\uad00\\uc5c5\"}], \"label\": \"\\uc5ec\\uad00\\uc5c5\", \"method\": \"update\"}, {\"args\": [{\"visible\": [false, false, false, true, false, false, false, false, false, false, false, false, false, false, false, false, false, false, false, false, false, false, false, false, false, false, false, false, false, false, false, false, false, false, false, false, false, false, false, false, false]}, {\"annotations\": [], \"title\": \"\\uace8\\ud504\\uc7a5 \\uc6b4\\uc601\\uc5c5\"}], \"label\": \"\\uace8\\ud504\\uc7a5 \\uc6b4\\uc601\\uc5c5\", \"method\": \"update\"}, {\"args\": [{\"visible\": [false, false, false, false, true, false, false, false, false, false, false, false, false, false, false, false, false, false, false, false, false, false, false, false, false, false, false, false, false, false, false, false, false, false, false, false, false, false, false, false, false]}, {\"annotations\": [], \"title\": \"\\uadf8\\uc678 \\uae30\\ud0c0 \\ubd84\\ub958\\uc548\\ub41c \\uc624\\ub77d\\uad00\\ub828 \\uc11c\\ube44\\uc2a4\\uc5c5\"}], \"label\": \"\\uadf8\\uc678 \\uae30\\ud0c0 \\ubd84\\ub958\\uc548\\ub41c \\uc624\\ub77d\\uad00\\ub828 \\uc11c\\ube44\\uc2a4\\uc5c5\", \"method\": \"update\"}, {\"args\": [{\"visible\": [false, false, false, false, false, true, false, false, false, false, false, false, false, false, false, false, false, false, false, false, false, false, false, false, false, false, false, false, false, false, false, false, false, false, false, false, false, false, false, false, false]}, {\"annotations\": [], \"title\": \"\\uc2a4\\ud3ec\\uce20 \\ubc0f \\ub808\\ud06c\\ub808\\uc774\\uc158 \\uc6a9\\ud488 \\uc784\\ub300\\uc5c5\"}], \"label\": \"\\uc2a4\\ud3ec\\uce20 \\ubc0f \\ub808\\ud06c\\ub808\\uc774\\uc158 \\uc6a9\\ud488 \\uc784\\ub300\\uc5c5\", \"method\": \"update\"}, {\"args\": [{\"visible\": [false, false, false, false, false, false, true, false, false, false, false, false, false, false, false, false, false, false, false, false, false, false, false, false, false, false, false, false, false, false, false, false, false, false, false, false, false, false, false, false, false]}, {\"annotations\": [], \"title\": \"\\uc911\\uc2dd \\uc74c\\uc2dd\\uc810\\uc5c5\"}], \"label\": \"\\uc911\\uc2dd \\uc74c\\uc2dd\\uc810\\uc5c5\", \"method\": \"update\"}, {\"args\": [{\"visible\": [false, false, false, false, false, false, false, true, false, false, false, false, false, false, false, false, false, false, false, false, false, false, false, false, false, false, false, false, false, false, false, false, false, false, false, false, false, false, false, false, false]}, {\"annotations\": [], \"title\": \"\\uc695\\ud0d5\\uc5c5\"}], \"label\": \"\\uc695\\ud0d5\\uc5c5\", \"method\": \"update\"}, {\"args\": [{\"visible\": [false, false, false, false, false, false, false, false, true, false, false, false, false, false, false, false, false, false, false, false, false, false, false, false, false, false, false, false, false, false, false, false, false, false, false, false, false, false, false, false, false]}, {\"annotations\": [], \"title\": \"\\ube75 \\ubc0f \\uacfc\\uc790\\ub958 \\uc18c\\ub9e4\\uc5c5\"}], \"label\": \"\\ube75 \\ubc0f \\uacfc\\uc790\\ub958 \\uc18c\\ub9e4\\uc5c5\", \"method\": \"update\"}, {\"args\": [{\"visible\": [false, false, false, false, false, false, false, false, false, true, false, false, false, false, false, false, false, false, false, false, false, false, false, false, false, false, false, false, false, false, false, false, false, false, false, false, false, false, false, false, false]}, {\"annotations\": [], \"title\": \"\\ub0b4\\ud56d \\uc5ec\\uac1d \\uc6b4\\uc1a1\\uc5c5\"}], \"label\": \"\\ub0b4\\ud56d \\uc5ec\\uac1d \\uc6b4\\uc1a1\\uc5c5\", \"method\": \"update\"}, {\"args\": [{\"visible\": [false, false, false, false, false, false, false, false, false, false, true, false, false, false, false, false, false, false, false, false, false, false, false, false, false, false, false, false, false, false, false, false, false, false, false, false, false, false, false, false, false]}, {\"annotations\": [], \"title\": \"\\uadf8\\uc678 \\uae30\\ud0c0 \\uc885\\ud569 \\uc18c\\ub9e4\\uc5c5\"}], \"label\": \"\\uadf8\\uc678 \\uae30\\ud0c0 \\uc885\\ud569 \\uc18c\\ub9e4\\uc5c5\", \"method\": \"update\"}, {\"args\": [{\"visible\": [false, false, false, false, false, false, false, false, false, false, false, true, false, false, false, false, false, false, false, false, false, false, false, false, false, false, false, false, false, false, false, false, false, false, false, false, false, false, false, false, false]}, {\"annotations\": [], \"title\": \"\\uc804\\uc2dc \\ubc0f \\ud589\\uc0ac \\ub300\\ud589\\uc5c5\"}], \"label\": \"\\uc804\\uc2dc \\ubc0f \\ud589\\uc0ac \\ub300\\ud589\\uc5c5\", \"method\": \"update\"}, {\"args\": [{\"visible\": [false, false, false, false, false, false, false, false, false, false, false, false, true, false, false, false, false, false, false, false, false, false, false, false, false, false, false, false, false, false, false, false, false, false, false, false, false, false, false, false, false]}, {\"annotations\": [], \"title\": \"\\ud0dd\\uc2dc \\uc6b4\\uc1a1\\uc5c5\"}], \"label\": \"\\ud0dd\\uc2dc \\uc6b4\\uc1a1\\uc5c5\", \"method\": \"update\"}, {\"args\": [{\"visible\": [false, false, false, false, false, false, false, false, false, false, false, false, false, true, false, false, false, false, false, false, false, false, false, false, false, false, false, false, false, false, false, false, false, false, false, false, false, false, false, false, false]}, {\"annotations\": [], \"title\": \"\\ud654\\uc7a5\\ud488 \\ubc0f \\ubc29\\ud5a5\\uc81c \\uc18c\\ub9e4\\uc5c5\"}], \"label\": \"\\ud654\\uc7a5\\ud488 \\ubc0f \\ubc29\\ud5a5\\uc81c \\uc18c\\ub9e4\\uc5c5\", \"method\": \"update\"}, {\"args\": [{\"visible\": [false, false, false, false, false, false, false, false, false, false, false, false, false, false, true, false, false, false, false, false, false, false, false, false, false, false, false, false, false, false, false, false, false, false, false, false, false, false, false, false, false]}, {\"annotations\": [], \"title\": \"\\uad00\\uad11 \\ubbfc\\uc608\\ud488 \\ubc0f \\uc120\\ubb3c\\uc6a9\\ud488 \\uc18c\\ub9e4\\uc5c5\"}], \"label\": \"\\uad00\\uad11 \\ubbfc\\uc608\\ud488 \\ubc0f \\uc120\\ubb3c\\uc6a9\\ud488 \\uc18c\\ub9e4\\uc5c5\", \"method\": \"update\"}, {\"args\": [{\"visible\": [false, false, false, false, false, false, false, false, false, false, false, false, false, false, false, true, false, false, false, false, false, false, false, false, false, false, false, false, false, false, false, false, false, false, false, false, false, false, false, false, false]}, {\"annotations\": [], \"title\": \"\\uadf8\\uc678 \\uae30\\ud0c0 \\uc2a4\\ud3ec\\uce20\\uc2dc\\uc124 \\uc6b4\\uc601\\uc5c5\"}], \"label\": \"\\uadf8\\uc678 \\uae30\\ud0c0 \\uc2a4\\ud3ec\\uce20\\uc2dc\\uc124 \\uc6b4\\uc601\\uc5c5\", \"method\": \"update\"}, {\"args\": [{\"visible\": [false, false, false, false, false, false, false, false, false, false, false, false, false, false, false, false, true, false, false, false, false, false, false, false, false, false, false, false, false, false, false, false, false, false, false, false, false, false, false, false, false]}, {\"annotations\": [], \"title\": \"\\uc288\\ud37c\\ub9c8\\ucf13\"}], \"label\": \"\\uc288\\ud37c\\ub9c8\\ucf13\", \"method\": \"update\"}, {\"args\": [{\"visible\": [false, false, false, false, false, false, false, false, false, false, false, false, false, false, false, false, false, true, false, false, false, false, false, false, false, false, false, false, false, false, false, false, false, false, false, false, false, false, false, false, false]}, {\"annotations\": [], \"title\": \"\\uc5ec\\ud589\\uc0ac\\uc5c5\"}], \"label\": \"\\uc5ec\\ud589\\uc0ac\\uc5c5\", \"method\": \"update\"}, {\"args\": [{\"visible\": [false, false, false, false, false, false, false, false, false, false, false, false, false, false, false, false, false, false, true, false, false, false, false, false, false, false, false, false, false, false, false, false, false, false, false, false, false, false, false, false, false]}, {\"annotations\": [], \"title\": \"\\ubc84\\uc2a4 \\uc6b4\\uc1a1\\uc5c5\"}], \"label\": \"\\ubc84\\uc2a4 \\uc6b4\\uc1a1\\uc5c5\", \"method\": \"update\"}, {\"args\": [{\"visible\": [false, false, false, false, false, false, false, false, false, false, false, false, false, false, false, false, false, false, false, true, false, false, false, false, false, false, false, false, false, false, false, false, false, false, false, false, false, false, false, false, false]}, {\"annotations\": [], \"title\": \"\\uc815\\uae30 \\ud56d\\uacf5 \\uc6b4\\uc1a1\\uc5c5\"}], \"label\": \"\\uc815\\uae30 \\ud56d\\uacf5 \\uc6b4\\uc1a1\\uc5c5\", \"method\": \"update\"}, {\"args\": [{\"visible\": [false, false, false, false, false, false, false, false, false, false, false, false, false, false, false, false, false, false, false, false, true, false, false, false, false, false, false, false, false, false, false, false, false, false, false, false, false, false, false, false, false]}, {\"annotations\": [], \"title\": \"\\ud55c\\uc2dd \\uc74c\\uc2dd\\uc810\\uc5c5\"}], \"label\": \"\\ud55c\\uc2dd \\uc74c\\uc2dd\\uc810\\uc5c5\", \"method\": \"update\"}, {\"args\": [{\"visible\": [false, false, false, false, false, false, false, false, false, false, false, false, false, false, false, false, false, false, false, false, false, true, false, false, false, false, false, false, false, false, false, false, false, false, false, false, false, false, false, false, false]}, {\"annotations\": [], \"title\": \"\\uc790\\ub3d9\\ucc28 \\uc784\\ub300\\uc5c5\"}], \"label\": \"\\uc790\\ub3d9\\ucc28 \\uc784\\ub300\\uc5c5\", \"method\": \"update\"}, {\"args\": [{\"visible\": [false, false, false, false, false, false, false, false, false, false, false, false, false, false, false, false, false, false, false, false, false, false, true, false, false, false, false, false, false, false, false, false, false, false, false, false, false, false, false, false, false]}, {\"annotations\": [], \"title\": \"\\ucc28\\ub7c9\\uc6a9 \\uac00\\uc2a4 \\ucda9\\uc804\\uc5c5\"}], \"label\": \"\\ucc28\\ub7c9\\uc6a9 \\uac00\\uc2a4 \\ucda9\\uc804\\uc5c5\", \"method\": \"update\"}, {\"args\": [{\"visible\": [false, false, false, false, false, false, false, false, false, false, false, false, false, false, false, false, false, false, false, false, false, false, false, true, false, false, false, false, false, false, false, false, false, false, false, false, false, false, false, false, false]}, {\"annotations\": [], \"title\": \"\\ucc28\\ub7c9\\uc6a9 \\uc8fc\\uc720\\uc18c \\uc6b4\\uc601\\uc5c5\"}], \"label\": \"\\ucc28\\ub7c9\\uc6a9 \\uc8fc\\uc720\\uc18c \\uc6b4\\uc601\\uc5c5\", \"method\": \"update\"}, {\"args\": [{\"visible\": [false, false, false, false, false, false, false, false, false, false, false, false, false, false, false, false, false, false, false, false, false, false, false, false, true, false, false, false, false, false, false, false, false, false, false, false, false, false, false, false, false]}, {\"annotations\": [], \"title\": \"\\uacfc\\uc2e4 \\ubc0f \\ucc44\\uc18c \\uc18c\\ub9e4\\uc5c5\"}], \"label\": \"\\uacfc\\uc2e4 \\ubc0f \\ucc44\\uc18c \\uc18c\\ub9e4\\uc5c5\", \"method\": \"update\"}, {\"args\": [{\"visible\": [false, false, false, false, false, false, false, false, false, false, false, false, false, false, false, false, false, false, false, false, false, false, false, false, false, true, false, false, false, false, false, false, false, false, false, false, false, false, false, false, false]}, {\"annotations\": [], \"title\": \"\\uae30\\ud0c0\\uc74c\\uc2dd\\ub8cc\\ud488\\uc704\\uc8fc\\uc885\\ud569\\uc18c\\ub9e4\\uc5c5\"}], \"label\": \"\\uae30\\ud0c0\\uc74c\\uc2dd\\ub8cc\\ud488\\uc704\\uc8fc\\uc885\\ud569\\uc18c\\ub9e4\\uc5c5\", \"method\": \"update\"}, {\"args\": [{\"visible\": [false, false, false, false, false, false, false, false, false, false, false, false, false, false, false, false, false, false, false, false, false, false, false, false, false, false, true, false, false, false, false, false, false, false, false, false, false, false, false, false, false]}, {\"annotations\": [], \"title\": \"\\ube44\\uc54c\\ucf5c \\uc74c\\ub8cc\\uc810\\uc5c5\"}], \"label\": \"\\ube44\\uc54c\\ucf5c \\uc74c\\ub8cc\\uc810\\uc5c5\", \"method\": \"update\"}, {\"args\": [{\"visible\": [false, false, false, false, false, false, false, false, false, false, false, false, false, false, false, false, false, false, false, false, false, false, false, false, false, false, false, true, false, false, false, false, false, false, false, false, false, false, false, false, false]}, {\"annotations\": [], \"title\": \"\\uc218\\uc0b0\\ubb3c \\uc18c\\ub9e4\\uc5c5\"}], \"label\": \"\\uc218\\uc0b0\\ubb3c \\uc18c\\ub9e4\\uc5c5\", \"method\": \"update\"}, {\"args\": [{\"visible\": [false, false, false, false, false, false, false, false, false, false, false, false, false, false, false, false, false, false, false, false, false, false, false, false, false, false, false, false, true, false, false, false, false, false, false, false, false, false, false, false, false]}, {\"annotations\": [], \"title\": \"\\uae30\\ud0c0 \\uc678\\uad6d\\uc2dd \\uc74c\\uc2dd\\uc810\\uc5c5\"}], \"label\": \"\\uae30\\ud0c0 \\uc678\\uad6d\\uc2dd \\uc74c\\uc2dd\\uc810\\uc5c5\", \"method\": \"update\"}, {\"args\": [{\"visible\": [false, false, false, false, false, false, false, false, false, false, false, false, false, false, false, false, false, false, false, false, false, false, false, false, false, false, false, false, false, true, false, false, false, false, false, false, false, false, false, false, false]}, {\"annotations\": [], \"title\": \"\\uc77c\\ubc18\\uc720\\ud765 \\uc8fc\\uc810\\uc5c5\"}], \"label\": \"\\uc77c\\ubc18\\uc720\\ud765 \\uc8fc\\uc810\\uc5c5\", \"method\": \"update\"}, {\"args\": [{\"visible\": [false, false, false, false, false, false, false, false, false, false, false, false, false, false, false, false, false, false, false, false, false, false, false, false, false, false, false, false, false, false, true, false, false, false, false, false, false, false, false, false, false]}, {\"annotations\": [], \"title\": \"\\uc77c\\uc2dd \\uc74c\\uc2dd\\uc810\\uc5c5\"}], \"label\": \"\\uc77c\\uc2dd \\uc74c\\uc2dd\\uc810\\uc5c5\", \"method\": \"update\"}, {\"args\": [{\"visible\": [false, false, false, false, false, false, false, false, false, false, false, false, false, false, false, false, false, false, false, false, false, false, false, false, false, false, false, false, false, false, false, true, false, false, false, false, false, false, false, false, false]}, {\"annotations\": [], \"title\": \"\\ud734\\uc591\\ucf58\\ub3c4 \\uc6b4\\uc601\\uc5c5\"}], \"label\": \"\\ud734\\uc591\\ucf58\\ub3c4 \\uc6b4\\uc601\\uc5c5\", \"method\": \"update\"}, {\"args\": [{\"visible\": [false, false, false, false, false, false, false, false, false, false, false, false, false, false, false, false, false, false, false, false, false, false, false, false, false, false, false, false, false, false, false, false, true, false, false, false, false, false, false, false, false]}, {\"annotations\": [], \"title\": \"\\ud53c\\uc790 \\ud584\\ubc84\\uac70 \\uc0cc\\ub4dc\\uc704\\uce58 \\ubc0f \\uc720\\uc0ac \\uc74c\\uc2dd\\uc810\\uc5c5\"}], \"label\": \"\\ud53c\\uc790 \\ud584\\ubc84\\uac70 \\uc0cc\\ub4dc\\uc704\\uce58 \\ubc0f \\uc720\\uc0ac \\uc74c\\uc2dd\\uc810\\uc5c5\", \"method\": \"update\"}, {\"args\": [{\"visible\": [false, false, false, false, false, false, false, false, false, false, false, false, false, false, false, false, false, false, false, false, false, false, false, false, false, false, false, false, false, false, false, false, false, true, false, false, false, false, false, false, false]}, {\"annotations\": [], \"title\": \"\\uccb4\\uc778\\ud654 \\ud3b8\\uc758\\uc810\"}], \"label\": \"\\uccb4\\uc778\\ud654 \\ud3b8\\uc758\\uc810\", \"method\": \"update\"}, {\"args\": [{\"visible\": [false, false, false, false, false, false, false, false, false, false, false, false, false, false, false, false, false, false, false, false, false, false, false, false, false, false, false, false, false, false, false, false, false, false, true, false, false, false, false, false, false]}, {\"annotations\": [], \"title\": \"\\ub9c8\\uc0ac\\uc9c0\\uc5c5\"}], \"label\": \"\\ub9c8\\uc0ac\\uc9c0\\uc5c5\", \"method\": \"update\"}, {\"args\": [{\"visible\": [false, false, false, false, false, false, false, false, false, false, false, false, false, false, false, false, false, false, false, false, false, false, false, false, false, false, false, false, false, false, false, false, false, false, false, true, false, false, false, false, false]}, {\"annotations\": [], \"title\": \"\\uc11c\\uc591\\uc2dd \\uc74c\\uc2dd\\uc810\\uc5c5\"}], \"label\": \"\\uc11c\\uc591\\uc2dd \\uc74c\\uc2dd\\uc810\\uc5c5\", \"method\": \"update\"}, {\"args\": [{\"visible\": [false, false, false, false, false, false, false, false, false, false, false, false, false, false, false, false, false, false, false, false, false, false, false, false, false, false, false, false, false, false, false, false, false, false, false, false, true, false, false, false, false]}, {\"annotations\": [], \"title\": \"\\uae30\\ud0c0 \\uc8fc\\uc810\\uc5c5\"}], \"label\": \"\\uae30\\ud0c0 \\uc8fc\\uc810\\uc5c5\", \"method\": \"update\"}, {\"args\": [{\"visible\": [false, false, false, false, false, false, false, false, false, false, false, false, false, false, false, false, false, false, false, false, false, false, false, false, false, false, false, false, false, false, false, false, false, false, false, false, false, true, false, false, false]}, {\"annotations\": [], \"title\": \"\\uc721\\ub958 \\uc18c\\ub9e4\\uc5c5\"}], \"label\": \"\\uc721\\ub958 \\uc18c\\ub9e4\\uc5c5\", \"method\": \"update\"}, {\"args\": [{\"visible\": [false, false, false, false, false, false, false, false, false, false, false, false, false, false, false, false, false, false, false, false, false, false, false, false, false, false, false, false, false, false, false, false, false, false, false, false, false, false, true, false, false]}, {\"annotations\": [], \"title\": \"\\uae30\\ud0c0 \\ub300\\ud615 \\uc885\\ud569 \\uc18c\\ub9e4\\uc5c5\"}], \"label\": \"\\uae30\\ud0c0 \\ub300\\ud615 \\uc885\\ud569 \\uc18c\\ub9e4\\uc5c5\", \"method\": \"update\"}, {\"args\": [{\"visible\": [false, false, false, false, false, false, false, false, false, false, false, false, false, false, false, false, false, false, false, false, false, false, false, false, false, false, false, false, false, false, false, false, false, false, false, false, false, false, false, true, false]}, {\"annotations\": [], \"title\": \"\\ud638\\ud154\\uc5c5\"}], \"label\": \"\\ud638\\ud154\\uc5c5\", \"method\": \"update\"}, {\"args\": [{\"visible\": [false, false, false, false, false, false, false, false, false, false, false, false, false, false, false, false, false, false, false, false, false, false, false, false, false, false, false, false, false, false, false, false, false, false, false, false, false, false, false, false, true]}, {\"annotations\": [], \"title\": \"\\uae30\\ud0c0 \\uc218\\uc0c1\\uc624\\ub77d \\uc11c\\ube44\\uc2a4\\uc5c5\"}], \"label\": \"\\uae30\\ud0c0 \\uc218\\uc0c1\\uc624\\ub77d \\uc11c\\ube44\\uc2a4\\uc5c5\", \"method\": \"update\"}], \"direction\": \"down\", \"pad\": {\"r\": 10, \"t\": 10}, \"showactive\": true, \"x\": 0.7, \"xanchor\": \"left\", \"y\": 1.25, \"yanchor\": \"top\"}], \"xaxis\": {\"showgrid\": false, \"showticklabels\": true, \"zeroline\": false}, \"yaxis\": {\"gridcolor\": \"white\", \"zeroline\": false}},\n",
       "                        {\"responsive\": true}\n",
       "                    ).then(function(){\n",
       "                            \n",
       "var gd = document.getElementById('67c8bb4a-40e4-49dd-803a-017815c5b128');\n",
       "var x = new MutationObserver(function (mutations, observer) {{\n",
       "        var display = window.getComputedStyle(gd).display;\n",
       "        if (!display || display === 'none') {{\n",
       "            console.log([gd, 'removed!']);\n",
       "            Plotly.purge(gd);\n",
       "            observer.disconnect();\n",
       "        }}\n",
       "}});\n",
       "\n",
       "// Listen for the removal of the full notebook cells\n",
       "var notebookContainer = gd.closest('#notebook-container');\n",
       "if (notebookContainer) {{\n",
       "    x.observe(notebookContainer, {childList: true});\n",
       "}}\n",
       "\n",
       "// Listen for the clearing of the current output cell\n",
       "var outputEl = gd.closest('.output');\n",
       "if (outputEl) {{\n",
       "    x.observe(outputEl, {childList: true});\n",
       "}}\n",
       "\n",
       "                        })\n",
       "                };\n",
       "                });\n",
       "            </script>\n",
       "        </div>"
      ]
     },
     "metadata": {},
     "output_type": "display_data"
    }
   ],
   "source": [
    "s1 =list(set(df202034['STD_CLSS_NM']))\n",
    "\n",
    "fig = go.Figure()\n",
    "df202034=df3[df3['REG_YYMM'].isin(['202003','202004'])]\n",
    "df201934=df3[df3['REG_YYMM'].isin(['201903','201904'])]\n",
    "\n",
    "N =  len(list(set(df202034['CARD_SIDO_NM'])))\n",
    "c = ['hsl('+str(h)+',50%'+',50%)' for h in np.linspace(0, 360, N)]\n",
    "\n",
    "\n",
    "for i in s1:\n",
    "    df202034_1=df202034[df202034['STD_CLSS_NM']==i].groupby('CARD_SIDO_NM').sum()\n",
    "    df201934_1=df201934[df201934['STD_CLSS_NM']==i].groupby('CARD_SIDO_NM').sum()\n",
    "    df_amt= df202034_1['AMT']/df201934_1['AMT']\n",
    "    # Load dataset\n",
    "    df = df_amt\n",
    "    # Add Traces\n",
    "\n",
    "    fig.add_trace(go.Bar(x=list(df.index),y=list(df),marker_color=c,name=i,visible=False,opacity=0.5))\n",
    "\n",
    "visible1 = [False]*(len(s1)); list1=[] ; j = 0\n",
    "\n",
    "for i in s1 :\n",
    "    visible1_temp = copy.deepcopy(visible1)\n",
    "    visible1_temp[j] = True\n",
    "    dict_temp = dict(label=i,method=\"update\",args=[{\"visible\": visible1_temp},{\"title\": i, \"annotations\": []}])\n",
    "    list1.append(dict_temp)\n",
    "    j+=1\n",
    "\n",
    "button_layer_1_height = 1.25\n",
    "fig.update_layout(\n",
    "    updatemenus=[\n",
    "        dict(\n",
    "            active=0,\n",
    "            buttons=list1,\n",
    "            direction=\"down\",\n",
    "            pad={\"r\": 10, \"t\": 10},\n",
    "            showactive=True,\n",
    "            x=0.7,\n",
    "            xanchor=\"left\",\n",
    "            y=button_layer_1_height,\n",
    "            yanchor=\"top\")])\n",
    "\n",
    "# Set title\n",
    "fig.update_layout(title_text=\"Total\", paper_bgcolor='rgb(243, 243, 243)',\n",
    "    plot_bgcolor='rgb(243, 243, 243)', xaxis=dict(showgrid=False, zeroline=False, showticklabels=True),\n",
    "    yaxis=dict(zeroline=False, gridcolor='white'))\n",
    "fig.show()"
   ]
  },
  {
   "cell_type": "markdown",
   "metadata": {},
   "source": [
    "##  &nbsp;&nbsp;&nbsp;&nbsp;&nbsp;&nbsp; &nbsp;&nbsp;&nbsp;&nbsp;&nbsp;&nbsp; &nbsp;&nbsp;&nbsp;&nbsp;&nbsp;&nbsp;6.포스트 코로나 이전 이후  특정 업종의 소비자 특성 비교\n",
    "  &nbsp;&nbsp;&nbsp;&nbsp;&nbsp;&nbsp;\n",
    "  \n",
    "  \n",
    "  \n",
    "  \n",
    "  \n",
    "  \n",
    "  \n",
    "  \n",
    "  \n",
    "  \n",
    "  \n",
    "   &nbsp;&nbsp;&nbsp;&nbsp;&nbsp;&nbsp;\n",
    "### 유입 유출 비교"
   ]
  },
  {
   "cell_type": "code",
   "execution_count": null,
   "metadata": {},
   "outputs": [],
   "source": []
  },
  {
   "cell_type": "markdown",
   "metadata": {},
   "source": [
    "##  &nbsp;&nbsp;&nbsp;&nbsp;&nbsp;&nbsp; &nbsp;&nbsp;&nbsp;&nbsp;&nbsp;&nbsp; &nbsp;&nbsp;&nbsp;&nbsp;&nbsp;&nbsp;7.포스트 코로나 이전 이후  특정 지역의 소비자 특성 비교\n",
    "  &nbsp;&nbsp;&nbsp;&nbsp;&nbsp;&nbsp;\n",
    "  \n",
    "  \n",
    "  \n",
    "  \n",
    "  \n",
    "  \n",
    "  \n",
    "  \n",
    "  \n",
    "  \n",
    "  \n",
    "   &nbsp;&nbsp;&nbsp;&nbsp;&nbsp;&nbsp;\n",
    "### 유입 유출 비교"
   ]
  },
  {
   "cell_type": "code",
   "execution_count": null,
   "metadata": {},
   "outputs": [],
   "source": []
  },
  {
   "cell_type": "code",
   "execution_count": null,
   "metadata": {},
   "outputs": [],
   "source": []
  },
  {
   "cell_type": "markdown",
   "metadata": {},
   "source": [
    "##  &nbsp;&nbsp;&nbsp;&nbsp;&nbsp;&nbsp; &nbsp;&nbsp;&nbsp;&nbsp;&nbsp;&nbsp; &nbsp;&nbsp;&nbsp;&nbsp;&nbsp;&nbsp;&nbsp;&nbsp;&nbsp;&nbsp;&nbsp;&nbsp;8. 코로나 이전 특정 지역 업종의 소비자 특성 제시\n",
    "  &nbsp;&nbsp;&nbsp;&nbsp;&nbsp;&nbsp;\n",
    "  \n",
    "  \n",
    "  \n",
    "  \n",
    "  \n",
    "  \n",
    "  \n",
    "  \n",
    "  \n",
    "  \n",
    "  \n",
    "   &nbsp;&nbsp;&nbsp;&nbsp;&nbsp;&nbsp;\n",
    "###  코로나 이전(2019.03) 특정 지역 업종 소비자 특성 모듈 생성\n",
    "    코로나 이전(2019.03) 특정 지역과 업종을 입력하면 소비자 특성을 시각화 하는 모듈 생성"
   ]
  },
  {
   "cell_type": "code",
   "execution_count": 22,
   "metadata": {},
   "outputs": [],
   "source": [
    "import ipywidgets as widgets\n",
    "s1 =list(set(df202034['STD_CLSS_NM']))\n",
    "s2 = list(set(df202034['CARD_SIDO_NM']))\n",
    "\n",
    "set_business = s1\n",
    "set_sido = s2\n",
    "job31 = widgets.Dropdown(options=list(set_business), value=set_business[0])\n",
    "sido1 = widgets.Dropdown(options=list(set_sido), value=set_sido[0])"
   ]
  },
  {
   "cell_type": "code",
   "execution_count": 23,
   "metadata": {},
   "outputs": [
    {
     "data": {
      "application/vnd.jupyter.widget-view+json": {
       "model_id": "02063cd51ccf4c2694b8358c284cc40a",
       "version_major": 2,
       "version_minor": 0
      },
      "text/plain": [
       "Dropdown(options=('면세점', '건강보조식품 소매업', '여관업', '골프장 운영업', '그외 기타 분류안된 오락관련 서비스업', '스포츠 및 레크레이션 용품 임대업', '중식 음식점…"
      ]
     },
     "metadata": {},
     "output_type": "display_data"
    }
   ],
   "source": [
    "job31"
   ]
  },
  {
   "cell_type": "code",
   "execution_count": 24,
   "metadata": {},
   "outputs": [
    {
     "data": {
      "application/vnd.jupyter.widget-view+json": {
       "model_id": "61d14f8eff7d4989b295c5c0f587675b",
       "version_major": 2,
       "version_minor": 0
      },
      "text/plain": [
       "Dropdown(options=('울산', '서울', '경북', '경기', '부산', '인천', '충남', '경남', '대전', '세종', '충북', '대구', '강원', '전북', '전남', '광…"
      ]
     },
     "metadata": {},
     "output_type": "display_data"
    }
   ],
   "source": [
    "sido1"
   ]
  },
  {
   "cell_type": "code",
   "execution_count": 25,
   "metadata": {},
   "outputs": [
    {
     "data": {
      "application/vnd.plotly.v1+json": {
       "config": {
        "plotlyServerURL": "https://plot.ly"
       },
       "data": [
        {
         "branchvalues": "total",
         "domain": {
          "x": [
           0,
           1
          ],
          "y": [
           0,
           1
          ]
         },
         "hovertemplate": "labels=%{label}<br>AMT=%{value}<br>parent=%{parent}<br>id=%{id}<extra></extra>",
         "ids": [
          "50s/성인 자녀 가구/남자",
          "40s/중고생 자녀 가구/남자",
          "60s/노년 가구/여자",
          "60s/노년 가구",
          "50s/성인 자녀 가구",
          "40s/중고생 자녀 가구",
          "40s",
          "50s",
          "60s"
         ],
         "labels": [
          "남자",
          "남자",
          "여자",
          "노년 가구",
          "성인 자녀 가구",
          "중고생 자녀 가구",
          "40s",
          "50s",
          "60s"
         ],
         "name": "",
         "parents": [
          "50s/성인 자녀 가구",
          "40s/중고생 자녀 가구",
          "60s/노년 가구",
          "60s",
          "50s",
          "40s",
          "",
          "",
          ""
         ],
         "type": "sunburst",
         "values": [
          1684400,
          534800,
          791000,
          791000,
          1684400,
          534800,
          534800,
          1684400,
          791000
         ]
        }
       ],
       "layout": {
        "legend": {
         "tracegroupgap": 0
        },
        "margin": {
         "t": 60
        },
        "paper_bgcolor": "rgb(243, 243, 243)",
        "plot_bgcolor": "rgb(243, 243, 243)",
        "template": {
         "data": {
          "bar": [
           {
            "error_x": {
             "color": "#2a3f5f"
            },
            "error_y": {
             "color": "#2a3f5f"
            },
            "marker": {
             "line": {
              "color": "#E5ECF6",
              "width": 0.5
             }
            },
            "type": "bar"
           }
          ],
          "barpolar": [
           {
            "marker": {
             "line": {
              "color": "#E5ECF6",
              "width": 0.5
             }
            },
            "type": "barpolar"
           }
          ],
          "carpet": [
           {
            "aaxis": {
             "endlinecolor": "#2a3f5f",
             "gridcolor": "white",
             "linecolor": "white",
             "minorgridcolor": "white",
             "startlinecolor": "#2a3f5f"
            },
            "baxis": {
             "endlinecolor": "#2a3f5f",
             "gridcolor": "white",
             "linecolor": "white",
             "minorgridcolor": "white",
             "startlinecolor": "#2a3f5f"
            },
            "type": "carpet"
           }
          ],
          "choropleth": [
           {
            "colorbar": {
             "outlinewidth": 0,
             "ticks": ""
            },
            "type": "choropleth"
           }
          ],
          "contour": [
           {
            "colorbar": {
             "outlinewidth": 0,
             "ticks": ""
            },
            "colorscale": [
             [
              0,
              "#0d0887"
             ],
             [
              0.1111111111111111,
              "#46039f"
             ],
             [
              0.2222222222222222,
              "#7201a8"
             ],
             [
              0.3333333333333333,
              "#9c179e"
             ],
             [
              0.4444444444444444,
              "#bd3786"
             ],
             [
              0.5555555555555556,
              "#d8576b"
             ],
             [
              0.6666666666666666,
              "#ed7953"
             ],
             [
              0.7777777777777778,
              "#fb9f3a"
             ],
             [
              0.8888888888888888,
              "#fdca26"
             ],
             [
              1,
              "#f0f921"
             ]
            ],
            "type": "contour"
           }
          ],
          "contourcarpet": [
           {
            "colorbar": {
             "outlinewidth": 0,
             "ticks": ""
            },
            "type": "contourcarpet"
           }
          ],
          "heatmap": [
           {
            "colorbar": {
             "outlinewidth": 0,
             "ticks": ""
            },
            "colorscale": [
             [
              0,
              "#0d0887"
             ],
             [
              0.1111111111111111,
              "#46039f"
             ],
             [
              0.2222222222222222,
              "#7201a8"
             ],
             [
              0.3333333333333333,
              "#9c179e"
             ],
             [
              0.4444444444444444,
              "#bd3786"
             ],
             [
              0.5555555555555556,
              "#d8576b"
             ],
             [
              0.6666666666666666,
              "#ed7953"
             ],
             [
              0.7777777777777778,
              "#fb9f3a"
             ],
             [
              0.8888888888888888,
              "#fdca26"
             ],
             [
              1,
              "#f0f921"
             ]
            ],
            "type": "heatmap"
           }
          ],
          "heatmapgl": [
           {
            "colorbar": {
             "outlinewidth": 0,
             "ticks": ""
            },
            "colorscale": [
             [
              0,
              "#0d0887"
             ],
             [
              0.1111111111111111,
              "#46039f"
             ],
             [
              0.2222222222222222,
              "#7201a8"
             ],
             [
              0.3333333333333333,
              "#9c179e"
             ],
             [
              0.4444444444444444,
              "#bd3786"
             ],
             [
              0.5555555555555556,
              "#d8576b"
             ],
             [
              0.6666666666666666,
              "#ed7953"
             ],
             [
              0.7777777777777778,
              "#fb9f3a"
             ],
             [
              0.8888888888888888,
              "#fdca26"
             ],
             [
              1,
              "#f0f921"
             ]
            ],
            "type": "heatmapgl"
           }
          ],
          "histogram": [
           {
            "marker": {
             "colorbar": {
              "outlinewidth": 0,
              "ticks": ""
             }
            },
            "type": "histogram"
           }
          ],
          "histogram2d": [
           {
            "colorbar": {
             "outlinewidth": 0,
             "ticks": ""
            },
            "colorscale": [
             [
              0,
              "#0d0887"
             ],
             [
              0.1111111111111111,
              "#46039f"
             ],
             [
              0.2222222222222222,
              "#7201a8"
             ],
             [
              0.3333333333333333,
              "#9c179e"
             ],
             [
              0.4444444444444444,
              "#bd3786"
             ],
             [
              0.5555555555555556,
              "#d8576b"
             ],
             [
              0.6666666666666666,
              "#ed7953"
             ],
             [
              0.7777777777777778,
              "#fb9f3a"
             ],
             [
              0.8888888888888888,
              "#fdca26"
             ],
             [
              1,
              "#f0f921"
             ]
            ],
            "type": "histogram2d"
           }
          ],
          "histogram2dcontour": [
           {
            "colorbar": {
             "outlinewidth": 0,
             "ticks": ""
            },
            "colorscale": [
             [
              0,
              "#0d0887"
             ],
             [
              0.1111111111111111,
              "#46039f"
             ],
             [
              0.2222222222222222,
              "#7201a8"
             ],
             [
              0.3333333333333333,
              "#9c179e"
             ],
             [
              0.4444444444444444,
              "#bd3786"
             ],
             [
              0.5555555555555556,
              "#d8576b"
             ],
             [
              0.6666666666666666,
              "#ed7953"
             ],
             [
              0.7777777777777778,
              "#fb9f3a"
             ],
             [
              0.8888888888888888,
              "#fdca26"
             ],
             [
              1,
              "#f0f921"
             ]
            ],
            "type": "histogram2dcontour"
           }
          ],
          "mesh3d": [
           {
            "colorbar": {
             "outlinewidth": 0,
             "ticks": ""
            },
            "type": "mesh3d"
           }
          ],
          "parcoords": [
           {
            "line": {
             "colorbar": {
              "outlinewidth": 0,
              "ticks": ""
             }
            },
            "type": "parcoords"
           }
          ],
          "pie": [
           {
            "automargin": true,
            "type": "pie"
           }
          ],
          "scatter": [
           {
            "marker": {
             "colorbar": {
              "outlinewidth": 0,
              "ticks": ""
             }
            },
            "type": "scatter"
           }
          ],
          "scatter3d": [
           {
            "line": {
             "colorbar": {
              "outlinewidth": 0,
              "ticks": ""
             }
            },
            "marker": {
             "colorbar": {
              "outlinewidth": 0,
              "ticks": ""
             }
            },
            "type": "scatter3d"
           }
          ],
          "scattercarpet": [
           {
            "marker": {
             "colorbar": {
              "outlinewidth": 0,
              "ticks": ""
             }
            },
            "type": "scattercarpet"
           }
          ],
          "scattergeo": [
           {
            "marker": {
             "colorbar": {
              "outlinewidth": 0,
              "ticks": ""
             }
            },
            "type": "scattergeo"
           }
          ],
          "scattergl": [
           {
            "marker": {
             "colorbar": {
              "outlinewidth": 0,
              "ticks": ""
             }
            },
            "type": "scattergl"
           }
          ],
          "scattermapbox": [
           {
            "marker": {
             "colorbar": {
              "outlinewidth": 0,
              "ticks": ""
             }
            },
            "type": "scattermapbox"
           }
          ],
          "scatterpolar": [
           {
            "marker": {
             "colorbar": {
              "outlinewidth": 0,
              "ticks": ""
             }
            },
            "type": "scatterpolar"
           }
          ],
          "scatterpolargl": [
           {
            "marker": {
             "colorbar": {
              "outlinewidth": 0,
              "ticks": ""
             }
            },
            "type": "scatterpolargl"
           }
          ],
          "scatterternary": [
           {
            "marker": {
             "colorbar": {
              "outlinewidth": 0,
              "ticks": ""
             }
            },
            "type": "scatterternary"
           }
          ],
          "surface": [
           {
            "colorbar": {
             "outlinewidth": 0,
             "ticks": ""
            },
            "colorscale": [
             [
              0,
              "#0d0887"
             ],
             [
              0.1111111111111111,
              "#46039f"
             ],
             [
              0.2222222222222222,
              "#7201a8"
             ],
             [
              0.3333333333333333,
              "#9c179e"
             ],
             [
              0.4444444444444444,
              "#bd3786"
             ],
             [
              0.5555555555555556,
              "#d8576b"
             ],
             [
              0.6666666666666666,
              "#ed7953"
             ],
             [
              0.7777777777777778,
              "#fb9f3a"
             ],
             [
              0.8888888888888888,
              "#fdca26"
             ],
             [
              1,
              "#f0f921"
             ]
            ],
            "type": "surface"
           }
          ],
          "table": [
           {
            "cells": {
             "fill": {
              "color": "#EBF0F8"
             },
             "line": {
              "color": "white"
             }
            },
            "header": {
             "fill": {
              "color": "#C8D4E3"
             },
             "line": {
              "color": "white"
             }
            },
            "type": "table"
           }
          ]
         },
         "layout": {
          "annotationdefaults": {
           "arrowcolor": "#2a3f5f",
           "arrowhead": 0,
           "arrowwidth": 1
          },
          "coloraxis": {
           "colorbar": {
            "outlinewidth": 0,
            "ticks": ""
           }
          },
          "colorscale": {
           "diverging": [
            [
             0,
             "#8e0152"
            ],
            [
             0.1,
             "#c51b7d"
            ],
            [
             0.2,
             "#de77ae"
            ],
            [
             0.3,
             "#f1b6da"
            ],
            [
             0.4,
             "#fde0ef"
            ],
            [
             0.5,
             "#f7f7f7"
            ],
            [
             0.6,
             "#e6f5d0"
            ],
            [
             0.7,
             "#b8e186"
            ],
            [
             0.8,
             "#7fbc41"
            ],
            [
             0.9,
             "#4d9221"
            ],
            [
             1,
             "#276419"
            ]
           ],
           "sequential": [
            [
             0,
             "#0d0887"
            ],
            [
             0.1111111111111111,
             "#46039f"
            ],
            [
             0.2222222222222222,
             "#7201a8"
            ],
            [
             0.3333333333333333,
             "#9c179e"
            ],
            [
             0.4444444444444444,
             "#bd3786"
            ],
            [
             0.5555555555555556,
             "#d8576b"
            ],
            [
             0.6666666666666666,
             "#ed7953"
            ],
            [
             0.7777777777777778,
             "#fb9f3a"
            ],
            [
             0.8888888888888888,
             "#fdca26"
            ],
            [
             1,
             "#f0f921"
            ]
           ],
           "sequentialminus": [
            [
             0,
             "#0d0887"
            ],
            [
             0.1111111111111111,
             "#46039f"
            ],
            [
             0.2222222222222222,
             "#7201a8"
            ],
            [
             0.3333333333333333,
             "#9c179e"
            ],
            [
             0.4444444444444444,
             "#bd3786"
            ],
            [
             0.5555555555555556,
             "#d8576b"
            ],
            [
             0.6666666666666666,
             "#ed7953"
            ],
            [
             0.7777777777777778,
             "#fb9f3a"
            ],
            [
             0.8888888888888888,
             "#fdca26"
            ],
            [
             1,
             "#f0f921"
            ]
           ]
          },
          "colorway": [
           "#636efa",
           "#EF553B",
           "#00cc96",
           "#ab63fa",
           "#FFA15A",
           "#19d3f3",
           "#FF6692",
           "#B6E880",
           "#FF97FF",
           "#FECB52"
          ],
          "font": {
           "color": "#2a3f5f"
          },
          "geo": {
           "bgcolor": "white",
           "lakecolor": "white",
           "landcolor": "#E5ECF6",
           "showlakes": true,
           "showland": true,
           "subunitcolor": "white"
          },
          "hoverlabel": {
           "align": "left"
          },
          "hovermode": "closest",
          "mapbox": {
           "style": "light"
          },
          "paper_bgcolor": "white",
          "plot_bgcolor": "#E5ECF6",
          "polar": {
           "angularaxis": {
            "gridcolor": "white",
            "linecolor": "white",
            "ticks": ""
           },
           "bgcolor": "#E5ECF6",
           "radialaxis": {
            "gridcolor": "white",
            "linecolor": "white",
            "ticks": ""
           }
          },
          "scene": {
           "xaxis": {
            "backgroundcolor": "#E5ECF6",
            "gridcolor": "white",
            "gridwidth": 2,
            "linecolor": "white",
            "showbackground": true,
            "ticks": "",
            "zerolinecolor": "white"
           },
           "yaxis": {
            "backgroundcolor": "#E5ECF6",
            "gridcolor": "white",
            "gridwidth": 2,
            "linecolor": "white",
            "showbackground": true,
            "ticks": "",
            "zerolinecolor": "white"
           },
           "zaxis": {
            "backgroundcolor": "#E5ECF6",
            "gridcolor": "white",
            "gridwidth": 2,
            "linecolor": "white",
            "showbackground": true,
            "ticks": "",
            "zerolinecolor": "white"
           }
          },
          "shapedefaults": {
           "line": {
            "color": "#2a3f5f"
           }
          },
          "ternary": {
           "aaxis": {
            "gridcolor": "white",
            "linecolor": "white",
            "ticks": ""
           },
           "baxis": {
            "gridcolor": "white",
            "linecolor": "white",
            "ticks": ""
           },
           "bgcolor": "#E5ECF6",
           "caxis": {
            "gridcolor": "white",
            "linecolor": "white",
            "ticks": ""
           }
          },
          "title": {
           "x": 0.05
          },
          "xaxis": {
           "automargin": true,
           "gridcolor": "white",
           "linecolor": "white",
           "ticks": "",
           "title": {
            "standoff": 15
           },
           "zerolinecolor": "white",
           "zerolinewidth": 2
          },
          "yaxis": {
           "automargin": true,
           "gridcolor": "white",
           "linecolor": "white",
           "ticks": "",
           "title": {
            "standoff": 15
           },
           "zerolinecolor": "white",
           "zerolinewidth": 2
          }
         }
        },
        "title": {
         "text": "코로나 이전 면세점 업종 울산지역 소비자 특성"
        },
        "xaxis": {
         "showgrid": false,
         "showticklabels": true,
         "zeroline": false
        },
        "yaxis": {
         "gridcolor": "white",
         "zeroline": false
        }
       }
      },
      "text/html": [
       "<div>\n",
       "        \n",
       "        \n",
       "            <div id=\"56cf3bf4-e535-4d71-bee0-a136e3971cca\" class=\"plotly-graph-div\" style=\"height:525px; width:100%;\"></div>\n",
       "            <script type=\"text/javascript\">\n",
       "                require([\"plotly\"], function(Plotly) {\n",
       "                    window.PLOTLYENV=window.PLOTLYENV || {};\n",
       "                    \n",
       "                if (document.getElementById(\"56cf3bf4-e535-4d71-bee0-a136e3971cca\")) {\n",
       "                    Plotly.newPlot(\n",
       "                        '56cf3bf4-e535-4d71-bee0-a136e3971cca',\n",
       "                        [{\"branchvalues\": \"total\", \"domain\": {\"x\": [0.0, 1.0], \"y\": [0.0, 1.0]}, \"hovertemplate\": \"labels=%{label}<br>AMT=%{value}<br>parent=%{parent}<br>id=%{id}<extra></extra>\", \"ids\": [\"50s/\\uc131\\uc778 \\uc790\\ub140 \\uac00\\uad6c/\\ub0a8\\uc790\", \"40s/\\uc911\\uace0\\uc0dd \\uc790\\ub140 \\uac00\\uad6c/\\ub0a8\\uc790\", \"60s/\\ub178\\ub144 \\uac00\\uad6c/\\uc5ec\\uc790\", \"60s/\\ub178\\ub144 \\uac00\\uad6c\", \"50s/\\uc131\\uc778 \\uc790\\ub140 \\uac00\\uad6c\", \"40s/\\uc911\\uace0\\uc0dd \\uc790\\ub140 \\uac00\\uad6c\", \"40s\", \"50s\", \"60s\"], \"labels\": [\"\\ub0a8\\uc790\", \"\\ub0a8\\uc790\", \"\\uc5ec\\uc790\", \"\\ub178\\ub144 \\uac00\\uad6c\", \"\\uc131\\uc778 \\uc790\\ub140 \\uac00\\uad6c\", \"\\uc911\\uace0\\uc0dd \\uc790\\ub140 \\uac00\\uad6c\", \"40s\", \"50s\", \"60s\"], \"name\": \"\", \"parents\": [\"50s/\\uc131\\uc778 \\uc790\\ub140 \\uac00\\uad6c\", \"40s/\\uc911\\uace0\\uc0dd \\uc790\\ub140 \\uac00\\uad6c\", \"60s/\\ub178\\ub144 \\uac00\\uad6c\", \"60s\", \"50s\", \"40s\", \"\", \"\", \"\"], \"type\": \"sunburst\", \"values\": [1684400, 534800, 791000, 791000, 1684400, 534800, 534800, 1684400, 791000]}],\n",
       "                        {\"legend\": {\"tracegroupgap\": 0}, \"margin\": {\"t\": 60}, \"paper_bgcolor\": \"rgb(243, 243, 243)\", \"plot_bgcolor\": \"rgb(243, 243, 243)\", \"template\": {\"data\": {\"bar\": [{\"error_x\": {\"color\": \"#2a3f5f\"}, \"error_y\": {\"color\": \"#2a3f5f\"}, \"marker\": {\"line\": {\"color\": \"#E5ECF6\", \"width\": 0.5}}, \"type\": \"bar\"}], \"barpolar\": [{\"marker\": {\"line\": {\"color\": \"#E5ECF6\", \"width\": 0.5}}, \"type\": \"barpolar\"}], \"carpet\": [{\"aaxis\": {\"endlinecolor\": \"#2a3f5f\", \"gridcolor\": \"white\", \"linecolor\": \"white\", \"minorgridcolor\": \"white\", \"startlinecolor\": \"#2a3f5f\"}, \"baxis\": {\"endlinecolor\": \"#2a3f5f\", \"gridcolor\": \"white\", \"linecolor\": \"white\", \"minorgridcolor\": \"white\", \"startlinecolor\": \"#2a3f5f\"}, \"type\": \"carpet\"}], \"choropleth\": [{\"colorbar\": {\"outlinewidth\": 0, \"ticks\": \"\"}, \"type\": \"choropleth\"}], \"contour\": [{\"colorbar\": {\"outlinewidth\": 0, \"ticks\": \"\"}, \"colorscale\": [[0.0, \"#0d0887\"], [0.1111111111111111, \"#46039f\"], [0.2222222222222222, \"#7201a8\"], [0.3333333333333333, \"#9c179e\"], [0.4444444444444444, \"#bd3786\"], [0.5555555555555556, \"#d8576b\"], [0.6666666666666666, \"#ed7953\"], [0.7777777777777778, \"#fb9f3a\"], [0.8888888888888888, \"#fdca26\"], [1.0, \"#f0f921\"]], \"type\": \"contour\"}], \"contourcarpet\": [{\"colorbar\": {\"outlinewidth\": 0, \"ticks\": \"\"}, \"type\": \"contourcarpet\"}], \"heatmap\": [{\"colorbar\": {\"outlinewidth\": 0, \"ticks\": \"\"}, \"colorscale\": [[0.0, \"#0d0887\"], [0.1111111111111111, \"#46039f\"], [0.2222222222222222, \"#7201a8\"], [0.3333333333333333, \"#9c179e\"], [0.4444444444444444, \"#bd3786\"], [0.5555555555555556, \"#d8576b\"], [0.6666666666666666, \"#ed7953\"], [0.7777777777777778, \"#fb9f3a\"], [0.8888888888888888, \"#fdca26\"], [1.0, \"#f0f921\"]], \"type\": \"heatmap\"}], \"heatmapgl\": [{\"colorbar\": {\"outlinewidth\": 0, \"ticks\": \"\"}, \"colorscale\": [[0.0, \"#0d0887\"], [0.1111111111111111, \"#46039f\"], [0.2222222222222222, \"#7201a8\"], [0.3333333333333333, \"#9c179e\"], [0.4444444444444444, \"#bd3786\"], [0.5555555555555556, \"#d8576b\"], [0.6666666666666666, \"#ed7953\"], [0.7777777777777778, \"#fb9f3a\"], [0.8888888888888888, \"#fdca26\"], [1.0, \"#f0f921\"]], \"type\": \"heatmapgl\"}], \"histogram\": [{\"marker\": {\"colorbar\": {\"outlinewidth\": 0, \"ticks\": \"\"}}, \"type\": \"histogram\"}], \"histogram2d\": [{\"colorbar\": {\"outlinewidth\": 0, \"ticks\": \"\"}, \"colorscale\": [[0.0, \"#0d0887\"], [0.1111111111111111, \"#46039f\"], [0.2222222222222222, \"#7201a8\"], [0.3333333333333333, \"#9c179e\"], [0.4444444444444444, \"#bd3786\"], [0.5555555555555556, \"#d8576b\"], [0.6666666666666666, \"#ed7953\"], [0.7777777777777778, \"#fb9f3a\"], [0.8888888888888888, \"#fdca26\"], [1.0, \"#f0f921\"]], \"type\": \"histogram2d\"}], \"histogram2dcontour\": [{\"colorbar\": {\"outlinewidth\": 0, \"ticks\": \"\"}, \"colorscale\": [[0.0, \"#0d0887\"], [0.1111111111111111, \"#46039f\"], [0.2222222222222222, \"#7201a8\"], [0.3333333333333333, \"#9c179e\"], [0.4444444444444444, \"#bd3786\"], [0.5555555555555556, \"#d8576b\"], [0.6666666666666666, \"#ed7953\"], [0.7777777777777778, \"#fb9f3a\"], [0.8888888888888888, \"#fdca26\"], [1.0, \"#f0f921\"]], \"type\": \"histogram2dcontour\"}], \"mesh3d\": [{\"colorbar\": {\"outlinewidth\": 0, \"ticks\": \"\"}, \"type\": \"mesh3d\"}], \"parcoords\": [{\"line\": {\"colorbar\": {\"outlinewidth\": 0, \"ticks\": \"\"}}, \"type\": \"parcoords\"}], \"pie\": [{\"automargin\": true, \"type\": \"pie\"}], \"scatter\": [{\"marker\": {\"colorbar\": {\"outlinewidth\": 0, \"ticks\": \"\"}}, \"type\": \"scatter\"}], \"scatter3d\": [{\"line\": {\"colorbar\": {\"outlinewidth\": 0, \"ticks\": \"\"}}, \"marker\": {\"colorbar\": {\"outlinewidth\": 0, \"ticks\": \"\"}}, \"type\": \"scatter3d\"}], \"scattercarpet\": [{\"marker\": {\"colorbar\": {\"outlinewidth\": 0, \"ticks\": \"\"}}, \"type\": \"scattercarpet\"}], \"scattergeo\": [{\"marker\": {\"colorbar\": {\"outlinewidth\": 0, \"ticks\": \"\"}}, \"type\": \"scattergeo\"}], \"scattergl\": [{\"marker\": {\"colorbar\": {\"outlinewidth\": 0, \"ticks\": \"\"}}, \"type\": \"scattergl\"}], \"scattermapbox\": [{\"marker\": {\"colorbar\": {\"outlinewidth\": 0, \"ticks\": \"\"}}, \"type\": \"scattermapbox\"}], \"scatterpolar\": [{\"marker\": {\"colorbar\": {\"outlinewidth\": 0, \"ticks\": \"\"}}, \"type\": \"scatterpolar\"}], \"scatterpolargl\": [{\"marker\": {\"colorbar\": {\"outlinewidth\": 0, \"ticks\": \"\"}}, \"type\": \"scatterpolargl\"}], \"scatterternary\": [{\"marker\": {\"colorbar\": {\"outlinewidth\": 0, \"ticks\": \"\"}}, \"type\": \"scatterternary\"}], \"surface\": [{\"colorbar\": {\"outlinewidth\": 0, \"ticks\": \"\"}, \"colorscale\": [[0.0, \"#0d0887\"], [0.1111111111111111, \"#46039f\"], [0.2222222222222222, \"#7201a8\"], [0.3333333333333333, \"#9c179e\"], [0.4444444444444444, \"#bd3786\"], [0.5555555555555556, \"#d8576b\"], [0.6666666666666666, \"#ed7953\"], [0.7777777777777778, \"#fb9f3a\"], [0.8888888888888888, \"#fdca26\"], [1.0, \"#f0f921\"]], \"type\": \"surface\"}], \"table\": [{\"cells\": {\"fill\": {\"color\": \"#EBF0F8\"}, \"line\": {\"color\": \"white\"}}, \"header\": {\"fill\": {\"color\": \"#C8D4E3\"}, \"line\": {\"color\": \"white\"}}, \"type\": \"table\"}]}, \"layout\": {\"annotationdefaults\": {\"arrowcolor\": \"#2a3f5f\", \"arrowhead\": 0, \"arrowwidth\": 1}, \"coloraxis\": {\"colorbar\": {\"outlinewidth\": 0, \"ticks\": \"\"}}, \"colorscale\": {\"diverging\": [[0, \"#8e0152\"], [0.1, \"#c51b7d\"], [0.2, \"#de77ae\"], [0.3, \"#f1b6da\"], [0.4, \"#fde0ef\"], [0.5, \"#f7f7f7\"], [0.6, \"#e6f5d0\"], [0.7, \"#b8e186\"], [0.8, \"#7fbc41\"], [0.9, \"#4d9221\"], [1, \"#276419\"]], \"sequential\": [[0.0, \"#0d0887\"], [0.1111111111111111, \"#46039f\"], [0.2222222222222222, \"#7201a8\"], [0.3333333333333333, \"#9c179e\"], [0.4444444444444444, \"#bd3786\"], [0.5555555555555556, \"#d8576b\"], [0.6666666666666666, \"#ed7953\"], [0.7777777777777778, \"#fb9f3a\"], [0.8888888888888888, \"#fdca26\"], [1.0, \"#f0f921\"]], \"sequentialminus\": [[0.0, \"#0d0887\"], [0.1111111111111111, \"#46039f\"], [0.2222222222222222, \"#7201a8\"], [0.3333333333333333, \"#9c179e\"], [0.4444444444444444, \"#bd3786\"], [0.5555555555555556, \"#d8576b\"], [0.6666666666666666, \"#ed7953\"], [0.7777777777777778, \"#fb9f3a\"], [0.8888888888888888, \"#fdca26\"], [1.0, \"#f0f921\"]]}, \"colorway\": [\"#636efa\", \"#EF553B\", \"#00cc96\", \"#ab63fa\", \"#FFA15A\", \"#19d3f3\", \"#FF6692\", \"#B6E880\", \"#FF97FF\", \"#FECB52\"], \"font\": {\"color\": \"#2a3f5f\"}, \"geo\": {\"bgcolor\": \"white\", \"lakecolor\": \"white\", \"landcolor\": \"#E5ECF6\", \"showlakes\": true, \"showland\": true, \"subunitcolor\": \"white\"}, \"hoverlabel\": {\"align\": \"left\"}, \"hovermode\": \"closest\", \"mapbox\": {\"style\": \"light\"}, \"paper_bgcolor\": \"white\", \"plot_bgcolor\": \"#E5ECF6\", \"polar\": {\"angularaxis\": {\"gridcolor\": \"white\", \"linecolor\": \"white\", \"ticks\": \"\"}, \"bgcolor\": \"#E5ECF6\", \"radialaxis\": {\"gridcolor\": \"white\", \"linecolor\": \"white\", \"ticks\": \"\"}}, \"scene\": {\"xaxis\": {\"backgroundcolor\": \"#E5ECF6\", \"gridcolor\": \"white\", \"gridwidth\": 2, \"linecolor\": \"white\", \"showbackground\": true, \"ticks\": \"\", \"zerolinecolor\": \"white\"}, \"yaxis\": {\"backgroundcolor\": \"#E5ECF6\", \"gridcolor\": \"white\", \"gridwidth\": 2, \"linecolor\": \"white\", \"showbackground\": true, \"ticks\": \"\", \"zerolinecolor\": \"white\"}, \"zaxis\": {\"backgroundcolor\": \"#E5ECF6\", \"gridcolor\": \"white\", \"gridwidth\": 2, \"linecolor\": \"white\", \"showbackground\": true, \"ticks\": \"\", \"zerolinecolor\": \"white\"}}, \"shapedefaults\": {\"line\": {\"color\": \"#2a3f5f\"}}, \"ternary\": {\"aaxis\": {\"gridcolor\": \"white\", \"linecolor\": \"white\", \"ticks\": \"\"}, \"baxis\": {\"gridcolor\": \"white\", \"linecolor\": \"white\", \"ticks\": \"\"}, \"bgcolor\": \"#E5ECF6\", \"caxis\": {\"gridcolor\": \"white\", \"linecolor\": \"white\", \"ticks\": \"\"}}, \"title\": {\"x\": 0.05}, \"xaxis\": {\"automargin\": true, \"gridcolor\": \"white\", \"linecolor\": \"white\", \"ticks\": \"\", \"title\": {\"standoff\": 15}, \"zerolinecolor\": \"white\", \"zerolinewidth\": 2}, \"yaxis\": {\"automargin\": true, \"gridcolor\": \"white\", \"linecolor\": \"white\", \"ticks\": \"\", \"title\": {\"standoff\": 15}, \"zerolinecolor\": \"white\", \"zerolinewidth\": 2}}}, \"title\": {\"text\": \"\\ucf54\\ub85c\\ub098 \\uc774\\uc804 \\uba74\\uc138\\uc810 \\uc5c5\\uc885 \\uc6b8\\uc0b0\\uc9c0\\uc5ed \\uc18c\\ube44\\uc790 \\ud2b9\\uc131\"}, \"xaxis\": {\"showgrid\": false, \"showticklabels\": true, \"zeroline\": false}, \"yaxis\": {\"gridcolor\": \"white\", \"zeroline\": false}},\n",
       "                        {\"responsive\": true}\n",
       "                    ).then(function(){\n",
       "                            \n",
       "var gd = document.getElementById('56cf3bf4-e535-4d71-bee0-a136e3971cca');\n",
       "var x = new MutationObserver(function (mutations, observer) {{\n",
       "        var display = window.getComputedStyle(gd).display;\n",
       "        if (!display || display === 'none') {{\n",
       "            console.log([gd, 'removed!']);\n",
       "            Plotly.purge(gd);\n",
       "            observer.disconnect();\n",
       "        }}\n",
       "}});\n",
       "\n",
       "// Listen for the removal of the full notebook cells\n",
       "var notebookContainer = gd.closest('#notebook-container');\n",
       "if (notebookContainer) {{\n",
       "    x.observe(notebookContainer, {childList: true});\n",
       "}}\n",
       "\n",
       "// Listen for the clearing of the current output cell\n",
       "var outputEl = gd.closest('.output');\n",
       "if (outputEl) {{\n",
       "    x.observe(outputEl, {childList: true});\n",
       "}}\n",
       "\n",
       "                        })\n",
       "                };\n",
       "                });\n",
       "            </script>\n",
       "        </div>"
      ]
     },
     "metadata": {},
     "output_type": "display_data"
    }
   ],
   "source": [
    "fig = go.Figure()\n",
    "job3 = job31.value ## .value로 값 얻어올 수 있음\n",
    "sido = sido1.value\n",
    "\n",
    "df201934=df3[df3['REG_YYMM'].isin(['201902','201903','201904'])]\n",
    "\n",
    "df201934_1=df201934[df201934['STD_CLSS_NM']==job3]\n",
    "df201934_1=df201934_1[df201934_1['CARD_SIDO_NM']==sido]\n",
    "\n",
    "def sex(x):\n",
    "    if x == 1 : \n",
    "        return '남자' \n",
    "    else : \n",
    "        return '여자'\n",
    "    \n",
    "    \n",
    "def flc(x):\n",
    "    if x ==1 :\n",
    "        return '1인 가구'\n",
    "    elif x ==2 :\n",
    "        return '영유아 자녀 가구'\n",
    "    elif x ==3 :\n",
    "        return '중고생 자녀 가구'\n",
    "    elif x ==4 :\n",
    "        return '성인 자녀 가구'\n",
    "    else :\n",
    "        return '노년 가구'\n",
    "    \n",
    "\n",
    "df201934_1['SEX_CTGO_CD'] = df201934_1['SEX_CTGO_CD'].apply(sex)\n",
    "df201934_1['FLC'] = df201934_1['FLC'].apply(flc)\n",
    "\n",
    "\n",
    "\n",
    "#df201934_1['AGE'] = df201934_1['AGE'].apply(lambda x : int(x[0:2]))\n",
    "fig = px.sunburst(df201934_1, path=['AGE', 'FLC','SEX_CTGO_CD'], values='AMT')\n",
    "\n",
    "fig.update_layout(title_text=f\"코로나 이전 {job3} 업종 {sido}지역 소비자 특성\", paper_bgcolor='rgb(243, 243, 243)',\n",
    "    plot_bgcolor='rgb(243, 243, 243)', xaxis=dict(showgrid=False, zeroline=False, showticklabels=True),\n",
    "    yaxis=dict(zeroline=False, gridcolor='white'))\n",
    "\n",
    "fig.show()"
   ]
  },
  {
   "cell_type": "markdown",
   "metadata": {},
   "source": [
    "##  &nbsp;&nbsp;&nbsp;&nbsp;&nbsp;&nbsp; &nbsp;&nbsp;&nbsp;&nbsp;&nbsp;&nbsp; &nbsp;&nbsp;&nbsp;&nbsp;&nbsp;&nbsp;&nbsp;&nbsp;&nbsp;&nbsp;&nbsp;&nbsp;9. 코로나 이후 특정 지역 업종의 소비자 특성 제시\n",
    "  &nbsp;&nbsp;&nbsp;&nbsp;&nbsp;&nbsp;\n",
    "  \n",
    "  \n",
    "  \n",
    "  \n",
    "  \n",
    "  \n",
    "  \n",
    "  \n",
    "  \n",
    "  \n",
    "  \n",
    "   &nbsp;&nbsp;&nbsp;&nbsp;&nbsp;&nbsp;\n",
    "###  코로나 이후 특정 지역 업종 소비자 특성 모듈 생성\n",
    "    코로나 이후 특정 지역과 업종을 입력하면 소비자 특성을 시각화 하는 모듈 생성"
   ]
  },
  {
   "cell_type": "code",
   "execution_count": 18,
   "metadata": {},
   "outputs": [],
   "source": [
    "import ipywidgets as widgets\n",
    "s1 =list(set(df202034['STD_CLSS_NM']))\n",
    "s2 = list(set(df202034['CARD_SIDO_NM']))\n",
    "\n",
    "set_business = s1\n",
    "set_sido = s2\n",
    "job31 = widgets.Dropdown(options=list(set_business), value=set_business[0])\n",
    "sido1 = widgets.Dropdown(options=list(set_sido), value=set_sido[0])"
   ]
  },
  {
   "cell_type": "code",
   "execution_count": 19,
   "metadata": {},
   "outputs": [
    {
     "data": {
      "application/vnd.jupyter.widget-view+json": {
       "model_id": "ac493e5da41e4791acc3a423332933ce",
       "version_major": 2,
       "version_minor": 0
      },
      "text/plain": [
       "Dropdown(options=('면세점', '건강보조식품 소매업', '여관업', '골프장 운영업', '그외 기타 분류안된 오락관련 서비스업', '스포츠 및 레크레이션 용품 임대업', '중식 음식점…"
      ]
     },
     "metadata": {},
     "output_type": "display_data"
    }
   ],
   "source": [
    "job31"
   ]
  },
  {
   "cell_type": "code",
   "execution_count": 20,
   "metadata": {},
   "outputs": [
    {
     "data": {
      "application/vnd.jupyter.widget-view+json": {
       "model_id": "5b2c2f08f6254212bc1644524036cfbc",
       "version_major": 2,
       "version_minor": 0
      },
      "text/plain": [
       "Dropdown(options=('울산', '서울', '경북', '경기', '부산', '인천', '충남', '경남', '대전', '세종', '충북', '대구', '강원', '전북', '전남', '광…"
      ]
     },
     "metadata": {},
     "output_type": "display_data"
    }
   ],
   "source": [
    "sido1"
   ]
  },
  {
   "cell_type": "code",
   "execution_count": 21,
   "metadata": {},
   "outputs": [
    {
     "data": {
      "application/vnd.plotly.v1+json": {
       "config": {
        "plotlyServerURL": "https://plot.ly"
       },
       "data": [],
       "layout": {
        "legend": {
         "tracegroupgap": 0
        },
        "margin": {
         "t": 60
        },
        "paper_bgcolor": "rgb(243, 243, 243)",
        "plot_bgcolor": "rgb(243, 243, 243)",
        "template": {
         "data": {
          "bar": [
           {
            "error_x": {
             "color": "#2a3f5f"
            },
            "error_y": {
             "color": "#2a3f5f"
            },
            "marker": {
             "line": {
              "color": "#E5ECF6",
              "width": 0.5
             }
            },
            "type": "bar"
           }
          ],
          "barpolar": [
           {
            "marker": {
             "line": {
              "color": "#E5ECF6",
              "width": 0.5
             }
            },
            "type": "barpolar"
           }
          ],
          "carpet": [
           {
            "aaxis": {
             "endlinecolor": "#2a3f5f",
             "gridcolor": "white",
             "linecolor": "white",
             "minorgridcolor": "white",
             "startlinecolor": "#2a3f5f"
            },
            "baxis": {
             "endlinecolor": "#2a3f5f",
             "gridcolor": "white",
             "linecolor": "white",
             "minorgridcolor": "white",
             "startlinecolor": "#2a3f5f"
            },
            "type": "carpet"
           }
          ],
          "choropleth": [
           {
            "colorbar": {
             "outlinewidth": 0,
             "ticks": ""
            },
            "type": "choropleth"
           }
          ],
          "contour": [
           {
            "colorbar": {
             "outlinewidth": 0,
             "ticks": ""
            },
            "colorscale": [
             [
              0,
              "#0d0887"
             ],
             [
              0.1111111111111111,
              "#46039f"
             ],
             [
              0.2222222222222222,
              "#7201a8"
             ],
             [
              0.3333333333333333,
              "#9c179e"
             ],
             [
              0.4444444444444444,
              "#bd3786"
             ],
             [
              0.5555555555555556,
              "#d8576b"
             ],
             [
              0.6666666666666666,
              "#ed7953"
             ],
             [
              0.7777777777777778,
              "#fb9f3a"
             ],
             [
              0.8888888888888888,
              "#fdca26"
             ],
             [
              1,
              "#f0f921"
             ]
            ],
            "type": "contour"
           }
          ],
          "contourcarpet": [
           {
            "colorbar": {
             "outlinewidth": 0,
             "ticks": ""
            },
            "type": "contourcarpet"
           }
          ],
          "heatmap": [
           {
            "colorbar": {
             "outlinewidth": 0,
             "ticks": ""
            },
            "colorscale": [
             [
              0,
              "#0d0887"
             ],
             [
              0.1111111111111111,
              "#46039f"
             ],
             [
              0.2222222222222222,
              "#7201a8"
             ],
             [
              0.3333333333333333,
              "#9c179e"
             ],
             [
              0.4444444444444444,
              "#bd3786"
             ],
             [
              0.5555555555555556,
              "#d8576b"
             ],
             [
              0.6666666666666666,
              "#ed7953"
             ],
             [
              0.7777777777777778,
              "#fb9f3a"
             ],
             [
              0.8888888888888888,
              "#fdca26"
             ],
             [
              1,
              "#f0f921"
             ]
            ],
            "type": "heatmap"
           }
          ],
          "heatmapgl": [
           {
            "colorbar": {
             "outlinewidth": 0,
             "ticks": ""
            },
            "colorscale": [
             [
              0,
              "#0d0887"
             ],
             [
              0.1111111111111111,
              "#46039f"
             ],
             [
              0.2222222222222222,
              "#7201a8"
             ],
             [
              0.3333333333333333,
              "#9c179e"
             ],
             [
              0.4444444444444444,
              "#bd3786"
             ],
             [
              0.5555555555555556,
              "#d8576b"
             ],
             [
              0.6666666666666666,
              "#ed7953"
             ],
             [
              0.7777777777777778,
              "#fb9f3a"
             ],
             [
              0.8888888888888888,
              "#fdca26"
             ],
             [
              1,
              "#f0f921"
             ]
            ],
            "type": "heatmapgl"
           }
          ],
          "histogram": [
           {
            "marker": {
             "colorbar": {
              "outlinewidth": 0,
              "ticks": ""
             }
            },
            "type": "histogram"
           }
          ],
          "histogram2d": [
           {
            "colorbar": {
             "outlinewidth": 0,
             "ticks": ""
            },
            "colorscale": [
             [
              0,
              "#0d0887"
             ],
             [
              0.1111111111111111,
              "#46039f"
             ],
             [
              0.2222222222222222,
              "#7201a8"
             ],
             [
              0.3333333333333333,
              "#9c179e"
             ],
             [
              0.4444444444444444,
              "#bd3786"
             ],
             [
              0.5555555555555556,
              "#d8576b"
             ],
             [
              0.6666666666666666,
              "#ed7953"
             ],
             [
              0.7777777777777778,
              "#fb9f3a"
             ],
             [
              0.8888888888888888,
              "#fdca26"
             ],
             [
              1,
              "#f0f921"
             ]
            ],
            "type": "histogram2d"
           }
          ],
          "histogram2dcontour": [
           {
            "colorbar": {
             "outlinewidth": 0,
             "ticks": ""
            },
            "colorscale": [
             [
              0,
              "#0d0887"
             ],
             [
              0.1111111111111111,
              "#46039f"
             ],
             [
              0.2222222222222222,
              "#7201a8"
             ],
             [
              0.3333333333333333,
              "#9c179e"
             ],
             [
              0.4444444444444444,
              "#bd3786"
             ],
             [
              0.5555555555555556,
              "#d8576b"
             ],
             [
              0.6666666666666666,
              "#ed7953"
             ],
             [
              0.7777777777777778,
              "#fb9f3a"
             ],
             [
              0.8888888888888888,
              "#fdca26"
             ],
             [
              1,
              "#f0f921"
             ]
            ],
            "type": "histogram2dcontour"
           }
          ],
          "mesh3d": [
           {
            "colorbar": {
             "outlinewidth": 0,
             "ticks": ""
            },
            "type": "mesh3d"
           }
          ],
          "parcoords": [
           {
            "line": {
             "colorbar": {
              "outlinewidth": 0,
              "ticks": ""
             }
            },
            "type": "parcoords"
           }
          ],
          "pie": [
           {
            "automargin": true,
            "type": "pie"
           }
          ],
          "scatter": [
           {
            "marker": {
             "colorbar": {
              "outlinewidth": 0,
              "ticks": ""
             }
            },
            "type": "scatter"
           }
          ],
          "scatter3d": [
           {
            "line": {
             "colorbar": {
              "outlinewidth": 0,
              "ticks": ""
             }
            },
            "marker": {
             "colorbar": {
              "outlinewidth": 0,
              "ticks": ""
             }
            },
            "type": "scatter3d"
           }
          ],
          "scattercarpet": [
           {
            "marker": {
             "colorbar": {
              "outlinewidth": 0,
              "ticks": ""
             }
            },
            "type": "scattercarpet"
           }
          ],
          "scattergeo": [
           {
            "marker": {
             "colorbar": {
              "outlinewidth": 0,
              "ticks": ""
             }
            },
            "type": "scattergeo"
           }
          ],
          "scattergl": [
           {
            "marker": {
             "colorbar": {
              "outlinewidth": 0,
              "ticks": ""
             }
            },
            "type": "scattergl"
           }
          ],
          "scattermapbox": [
           {
            "marker": {
             "colorbar": {
              "outlinewidth": 0,
              "ticks": ""
             }
            },
            "type": "scattermapbox"
           }
          ],
          "scatterpolar": [
           {
            "marker": {
             "colorbar": {
              "outlinewidth": 0,
              "ticks": ""
             }
            },
            "type": "scatterpolar"
           }
          ],
          "scatterpolargl": [
           {
            "marker": {
             "colorbar": {
              "outlinewidth": 0,
              "ticks": ""
             }
            },
            "type": "scatterpolargl"
           }
          ],
          "scatterternary": [
           {
            "marker": {
             "colorbar": {
              "outlinewidth": 0,
              "ticks": ""
             }
            },
            "type": "scatterternary"
           }
          ],
          "surface": [
           {
            "colorbar": {
             "outlinewidth": 0,
             "ticks": ""
            },
            "colorscale": [
             [
              0,
              "#0d0887"
             ],
             [
              0.1111111111111111,
              "#46039f"
             ],
             [
              0.2222222222222222,
              "#7201a8"
             ],
             [
              0.3333333333333333,
              "#9c179e"
             ],
             [
              0.4444444444444444,
              "#bd3786"
             ],
             [
              0.5555555555555556,
              "#d8576b"
             ],
             [
              0.6666666666666666,
              "#ed7953"
             ],
             [
              0.7777777777777778,
              "#fb9f3a"
             ],
             [
              0.8888888888888888,
              "#fdca26"
             ],
             [
              1,
              "#f0f921"
             ]
            ],
            "type": "surface"
           }
          ],
          "table": [
           {
            "cells": {
             "fill": {
              "color": "#EBF0F8"
             },
             "line": {
              "color": "white"
             }
            },
            "header": {
             "fill": {
              "color": "#C8D4E3"
             },
             "line": {
              "color": "white"
             }
            },
            "type": "table"
           }
          ]
         },
         "layout": {
          "annotationdefaults": {
           "arrowcolor": "#2a3f5f",
           "arrowhead": 0,
           "arrowwidth": 1
          },
          "coloraxis": {
           "colorbar": {
            "outlinewidth": 0,
            "ticks": ""
           }
          },
          "colorscale": {
           "diverging": [
            [
             0,
             "#8e0152"
            ],
            [
             0.1,
             "#c51b7d"
            ],
            [
             0.2,
             "#de77ae"
            ],
            [
             0.3,
             "#f1b6da"
            ],
            [
             0.4,
             "#fde0ef"
            ],
            [
             0.5,
             "#f7f7f7"
            ],
            [
             0.6,
             "#e6f5d0"
            ],
            [
             0.7,
             "#b8e186"
            ],
            [
             0.8,
             "#7fbc41"
            ],
            [
             0.9,
             "#4d9221"
            ],
            [
             1,
             "#276419"
            ]
           ],
           "sequential": [
            [
             0,
             "#0d0887"
            ],
            [
             0.1111111111111111,
             "#46039f"
            ],
            [
             0.2222222222222222,
             "#7201a8"
            ],
            [
             0.3333333333333333,
             "#9c179e"
            ],
            [
             0.4444444444444444,
             "#bd3786"
            ],
            [
             0.5555555555555556,
             "#d8576b"
            ],
            [
             0.6666666666666666,
             "#ed7953"
            ],
            [
             0.7777777777777778,
             "#fb9f3a"
            ],
            [
             0.8888888888888888,
             "#fdca26"
            ],
            [
             1,
             "#f0f921"
            ]
           ],
           "sequentialminus": [
            [
             0,
             "#0d0887"
            ],
            [
             0.1111111111111111,
             "#46039f"
            ],
            [
             0.2222222222222222,
             "#7201a8"
            ],
            [
             0.3333333333333333,
             "#9c179e"
            ],
            [
             0.4444444444444444,
             "#bd3786"
            ],
            [
             0.5555555555555556,
             "#d8576b"
            ],
            [
             0.6666666666666666,
             "#ed7953"
            ],
            [
             0.7777777777777778,
             "#fb9f3a"
            ],
            [
             0.8888888888888888,
             "#fdca26"
            ],
            [
             1,
             "#f0f921"
            ]
           ]
          },
          "colorway": [
           "#636efa",
           "#EF553B",
           "#00cc96",
           "#ab63fa",
           "#FFA15A",
           "#19d3f3",
           "#FF6692",
           "#B6E880",
           "#FF97FF",
           "#FECB52"
          ],
          "font": {
           "color": "#2a3f5f"
          },
          "geo": {
           "bgcolor": "white",
           "lakecolor": "white",
           "landcolor": "#E5ECF6",
           "showlakes": true,
           "showland": true,
           "subunitcolor": "white"
          },
          "hoverlabel": {
           "align": "left"
          },
          "hovermode": "closest",
          "mapbox": {
           "style": "light"
          },
          "paper_bgcolor": "white",
          "plot_bgcolor": "#E5ECF6",
          "polar": {
           "angularaxis": {
            "gridcolor": "white",
            "linecolor": "white",
            "ticks": ""
           },
           "bgcolor": "#E5ECF6",
           "radialaxis": {
            "gridcolor": "white",
            "linecolor": "white",
            "ticks": ""
           }
          },
          "scene": {
           "xaxis": {
            "backgroundcolor": "#E5ECF6",
            "gridcolor": "white",
            "gridwidth": 2,
            "linecolor": "white",
            "showbackground": true,
            "ticks": "",
            "zerolinecolor": "white"
           },
           "yaxis": {
            "backgroundcolor": "#E5ECF6",
            "gridcolor": "white",
            "gridwidth": 2,
            "linecolor": "white",
            "showbackground": true,
            "ticks": "",
            "zerolinecolor": "white"
           },
           "zaxis": {
            "backgroundcolor": "#E5ECF6",
            "gridcolor": "white",
            "gridwidth": 2,
            "linecolor": "white",
            "showbackground": true,
            "ticks": "",
            "zerolinecolor": "white"
           }
          },
          "shapedefaults": {
           "line": {
            "color": "#2a3f5f"
           }
          },
          "ternary": {
           "aaxis": {
            "gridcolor": "white",
            "linecolor": "white",
            "ticks": ""
           },
           "baxis": {
            "gridcolor": "white",
            "linecolor": "white",
            "ticks": ""
           },
           "bgcolor": "#E5ECF6",
           "caxis": {
            "gridcolor": "white",
            "linecolor": "white",
            "ticks": ""
           }
          },
          "title": {
           "x": 0.05
          },
          "xaxis": {
           "automargin": true,
           "gridcolor": "white",
           "linecolor": "white",
           "ticks": "",
           "title": {
            "standoff": 15
           },
           "zerolinecolor": "white",
           "zerolinewidth": 2
          },
          "yaxis": {
           "automargin": true,
           "gridcolor": "white",
           "linecolor": "white",
           "ticks": "",
           "title": {
            "standoff": 15
           },
           "zerolinecolor": "white",
           "zerolinewidth": 2
          }
         }
        },
        "title": {
         "text": "코로나 이전 면세점 업종 울산지역 소비자 특성"
        },
        "xaxis": {
         "anchor": "y",
         "domain": [
          0,
          1
         ],
         "showgrid": false,
         "showticklabels": true,
         "zeroline": false
        },
        "yaxis": {
         "anchor": "x",
         "domain": [
          0,
          1
         ],
         "gridcolor": "white",
         "zeroline": false
        }
       }
      },
      "text/html": [
       "<div>\n",
       "        \n",
       "        \n",
       "            <div id=\"6f953261-5d90-4c32-9179-0a5913db230a\" class=\"plotly-graph-div\" style=\"height:525px; width:100%;\"></div>\n",
       "            <script type=\"text/javascript\">\n",
       "                require([\"plotly\"], function(Plotly) {\n",
       "                    window.PLOTLYENV=window.PLOTLYENV || {};\n",
       "                    \n",
       "                if (document.getElementById(\"6f953261-5d90-4c32-9179-0a5913db230a\")) {\n",
       "                    Plotly.newPlot(\n",
       "                        '6f953261-5d90-4c32-9179-0a5913db230a',\n",
       "                        [],\n",
       "                        {\"legend\": {\"tracegroupgap\": 0}, \"margin\": {\"t\": 60}, \"paper_bgcolor\": \"rgb(243, 243, 243)\", \"plot_bgcolor\": \"rgb(243, 243, 243)\", \"template\": {\"data\": {\"bar\": [{\"error_x\": {\"color\": \"#2a3f5f\"}, \"error_y\": {\"color\": \"#2a3f5f\"}, \"marker\": {\"line\": {\"color\": \"#E5ECF6\", \"width\": 0.5}}, \"type\": \"bar\"}], \"barpolar\": [{\"marker\": {\"line\": {\"color\": \"#E5ECF6\", \"width\": 0.5}}, \"type\": \"barpolar\"}], \"carpet\": [{\"aaxis\": {\"endlinecolor\": \"#2a3f5f\", \"gridcolor\": \"white\", \"linecolor\": \"white\", \"minorgridcolor\": \"white\", \"startlinecolor\": \"#2a3f5f\"}, \"baxis\": {\"endlinecolor\": \"#2a3f5f\", \"gridcolor\": \"white\", \"linecolor\": \"white\", \"minorgridcolor\": \"white\", \"startlinecolor\": \"#2a3f5f\"}, \"type\": \"carpet\"}], \"choropleth\": [{\"colorbar\": {\"outlinewidth\": 0, \"ticks\": \"\"}, \"type\": \"choropleth\"}], \"contour\": [{\"colorbar\": {\"outlinewidth\": 0, \"ticks\": \"\"}, \"colorscale\": [[0.0, \"#0d0887\"], [0.1111111111111111, \"#46039f\"], [0.2222222222222222, \"#7201a8\"], [0.3333333333333333, \"#9c179e\"], [0.4444444444444444, \"#bd3786\"], [0.5555555555555556, \"#d8576b\"], [0.6666666666666666, \"#ed7953\"], [0.7777777777777778, \"#fb9f3a\"], [0.8888888888888888, \"#fdca26\"], [1.0, \"#f0f921\"]], \"type\": \"contour\"}], \"contourcarpet\": [{\"colorbar\": {\"outlinewidth\": 0, \"ticks\": \"\"}, \"type\": \"contourcarpet\"}], \"heatmap\": [{\"colorbar\": {\"outlinewidth\": 0, \"ticks\": \"\"}, \"colorscale\": [[0.0, \"#0d0887\"], [0.1111111111111111, \"#46039f\"], [0.2222222222222222, \"#7201a8\"], [0.3333333333333333, \"#9c179e\"], [0.4444444444444444, \"#bd3786\"], [0.5555555555555556, \"#d8576b\"], [0.6666666666666666, \"#ed7953\"], [0.7777777777777778, \"#fb9f3a\"], [0.8888888888888888, \"#fdca26\"], [1.0, \"#f0f921\"]], \"type\": \"heatmap\"}], \"heatmapgl\": [{\"colorbar\": {\"outlinewidth\": 0, \"ticks\": \"\"}, \"colorscale\": [[0.0, \"#0d0887\"], [0.1111111111111111, \"#46039f\"], [0.2222222222222222, \"#7201a8\"], [0.3333333333333333, \"#9c179e\"], [0.4444444444444444, \"#bd3786\"], [0.5555555555555556, \"#d8576b\"], [0.6666666666666666, \"#ed7953\"], [0.7777777777777778, \"#fb9f3a\"], [0.8888888888888888, \"#fdca26\"], [1.0, \"#f0f921\"]], \"type\": \"heatmapgl\"}], \"histogram\": [{\"marker\": {\"colorbar\": {\"outlinewidth\": 0, \"ticks\": \"\"}}, \"type\": \"histogram\"}], \"histogram2d\": [{\"colorbar\": {\"outlinewidth\": 0, \"ticks\": \"\"}, \"colorscale\": [[0.0, \"#0d0887\"], [0.1111111111111111, \"#46039f\"], [0.2222222222222222, \"#7201a8\"], [0.3333333333333333, \"#9c179e\"], [0.4444444444444444, \"#bd3786\"], [0.5555555555555556, \"#d8576b\"], [0.6666666666666666, \"#ed7953\"], [0.7777777777777778, \"#fb9f3a\"], [0.8888888888888888, \"#fdca26\"], [1.0, \"#f0f921\"]], \"type\": \"histogram2d\"}], \"histogram2dcontour\": [{\"colorbar\": {\"outlinewidth\": 0, \"ticks\": \"\"}, \"colorscale\": [[0.0, \"#0d0887\"], [0.1111111111111111, \"#46039f\"], [0.2222222222222222, \"#7201a8\"], [0.3333333333333333, \"#9c179e\"], [0.4444444444444444, \"#bd3786\"], [0.5555555555555556, \"#d8576b\"], [0.6666666666666666, \"#ed7953\"], [0.7777777777777778, \"#fb9f3a\"], [0.8888888888888888, \"#fdca26\"], [1.0, \"#f0f921\"]], \"type\": \"histogram2dcontour\"}], \"mesh3d\": [{\"colorbar\": {\"outlinewidth\": 0, \"ticks\": \"\"}, \"type\": \"mesh3d\"}], \"parcoords\": [{\"line\": {\"colorbar\": {\"outlinewidth\": 0, \"ticks\": \"\"}}, \"type\": \"parcoords\"}], \"pie\": [{\"automargin\": true, \"type\": \"pie\"}], \"scatter\": [{\"marker\": {\"colorbar\": {\"outlinewidth\": 0, \"ticks\": \"\"}}, \"type\": \"scatter\"}], \"scatter3d\": [{\"line\": {\"colorbar\": {\"outlinewidth\": 0, \"ticks\": \"\"}}, \"marker\": {\"colorbar\": {\"outlinewidth\": 0, \"ticks\": \"\"}}, \"type\": \"scatter3d\"}], \"scattercarpet\": [{\"marker\": {\"colorbar\": {\"outlinewidth\": 0, \"ticks\": \"\"}}, \"type\": \"scattercarpet\"}], \"scattergeo\": [{\"marker\": {\"colorbar\": {\"outlinewidth\": 0, \"ticks\": \"\"}}, \"type\": \"scattergeo\"}], \"scattergl\": [{\"marker\": {\"colorbar\": {\"outlinewidth\": 0, \"ticks\": \"\"}}, \"type\": \"scattergl\"}], \"scattermapbox\": [{\"marker\": {\"colorbar\": {\"outlinewidth\": 0, \"ticks\": \"\"}}, \"type\": \"scattermapbox\"}], \"scatterpolar\": [{\"marker\": {\"colorbar\": {\"outlinewidth\": 0, \"ticks\": \"\"}}, \"type\": \"scatterpolar\"}], \"scatterpolargl\": [{\"marker\": {\"colorbar\": {\"outlinewidth\": 0, \"ticks\": \"\"}}, \"type\": \"scatterpolargl\"}], \"scatterternary\": [{\"marker\": {\"colorbar\": {\"outlinewidth\": 0, \"ticks\": \"\"}}, \"type\": \"scatterternary\"}], \"surface\": [{\"colorbar\": {\"outlinewidth\": 0, \"ticks\": \"\"}, \"colorscale\": [[0.0, \"#0d0887\"], [0.1111111111111111, \"#46039f\"], [0.2222222222222222, \"#7201a8\"], [0.3333333333333333, \"#9c179e\"], [0.4444444444444444, \"#bd3786\"], [0.5555555555555556, \"#d8576b\"], [0.6666666666666666, \"#ed7953\"], [0.7777777777777778, \"#fb9f3a\"], [0.8888888888888888, \"#fdca26\"], [1.0, \"#f0f921\"]], \"type\": \"surface\"}], \"table\": [{\"cells\": {\"fill\": {\"color\": \"#EBF0F8\"}, \"line\": {\"color\": \"white\"}}, \"header\": {\"fill\": {\"color\": \"#C8D4E3\"}, \"line\": {\"color\": \"white\"}}, \"type\": \"table\"}]}, \"layout\": {\"annotationdefaults\": {\"arrowcolor\": \"#2a3f5f\", \"arrowhead\": 0, \"arrowwidth\": 1}, \"coloraxis\": {\"colorbar\": {\"outlinewidth\": 0, \"ticks\": \"\"}}, \"colorscale\": {\"diverging\": [[0, \"#8e0152\"], [0.1, \"#c51b7d\"], [0.2, \"#de77ae\"], [0.3, \"#f1b6da\"], [0.4, \"#fde0ef\"], [0.5, \"#f7f7f7\"], [0.6, \"#e6f5d0\"], [0.7, \"#b8e186\"], [0.8, \"#7fbc41\"], [0.9, \"#4d9221\"], [1, \"#276419\"]], \"sequential\": [[0.0, \"#0d0887\"], [0.1111111111111111, \"#46039f\"], [0.2222222222222222, \"#7201a8\"], [0.3333333333333333, \"#9c179e\"], [0.4444444444444444, \"#bd3786\"], [0.5555555555555556, \"#d8576b\"], [0.6666666666666666, \"#ed7953\"], [0.7777777777777778, \"#fb9f3a\"], [0.8888888888888888, \"#fdca26\"], [1.0, \"#f0f921\"]], \"sequentialminus\": [[0.0, \"#0d0887\"], [0.1111111111111111, \"#46039f\"], [0.2222222222222222, \"#7201a8\"], [0.3333333333333333, \"#9c179e\"], [0.4444444444444444, \"#bd3786\"], [0.5555555555555556, \"#d8576b\"], [0.6666666666666666, \"#ed7953\"], [0.7777777777777778, \"#fb9f3a\"], [0.8888888888888888, \"#fdca26\"], [1.0, \"#f0f921\"]]}, \"colorway\": [\"#636efa\", \"#EF553B\", \"#00cc96\", \"#ab63fa\", \"#FFA15A\", \"#19d3f3\", \"#FF6692\", \"#B6E880\", \"#FF97FF\", \"#FECB52\"], \"font\": {\"color\": \"#2a3f5f\"}, \"geo\": {\"bgcolor\": \"white\", \"lakecolor\": \"white\", \"landcolor\": \"#E5ECF6\", \"showlakes\": true, \"showland\": true, \"subunitcolor\": \"white\"}, \"hoverlabel\": {\"align\": \"left\"}, \"hovermode\": \"closest\", \"mapbox\": {\"style\": \"light\"}, \"paper_bgcolor\": \"white\", \"plot_bgcolor\": \"#E5ECF6\", \"polar\": {\"angularaxis\": {\"gridcolor\": \"white\", \"linecolor\": \"white\", \"ticks\": \"\"}, \"bgcolor\": \"#E5ECF6\", \"radialaxis\": {\"gridcolor\": \"white\", \"linecolor\": \"white\", \"ticks\": \"\"}}, \"scene\": {\"xaxis\": {\"backgroundcolor\": \"#E5ECF6\", \"gridcolor\": \"white\", \"gridwidth\": 2, \"linecolor\": \"white\", \"showbackground\": true, \"ticks\": \"\", \"zerolinecolor\": \"white\"}, \"yaxis\": {\"backgroundcolor\": \"#E5ECF6\", \"gridcolor\": \"white\", \"gridwidth\": 2, \"linecolor\": \"white\", \"showbackground\": true, \"ticks\": \"\", \"zerolinecolor\": \"white\"}, \"zaxis\": {\"backgroundcolor\": \"#E5ECF6\", \"gridcolor\": \"white\", \"gridwidth\": 2, \"linecolor\": \"white\", \"showbackground\": true, \"ticks\": \"\", \"zerolinecolor\": \"white\"}}, \"shapedefaults\": {\"line\": {\"color\": \"#2a3f5f\"}}, \"ternary\": {\"aaxis\": {\"gridcolor\": \"white\", \"linecolor\": \"white\", \"ticks\": \"\"}, \"baxis\": {\"gridcolor\": \"white\", \"linecolor\": \"white\", \"ticks\": \"\"}, \"bgcolor\": \"#E5ECF6\", \"caxis\": {\"gridcolor\": \"white\", \"linecolor\": \"white\", \"ticks\": \"\"}}, \"title\": {\"x\": 0.05}, \"xaxis\": {\"automargin\": true, \"gridcolor\": \"white\", \"linecolor\": \"white\", \"ticks\": \"\", \"title\": {\"standoff\": 15}, \"zerolinecolor\": \"white\", \"zerolinewidth\": 2}, \"yaxis\": {\"automargin\": true, \"gridcolor\": \"white\", \"linecolor\": \"white\", \"ticks\": \"\", \"title\": {\"standoff\": 15}, \"zerolinecolor\": \"white\", \"zerolinewidth\": 2}}}, \"title\": {\"text\": \"\\ucf54\\ub85c\\ub098 \\uc774\\uc804 \\uba74\\uc138\\uc810 \\uc5c5\\uc885 \\uc6b8\\uc0b0\\uc9c0\\uc5ed \\uc18c\\ube44\\uc790 \\ud2b9\\uc131\"}, \"xaxis\": {\"anchor\": \"y\", \"domain\": [0.0, 1.0], \"showgrid\": false, \"showticklabels\": true, \"zeroline\": false}, \"yaxis\": {\"anchor\": \"x\", \"domain\": [0.0, 1.0], \"gridcolor\": \"white\", \"zeroline\": false}},\n",
       "                        {\"responsive\": true}\n",
       "                    ).then(function(){\n",
       "                            \n",
       "var gd = document.getElementById('6f953261-5d90-4c32-9179-0a5913db230a');\n",
       "var x = new MutationObserver(function (mutations, observer) {{\n",
       "        var display = window.getComputedStyle(gd).display;\n",
       "        if (!display || display === 'none') {{\n",
       "            console.log([gd, 'removed!']);\n",
       "            Plotly.purge(gd);\n",
       "            observer.disconnect();\n",
       "        }}\n",
       "}});\n",
       "\n",
       "// Listen for the removal of the full notebook cells\n",
       "var notebookContainer = gd.closest('#notebook-container');\n",
       "if (notebookContainer) {{\n",
       "    x.observe(notebookContainer, {childList: true});\n",
       "}}\n",
       "\n",
       "// Listen for the clearing of the current output cell\n",
       "var outputEl = gd.closest('.output');\n",
       "if (outputEl) {{\n",
       "    x.observe(outputEl, {childList: true});\n",
       "}}\n",
       "\n",
       "                        })\n",
       "                };\n",
       "                });\n",
       "            </script>\n",
       "        </div>"
      ]
     },
     "metadata": {},
     "output_type": "display_data"
    }
   ],
   "source": [
    "fig = go.Figure()\n",
    "job3 = job31.value ## .value로 값 얻어올 수 있음\n",
    "sido = sido1.value\n",
    "\n",
    "df202034=df3[df3['REG_YYMM'].isin(['202002','202003','202004'])]\n",
    "\n",
    "df202034_1=df202034[df202034['STD_CLSS_NM']==job3]\n",
    "df202034_1=df202034_1[df202034_1['CARD_SIDO_NM']==sido]\n",
    "\n",
    "df202034_1['SEX_CTGO_CD'] = df202034_1['SEX_CTGO_CD'].apply(sex)\n",
    "df202034_1['FLC'] = df202034_1['FLC'].apply(flc)\n",
    "\n",
    "df202034_1['AGE'] = df202034_1['AGE'].apply(lambda x : int(x[0:2]))\n",
    "fig = px.sunburst(df202034_1, path=['AGE', 'FLC','SEX_CTGO_CD'], values='AMT')\n",
    "\n",
    "fig.update_layout(title_text=f\"코로나 이전 {job3} 업종 {sido}지역 소비자 특성\", paper_bgcolor='rgb(243, 243, 243)',\n",
    "    plot_bgcolor='rgb(243, 243, 243)', xaxis=dict(showgrid=False, zeroline=False, showticklabels=True),\n",
    "    yaxis=dict(zeroline=False, gridcolor='white'))\n",
    "fig.show()"
   ]
  },
  {
   "cell_type": "code",
   "execution_count": null,
   "metadata": {},
   "outputs": [],
   "source": []
  }
 ],
 "metadata": {
  "kernelspec": {
   "display_name": "Python 3",
   "language": "python",
   "name": "python3"
  },
  "language_info": {
   "codemirror_mode": {
    "name": "ipython",
    "version": 3
   },
   "file_extension": ".py",
   "mimetype": "text/x-python",
   "name": "python",
   "nbconvert_exporter": "python",
   "pygments_lexer": "ipython3",
   "version": "3.7.6"
  }
 },
 "nbformat": 4,
 "nbformat_minor": 4
}
