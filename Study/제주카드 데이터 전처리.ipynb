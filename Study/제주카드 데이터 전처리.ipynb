{
 "cells": [
  {
   "cell_type": "code",
   "execution_count": 1,
   "metadata": {},
   "outputs": [],
   "source": [
    "import pandas as pd\n",
    "import matplotlib as mpl\n",
    "import matplotlib.pyplot as plt\n",
    "import seaborn as sns\n",
    "sns.set(rc={'figure.figsize':(20,20),'font.family':'Malgun Gothic'})\n",
    "\n",
    "import numpy as np\n",
    "import pandas as pd"
   ]
  },
  {
   "cell_type": "code",
   "execution_count": 2,
   "metadata": {},
   "outputs": [],
   "source": [
    "data = pd.read_csv(\"201901-202003.csv\")\n",
    "data4 = pd.read_csv(\"202004.csv\")\n",
    "\n",
    "data = pd.concat([data,data4])\n",
    "data\n",
    "\n",
    "del data4"
   ]
  },
  {
   "cell_type": "code",
   "execution_count": 3,
   "metadata": {},
   "outputs": [],
   "source": [
    "def grap_year(data):\n",
    "    data = str(data)\n",
    "    return int(data[:4])\n",
    "\n",
    "def grap_month(data):\n",
    "    data = str(data)\n",
    "    return int(data[4:])\n",
    "\n",
    "data = data.fillna('')\n",
    "data['year'] = data['REG_YYMM'].apply(lambda x: grap_year(x))\n",
    "data['month'] = data['REG_YYMM'].apply(lambda x: grap_month(x))\n",
    "data = data.drop(['REG_YYMM'], axis=1)"
   ]
  },
  {
   "cell_type": "code",
   "execution_count": 4,
   "metadata": {},
   "outputs": [],
   "source": [
    "sublist = pd.read_csv(\"sublist.csv\")\n",
    "sublist = sublist.drop(\"REG_YYMM\",axis=1)"
   ]
  },
  {
   "cell_type": "code",
   "execution_count": 9,
   "metadata": {},
   "outputs": [],
   "source": [
    "data20 = data[data['year']==2020]\n",
    "data123 = data20[data20['month'].isin([3])]\n",
    "amt_sum = data123.groupby(['CARD_SIDO_NM','STD_CLSS_NM'])['AMT'].sum().reset_index(name='AMT')\n",
    "total = pd.merge(sublist,amt_sum,how='left')\n",
    "total = total.fillna('0')\n",
    "AMT_0 = total[total['AMT'] == '0']"
   ]
  },
  {
   "cell_type": "code",
   "execution_count": 10,
   "metadata": {},
   "outputs": [],
   "source": [
    "AMT_0.to_csv(('AMT1.csv'), sep=',', na_rep='NaN', encoding='euc-kr',index = False)"
   ]
  },
  {
   "cell_type": "code",
   "execution_count": null,
   "metadata": {},
   "outputs": [],
   "source": [
    "sublist = pd.read_csv(\"sublist.csv\")\n",
    "sublist = sublist.drop(\"REG_YYMM\",axis=1)\n",
    "data19 = data[data['year']==2019]\n",
    "year = []\n",
    "month = []\n",
    "CARD_SIDO_NM = []\n",
    "STD_CLSS_NM = []\n",
    "AMT = []\n",
    "for i in range(1,13):\n",
    "    df = data19[data19['month']==i]\n",
    "    amt_sum = df.groupby(['CARD_SIDO_NM','STD_CLSS_NM'])['AMT'].sum().reset_index(name='AMT')\n",
    "    total = pd.merge(sublist,amt_sum,how='left')\n",
    "    total = total.fillna('0')\n",
    "    AMT1 = total['AMT'].tolist()\n",
    "    CARD_SIDO = total['CARD_SIDO_NM'].tolist()\n",
    "    STD_CLSS = total['STD_CLSS_NM'].tolist()\n",
    "    cnt = 0\n",
    "    for x in CARD_SIDO:\n",
    "        year.append(2019)\n",
    "        month.append(i)\n",
    "        CARD_SIDO_NM.append(x)\n",
    "        STD_CLSS_NM.append(STD_CLSS[cnt])\n",
    "        AMT.append(AMT1[cnt])\n",
    "        cnt += 1\n",
    "\n",
    "data20 = data[data['year']==2020]\n",
    "for i in range(1,5):\n",
    "    df = data20[data20['month']==i]\n",
    "    amt_sum = df.groupby(['CARD_SIDO_NM','STD_CLSS_NM'])['AMT'].sum().reset_index(name='AMT')\n",
    "    total = pd.merge(sublist,amt_sum,how='left')\n",
    "    total = total.fillna('0')\n",
    "    AMT1 = total['AMT'].tolist()\n",
    "    CARD_SIDO = total['CARD_SIDO_NM'].tolist()\n",
    "    STD_CLSS = total['STD_CLSS_NM'].tolist()\n",
    "    cnt = 0\n",
    "    for x in CARD_SIDO:\n",
    "        year.append(2020)\n",
    "        month.append(i)\n",
    "        CARD_SIDO_NM.append(x)\n",
    "        STD_CLSS_NM.append(STD_CLSS[cnt])\n",
    "        AMT.append(AMT1[cnt])\n",
    "        cnt += 1\n",
    "\n",
    "def dftoCsv(movie_df, num): \n",
    "    try: \n",
    "        movie_df.to_csv(('AMT_0'+ str(num) +'.csv'), sep=',', na_rep='NaN', encoding='euc-kr',index = False) \n",
    "    except: \n",
    "        print(\"Error\")\n",
    "AMT_dic = {\"Year\":year,\"Month\":month,\"CARD_SIDO_NM\":CARD_SIDO_NM,\"STD_CLSS_NM\":STD_CLSS_NM,\"AMT\":AMT}\n",
    "AMT_df = pd.DataFrame(AMT_dic) \n",
    "\n",
    "dftoCsv(AMT_df,2) "
   ]
  },
  {
   "cell_type": "code",
   "execution_count": null,
   "metadata": {},
   "outputs": [],
   "source": []
  }
 ],
 "metadata": {
  "kernelspec": {
   "display_name": "Python 3",
   "language": "python",
   "name": "python3"
  },
  "language_info": {
   "codemirror_mode": {
    "name": "ipython",
    "version": 3
   },
   "file_extension": ".py",
   "mimetype": "text/x-python",
   "name": "python",
   "nbconvert_exporter": "python",
   "pygments_lexer": "ipython3",
   "version": "3.7.6"
  }
 },
 "nbformat": 4,
 "nbformat_minor": 4
}
